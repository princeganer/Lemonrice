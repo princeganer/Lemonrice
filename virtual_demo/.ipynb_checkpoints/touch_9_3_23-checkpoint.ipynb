{
 "cells": [
  {
   "cell_type": "code",
   "execution_count": 1,
   "id": "705bd23d",
   "metadata": {},
   "outputs": [
    {
     "name": "stderr",
     "output_type": "stream",
     "text": [
      "C:\\Users\\Ganer\\AppData\\Roaming\\Python\\Python39\\site-packages\\pyspark\\pandas\\__init__.py:49: UserWarning: 'PYARROW_IGNORE_TIMEZONE' environment variable was not set. It is required to set this environment variable to '1' in both driver and executor sides if you use pyarrow>=2.0.0. pandas-on-Spark will set it for you but it does not work if there is a Spark context already launched.\n",
      "  warnings.warn(\n"
     ]
    }
   ],
   "source": [
    "import pandas as pd\n",
    "import numpy as np\n",
    "from pyspark.sql import SparkSession\n",
    "from pyspark.sql.types import *\n",
    "#import seaborn as sns\n",
    "import matplotlib.pyplot as plt\n",
    "from pyspark.sql.functions import when\n",
    "from pyspark.sql.functions import col, sum, count\n",
    "import pyspark.pandas as ps\n",
    "import warnings"
   ]
  },
  {
   "cell_type": "code",
   "execution_count": 2,
   "id": "f8523fe6",
   "metadata": {},
   "outputs": [],
   "source": [
    "spark = SparkSession.builder.master('local[4]').appName('ml').getOrCreate()"
   ]
  },
  {
   "cell_type": "code",
   "execution_count": 3,
   "id": "54818ee9",
   "metadata": {},
   "outputs": [],
   "source": [
    "spark.conf.set('spark.sql.repl.eagerEval.enabled', True)"
   ]
  },
  {
   "cell_type": "code",
   "execution_count": 4,
   "id": "ea0b572b",
   "metadata": {},
   "outputs": [],
   "source": [
    "pd.pandas.set_option('display.max_columns',None)"
   ]
  },
  {
   "cell_type": "markdown",
   "id": "a44a5290",
   "metadata": {},
   "source": [
    "# Preprocessing"
   ]
  },
  {
   "cell_type": "markdown",
   "id": "0b5fb2b3",
   "metadata": {},
   "source": [
    "### Bank Full (dataset-1)"
   ]
  },
  {
   "cell_type": "code",
   "execution_count": 5,
   "id": "36bc5d86",
   "metadata": {},
   "outputs": [],
   "source": [
    "bank_full = spark.read.csv('bank-full.csv',\n",
    "                           sep = \";\",\n",
    "                           header=True,\n",
    "                           inferSchema=True)"
   ]
  },
  {
   "cell_type": "code",
   "execution_count": 6,
   "id": "588df899",
   "metadata": {},
   "outputs": [
    {
     "data": {
      "text/plain": [
       "45211"
      ]
     },
     "execution_count": 6,
     "metadata": {},
     "output_type": "execute_result"
    }
   ],
   "source": [
    "bank_full.count()"
   ]
  },
  {
   "cell_type": "code",
   "execution_count": 7,
   "id": "4b019844",
   "metadata": {},
   "outputs": [
    {
     "data": {
      "text/html": [
       "<table border='1'>\n",
       "<tr><th>age</th><th>job</th><th>marital</th><th>education</th><th>default</th><th>balance</th><th>housing</th><th>loan</th><th>contact</th><th>day</th><th>month</th><th>duration</th><th>campaign</th><th>pdays</th><th>previous</th><th>poutcome</th><th>y</th></tr>\n",
       "<tr><td>58</td><td>management</td><td>married</td><td>tertiary</td><td>no</td><td>2143</td><td>yes</td><td>no</td><td>unknown</td><td>5</td><td>may</td><td>261</td><td>1</td><td>-1</td><td>0</td><td>unknown</td><td>no</td></tr>\n",
       "<tr><td>44</td><td>technician</td><td>single</td><td>secondary</td><td>no</td><td>29</td><td>yes</td><td>no</td><td>unknown</td><td>5</td><td>may</td><td>151</td><td>1</td><td>-1</td><td>0</td><td>unknown</td><td>no</td></tr>\n",
       "<tr><td>33</td><td>entrepreneur</td><td>married</td><td>secondary</td><td>no</td><td>2</td><td>yes</td><td>yes</td><td>unknown</td><td>5</td><td>may</td><td>76</td><td>1</td><td>-1</td><td>0</td><td>unknown</td><td>no</td></tr>\n",
       "<tr><td>47</td><td>blue-collar</td><td>married</td><td>unknown</td><td>no</td><td>1506</td><td>yes</td><td>no</td><td>unknown</td><td>5</td><td>may</td><td>92</td><td>1</td><td>-1</td><td>0</td><td>unknown</td><td>no</td></tr>\n",
       "<tr><td>33</td><td>unknown</td><td>single</td><td>unknown</td><td>no</td><td>1</td><td>no</td><td>no</td><td>unknown</td><td>5</td><td>may</td><td>198</td><td>1</td><td>-1</td><td>0</td><td>unknown</td><td>no</td></tr>\n",
       "</table>\n"
      ],
      "text/plain": [
       "+---+------------+-------+---------+-------+-------+-------+----+-------+---+-----+--------+--------+-----+--------+--------+---+\n",
       "|age|         job|marital|education|default|balance|housing|loan|contact|day|month|duration|campaign|pdays|previous|poutcome|  y|\n",
       "+---+------------+-------+---------+-------+-------+-------+----+-------+---+-----+--------+--------+-----+--------+--------+---+\n",
       "| 58|  management|married| tertiary|     no|   2143|    yes|  no|unknown|  5|  may|     261|       1|   -1|       0| unknown| no|\n",
       "| 44|  technician| single|secondary|     no|     29|    yes|  no|unknown|  5|  may|     151|       1|   -1|       0| unknown| no|\n",
       "| 33|entrepreneur|married|secondary|     no|      2|    yes| yes|unknown|  5|  may|      76|       1|   -1|       0| unknown| no|\n",
       "| 47| blue-collar|married|  unknown|     no|   1506|    yes|  no|unknown|  5|  may|      92|       1|   -1|       0| unknown| no|\n",
       "| 33|     unknown| single|  unknown|     no|      1|     no|  no|unknown|  5|  may|     198|       1|   -1|       0| unknown| no|\n",
       "+---+------------+-------+---------+-------+-------+-------+----+-------+---+-----+--------+--------+-----+--------+--------+---+"
      ]
     },
     "metadata": {},
     "output_type": "display_data"
    }
   ],
   "source": [
    "display(bank_full.limit(5))"
   ]
  },
  {
   "cell_type": "code",
   "execution_count": 8,
   "id": "13f2767a",
   "metadata": {},
   "outputs": [
    {
     "name": "stdout",
     "output_type": "stream",
     "text": [
      "root\n",
      " |-- age: integer (nullable = true)\n",
      " |-- job: string (nullable = true)\n",
      " |-- marital: string (nullable = true)\n",
      " |-- education: string (nullable = true)\n",
      " |-- default: string (nullable = true)\n",
      " |-- balance: integer (nullable = true)\n",
      " |-- housing: string (nullable = true)\n",
      " |-- loan: string (nullable = true)\n",
      " |-- contact: string (nullable = true)\n",
      " |-- day: integer (nullable = true)\n",
      " |-- month: string (nullable = true)\n",
      " |-- duration: integer (nullable = true)\n",
      " |-- campaign: integer (nullable = true)\n",
      " |-- pdays: integer (nullable = true)\n",
      " |-- previous: integer (nullable = true)\n",
      " |-- poutcome: string (nullable = true)\n",
      " |-- y: string (nullable = true)\n",
      "\n"
     ]
    }
   ],
   "source": [
    "bank_full.printSchema()"
   ]
  },
  {
   "cell_type": "code",
   "execution_count": 9,
   "id": "58c29062",
   "metadata": {},
   "outputs": [],
   "source": [
    "new_cols = [\"emp_var_rate\", \"cons_price_idx\", \"cons_conf_idx\", \"euribor_3m\", \"nr_employed\"]\n",
    "for column in new_cols:\n",
    "    bank_full = bank_full.withColumn(column, bank_full[\"poutcome\"]+1)"
   ]
  },
  {
   "cell_type": "code",
   "execution_count": 10,
   "id": "6d07a3ac",
   "metadata": {},
   "outputs": [
    {
     "data": {
      "text/html": [
       "<table border='1'>\n",
       "<tr><th>age</th><th>job</th><th>marital</th><th>education</th><th>default</th><th>balance</th><th>housing</th><th>loan</th><th>contact</th><th>day</th><th>month</th><th>duration</th><th>campaign</th><th>pdays</th><th>previous</th><th>poutcome</th><th>y</th><th>emp_var_rate</th><th>cons_price_idx</th><th>cons_conf_idx</th><th>euribor_3m</th><th>nr_employed</th></tr>\n",
       "<tr><td>58</td><td>management</td><td>married</td><td>tertiary</td><td>no</td><td>2143</td><td>yes</td><td>no</td><td>unknown</td><td>5</td><td>may</td><td>261</td><td>1</td><td>-1</td><td>0</td><td>unknown</td><td>no</td><td>null</td><td>null</td><td>null</td><td>null</td><td>null</td></tr>\n",
       "<tr><td>44</td><td>technician</td><td>single</td><td>secondary</td><td>no</td><td>29</td><td>yes</td><td>no</td><td>unknown</td><td>5</td><td>may</td><td>151</td><td>1</td><td>-1</td><td>0</td><td>unknown</td><td>no</td><td>null</td><td>null</td><td>null</td><td>null</td><td>null</td></tr>\n",
       "<tr><td>33</td><td>entrepreneur</td><td>married</td><td>secondary</td><td>no</td><td>2</td><td>yes</td><td>yes</td><td>unknown</td><td>5</td><td>may</td><td>76</td><td>1</td><td>-1</td><td>0</td><td>unknown</td><td>no</td><td>null</td><td>null</td><td>null</td><td>null</td><td>null</td></tr>\n",
       "<tr><td>47</td><td>blue-collar</td><td>married</td><td>unknown</td><td>no</td><td>1506</td><td>yes</td><td>no</td><td>unknown</td><td>5</td><td>may</td><td>92</td><td>1</td><td>-1</td><td>0</td><td>unknown</td><td>no</td><td>null</td><td>null</td><td>null</td><td>null</td><td>null</td></tr>\n",
       "<tr><td>33</td><td>unknown</td><td>single</td><td>unknown</td><td>no</td><td>1</td><td>no</td><td>no</td><td>unknown</td><td>5</td><td>may</td><td>198</td><td>1</td><td>-1</td><td>0</td><td>unknown</td><td>no</td><td>null</td><td>null</td><td>null</td><td>null</td><td>null</td></tr>\n",
       "</table>\n"
      ],
      "text/plain": [
       "+---+------------+-------+---------+-------+-------+-------+----+-------+---+-----+--------+--------+-----+--------+--------+---+------------+--------------+-------------+----------+-----------+\n",
       "|age|         job|marital|education|default|balance|housing|loan|contact|day|month|duration|campaign|pdays|previous|poutcome|  y|emp_var_rate|cons_price_idx|cons_conf_idx|euribor_3m|nr_employed|\n",
       "+---+------------+-------+---------+-------+-------+-------+----+-------+---+-----+--------+--------+-----+--------+--------+---+------------+--------------+-------------+----------+-----------+\n",
       "| 58|  management|married| tertiary|     no|   2143|    yes|  no|unknown|  5|  may|     261|       1|   -1|       0| unknown| no|        null|          null|         null|      null|       null|\n",
       "| 44|  technician| single|secondary|     no|     29|    yes|  no|unknown|  5|  may|     151|       1|   -1|       0| unknown| no|        null|          null|         null|      null|       null|\n",
       "| 33|entrepreneur|married|secondary|     no|      2|    yes| yes|unknown|  5|  may|      76|       1|   -1|       0| unknown| no|        null|          null|         null|      null|       null|\n",
       "| 47| blue-collar|married|  unknown|     no|   1506|    yes|  no|unknown|  5|  may|      92|       1|   -1|       0| unknown| no|        null|          null|         null|      null|       null|\n",
       "| 33|     unknown| single|  unknown|     no|      1|     no|  no|unknown|  5|  may|     198|       1|   -1|       0| unknown| no|        null|          null|         null|      null|       null|\n",
       "+---+------------+-------+---------+-------+-------+-------+----+-------+---+-----+--------+--------+-----+--------+--------+---+------------+--------------+-------------+----------+-----------+"
      ]
     },
     "metadata": {},
     "output_type": "display_data"
    }
   ],
   "source": [
    "display(bank_full.limit(5))"
   ]
  },
  {
   "cell_type": "code",
   "execution_count": 11,
   "id": "849b180e",
   "metadata": {},
   "outputs": [],
   "source": [
    "def year_mapper(data, start_yr, end_yr):\n",
    "    month_lst = [\"jan\", \"feb\", \"mar\", \"apr\", \"may\", \"jun\", \"jul\", \"aug\", \"sep\", \"oct\", \"nov\", \"dec\"]\n",
    "\n",
    "    # Make a copy of the original dataframe\n",
    "    new_data = data.copy()\n",
    "\n",
    "    # Insert a new \"year\" column filled with zeros\n",
    "    new_data.insert(loc=0, column=\"year\", value=0)\n",
    "\n",
    "    # Set the first year to the start year\n",
    "    current_year = int(start_yr)\n",
    "    new_data.at[0, \"year\"] = current_year\n",
    "\n",
    "    # Loop through the rows of the dataframe, updating the year column when the month changes\n",
    "    for i in range(1, len(new_data)):\n",
    "        # If the current month is earlier in the year than the previous month, increment the year\n",
    "        if month_lst.index(new_data[\"month\"][i]) < month_lst.index(new_data[\"month\"][i-1]):\n",
    "            current_year += 1\n",
    "\n",
    "        new_data.at[i, \"year\"] = current_year\n",
    "\n",
    "        # If the current year exceeds the end year, break out of the loop\n",
    "        if current_year > end_yr:\n",
    "            break\n",
    "\n",
    "    return new_data"
   ]
  },
  {
   "cell_type": "code",
   "execution_count": 12,
   "id": "d8fde7fa",
   "metadata": {},
   "outputs": [],
   "source": [
    "# Ignore warnings coming from Arrow optimizations.\n",
    "warnings.filterwarnings(\"ignore\")\n",
    "\n",
    "# Use default index prevent overhead.\n",
    "ps.set_option(\"compute.default_index_type\", \"distributed\")\n",
    "\n",
    "# To speed up dataset processing\n",
    "spark.conf.set(\"spark.sql.execution.arrow.pyspark.enabled\", True)"
   ]
  },
  {
   "cell_type": "code",
   "execution_count": 13,
   "id": "619a921b",
   "metadata": {},
   "outputs": [],
   "source": [
    "bank_full_pdf = bank_full.toPandas()\n",
    "\n",
    "# Apply the function to the Pandas DataFrame\n",
    "new_bank_full_pdf = year_mapper(bank_full_pdf, 2008, 2010)\n",
    "\n",
    "# Convert the updated Pandas DataFrame back to a PySpark DataFrame\n",
    "bank_full = spark.createDataFrame(new_bank_full_pdf)"
   ]
  },
  {
   "cell_type": "code",
   "execution_count": 14,
   "id": "132c4712",
   "metadata": {},
   "outputs": [
    {
     "data": {
      "text/html": [
       "<table border='1'>\n",
       "<tr><th>year</th><th>age</th><th>job</th><th>marital</th><th>education</th><th>default</th><th>balance</th><th>housing</th><th>loan</th><th>contact</th><th>day</th><th>month</th><th>duration</th><th>campaign</th><th>pdays</th><th>previous</th><th>poutcome</th><th>y</th><th>emp_var_rate</th><th>cons_price_idx</th><th>cons_conf_idx</th><th>euribor_3m</th><th>nr_employed</th></tr>\n",
       "<tr><td>2008</td><td>58</td><td>management</td><td>married</td><td>tertiary</td><td>no</td><td>2143</td><td>yes</td><td>no</td><td>unknown</td><td>5</td><td>may</td><td>261</td><td>1</td><td>-1</td><td>0</td><td>unknown</td><td>no</td><td>null</td><td>null</td><td>null</td><td>null</td><td>null</td></tr>\n",
       "<tr><td>2008</td><td>44</td><td>technician</td><td>single</td><td>secondary</td><td>no</td><td>29</td><td>yes</td><td>no</td><td>unknown</td><td>5</td><td>may</td><td>151</td><td>1</td><td>-1</td><td>0</td><td>unknown</td><td>no</td><td>null</td><td>null</td><td>null</td><td>null</td><td>null</td></tr>\n",
       "<tr><td>2008</td><td>33</td><td>entrepreneur</td><td>married</td><td>secondary</td><td>no</td><td>2</td><td>yes</td><td>yes</td><td>unknown</td><td>5</td><td>may</td><td>76</td><td>1</td><td>-1</td><td>0</td><td>unknown</td><td>no</td><td>null</td><td>null</td><td>null</td><td>null</td><td>null</td></tr>\n",
       "<tr><td>2008</td><td>47</td><td>blue-collar</td><td>married</td><td>unknown</td><td>no</td><td>1506</td><td>yes</td><td>no</td><td>unknown</td><td>5</td><td>may</td><td>92</td><td>1</td><td>-1</td><td>0</td><td>unknown</td><td>no</td><td>null</td><td>null</td><td>null</td><td>null</td><td>null</td></tr>\n",
       "<tr><td>2008</td><td>33</td><td>unknown</td><td>single</td><td>unknown</td><td>no</td><td>1</td><td>no</td><td>no</td><td>unknown</td><td>5</td><td>may</td><td>198</td><td>1</td><td>-1</td><td>0</td><td>unknown</td><td>no</td><td>null</td><td>null</td><td>null</td><td>null</td><td>null</td></tr>\n",
       "</table>\n"
      ],
      "text/plain": [
       "+----+---+------------+-------+---------+-------+-------+-------+----+-------+---+-----+--------+--------+-----+--------+--------+---+------------+--------------+-------------+----------+-----------+\n",
       "|year|age|         job|marital|education|default|balance|housing|loan|contact|day|month|duration|campaign|pdays|previous|poutcome|  y|emp_var_rate|cons_price_idx|cons_conf_idx|euribor_3m|nr_employed|\n",
       "+----+---+------------+-------+---------+-------+-------+-------+----+-------+---+-----+--------+--------+-----+--------+--------+---+------------+--------------+-------------+----------+-----------+\n",
       "|2008| 58|  management|married| tertiary|     no|   2143|    yes|  no|unknown|  5|  may|     261|       1|   -1|       0| unknown| no|        null|          null|         null|      null|       null|\n",
       "|2008| 44|  technician| single|secondary|     no|     29|    yes|  no|unknown|  5|  may|     151|       1|   -1|       0| unknown| no|        null|          null|         null|      null|       null|\n",
       "|2008| 33|entrepreneur|married|secondary|     no|      2|    yes| yes|unknown|  5|  may|      76|       1|   -1|       0| unknown| no|        null|          null|         null|      null|       null|\n",
       "|2008| 47| blue-collar|married|  unknown|     no|   1506|    yes|  no|unknown|  5|  may|      92|       1|   -1|       0| unknown| no|        null|          null|         null|      null|       null|\n",
       "|2008| 33|     unknown| single|  unknown|     no|      1|     no|  no|unknown|  5|  may|     198|       1|   -1|       0| unknown| no|        null|          null|         null|      null|       null|\n",
       "+----+---+------------+-------+---------+-------+-------+-------+----+-------+---+-----+--------+--------+-----+--------+--------+---+------------+--------------+-------------+----------+-----------+"
      ]
     },
     "metadata": {},
     "output_type": "display_data"
    }
   ],
   "source": [
    "display(bank_full.limit(5))"
   ]
  },
  {
   "cell_type": "code",
   "execution_count": 15,
   "id": "cf1c4c40",
   "metadata": {},
   "outputs": [
    {
     "name": "stdout",
     "output_type": "stream",
     "text": [
      "+----+-----+\n",
      "|year|count|\n",
      "+----+-----+\n",
      "|2008|27729|\n",
      "|2009|14862|\n",
      "|2010| 2620|\n",
      "+----+-----+\n",
      "\n"
     ]
    }
   ],
   "source": [
    "counts = bank_full.groupBy(\"year\").count()\n",
    "counts.show()"
   ]
  },
  {
   "cell_type": "markdown",
   "id": "5e6fbf08",
   "metadata": {},
   "source": [
    "### Mapping date to Bank-Full"
   ]
  },
  {
   "cell_type": "code",
   "execution_count": 16,
   "id": "a088dd87",
   "metadata": {},
   "outputs": [],
   "source": [
    "def map_date(data):\n",
    "    # Make a copy of the original dataframe\n",
    "    new_data = data.copy()\n",
    "    \n",
    "    # Insert a new \"date\" column filled with zeros\n",
    "    new_data.insert(loc=10, column=\"date\", value=0)\n",
    "    \n",
    "    month_lst = [ \"haha\",\n",
    "               \"jan\", \"feb\", \"mar\", \"apr\",\n",
    "               \"may\", \"jun\", \"jul\", \"aug\",\n",
    "               \"sep\", \"oct\", \"nov\", \"dec\"]\n",
    "    \n",
    "    # Loop through the rows of the dataframe, updating the date column\n",
    "    for i in range(0,len(new_data)):\n",
    "        day = int(new_data[\"day\"][i])\n",
    "        mnt = int(month_lst.index(new_data[\"month\"][i]))\n",
    "        new_data.at[i, \"date\"] = str(new_data[\"year\"][i]) + \"-\" + \\\n",
    "        str(f\"{mnt:02}\" ) + \"-\" + \\\n",
    "        str(f\"{day:02}\")\n",
    "    return new_data"
   ]
  },
  {
   "cell_type": "code",
   "execution_count": 17,
   "id": "4da0bad1",
   "metadata": {},
   "outputs": [],
   "source": [
    "bank_full_pdf = bank_full.toPandas()\n",
    "\n",
    "# Apply the function to the Pandas DataFrame\n",
    "new_bank_full_pdf = map_date(bank_full_pdf)\n",
    "\n",
    "# Convert the updated Pandas DataFrame back to a PySpark DataFrame\n",
    "bank_full = spark.createDataFrame(new_bank_full_pdf)"
   ]
  },
  {
   "cell_type": "code",
   "execution_count": 18,
   "id": "cff4fc85",
   "metadata": {},
   "outputs": [
    {
     "data": {
      "text/html": [
       "<table border='1'>\n",
       "<tr><th>year</th><th>age</th><th>job</th><th>marital</th><th>education</th><th>default</th><th>balance</th><th>housing</th><th>loan</th><th>contact</th><th>date</th><th>day</th><th>month</th><th>duration</th><th>campaign</th><th>pdays</th><th>previous</th><th>poutcome</th><th>y</th><th>emp_var_rate</th><th>cons_price_idx</th><th>cons_conf_idx</th><th>euribor_3m</th><th>nr_employed</th></tr>\n",
       "<tr><td>2008</td><td>58</td><td>management</td><td>married</td><td>tertiary</td><td>no</td><td>2143</td><td>yes</td><td>no</td><td>unknown</td><td>2008-05-05</td><td>5</td><td>may</td><td>261</td><td>1</td><td>-1</td><td>0</td><td>unknown</td><td>no</td><td>null</td><td>null</td><td>null</td><td>null</td><td>null</td></tr>\n",
       "<tr><td>2008</td><td>44</td><td>technician</td><td>single</td><td>secondary</td><td>no</td><td>29</td><td>yes</td><td>no</td><td>unknown</td><td>2008-05-05</td><td>5</td><td>may</td><td>151</td><td>1</td><td>-1</td><td>0</td><td>unknown</td><td>no</td><td>null</td><td>null</td><td>null</td><td>null</td><td>null</td></tr>\n",
       "<tr><td>2008</td><td>33</td><td>entrepreneur</td><td>married</td><td>secondary</td><td>no</td><td>2</td><td>yes</td><td>yes</td><td>unknown</td><td>2008-05-05</td><td>5</td><td>may</td><td>76</td><td>1</td><td>-1</td><td>0</td><td>unknown</td><td>no</td><td>null</td><td>null</td><td>null</td><td>null</td><td>null</td></tr>\n",
       "<tr><td>2008</td><td>47</td><td>blue-collar</td><td>married</td><td>unknown</td><td>no</td><td>1506</td><td>yes</td><td>no</td><td>unknown</td><td>2008-05-05</td><td>5</td><td>may</td><td>92</td><td>1</td><td>-1</td><td>0</td><td>unknown</td><td>no</td><td>null</td><td>null</td><td>null</td><td>null</td><td>null</td></tr>\n",
       "<tr><td>2008</td><td>33</td><td>unknown</td><td>single</td><td>unknown</td><td>no</td><td>1</td><td>no</td><td>no</td><td>unknown</td><td>2008-05-05</td><td>5</td><td>may</td><td>198</td><td>1</td><td>-1</td><td>0</td><td>unknown</td><td>no</td><td>null</td><td>null</td><td>null</td><td>null</td><td>null</td></tr>\n",
       "</table>\n"
      ],
      "text/plain": [
       "+----+---+------------+-------+---------+-------+-------+-------+----+-------+----------+---+-----+--------+--------+-----+--------+--------+---+------------+--------------+-------------+----------+-----------+\n",
       "|year|age|         job|marital|education|default|balance|housing|loan|contact|      date|day|month|duration|campaign|pdays|previous|poutcome|  y|emp_var_rate|cons_price_idx|cons_conf_idx|euribor_3m|nr_employed|\n",
       "+----+---+------------+-------+---------+-------+-------+-------+----+-------+----------+---+-----+--------+--------+-----+--------+--------+---+------------+--------------+-------------+----------+-----------+\n",
       "|2008| 58|  management|married| tertiary|     no|   2143|    yes|  no|unknown|2008-05-05|  5|  may|     261|       1|   -1|       0| unknown| no|        null|          null|         null|      null|       null|\n",
       "|2008| 44|  technician| single|secondary|     no|     29|    yes|  no|unknown|2008-05-05|  5|  may|     151|       1|   -1|       0| unknown| no|        null|          null|         null|      null|       null|\n",
       "|2008| 33|entrepreneur|married|secondary|     no|      2|    yes| yes|unknown|2008-05-05|  5|  may|      76|       1|   -1|       0| unknown| no|        null|          null|         null|      null|       null|\n",
       "|2008| 47| blue-collar|married|  unknown|     no|   1506|    yes|  no|unknown|2008-05-05|  5|  may|      92|       1|   -1|       0| unknown| no|        null|          null|         null|      null|       null|\n",
       "|2008| 33|     unknown| single|  unknown|     no|      1|     no|  no|unknown|2008-05-05|  5|  may|     198|       1|   -1|       0| unknown| no|        null|          null|         null|      null|       null|\n",
       "+----+---+------------+-------+---------+-------+-------+-------+----+-------+----------+---+-----+--------+--------+-----+--------+--------+---+------------+--------------+-------------+----------+-----------+"
      ]
     },
     "metadata": {},
     "output_type": "display_data"
    }
   ],
   "source": [
    "display(bank_full.limit(5))"
   ]
  },
  {
   "cell_type": "code",
   "execution_count": 19,
   "id": "39eeba97",
   "metadata": {},
   "outputs": [
    {
     "data": {
      "text/html": [
       "<table border='1'>\n",
       "<tr><th>year</th><th>age</th><th>job</th><th>marital</th><th>education</th><th>default</th><th>balance</th><th>housing</th><th>loan</th><th>contact</th><th>date</th><th>day</th><th>month</th><th>duration</th><th>campaign</th><th>pdays</th><th>previous</th><th>poutcome</th><th>y</th><th>emp_var_rate</th><th>cons_price_idx</th><th>cons_conf_idx</th><th>euribor_3m</th><th>nr_employed</th></tr>\n",
       "<tr><td>2008</td><td>58</td><td>management</td><td>married</td><td>tertiary</td><td>no</td><td>2143</td><td>yes</td><td>no</td><td>unknown</td><td>2008-05-05</td><td>5</td><td>may</td><td>261</td><td>1</td><td>-1</td><td>0</td><td>unknown</td><td>no</td><td>null</td><td>null</td><td>null</td><td>null</td><td>null</td></tr>\n",
       "<tr><td>2008</td><td>44</td><td>technician</td><td>single</td><td>secondary</td><td>no</td><td>29</td><td>yes</td><td>no</td><td>unknown</td><td>2008-05-05</td><td>5</td><td>may</td><td>151</td><td>1</td><td>-1</td><td>0</td><td>unknown</td><td>no</td><td>null</td><td>null</td><td>null</td><td>null</td><td>null</td></tr>\n",
       "<tr><td>2008</td><td>33</td><td>entrepreneur</td><td>married</td><td>secondary</td><td>no</td><td>2</td><td>yes</td><td>yes</td><td>unknown</td><td>2008-05-05</td><td>5</td><td>may</td><td>76</td><td>1</td><td>-1</td><td>0</td><td>unknown</td><td>no</td><td>null</td><td>null</td><td>null</td><td>null</td><td>null</td></tr>\n",
       "<tr><td>2008</td><td>47</td><td>blue-collar</td><td>married</td><td>unknown</td><td>no</td><td>1506</td><td>yes</td><td>no</td><td>unknown</td><td>2008-05-05</td><td>5</td><td>may</td><td>92</td><td>1</td><td>-1</td><td>0</td><td>unknown</td><td>no</td><td>null</td><td>null</td><td>null</td><td>null</td><td>null</td></tr>\n",
       "<tr><td>2008</td><td>33</td><td>unknown</td><td>single</td><td>unknown</td><td>no</td><td>1</td><td>no</td><td>no</td><td>unknown</td><td>2008-05-05</td><td>5</td><td>may</td><td>198</td><td>1</td><td>-1</td><td>0</td><td>unknown</td><td>no</td><td>null</td><td>null</td><td>null</td><td>null</td><td>null</td></tr>\n",
       "</table>\n"
      ],
      "text/plain": [
       "+----+---+------------+-------+---------+-------+-------+-------+----+-------+----------+---+-----+--------+--------+-----+--------+--------+---+------------+--------------+-------------+----------+-----------+\n",
       "|year|age|         job|marital|education|default|balance|housing|loan|contact|      date|day|month|duration|campaign|pdays|previous|poutcome|  y|emp_var_rate|cons_price_idx|cons_conf_idx|euribor_3m|nr_employed|\n",
       "+----+---+------------+-------+---------+-------+-------+-------+----+-------+----------+---+-----+--------+--------+-----+--------+--------+---+------------+--------------+-------------+----------+-----------+\n",
       "|2008| 58|  management|married| tertiary|     no|   2143|    yes|  no|unknown|2008-05-05|  5|  may|     261|       1|   -1|       0| unknown| no|        null|          null|         null|      null|       null|\n",
       "|2008| 44|  technician| single|secondary|     no|     29|    yes|  no|unknown|2008-05-05|  5|  may|     151|       1|   -1|       0| unknown| no|        null|          null|         null|      null|       null|\n",
       "|2008| 33|entrepreneur|married|secondary|     no|      2|    yes| yes|unknown|2008-05-05|  5|  may|      76|       1|   -1|       0| unknown| no|        null|          null|         null|      null|       null|\n",
       "|2008| 47| blue-collar|married|  unknown|     no|   1506|    yes|  no|unknown|2008-05-05|  5|  may|      92|       1|   -1|       0| unknown| no|        null|          null|         null|      null|       null|\n",
       "|2008| 33|     unknown| single|  unknown|     no|      1|     no|  no|unknown|2008-05-05|  5|  may|     198|       1|   -1|       0| unknown| no|        null|          null|         null|      null|       null|\n",
       "+----+---+------------+-------+---------+-------+-------+-------+----+-------+----------+---+-----+--------+--------+-----+--------+--------+---+------------+--------------+-------------+----------+-----------+"
      ]
     },
     "metadata": {},
     "output_type": "display_data"
    }
   ],
   "source": [
    "#to convert \"date\" column from string to date format\n",
    "from pyspark.sql.functions import to_date\n",
    "\n",
    "bank_full = bank_full.withColumn(\"date\", to_date(\"date\", \"yyyy-MM-dd\"))\n",
    "display(bank_full.limit(5))"
   ]
  },
  {
   "cell_type": "code",
   "execution_count": 20,
   "id": "06fffa2a",
   "metadata": {},
   "outputs": [
    {
     "name": "stdout",
     "output_type": "stream",
     "text": [
      "root\n",
      " |-- year: long (nullable = true)\n",
      " |-- age: integer (nullable = true)\n",
      " |-- job: string (nullable = true)\n",
      " |-- marital: string (nullable = true)\n",
      " |-- education: string (nullable = true)\n",
      " |-- default: string (nullable = true)\n",
      " |-- balance: integer (nullable = true)\n",
      " |-- housing: string (nullable = true)\n",
      " |-- loan: string (nullable = true)\n",
      " |-- contact: string (nullable = true)\n",
      " |-- date: date (nullable = true)\n",
      " |-- day: integer (nullable = true)\n",
      " |-- month: string (nullable = true)\n",
      " |-- duration: integer (nullable = true)\n",
      " |-- campaign: integer (nullable = true)\n",
      " |-- pdays: integer (nullable = true)\n",
      " |-- previous: integer (nullable = true)\n",
      " |-- poutcome: string (nullable = true)\n",
      " |-- y: string (nullable = true)\n",
      " |-- emp_var_rate: double (nullable = true)\n",
      " |-- cons_price_idx: double (nullable = true)\n",
      " |-- cons_conf_idx: double (nullable = true)\n",
      " |-- euribor_3m: double (nullable = true)\n",
      " |-- nr_employed: double (nullable = true)\n",
      "\n"
     ]
    }
   ],
   "source": [
    "bank_full.printSchema()"
   ]
  },
  {
   "cell_type": "code",
   "execution_count": 21,
   "id": "5f098d17",
   "metadata": {},
   "outputs": [],
   "source": [
    "#\n",
    "from pyspark.sql.types import IntegerType"
   ]
  },
  {
   "cell_type": "markdown",
   "id": "548d7184",
   "metadata": {},
   "source": [
    "### Index mapper"
   ]
  },
  {
   "cell_type": "code",
   "execution_count": 22,
   "id": "618b6a7c",
   "metadata": {},
   "outputs": [],
   "source": [
    "def map_index(data):\n",
    "    new_data = data\n",
    "    index_2008 = {\"may\":{\"emp_var_rate\":1.1, \"cons_price_idx\":93.994, \"cons_conf_idx\":-36.4, \"euribor_3m\":4.85, \"nr_employed\":5191},\n",
    "                 \"jun\":{\"emp_var_rate\":1.4, \"cons_price_idx\":94.465, \"cons_conf_idx\":-41.8, \"euribor_3m\":4.86, \"nr_employed\":5228.1},\n",
    "                 \"jul\":{\"emp_var_rate\":1.4, \"cons_price_idx\":93.918, \"cons_conf_idx\":-42.7, \"euribor_3m\":4.96, \"nr_employed\":5228.1},\n",
    "                 \"aug\":{\"emp_var_rate\":1.4, \"cons_price_idx\":93.444, \"cons_conf_idx\":-36.1, \"euribor_3m\":4.965, \"nr_employed\":5228.1},\n",
    "                 \"oct\":{\"emp_var_rate\":-0.1, \"cons_price_idx\":93.798, \"cons_conf_idx\":-40.4, \"euribor_3m\":5, \"nr_employed\":5195.8},\n",
    "                 \"nov\":{\"emp_var_rate\":-0.1, \"cons_price_idx\":93.2, \"cons_conf_idx\":-42, \"euribor_3m\":4.406, \"nr_employed\":5195.8},\n",
    "                 \"dec\":{\"emp_var_rate\":-0.2, \"cons_price_idx\":92.75, \"cons_conf_idx\":-45.9, \"euribor_3m\":3.563, \"nr_employed\":5176.3}}\n",
    "\n",
    "    index_2009 = {\"jan\":{\"emp_var_rate\":-0.2, \"nr_employed\":5176.3},\n",
    "                 \"feb\":{\"emp_var_rate\":-0.2, \"nr_employed\":5176.3},\n",
    "                 \"mar\":{\"emp_var_rate\":-1.8, \"cons_price_idx\":92.84, \"cons_conf_idx\":-50, \"euribor_3m\":1.811, \"nr_employed\":5099.1},\n",
    "                 \"apr\":{\"emp_var_rate\":-1.8, \"cons_price_idx\":93.075, \"cons_conf_idx\":-47.1, \"euribor_3m\":1.498, \"nr_employed\":5099.1},\n",
    "                 \"may\":{\"emp_var_rate\":-1.8, \"cons_price_idx\":92.89, \"cons_conf_idx\":-46.2, \"euribor_3m\":1.334, \"nr_employed\":5099.1},\n",
    "                 \"jun\":{\"emp_var_rate\":-2.9, \"cons_price_idx\":92.963, \"cons_conf_idx\":-40.8, \"euribor_3m\":1.26, \"nr_employed\":5076.2},\n",
    "                 \"jul\":{\"emp_var_rate\":-2.9, \"cons_price_idx\":93.469, \"cons_conf_idx\":-33.6, \"euribor_3m\":1.072, \"nr_employed\":5076.2},\n",
    "                 \"aug\":{\"emp_var_rate\":-2.9, \"cons_price_idx\":92.201, \"cons_conf_idx\":-31.4, \"euribor_3m\":0.884, \"nr_employed\":5076.2},\n",
    "                 \"sep\":{\"emp_var_rate\":-3.4, \"cons_price_idx\":92.379, \"cons_conf_idx\":-29.8, \"euribor_3m\":0.813, \"nr_employed\":5017.5},\n",
    "                 \"oct\":{\"emp_var_rate\":-3.4, \"cons_price_idx\":92.431, \"cons_conf_idx\":-26.9, \"euribor_3m\":0.754, \"nr_employed\":5017.5},\n",
    "                 \"nov\":{\"emp_var_rate\":-3.4, \"cons_price_idx\":92.649, \"cons_conf_idx\":-30.1, \"euribor_3m\":0.722, \"nr_employed\":5017.5},\n",
    "                 \"dec\":{\"emp_var_rate\":-3, \"cons_price_idx\":92.713, \"cons_conf_idx\":-33, \"euribor_3m\":0.718, \"nr_employed\":5023.5}}\n",
    "\n",
    "    index_2010 = {\"jan\":{\"emp_var_rate\":-3, \"nr_employed\":5023.5},\n",
    "                 \"feb\":{\"emp_var_rate\":-3, \"nr_employed\":5023.5},\n",
    "                 \"mar\":{\"emp_var_rate\":-1.8, \"cons_price_idx\":92.369, \"cons_conf_idx\":-34.8, \"euribor_3m\":0.655, \"nr_employed\":5008.7},\n",
    "                 \"apr\":{\"emp_var_rate\":-1.8, \"cons_price_idx\":93.749, \"cons_conf_idx\":-34.6, \"euribor_3m\":0.64, \"nr_employed\":5008.7},\n",
    "                 \"may\":{\"emp_var_rate\":-1.8, \"cons_price_idx\":93.876, \"cons_conf_idx\":-40, \"euribor_3m\":0.668, \"nr_employed\":5008.7},\n",
    "                 \"jun\":{\"emp_var_rate\":-1.7, \"cons_price_idx\":94.055, \"cons_conf_idx\":-39.8, \"euribor_3m\":0.704, \"nr_employed\":4991.6},\n",
    "                 \"jul\":{\"emp_var_rate\":-1.7, \"cons_price_idx\":94.215, \"cons_conf_idx\":-40.3, \"euribor_3m\":0.79, \"nr_employed\":4991.6},\n",
    "                 \"aug\":{\"emp_var_rate\":-1.7, \"cons_price_idx\":94.027, \"cons_conf_idx\":-38.3, \"euribor_3m\":0.898, \"nr_employed\":4991.6},\n",
    "                 \"sep\":{\"emp_var_rate\":-1.1, \"cons_price_idx\":94.199, \"cons_conf_idx\":-37.5, \"euribor_3m\":0.886, \"nr_employed\":4963.6},\n",
    "                 \"oct\":{\"emp_var_rate\":-1.1, \"cons_price_idx\":94.601, \"cons_conf_idx\":-49.5, \"euribor_3m\":0.959, \"nr_employed\":4963.6},\n",
    "                 \"nov\":{\"emp_var_rate\":-1.1, \"cons_price_idx\":94.767, \"cons_conf_idx\":-50.8, \"euribor_3m\":1.05, \"nr_employed\":4963.6}}\n",
    "\n",
    "    indx = [index_2008, index_2009, index_2010]\n",
    "    years = [2008, 2009, 2010]\n",
    "    \n",
    "    for i in range(len(years)):\n",
    "        for months, indexes in indx[i].items():\n",
    "            for index, index_val in indexes.items():\n",
    "                new_data = new_data.withColumn(index, \n",
    "                    when((col('year') == years[i]) & (col('month') == months), index_val).otherwise(col(index))) \n",
    "    return new_data"
   ]
  },
  {
   "cell_type": "code",
   "execution_count": 23,
   "id": "0ce9ec22",
   "metadata": {},
   "outputs": [
    {
     "data": {
      "text/html": [
       "<table border='1'>\n",
       "<tr><th>year</th><th>age</th><th>job</th><th>marital</th><th>education</th><th>default</th><th>balance</th><th>housing</th><th>loan</th><th>contact</th><th>date</th><th>day</th><th>month</th><th>duration</th><th>campaign</th><th>pdays</th><th>previous</th><th>poutcome</th><th>y</th><th>emp_var_rate</th><th>cons_price_idx</th><th>cons_conf_idx</th><th>euribor_3m</th><th>nr_employed</th></tr>\n",
       "<tr><td>2008</td><td>58</td><td>management</td><td>married</td><td>tertiary</td><td>no</td><td>2143</td><td>yes</td><td>no</td><td>unknown</td><td>2008-05-05</td><td>5</td><td>may</td><td>261</td><td>1</td><td>-1</td><td>0</td><td>unknown</td><td>no</td><td>1.1</td><td>93.994</td><td>-36.4</td><td>4.85</td><td>5191.0</td></tr>\n",
       "<tr><td>2008</td><td>44</td><td>technician</td><td>single</td><td>secondary</td><td>no</td><td>29</td><td>yes</td><td>no</td><td>unknown</td><td>2008-05-05</td><td>5</td><td>may</td><td>151</td><td>1</td><td>-1</td><td>0</td><td>unknown</td><td>no</td><td>1.1</td><td>93.994</td><td>-36.4</td><td>4.85</td><td>5191.0</td></tr>\n",
       "<tr><td>2008</td><td>33</td><td>entrepreneur</td><td>married</td><td>secondary</td><td>no</td><td>2</td><td>yes</td><td>yes</td><td>unknown</td><td>2008-05-05</td><td>5</td><td>may</td><td>76</td><td>1</td><td>-1</td><td>0</td><td>unknown</td><td>no</td><td>1.1</td><td>93.994</td><td>-36.4</td><td>4.85</td><td>5191.0</td></tr>\n",
       "<tr><td>2008</td><td>47</td><td>blue-collar</td><td>married</td><td>unknown</td><td>no</td><td>1506</td><td>yes</td><td>no</td><td>unknown</td><td>2008-05-05</td><td>5</td><td>may</td><td>92</td><td>1</td><td>-1</td><td>0</td><td>unknown</td><td>no</td><td>1.1</td><td>93.994</td><td>-36.4</td><td>4.85</td><td>5191.0</td></tr>\n",
       "<tr><td>2008</td><td>33</td><td>unknown</td><td>single</td><td>unknown</td><td>no</td><td>1</td><td>no</td><td>no</td><td>unknown</td><td>2008-05-05</td><td>5</td><td>may</td><td>198</td><td>1</td><td>-1</td><td>0</td><td>unknown</td><td>no</td><td>1.1</td><td>93.994</td><td>-36.4</td><td>4.85</td><td>5191.0</td></tr>\n",
       "</table>\n"
      ],
      "text/plain": [
       "+----+---+------------+-------+---------+-------+-------+-------+----+-------+----------+---+-----+--------+--------+-----+--------+--------+---+------------+--------------+-------------+----------+-----------+\n",
       "|year|age|         job|marital|education|default|balance|housing|loan|contact|      date|day|month|duration|campaign|pdays|previous|poutcome|  y|emp_var_rate|cons_price_idx|cons_conf_idx|euribor_3m|nr_employed|\n",
       "+----+---+------------+-------+---------+-------+-------+-------+----+-------+----------+---+-----+--------+--------+-----+--------+--------+---+------------+--------------+-------------+----------+-----------+\n",
       "|2008| 58|  management|married| tertiary|     no|   2143|    yes|  no|unknown|2008-05-05|  5|  may|     261|       1|   -1|       0| unknown| no|         1.1|        93.994|        -36.4|      4.85|     5191.0|\n",
       "|2008| 44|  technician| single|secondary|     no|     29|    yes|  no|unknown|2008-05-05|  5|  may|     151|       1|   -1|       0| unknown| no|         1.1|        93.994|        -36.4|      4.85|     5191.0|\n",
       "|2008| 33|entrepreneur|married|secondary|     no|      2|    yes| yes|unknown|2008-05-05|  5|  may|      76|       1|   -1|       0| unknown| no|         1.1|        93.994|        -36.4|      4.85|     5191.0|\n",
       "|2008| 47| blue-collar|married|  unknown|     no|   1506|    yes|  no|unknown|2008-05-05|  5|  may|      92|       1|   -1|       0| unknown| no|         1.1|        93.994|        -36.4|      4.85|     5191.0|\n",
       "|2008| 33|     unknown| single|  unknown|     no|      1|     no|  no|unknown|2008-05-05|  5|  may|     198|       1|   -1|       0| unknown| no|         1.1|        93.994|        -36.4|      4.85|     5191.0|\n",
       "+----+---+------------+-------+---------+-------+-------+-------+----+-------+----------+---+-----+--------+--------+-----+--------+--------+---+------------+--------------+-------------+----------+-----------+"
      ]
     },
     "metadata": {},
     "output_type": "display_data"
    }
   ],
   "source": [
    "bank_full = map_index(data = bank_full)\n",
    "display(bank_full.limit(5))"
   ]
  },
  {
   "cell_type": "code",
   "execution_count": 24,
   "id": "fdd1f8e9",
   "metadata": {},
   "outputs": [],
   "source": [
    "def get_date(month, year, day_of_week_str):\n",
    "    year = int(year)\n",
    "    \n",
    "    month_lst = [ \"haha\",\n",
    "               \"jan\", \"feb\", \"mar\", \"apr\",\n",
    "               \"may\", \"jun\", \"jul\", \"aug\",\n",
    "               \"sep\", \"oct\", \"nov\", \"dec\"]\n",
    "    \n",
    "    day_of_week_abbr=day_of_week_str.capitalize()\n",
    "    # Get the abbreviated name of the day of the week\n",
    "    day_of_week_abbr = day_of_week_abbr[:3]\n",
    "\n",
    "    # Get the day of the week number\n",
    "    day_of_week = list(calendar.day_abbr).index(day_of_week_abbr)\n",
    "    month_num = month_lst.index(month)\n",
    "    \n",
    "    # Iterate over the days in the month and find the first day that matches the day of the week\n",
    "    for day in range(1, calendar.monthrange(year, month_num)[1] + 1):\n",
    "        if calendar.weekday(year, month_num, day) == day_of_week:\n",
    "            return f\"{day:02}\"\n",
    "    return None"
   ]
  },
  {
   "cell_type": "code",
   "execution_count": null,
   "id": "26f3bfb1",
   "metadata": {},
   "outputs": [],
   "source": []
  },
  {
   "cell_type": "code",
   "execution_count": null,
   "id": "bfe0dc8c",
   "metadata": {},
   "outputs": [],
   "source": []
  },
  {
   "cell_type": "code",
   "execution_count": null,
   "id": "5514f9b1",
   "metadata": {},
   "outputs": [],
   "source": []
  },
  {
   "cell_type": "code",
   "execution_count": null,
   "id": "6d62f555",
   "metadata": {},
   "outputs": [],
   "source": []
  },
  {
   "cell_type": "markdown",
   "id": "31352b58",
   "metadata": {},
   "source": [
    "### Bank Addition Full Dataset (dataset-2)"
   ]
  },
  {
   "cell_type": "code",
   "execution_count": 25,
   "id": "2a348f2d",
   "metadata": {},
   "outputs": [],
   "source": [
    "bank_add_full = spark.read.csv('bank-additional-full.csv',\n",
    "                               sep = \";\",\n",
    "                               header=True,\n",
    "                               inferSchema=True)"
   ]
  },
  {
   "cell_type": "code",
   "execution_count": 26,
   "id": "c59e7804",
   "metadata": {},
   "outputs": [
    {
     "data": {
      "text/html": [
       "<table border='1'>\n",
       "<tr><th>age</th><th>job</th><th>marital</th><th>education</th><th>default</th><th>housing</th><th>loan</th><th>contact</th><th>month</th><th>day_of_week</th><th>duration</th><th>campaign</th><th>pdays</th><th>previous</th><th>poutcome</th><th>emp.var.rate</th><th>cons.price.idx</th><th>cons.conf.idx</th><th>euribor3m</th><th>nr.employed</th><th>y</th></tr>\n",
       "<tr><td>56</td><td>housemaid</td><td>married</td><td>basic.4y</td><td>no</td><td>no</td><td>no</td><td>telephone</td><td>may</td><td>mon</td><td>261</td><td>1</td><td>999</td><td>0</td><td>nonexistent</td><td>1.1</td><td>93.994</td><td>-36.4</td><td>4.857</td><td>5191.0</td><td>no</td></tr>\n",
       "<tr><td>57</td><td>services</td><td>married</td><td>high.school</td><td>unknown</td><td>no</td><td>no</td><td>telephone</td><td>may</td><td>mon</td><td>149</td><td>1</td><td>999</td><td>0</td><td>nonexistent</td><td>1.1</td><td>93.994</td><td>-36.4</td><td>4.857</td><td>5191.0</td><td>no</td></tr>\n",
       "<tr><td>37</td><td>services</td><td>married</td><td>high.school</td><td>no</td><td>yes</td><td>no</td><td>telephone</td><td>may</td><td>mon</td><td>226</td><td>1</td><td>999</td><td>0</td><td>nonexistent</td><td>1.1</td><td>93.994</td><td>-36.4</td><td>4.857</td><td>5191.0</td><td>no</td></tr>\n",
       "<tr><td>40</td><td>admin.</td><td>married</td><td>basic.6y</td><td>no</td><td>no</td><td>no</td><td>telephone</td><td>may</td><td>mon</td><td>151</td><td>1</td><td>999</td><td>0</td><td>nonexistent</td><td>1.1</td><td>93.994</td><td>-36.4</td><td>4.857</td><td>5191.0</td><td>no</td></tr>\n",
       "<tr><td>56</td><td>services</td><td>married</td><td>high.school</td><td>no</td><td>no</td><td>yes</td><td>telephone</td><td>may</td><td>mon</td><td>307</td><td>1</td><td>999</td><td>0</td><td>nonexistent</td><td>1.1</td><td>93.994</td><td>-36.4</td><td>4.857</td><td>5191.0</td><td>no</td></tr>\n",
       "</table>\n"
      ],
      "text/plain": [
       "+---+---------+-------+-----------+-------+-------+----+---------+-----+-----------+--------+--------+-----+--------+-----------+------------+--------------+-------------+---------+-----------+---+\n",
       "|age|      job|marital|  education|default|housing|loan|  contact|month|day_of_week|duration|campaign|pdays|previous|   poutcome|emp.var.rate|cons.price.idx|cons.conf.idx|euribor3m|nr.employed|  y|\n",
       "+---+---------+-------+-----------+-------+-------+----+---------+-----+-----------+--------+--------+-----+--------+-----------+------------+--------------+-------------+---------+-----------+---+\n",
       "| 56|housemaid|married|   basic.4y|     no|     no|  no|telephone|  may|        mon|     261|       1|  999|       0|nonexistent|         1.1|        93.994|        -36.4|    4.857|     5191.0| no|\n",
       "| 57| services|married|high.school|unknown|     no|  no|telephone|  may|        mon|     149|       1|  999|       0|nonexistent|         1.1|        93.994|        -36.4|    4.857|     5191.0| no|\n",
       "| 37| services|married|high.school|     no|    yes|  no|telephone|  may|        mon|     226|       1|  999|       0|nonexistent|         1.1|        93.994|        -36.4|    4.857|     5191.0| no|\n",
       "| 40|   admin.|married|   basic.6y|     no|     no|  no|telephone|  may|        mon|     151|       1|  999|       0|nonexistent|         1.1|        93.994|        -36.4|    4.857|     5191.0| no|\n",
       "| 56| services|married|high.school|     no|     no| yes|telephone|  may|        mon|     307|       1|  999|       0|nonexistent|         1.1|        93.994|        -36.4|    4.857|     5191.0| no|\n",
       "+---+---------+-------+-----------+-------+-------+----+---------+-----+-----------+--------+--------+-----+--------+-----------+------------+--------------+-------------+---------+-----------+---+"
      ]
     },
     "metadata": {},
     "output_type": "display_data"
    }
   ],
   "source": [
    "display(bank_add_full.limit(5))"
   ]
  },
  {
   "cell_type": "code",
   "execution_count": 27,
   "id": "30d70527",
   "metadata": {},
   "outputs": [],
   "source": [
    "bank_add_full_pdf = bank_add_full.toPandas()\n",
    "\n",
    "# Apply the function to the Pandas DataFrame\n",
    "new_bank_add_full_pdf = year_mapper(bank_add_full_pdf, 2008, 2010)"
   ]
  },
  {
   "cell_type": "code",
   "execution_count": 33,
   "id": "df8a9a2d",
   "metadata": {},
   "outputs": [],
   "source": [
    "\n",
    "def get_date(month, year, day_of_week_str):\n",
    "    \"\"\"\n",
    "        This function acts as a helper function to \"map_date2()\"\n",
    "        method.\n",
    "    \"\"\"\n",
    "    import calendar\n",
    "    year = int(year)\n",
    "    \n",
    "    month_lst = [ \"haha\",\n",
    "               \"jan\", \"feb\", \"mar\", \"apr\",\n",
    "               \"may\", \"jun\", \"jul\", \"aug\",\n",
    "               \"sep\", \"oct\", \"nov\", \"dec\"]\n",
    "    \n",
    "    day_of_week_abbr=day_of_week_str.capitalize()\n",
    "    # Get the abbreviated name of the day of the week\n",
    "    day_of_week_abbr = day_of_week_abbr[:3]\n",
    "\n",
    "    # Get the day of the week number\n",
    "    day_of_week = list(calendar.day_abbr).index(day_of_week_abbr)\n",
    "    month_num = month_lst.index(month)\n",
    "    \n",
    "    # Iterate over the days in the month and find the first day that matches the day of the week\n",
    "    for day in range(1, calendar.monthrange(year, month_num)[1] + 1):\n",
    "        if calendar.weekday(year, month_num, day) == day_of_week:\n",
    "            return f\"{day:02}\"\n",
    "    return None\n",
    "\n",
    "\n",
    "def map_date2(data):\n",
    "    \"\"\"\n",
    "        This function is written to map dates to date column in the\n",
    "        bank-additional-full.csv file with helper function get_date.\n",
    "    \"\"\"\n",
    "    # Make a copy of the original dataframe\n",
    "    new_data = data.copy()\n",
    "    \n",
    "    # Insert a new \"date\" column filled with zeros\n",
    "    new_data.insert(loc=10, column=\"date\", value=0)\n",
    "    \n",
    "    month_lst = [ \"haha\",\n",
    "               \"jan\", \"feb\", \"mar\", \"apr\",\n",
    "               \"may\", \"jun\", \"jul\", \"aug\",\n",
    "               \"sep\", \"oct\", \"nov\", \"dec\"]\n",
    "    \n",
    "    # Loop through the rows of the dataframe, updating the date column\n",
    "    for i in range(0,len(new_data)):\n",
    "        \n",
    "        new_data.at[i, \"date\"] = str(new_data[\"year\"][i]) + \"-\" + \\\n",
    "        str( month_lst.index(new_data[\"month\"][i]) ) + \"-\" + \\\n",
    "        str( get_date(month = new_data[\"month\"][i],\n",
    "                      year = new_data[\"year\"][i],\n",
    "                      day_of_week_str = new_data[\"day_of_week\"][i]) )\n",
    "    return new_data"
   ]
  },
  {
   "cell_type": "code",
   "execution_count": 34,
   "id": "02581052",
   "metadata": {},
   "outputs": [
    {
     "ename": "KeyError",
     "evalue": "'year'",
     "output_type": "error",
     "traceback": [
      "\u001b[1;31m---------------------------------------------------------------------------\u001b[0m",
      "\u001b[1;31mKeyError\u001b[0m                                  Traceback (most recent call last)",
      "File \u001b[1;32m~\\.conda\\envs\\demo\\lib\\site-packages\\pandas\\core\\indexes\\base.py:3802\u001b[0m, in \u001b[0;36mIndex.get_loc\u001b[1;34m(self, key, method, tolerance)\u001b[0m\n\u001b[0;32m   3801\u001b[0m \u001b[38;5;28;01mtry\u001b[39;00m:\n\u001b[1;32m-> 3802\u001b[0m     \u001b[38;5;28;01mreturn\u001b[39;00m \u001b[38;5;28;43mself\u001b[39;49m\u001b[38;5;241;43m.\u001b[39;49m\u001b[43m_engine\u001b[49m\u001b[38;5;241;43m.\u001b[39;49m\u001b[43mget_loc\u001b[49m\u001b[43m(\u001b[49m\u001b[43mcasted_key\u001b[49m\u001b[43m)\u001b[49m\n\u001b[0;32m   3803\u001b[0m \u001b[38;5;28;01mexcept\u001b[39;00m \u001b[38;5;167;01mKeyError\u001b[39;00m \u001b[38;5;28;01mas\u001b[39;00m err:\n",
      "File \u001b[1;32m~\\.conda\\envs\\demo\\lib\\site-packages\\pandas\\_libs\\index.pyx:138\u001b[0m, in \u001b[0;36mpandas._libs.index.IndexEngine.get_loc\u001b[1;34m()\u001b[0m\n",
      "File \u001b[1;32m~\\.conda\\envs\\demo\\lib\\site-packages\\pandas\\_libs\\index.pyx:165\u001b[0m, in \u001b[0;36mpandas._libs.index.IndexEngine.get_loc\u001b[1;34m()\u001b[0m\n",
      "File \u001b[1;32mpandas\\_libs\\hashtable_class_helper.pxi:5745\u001b[0m, in \u001b[0;36mpandas._libs.hashtable.PyObjectHashTable.get_item\u001b[1;34m()\u001b[0m\n",
      "File \u001b[1;32mpandas\\_libs\\hashtable_class_helper.pxi:5753\u001b[0m, in \u001b[0;36mpandas._libs.hashtable.PyObjectHashTable.get_item\u001b[1;34m()\u001b[0m\n",
      "\u001b[1;31mKeyError\u001b[0m: 'year'",
      "\nThe above exception was the direct cause of the following exception:\n",
      "\u001b[1;31mKeyError\u001b[0m                                  Traceback (most recent call last)",
      "Cell \u001b[1;32mIn[34], line 2\u001b[0m\n\u001b[0;32m      1\u001b[0m \u001b[38;5;66;03m#  Mapping date to bank-additional-full dataset\u001b[39;00m\n\u001b[1;32m----> 2\u001b[0m bank_add_full_pdf \u001b[38;5;241m=\u001b[39m \u001b[43mmap_date2\u001b[49m\u001b[43m(\u001b[49m\u001b[43mbank_add_full_pdf\u001b[49m\u001b[43m)\u001b[49m\n",
      "Cell \u001b[1;32mIn[33], line 48\u001b[0m, in \u001b[0;36mmap_date2\u001b[1;34m(data)\u001b[0m\n\u001b[0;32m     45\u001b[0m \u001b[38;5;66;03m# Loop through the rows of the dataframe, updating the date column\u001b[39;00m\n\u001b[0;32m     46\u001b[0m \u001b[38;5;28;01mfor\u001b[39;00m i \u001b[38;5;129;01min\u001b[39;00m \u001b[38;5;28mrange\u001b[39m(\u001b[38;5;241m0\u001b[39m,\u001b[38;5;28mlen\u001b[39m(new_data)):\n\u001b[1;32m---> 48\u001b[0m     new_data\u001b[38;5;241m.\u001b[39mat[i, \u001b[38;5;124m\"\u001b[39m\u001b[38;5;124mdate\u001b[39m\u001b[38;5;124m\"\u001b[39m] \u001b[38;5;241m=\u001b[39m \u001b[38;5;28mstr\u001b[39m(\u001b[43mnew_data\u001b[49m\u001b[43m[\u001b[49m\u001b[38;5;124;43m\"\u001b[39;49m\u001b[38;5;124;43myear\u001b[39;49m\u001b[38;5;124;43m\"\u001b[39;49m\u001b[43m]\u001b[49m[i]) \u001b[38;5;241m+\u001b[39m \u001b[38;5;124m\"\u001b[39m\u001b[38;5;124m-\u001b[39m\u001b[38;5;124m\"\u001b[39m \u001b[38;5;241m+\u001b[39m \\\n\u001b[0;32m     49\u001b[0m     \u001b[38;5;28mstr\u001b[39m( month_lst\u001b[38;5;241m.\u001b[39mindex(new_data[\u001b[38;5;124m\"\u001b[39m\u001b[38;5;124mmonth\u001b[39m\u001b[38;5;124m\"\u001b[39m][i]) ) \u001b[38;5;241m+\u001b[39m \u001b[38;5;124m\"\u001b[39m\u001b[38;5;124m-\u001b[39m\u001b[38;5;124m\"\u001b[39m \u001b[38;5;241m+\u001b[39m \\\n\u001b[0;32m     50\u001b[0m     \u001b[38;5;28mstr\u001b[39m( get_date(month \u001b[38;5;241m=\u001b[39m new_data[\u001b[38;5;124m\"\u001b[39m\u001b[38;5;124mmonth\u001b[39m\u001b[38;5;124m\"\u001b[39m][i],\n\u001b[0;32m     51\u001b[0m                   year \u001b[38;5;241m=\u001b[39m new_data[\u001b[38;5;124m\"\u001b[39m\u001b[38;5;124myear\u001b[39m\u001b[38;5;124m\"\u001b[39m][i],\n\u001b[0;32m     52\u001b[0m                   day_of_week_str \u001b[38;5;241m=\u001b[39m new_data[\u001b[38;5;124m\"\u001b[39m\u001b[38;5;124mday_of_week\u001b[39m\u001b[38;5;124m\"\u001b[39m][i]) )\n\u001b[0;32m     53\u001b[0m \u001b[38;5;28;01mreturn\u001b[39;00m new_data\n",
      "File \u001b[1;32m~\\.conda\\envs\\demo\\lib\\site-packages\\pandas\\core\\frame.py:3807\u001b[0m, in \u001b[0;36mDataFrame.__getitem__\u001b[1;34m(self, key)\u001b[0m\n\u001b[0;32m   3805\u001b[0m \u001b[38;5;28;01mif\u001b[39;00m \u001b[38;5;28mself\u001b[39m\u001b[38;5;241m.\u001b[39mcolumns\u001b[38;5;241m.\u001b[39mnlevels \u001b[38;5;241m>\u001b[39m \u001b[38;5;241m1\u001b[39m:\n\u001b[0;32m   3806\u001b[0m     \u001b[38;5;28;01mreturn\u001b[39;00m \u001b[38;5;28mself\u001b[39m\u001b[38;5;241m.\u001b[39m_getitem_multilevel(key)\n\u001b[1;32m-> 3807\u001b[0m indexer \u001b[38;5;241m=\u001b[39m \u001b[38;5;28;43mself\u001b[39;49m\u001b[38;5;241;43m.\u001b[39;49m\u001b[43mcolumns\u001b[49m\u001b[38;5;241;43m.\u001b[39;49m\u001b[43mget_loc\u001b[49m\u001b[43m(\u001b[49m\u001b[43mkey\u001b[49m\u001b[43m)\u001b[49m\n\u001b[0;32m   3808\u001b[0m \u001b[38;5;28;01mif\u001b[39;00m is_integer(indexer):\n\u001b[0;32m   3809\u001b[0m     indexer \u001b[38;5;241m=\u001b[39m [indexer]\n",
      "File \u001b[1;32m~\\.conda\\envs\\demo\\lib\\site-packages\\pandas\\core\\indexes\\base.py:3804\u001b[0m, in \u001b[0;36mIndex.get_loc\u001b[1;34m(self, key, method, tolerance)\u001b[0m\n\u001b[0;32m   3802\u001b[0m     \u001b[38;5;28;01mreturn\u001b[39;00m \u001b[38;5;28mself\u001b[39m\u001b[38;5;241m.\u001b[39m_engine\u001b[38;5;241m.\u001b[39mget_loc(casted_key)\n\u001b[0;32m   3803\u001b[0m \u001b[38;5;28;01mexcept\u001b[39;00m \u001b[38;5;167;01mKeyError\u001b[39;00m \u001b[38;5;28;01mas\u001b[39;00m err:\n\u001b[1;32m-> 3804\u001b[0m     \u001b[38;5;28;01mraise\u001b[39;00m \u001b[38;5;167;01mKeyError\u001b[39;00m(key) \u001b[38;5;28;01mfrom\u001b[39;00m \u001b[38;5;21;01merr\u001b[39;00m\n\u001b[0;32m   3805\u001b[0m \u001b[38;5;28;01mexcept\u001b[39;00m \u001b[38;5;167;01mTypeError\u001b[39;00m:\n\u001b[0;32m   3806\u001b[0m     \u001b[38;5;66;03m# If we have a listlike key, _check_indexing_error will raise\u001b[39;00m\n\u001b[0;32m   3807\u001b[0m     \u001b[38;5;66;03m#  InvalidIndexError. Otherwise we fall through and re-raise\u001b[39;00m\n\u001b[0;32m   3808\u001b[0m     \u001b[38;5;66;03m#  the TypeError.\u001b[39;00m\n\u001b[0;32m   3809\u001b[0m     \u001b[38;5;28mself\u001b[39m\u001b[38;5;241m.\u001b[39m_check_indexing_error(key)\n",
      "\u001b[1;31mKeyError\u001b[0m: 'year'"
     ]
    }
   ],
   "source": [
    "#  Mapping date to bank-additional-full dataset\n",
    "bank_add_full_pdf = map_date2(bank_add_full_pdf)"
   ]
  },
  {
   "cell_type": "code",
   "execution_count": null,
   "id": "c2738a29",
   "metadata": {},
   "outputs": [],
   "source": [
    "# Convert the updated Pandas DataFrame back to a PySpark DataFrame\n",
    "bank_add_full = spark.createDataFrame(new_bank_add_full_pdf)"
   ]
  },
  {
   "cell_type": "code",
   "execution_count": null,
   "id": "a5e97d6a",
   "metadata": {},
   "outputs": [],
   "source": [
    "display(bank_add_full.limit(5))"
   ]
  },
  {
   "cell_type": "code",
   "execution_count": null,
   "id": "a94abc38",
   "metadata": {},
   "outputs": [],
   "source": []
  },
  {
   "cell_type": "code",
   "execution_count": null,
   "id": "0444715b",
   "metadata": {},
   "outputs": [],
   "source": [
    "bank_add_full = map_date2(bank_add_full_pdf)"
   ]
  },
  {
   "cell_type": "code",
   "execution_count": null,
   "id": "0bb2f80c",
   "metadata": {},
   "outputs": [],
   "source": []
  },
  {
   "cell_type": "code",
   "execution_count": null,
   "id": "6823b8a2",
   "metadata": {},
   "outputs": [],
   "source": []
  },
  {
   "cell_type": "markdown",
   "id": "1dfe0c9f",
   "metadata": {},
   "source": [
    "### replace values from 999 to -1"
   ]
  },
  {
   "cell_type": "code",
   "execution_count": null,
   "id": "1a5d7376",
   "metadata": {},
   "outputs": [],
   "source": [
    "bank_add_full = bank_add_full.withColumn(\"pdays\", when(col(\"pdays\") == 999, -1).otherwise(col(\"pdays\")))"
   ]
  },
  {
   "cell_type": "markdown",
   "id": "68cad9ea",
   "metadata": {},
   "source": [
    "### Renaming columns names and values"
   ]
  },
  {
   "cell_type": "code",
   "execution_count": null,
   "id": "f9a230d6",
   "metadata": {},
   "outputs": [],
   "source": [
    "old_col_list = [\"emp.var.rate\", \"cons.price.idx\", \"cons.conf.idx\", \"euribor3m\", \"nr.employed\"]\n",
    "for i in range(0, len(old_col_list)):\n",
    "    bank_add_full = bank_add_full.withColumnRenamed(old_col_list[i], new_cols[i])"
   ]
  },
  {
   "cell_type": "code",
   "execution_count": null,
   "id": "a19d60eb",
   "metadata": {},
   "outputs": [],
   "source": [
    "old_edu = [\"basic.4y\", \"high.school\", \"basic.6y\", \"basic.9y\", \"university.degree\", \"professional.course\"]\n",
    "new_edu = [\"basic_4y\", \"high_school\", \"basic_6y\", \"basic_9y\", \"university_degree\" ,\"professional_course\"]\n",
    "\n",
    "for i in range(0,6):\n",
    "    bank_add_full = bank_add_full.withColumn(\"education\", when(col(\"education\") == old_edu[i], new_edu[i]).otherwise(col(\"education\")))"
   ]
  },
  {
   "cell_type": "code",
   "execution_count": null,
   "id": "001d6a28",
   "metadata": {},
   "outputs": [],
   "source": [
    "display(bank_add_full.limit(5))"
   ]
  },
  {
   "cell_type": "code",
   "execution_count": null,
   "id": "61f345bd",
   "metadata": {},
   "outputs": [],
   "source": [
    "display(bank_full.limit(5))"
   ]
  },
  {
   "cell_type": "code",
   "execution_count": null,
   "id": "614f823a",
   "metadata": {},
   "outputs": [],
   "source": [
    "bank_full = bank_full.drop(\"balance\", \"day\")"
   ]
  },
  {
   "cell_type": "code",
   "execution_count": null,
   "id": "8254e400",
   "metadata": {},
   "outputs": [],
   "source": [
    "bank_full_tableau2 = nbank_full.drop(\"day\")"
   ]
  },
  {
   "cell_type": "code",
   "execution_count": null,
   "id": "22410925",
   "metadata": {},
   "outputs": [],
   "source": [
    "bank_add_full = bank_add_full.drop(\"day_of_week\")"
   ]
  },
  {
   "cell_type": "markdown",
   "id": "713cefcd",
   "metadata": {},
   "source": [
    "## Concat two dataframes"
   ]
  },
  {
   "cell_type": "code",
   "execution_count": null,
   "id": "b36e9923",
   "metadata": {},
   "outputs": [],
   "source": [
    "bank_data = bank_add_full.union(bank_full)"
   ]
  },
  {
   "cell_type": "code",
   "execution_count": null,
   "id": "434c3282",
   "metadata": {},
   "outputs": [],
   "source": [
    "bank_data.count()"
   ]
  },
  {
   "cell_type": "code",
   "execution_count": null,
   "id": "2420e529",
   "metadata": {},
   "outputs": [],
   "source": [
    "bank_data.summary()"
   ]
  },
  {
   "cell_type": "code",
   "execution_count": null,
   "id": "41e1399b",
   "metadata": {},
   "outputs": [],
   "source": [
    "cat_col = [\"job\",\"marital\",\"education\",\"default\",\"housing\",\"loan\",\"contact\",\"month\",\"year\",\"y\"]\n",
    "cont_col = [\"age\",\"duration\",\"campaign\",\"pdays\",\"previous\",\"emp_var_rate\",\"cons_price_idx\",\"cons_conf_idx\",\"euribor_3m\",\"nr_employed\"]\n",
    "categories = bank_data.select(cat_col)\n",
    "continuous = bank_data.select(cont_col)"
   ]
  },
  {
   "cell_type": "markdown",
   "id": "012a8de0",
   "metadata": {},
   "source": [
    "### value counts"
   ]
  },
  {
   "cell_type": "code",
   "execution_count": null,
   "id": "8b6b21ab",
   "metadata": {},
   "outputs": [],
   "source": [
    "for columns in categories:\n",
    "    print(\"Column Name\", columns)\n",
    "    print(\"-----------------------\")\n",
    "    counts = bank_data.groupBy(columns).count()\n",
    "    counts.show()\n",
    "    print(\"     \")\n",
    "    print(\"******************************************************\")\n",
    "    print(\"     \")"
   ]
  },
  {
   "cell_type": "code",
   "execution_count": null,
   "id": "4da98fd0",
   "metadata": {},
   "outputs": [],
   "source": [
    "bank_data = bank_data.withColumn(\"job\", when(col(\"job\") == \"admin.\", \"admin\").otherwise(col(\"job\")))"
   ]
  },
  {
   "cell_type": "code",
   "execution_count": null,
   "id": "2086d989",
   "metadata": {},
   "outputs": [],
   "source": [
    "counts = bank_data.groupBy(\"job\").count()\n",
    "counts.show()"
   ]
  },
  {
   "cell_type": "code",
   "execution_count": null,
   "id": "21f8b418",
   "metadata": {},
   "outputs": [],
   "source": [
    "for column in bank_data.columns:\n",
    "    bank_data = bank_data.withColumn(column, when(col(column).isin(\"unknown\", \"nonexistent\"), None).otherwise(col(column)))"
   ]
  },
  {
   "cell_type": "code",
   "execution_count": null,
   "id": "e5d4abf6",
   "metadata": {},
   "outputs": [],
   "source": [
    "display(bank_add_full.limit(5))"
   ]
  },
  {
   "cell_type": "markdown",
   "id": "fc2594f1",
   "metadata": {},
   "source": [
    "### Checking for null values"
   ]
  },
  {
   "cell_type": "code",
   "execution_count": null,
   "id": "aaa5a30b",
   "metadata": {},
   "outputs": [],
   "source": [
    "bank_data.agg(*[count(when(col(c).isNull(), c)).alias(c) for c in categories.columns]).show()"
   ]
  },
  {
   "cell_type": "code",
   "execution_count": null,
   "id": "15dc7689",
   "metadata": {},
   "outputs": [],
   "source": [
    "bank_data.agg(*[count(when(col(c).isNull(), c)).alias(c) for c in continuous.columns]).show()"
   ]
  },
  {
   "cell_type": "markdown",
   "id": "0c373676",
   "metadata": {},
   "source": [
    "### Replacing continue variables"
   ]
  },
  {
   "cell_type": "code",
   "execution_count": null,
   "id": "809bfbce",
   "metadata": {},
   "outputs": [],
   "source": [
    "from pyspark.sql.functions import mean\n",
    "\n",
    "# calculate the mean of non-null values in columns col1 and col2\n",
    "mean_dict = bank_data.select(*(mean(c).alias(c) for c in cont_col)).first().asDict()\n",
    "\n",
    "# replace null values with the mean in columns col1 and col2\n",
    "bank_data = bank_data.fillna(mean_dict)"
   ]
  },
  {
   "cell_type": "code",
   "execution_count": null,
   "id": "1e0a4afc",
   "metadata": {},
   "outputs": [],
   "source": [
    "bank_data.agg(*[count(when(col(c).isNull(), c)).alias(c) for c in continuous.columns]).show()"
   ]
  },
  {
   "cell_type": "markdown",
   "id": "89d6f733",
   "metadata": {},
   "source": [
    "### Replacing categorical variables"
   ]
  },
  {
   "cell_type": "code",
   "execution_count": null,
   "id": "380bd5b8",
   "metadata": {},
   "outputs": [],
   "source": [
    "bank_data = bank_data.drop(\"poutcome\")"
   ]
  },
  {
   "cell_type": "code",
   "execution_count": null,
   "id": "ca7ed354",
   "metadata": {},
   "outputs": [],
   "source": [
    "for column in cat_col:\n",
    "    mode_value = bank_data.first()[column]\n",
    "    bank_data = bank_data.fillna({column:mode_value})"
   ]
  },
  {
   "cell_type": "code",
   "execution_count": null,
   "id": "df7192b6",
   "metadata": {},
   "outputs": [],
   "source": [
    "bank_data.agg(*[count(when(col(c).isNull(), c)).alias(c) for c in categories.columns]).show()"
   ]
  },
  {
   "cell_type": "code",
   "execution_count": null,
   "id": "e9af1cee",
   "metadata": {},
   "outputs": [],
   "source": [
    "pdf=bank_data.toPandas()"
   ]
  },
  {
   "cell_type": "code",
   "execution_count": null,
   "id": "a1ff1920",
   "metadata": {},
   "outputs": [],
   "source": [
    "correlation = pdf.corr()\n",
    "plt.figure(figsize=(10,10))\n",
    "sns.heatmap(correlation)"
   ]
  },
  {
   "cell_type": "markdown",
   "id": "8d76a8d3",
   "metadata": {},
   "source": [
    "## Data Preprocessing"
   ]
  },
  {
   "cell_type": "code",
   "execution_count": null,
   "id": "48aa89ac",
   "metadata": {},
   "outputs": [],
   "source": [
    "# Creating a dictionary for converting categorical textual data entries\n",
    "# into categorical numeric on basis of job profile\n",
    "job_dict = {\"entrepreneur\":11, \"self-employed\":10, \"admin\":9, \"management\":8, \"services\":7, \n",
    "       \"technician\":6, \"blue-collar\":5, \"housemaid\":4, \"retired\":3, \"student\":2, \"unemployed\":1}\n",
    "\n",
    "for key, value in job_dict.items():\n",
    "    bank_data = bank_data.withColumn(\"job\", when(bank_data[\"job\"] == key, int(value)).otherwise(bank_data[\"job\"]))"
   ]
  },
  {
   "cell_type": "code",
   "execution_count": null,
   "id": "789f1a8f",
   "metadata": {},
   "outputs": [],
   "source": [
    "marital_dict = {\"married\":3, \"single\":2, \"divorced\":1}\n",
    "\n",
    "for key, value in marital_dict.items():\n",
    "    bank_data = bank_data.withColumn(\"marital\", when(bank_data[\"marital\"] == key, value).otherwise(bank_data[\"marital\"]))"
   ]
  },
  {
   "cell_type": "code",
   "execution_count": null,
   "id": "5ece43c9",
   "metadata": {},
   "outputs": [],
   "source": [
    "edu_dict = {\"professional_course\":10, \"university_degree\":9, \"tertiary\":8, \"secondary\":7, \n",
    "       \"high_school\":6, \"basic_9y\":5, \"basic_6y\":4, \"primary\":3, \"basic_4y\":2, \"illiterate\":1}\n",
    "\n",
    "for key, value in edu_dict.items():\n",
    "    bank_data = bank_data.withColumn(\"education\", when(bank_data[\"education\"] == key, value).otherwise(bank_data[\"education\"]))"
   ]
  },
  {
   "cell_type": "code",
   "execution_count": null,
   "id": "532d32ab",
   "metadata": {},
   "outputs": [],
   "source": [
    "y_dict = {\"yes\":1, \"no\":0}\n",
    "\n",
    "for key, value in y_dict.items():\n",
    "    bank_data = bank_data.withColumn(\"y\", when(bank_data[\"y\"] == key, value).otherwise(bank_data[\"y\"]))"
   ]
  },
  {
   "cell_type": "markdown",
   "id": "4eda81d4",
   "metadata": {},
   "source": [
    "contact_dict = {\"telephone\":1, \"cellular\":0}\n",
    "\n",
    "for key, value in contact_dict.items():\n",
    "    bank_data = bank_data.withColumn(\"contact\", when(bank_data[\"contact\"] == key, value).otherwise(bank_data[\"contact\"]))"
   ]
  },
  {
   "cell_type": "code",
   "execution_count": null,
   "id": "7fb0ead7",
   "metadata": {},
   "outputs": [],
   "source": [
    "display(bank_data.limit(5))"
   ]
  },
  {
   "cell_type": "code",
   "execution_count": null,
   "id": "dd910b4b",
   "metadata": {},
   "outputs": [],
   "source": [
    "quarter_dict = {\"jan\":\"Q1\", \"feb\":\"Q1\", \"mar\":\"Q1\", \"apr\":\"Q2\", \"may\":\"Q2\", \"jun\":\"Q2\", \n",
    "                \"jul\":\"Q3\", \"aug\":\"Q3\", \"sep\":\"Q3\", \"oct\":\"Q4\", \"nov\":\"Q4\", \"dec\":\"Q4\"}\n",
    "\n",
    "for key, value in quarter_dict.items():\n",
    "    bank_data = bank_data.withColumn(\"month\", when(bank_data[\"month\"] == key, value).otherwise(bank_data[\"month\"]))"
   ]
  },
  {
   "cell_type": "code",
   "execution_count": null,
   "id": "e5435eb0",
   "metadata": {},
   "outputs": [],
   "source": [
    "bank_data.printSchema()"
   ]
  },
  {
   "cell_type": "code",
   "execution_count": null,
   "id": "4065f98e",
   "metadata": {},
   "outputs": [],
   "source": [
    "one_hot_cols = [\"contact\", \"default\", \"housing\", \"month\", \"loan\"]"
   ]
  },
  {
   "cell_type": "code",
   "execution_count": null,
   "id": "863bf84d",
   "metadata": {},
   "outputs": [],
   "source": [
    "from pyspark.ml.feature import StringIndexer, OneHotEncoder\n",
    "from pyspark.sql.functions import col\n",
    "\n",
    "def one_hot_encode(data, columns):\n",
    "    new_data = data.select(\"*\")\n",
    "    for col_name in columns:\n",
    "        indexer = StringIndexer(inputCol=col_name, outputCol=f\"{col_name}_index\")\n",
    "        new_data = indexer.fit(new_data).transform(new_data)\n",
    "\n",
    "        encoder = OneHotEncoder(inputCols=[f\"{col_name}_index\"], outputCols=[f\"{col_name}_one_hot\"], dropLast=True)\n",
    "        new_data = encoder.fit(new_data).transform(new_data)\n",
    "\n",
    "        new_data = new_data.drop(col_name).drop(f\"{col_name}_index\")\n",
    "\n",
    "    return new_data"
   ]
  },
  {
   "cell_type": "code",
   "execution_count": null,
   "id": "6cf1cc6d",
   "metadata": {},
   "outputs": [],
   "source": [
    "bank_data = one_hot_encode(data = bank_data, columns = one_hot_cols)"
   ]
  },
  {
   "cell_type": "code",
   "execution_count": null,
   "id": "88783328",
   "metadata": {},
   "outputs": [],
   "source": [
    "column_types = bank_data.dtypes\n",
    "# Filter the list to only include the string datatype columns\n",
    "\n",
    "string_columns = [column[0] for column in column_types if column[1] == \"string\"]\n",
    "print(string_columns)"
   ]
  },
  {
   "cell_type": "code",
   "execution_count": null,
   "id": "6faa1317",
   "metadata": {},
   "outputs": [],
   "source": [
    "for cols in string_columns:\n",
    "# Change the datatype of the \"age\" column to integer\n",
    "    bank_data = bank_data.withColumn(cols, bank_data[cols].cast(\"int\"))"
   ]
  },
  {
   "cell_type": "code",
   "execution_count": null,
   "id": "5d592827",
   "metadata": {},
   "outputs": [],
   "source": [
    "display(bank_data.limit(5))"
   ]
  },
  {
   "cell_type": "code",
   "execution_count": null,
   "id": "199b5b1b",
   "metadata": {},
   "outputs": [],
   "source": [
    "vectors = [contact_one_hot\tdefault_one_hot\thousing_one_hot\tmonth_one_hot\tloan_one_hot]\n",
    "\n",
    "# Define a UDF to convert vector elements to floats\n",
    "to_float = udf(lambda x: [float(i) for i in x], ArrayType(FloatType()))\n",
    "\n",
    "# Apply the UDF to the vector column\n",
    "bank_data = bank_data.withColumn(\"vector_float\", to_float(bank_data[\"vector\"]))"
   ]
  },
  {
   "cell_type": "code",
   "execution_count": null,
   "id": "09e84a8f",
   "metadata": {},
   "outputs": [],
   "source": [
    "bank_data.printSchema()"
   ]
  },
  {
   "cell_type": "markdown",
   "id": "a634e6b1",
   "metadata": {},
   "source": [
    "### Outliers"
   ]
  },
  {
   "cell_type": "code",
   "execution_count": null,
   "id": "ea070837",
   "metadata": {},
   "outputs": [],
   "source": [
    "out = bank_data.toPandas()"
   ]
  },
  {
   "cell_type": "code",
   "execution_count": null,
   "id": "71b422e2",
   "metadata": {},
   "outputs": [],
   "source": [
    "outliers_columns = [\"age\",\"duration\",\"campaign\",\"pdays\",\"previous\"]"
   ]
  },
  {
   "cell_type": "code",
   "execution_count": null,
   "id": "b391950e",
   "metadata": {},
   "outputs": [],
   "source": [
    "def plot_box():\n",
    "    plt.figure(figsize=(10,10))\n",
    "    plt.subplot(3,2,1)\n",
    "    out.boxplot(column=[\"age\"])\n",
    "\n",
    "    plt.subplot(3,2,2)\n",
    "    out.boxplot(column=[\"duration\"])\n",
    "\n",
    "    plt.subplot(3,2,3)\n",
    "    out.boxplot(column=[\"campaign\"])\n",
    "\n",
    "    plt.subplot(3,2,4)\n",
    "    out.boxplot(column=[\"pdays\"])\n",
    "\n",
    "    plt.subplot(3,2,5)\n",
    "    out.boxplot(column=[\"previous\"])\n",
    "           \n",
    "plot_box()"
   ]
  },
  {
   "cell_type": "code",
   "execution_count": null,
   "id": "a9569e01",
   "metadata": {},
   "outputs": [],
   "source": [
    "max_out_limit = []\n",
    "for cols in outliers_columns:\n",
    "    quantiles = bank_data.approxQuantile(cols, [0.25, 0.5, 0.75], 0.01)\n",
    "    \n",
    "    q3 = quantiles[2]\n",
    "    q1 = quantiles[0]\n",
    "    iqr = q3 - q1\n",
    "    iqr = iqr*1.5\n",
    "    max_limit = q3 + iqr\n",
    "    min_limit = q1 - iqr\n",
    "    max_out_limit.append(max_limit)\n",
    "    \n",
    "    print(cols, \"max_limit: \",max_limit,\"      min_limit: \",min_limit)\n",
    "else:\n",
    "    print(\"------------------------------------------\")\n",
    "    print(max_out_limit)\n",
    "\n"
   ]
  },
  {
   "cell_type": "code",
   "execution_count": null,
   "id": "6ae7f545",
   "metadata": {},
   "outputs": [],
   "source": [
    "for i, j in zip(outliers_columns, max_out_limit):\n",
    "    bank_data = bank_data.withColumn(i, \n",
    "                    when((col(i) >= j), j).otherwise(col(i))) "
   ]
  },
  {
   "cell_type": "code",
   "execution_count": null,
   "id": "838141e7",
   "metadata": {},
   "outputs": [],
   "source": [
    "out = bank_data.toPandas()"
   ]
  },
  {
   "cell_type": "code",
   "execution_count": null,
   "id": "9c949e1b",
   "metadata": {},
   "outputs": [],
   "source": [
    "plot_box()"
   ]
  },
  {
   "cell_type": "code",
   "execution_count": null,
   "id": "eeb9e074",
   "metadata": {},
   "outputs": [],
   "source": [
    "bank_data.printSchema()"
   ]
  },
  {
   "cell_type": "code",
   "execution_count": null,
   "id": "038b8abb",
   "metadata": {},
   "outputs": [],
   "source": [
    "display(bank_data.limit(5))"
   ]
  },
  {
   "cell_type": "code",
   "execution_count": null,
   "id": "f21e017f",
   "metadata": {},
   "outputs": [],
   "source": [
    "from pyspark.ml.feature import MinMaxScaler\n",
    "from pyspark.ml.feature import VectorAssembler\n",
    "\n",
    "# Select the numerical columns\n",
    "numerical_cols = [\"year\", \"age\", \"duration\", \"campaign\", \"pdays\", \"previous\", \"cons_price_idx\", \"cons_conf_idx\", \"euribor_3m\", \"nr_employed\"]\n",
    "\n",
    "# Create a vector assembler to combine the numerical columns into a single vector\n",
    "assembler = VectorAssembler(inputCols=numerical_cols, outputCol=\"numerical_features\")\n",
    "\n",
    "# Transform the DataFrame to create the numerical features vector\n",
    "bank_data = assembler.transform(bank_data)\n",
    "\n",
    "# Apply MinMaxScaler to the numerical features vector\n",
    "scaler = MinMaxScaler(inputCol=\"numerical_features\", outputCol=\"scaled_numerical_features\")\n",
    "scaler_model = scaler.fit(bank_data)\n",
    "df = scaler_model.transform(bank_data)\n",
    "\n",
    "df = df.drop(\"numerical_features\")\n",
    "\n",
    "# Drop the original numerical columns and keep only the scaled numerical features\n",
    "sc_bank_data = df.drop(*numerical_cols).withColumnRenamed(\"scaled_numerical_features\", \"features\")\n"
   ]
  },
  {
   "cell_type": "code",
   "execution_count": null,
   "id": "436eb450",
   "metadata": {},
   "outputs": [],
   "source": [
    "display(sc_bank_data.limit(5))"
   ]
  },
  {
   "cell_type": "code",
   "execution_count": null,
   "id": "a959a4ea",
   "metadata": {},
   "outputs": [],
   "source": [
    "features = []\n",
    "for columns in sc_bank_data.columns:\n",
    "    features.append(columns)\n",
    "else:\n",
    "    print(features)"
   ]
  },
  {
   "cell_type": "code",
   "execution_count": null,
   "id": "a12414f6",
   "metadata": {},
   "outputs": [],
   "source": [
    "from pyspark.ml.feature import VectorAssembler\n",
    "from pyspark.ml.classification import DecisionTreeClassifier\n",
    "from sklearn.metrics import ConfusionMatrixDisplay, accuracy_score, classification_report"
   ]
  },
  {
   "cell_type": "code",
   "execution_count": null,
   "id": "6405e6c8",
   "metadata": {},
   "outputs": [],
   "source": [
    "assembler = VectorAssembler(inputCols=features, outputCol='features')"
   ]
  },
  {
   "cell_type": "code",
   "execution_count": null,
   "id": "a13d8984",
   "metadata": {},
   "outputs": [],
   "source": [
    "sc_bank_data.printSchema()"
   ]
  },
  {
   "cell_type": "code",
   "execution_count": null,
   "id": "fcab22f8",
   "metadata": {},
   "outputs": [],
   "source": [
    "assembler = VectorAssembler(inputCols=[col(\"vector_col\")], outputCol=\"features\")\n",
    "df_features = assembler.transform(df)\n",
    "\n",
    "df_double = df_features.withColumn(\"double_col\", col(\"features\").cast(\"double\")).select(\"double_col\")"
   ]
  },
  {
   "cell_type": "code",
   "execution_count": null,
   "id": "7e897515",
   "metadata": {},
   "outputs": [],
   "source": [
    "train_data, test_data = bank_transform.randomSplit([0.75, 0.25], seed = 14)\n",
    "display(train_data.limit(5))"
   ]
  },
  {
   "cell_type": "code",
   "execution_count": null,
   "id": "b1d9673b",
   "metadata": {},
   "outputs": [],
   "source": []
  },
  {
   "cell_type": "code",
   "execution_count": null,
   "id": "0731cf56",
   "metadata": {},
   "outputs": [],
   "source": []
  },
  {
   "cell_type": "code",
   "execution_count": null,
   "id": "7abb2fa8",
   "metadata": {},
   "outputs": [],
   "source": []
  }
 ],
 "metadata": {
  "kernelspec": {
   "display_name": "Python 3 (ipykernel)",
   "language": "python",
   "name": "python3"
  },
  "language_info": {
   "codemirror_mode": {
    "name": "ipython",
    "version": 3
   },
   "file_extension": ".py",
   "mimetype": "text/x-python",
   "name": "python",
   "nbconvert_exporter": "python",
   "pygments_lexer": "ipython3",
   "version": "3.9.16"
  }
 },
 "nbformat": 4,
 "nbformat_minor": 5
}
