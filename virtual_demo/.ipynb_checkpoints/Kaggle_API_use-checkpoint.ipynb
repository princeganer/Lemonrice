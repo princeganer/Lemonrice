{
 "cells": [
  {
   "cell_type": "markdown",
   "id": "7900eac9",
   "metadata": {},
   "source": [
    "## Kaggle documentation for using API\n",
    "www.kaggle.com/docs/api"
   ]
  },
  {
   "cell_type": "code",
   "execution_count": 11,
   "id": "d82d54ba",
   "metadata": {},
   "outputs": [],
   "source": [
    "import os"
   ]
  },
  {
   "cell_type": "markdown",
   "id": "70b875dd",
   "metadata": {},
   "source": [
    "### Installing kaggle package"
   ]
  },
  {
   "cell_type": "code",
   "execution_count": 2,
   "id": "e680ec56",
   "metadata": {},
   "outputs": [
    {
     "name": "stdout",
     "output_type": "stream",
     "text": [
      "Collecting kaggle\n",
      "  Downloading kaggle-1.5.13.tar.gz (63 kB)\n",
      "     ---------------------------------------- 63.3/63.3 kB 3.3 MB/s eta 0:00:00\n",
      "  Preparing metadata (setup.py): started\n",
      "  Preparing metadata (setup.py): finished with status 'done'\n",
      "Requirement already satisfied: six>=1.10 in c:\\users\\ganer\\.conda\\envs\\demo\\lib\\site-packages (from kaggle) (1.16.0)\n",
      "Requirement already satisfied: certifi in c:\\users\\ganer\\.conda\\envs\\demo\\lib\\site-packages (from kaggle) (2022.12.7)\n",
      "Requirement already satisfied: python-dateutil in c:\\users\\ganer\\.conda\\envs\\demo\\lib\\site-packages (from kaggle) (2.8.2)\n",
      "Collecting requests\n",
      "  Downloading requests-2.28.2-py3-none-any.whl (62 kB)\n",
      "     ---------------------------------------- 62.8/62.8 kB ? eta 0:00:00\n",
      "Collecting tqdm\n",
      "  Downloading tqdm-4.65.0-py3-none-any.whl (77 kB)\n",
      "     ---------------------------------------- 77.1/77.1 kB 1.4 MB/s eta 0:00:00\n",
      "Collecting python-slugify\n",
      "  Downloading python_slugify-8.0.1-py2.py3-none-any.whl (9.7 kB)\n",
      "Collecting urllib3\n",
      "  Downloading urllib3-1.26.14-py2.py3-none-any.whl (140 kB)\n",
      "     -------------------------------------- 140.6/140.6 kB 4.1 MB/s eta 0:00:00\n",
      "Collecting text-unidecode>=1.3\n",
      "  Downloading text_unidecode-1.3-py2.py3-none-any.whl (78 kB)\n",
      "     ---------------------------------------- 78.2/78.2 kB 4.5 MB/s eta 0:00:00\n",
      "Collecting charset-normalizer<4,>=2\n",
      "  Downloading charset_normalizer-3.1.0-cp39-cp39-win_amd64.whl (97 kB)\n",
      "     ---------------------------------------- 97.1/97.1 kB ? eta 0:00:00\n",
      "Requirement already satisfied: idna<4,>=2.5 in c:\\users\\ganer\\.conda\\envs\\demo\\lib\\site-packages (from requests->kaggle) (3.4)\n",
      "Requirement already satisfied: colorama in c:\\users\\ganer\\.conda\\envs\\demo\\lib\\site-packages (from tqdm->kaggle) (0.4.6)\n",
      "Building wheels for collected packages: kaggle\n",
      "  Building wheel for kaggle (setup.py): started\n",
      "  Building wheel for kaggle (setup.py): finished with status 'done'\n",
      "  Created wheel for kaggle: filename=kaggle-1.5.13-py3-none-any.whl size=77731 sha256=205b1191d9261ef016efc73996a1fd17c19e6fe1fa44e7f737c5e181b2a0674c\n",
      "  Stored in directory: c:\\users\\ganer\\appdata\\local\\pip\\cache\\wheels\\92\\8c\\37\\96a1971bedc1e74057af1e4852f18de7e8286dea4f12928e6c\n",
      "Successfully built kaggle\n",
      "Installing collected packages: text-unidecode, urllib3, tqdm, python-slugify, charset-normalizer, requests, kaggle\n",
      "Successfully installed charset-normalizer-3.1.0 kaggle-1.5.13 python-slugify-8.0.1 requests-2.28.2 text-unidecode-1.3 tqdm-4.65.0 urllib3-1.26.14\n"
     ]
    }
   ],
   "source": [
    "!pip install kaggle"
   ]
  },
  {
   "cell_type": "markdown",
   "id": "89379115",
   "metadata": {},
   "source": [
    "In order to use the API generate the API Token from kaggle account and then copy this token <br>\n",
    "to your local (Windows) path \"C:\\Users\\\\USERNAME\\\\.kaggle\" <br>\n",
    "* give appropriate value/path in place of $USERNAME"
   ]
  },
  {
   "cell_type": "code",
   "execution_count": 8,
   "id": "2908de9e",
   "metadata": {},
   "outputs": [],
   "source": [
    "# making a folder named \"kaggle\" to work in it\n",
    "!mkdir kaggle"
   ]
  },
  {
   "cell_type": "code",
   "execution_count": 15,
   "id": "14ca69ff",
   "metadata": {},
   "outputs": [],
   "source": [
    "# set the working directory to kaggle\n",
    "os.chdir(r\"D:/Lemonrice/virtual_demo/kaggle\")"
   ]
  },
  {
   "cell_type": "code",
   "execution_count": 17,
   "id": "4fca2989",
   "metadata": {},
   "outputs": [
    {
     "name": "stdout",
     "output_type": "stream",
     "text": [
      "Downloading bank-telemarketing-dataset.zip to D:\\Lemonrice\\virtual_demo\\kaggle\n",
      "\n"
     ]
    },
    {
     "name": "stderr",
     "output_type": "stream",
     "text": [
      "\n",
      "  0%|          | 0.00/905k [00:00<?, ?B/s]\n",
      "100%|##########| 905k/905k [00:00<00:00, 6.50MB/s]\n",
      "100%|##########| 905k/905k [00:00<00:00, 6.50MB/s]\n"
     ]
    }
   ],
   "source": [
    "# download the dataset using kaggle's API\n",
    "!kaggle datasets download -d princeganer/bank-telemarketing-dataset"
   ]
  },
  {
   "cell_type": "code",
   "execution_count": 18,
   "id": "f5190482",
   "metadata": {},
   "outputs": [
    {
     "name": "stdout",
     "output_type": "stream",
     "text": [
      "Archive:  bank-telemarketing-dataset.zip\n",
      "  inflating: bank-additional-full.csv  \n",
      "  inflating: bank-additional-names.txt  \n",
      "  inflating: bank-full.csv           \n",
      "  inflating: info.txt                \n"
     ]
    }
   ],
   "source": [
    "# unzipping the dataset zip file\n",
    "!unzip bank-telemarketing-dataset.zip"
   ]
  },
  {
   "cell_type": "code",
   "execution_count": 2,
   "id": "eaed443f",
   "metadata": {},
   "outputs": [],
   "source": [
    "# if above code doesn't work for zip then try this\n",
    "import zipfile\n",
    "\n",
    "with zipfile.ZipFile('bank-telemarketing-dataset.zip', 'r') as zip:\n",
    "    zip.extractall('./BankProject/')"
   ]
  }
 ],
 "metadata": {
  "kernelspec": {
   "display_name": "Python 3 (ipykernel)",
   "language": "python",
   "name": "python3"
  },
  "language_info": {
   "codemirror_mode": {
    "name": "ipython",
    "version": 3
   },
   "file_extension": ".py",
   "mimetype": "text/x-python",
   "name": "python",
   "nbconvert_exporter": "python",
   "pygments_lexer": "ipython3",
   "version": "3.9.16"
  }
 },
 "nbformat": 4,
 "nbformat_minor": 5
}
