{
 "cells": [
  {
   "cell_type": "code",
   "execution_count": 1,
   "id": "9b50136c",
   "metadata": {},
   "outputs": [],
   "source": [
    "#importing necessary libraries\n",
    "from pyspark.sql import SparkSession\n",
    "from pyspark.sql.types import *\n",
    "\n",
    "from pyspark.sql.functions import when, col\n",
    "from pyspark.sql.functions import sum, count\n",
    "import seaborn as sns\n",
    "import matplotlib.pyplot as plt\n",
    "\n",
    "import pandas as pd\n",
    "import numpy as np"
   ]
  },
  {
   "cell_type": "markdown",
   "id": "f61a93c5",
   "metadata": {},
   "source": [
    "# Creating a spark session object"
   ]
  },
  {
   "cell_type": "code",
   "execution_count": 2,
   "id": "c7cd05e2",
   "metadata": {},
   "outputs": [],
   "source": [
    "spark = SparkSession.builder.master('local[4]').appName('ProjectLemon').getOrCreate()"
   ]
  },
  {
   "cell_type": "markdown",
   "id": "775a6521",
   "metadata": {},
   "source": [
    "# Preprocessing"
   ]
  },
  {
   "cell_type": "markdown",
   "id": "45f1055f",
   "metadata": {},
   "source": [
    "## Preprocessing on dataset bank-full"
   ]
  },
  {
   "cell_type": "code",
   "execution_count": 3,
   "id": "9448cb14",
   "metadata": {},
   "outputs": [],
   "source": [
    "# to display dataframe properly in jupyter\n",
    "spark.conf.set('spark.sql.repl.eagerEval.enabled', True)"
   ]
  },
  {
   "cell_type": "code",
   "execution_count": 4,
   "id": "a88046ce",
   "metadata": {},
   "outputs": [],
   "source": [
    "bank_full = spark.read.csv('bank-full.csv',\n",
    "                           sep = ';',\n",
    "                           header=True,\n",
    "                           inferSchema=True)"
   ]
  },
  {
   "cell_type": "code",
   "execution_count": 5,
   "id": "96cba110",
   "metadata": {},
   "outputs": [
    {
     "data": {
      "text/plain": [
       "45211"
      ]
     },
     "execution_count": 5,
     "metadata": {},
     "output_type": "execute_result"
    }
   ],
   "source": [
    "bank_full.count()"
   ]
  },
  {
   "cell_type": "code",
   "execution_count": 6,
   "id": "da3994b9",
   "metadata": {},
   "outputs": [
    {
     "name": "stdout",
     "output_type": "stream",
     "text": [
      "+---+------------+--------+---------+-------+-------+-------+----+-------+---+-----+--------+--------+-----+--------+--------+---+\n",
      "|age|         job| marital|education|default|balance|housing|loan|contact|day|month|duration|campaign|pdays|previous|poutcome|  y|\n",
      "+---+------------+--------+---------+-------+-------+-------+----+-------+---+-----+--------+--------+-----+--------+--------+---+\n",
      "| 58|  management| married| tertiary|     no|   2143|    yes|  no|unknown|  5|  may|     261|       1|   -1|       0| unknown| no|\n",
      "| 44|  technician|  single|secondary|     no|     29|    yes|  no|unknown|  5|  may|     151|       1|   -1|       0| unknown| no|\n",
      "| 33|entrepreneur| married|secondary|     no|      2|    yes| yes|unknown|  5|  may|      76|       1|   -1|       0| unknown| no|\n",
      "| 47| blue-collar| married|  unknown|     no|   1506|    yes|  no|unknown|  5|  may|      92|       1|   -1|       0| unknown| no|\n",
      "| 33|     unknown|  single|  unknown|     no|      1|     no|  no|unknown|  5|  may|     198|       1|   -1|       0| unknown| no|\n",
      "| 35|  management| married| tertiary|     no|    231|    yes|  no|unknown|  5|  may|     139|       1|   -1|       0| unknown| no|\n",
      "| 28|  management|  single| tertiary|     no|    447|    yes| yes|unknown|  5|  may|     217|       1|   -1|       0| unknown| no|\n",
      "| 42|entrepreneur|divorced| tertiary|    yes|      2|    yes|  no|unknown|  5|  may|     380|       1|   -1|       0| unknown| no|\n",
      "| 58|     retired| married|  primary|     no|    121|    yes|  no|unknown|  5|  may|      50|       1|   -1|       0| unknown| no|\n",
      "| 43|  technician|  single|secondary|     no|    593|    yes|  no|unknown|  5|  may|      55|       1|   -1|       0| unknown| no|\n",
      "| 41|      admin.|divorced|secondary|     no|    270|    yes|  no|unknown|  5|  may|     222|       1|   -1|       0| unknown| no|\n",
      "| 29|      admin.|  single|secondary|     no|    390|    yes|  no|unknown|  5|  may|     137|       1|   -1|       0| unknown| no|\n",
      "| 53|  technician| married|secondary|     no|      6|    yes|  no|unknown|  5|  may|     517|       1|   -1|       0| unknown| no|\n",
      "| 58|  technician| married|  unknown|     no|     71|    yes|  no|unknown|  5|  may|      71|       1|   -1|       0| unknown| no|\n",
      "| 57|    services| married|secondary|     no|    162|    yes|  no|unknown|  5|  may|     174|       1|   -1|       0| unknown| no|\n",
      "| 51|     retired| married|  primary|     no|    229|    yes|  no|unknown|  5|  may|     353|       1|   -1|       0| unknown| no|\n",
      "| 45|      admin.|  single|  unknown|     no|     13|    yes|  no|unknown|  5|  may|      98|       1|   -1|       0| unknown| no|\n",
      "| 57| blue-collar| married|  primary|     no|     52|    yes|  no|unknown|  5|  may|      38|       1|   -1|       0| unknown| no|\n",
      "| 60|     retired| married|  primary|     no|     60|    yes|  no|unknown|  5|  may|     219|       1|   -1|       0| unknown| no|\n",
      "| 33|    services| married|secondary|     no|      0|    yes|  no|unknown|  5|  may|      54|       1|   -1|       0| unknown| no|\n",
      "+---+------------+--------+---------+-------+-------+-------+----+-------+---+-----+--------+--------+-----+--------+--------+---+\n",
      "only showing top 20 rows\n",
      "\n"
     ]
    }
   ],
   "source": [
    "bank_full.show()"
   ]
  },
  {
   "cell_type": "code",
   "execution_count": 7,
   "id": "f365f6f0",
   "metadata": {},
   "outputs": [
    {
     "name": "stdout",
     "output_type": "stream",
     "text": [
      "root\n",
      " |-- age: integer (nullable = true)\n",
      " |-- job: string (nullable = true)\n",
      " |-- marital: string (nullable = true)\n",
      " |-- education: string (nullable = true)\n",
      " |-- default: string (nullable = true)\n",
      " |-- balance: integer (nullable = true)\n",
      " |-- housing: string (nullable = true)\n",
      " |-- loan: string (nullable = true)\n",
      " |-- contact: string (nullable = true)\n",
      " |-- day: integer (nullable = true)\n",
      " |-- month: string (nullable = true)\n",
      " |-- duration: integer (nullable = true)\n",
      " |-- campaign: integer (nullable = true)\n",
      " |-- pdays: integer (nullable = true)\n",
      " |-- previous: integer (nullable = true)\n",
      " |-- poutcome: string (nullable = true)\n",
      " |-- y: string (nullable = true)\n",
      "\n"
     ]
    }
   ],
   "source": [
    "bank_full.printSchema()"
   ]
  },
  {
   "cell_type": "code",
   "execution_count": 8,
   "id": "019ca30c",
   "metadata": {},
   "outputs": [],
   "source": [
    "new_cols = [\"emp_var_rate\", \"cons_price_idx\", \"cons_conf_idx\", \"euribor_3m\", \"nr_employed\"]\n",
    "\n",
    "for column in new_cols:\n",
    "    bank_full = bank_full.withColumn(column, bank_full[\"poutcome\"] + 1)"
   ]
  },
  {
   "cell_type": "code",
   "execution_count": 9,
   "id": "729bad85",
   "metadata": {},
   "outputs": [
    {
     "data": {
      "text/html": [
       "<table border='1'>\n",
       "<tr><th>age</th><th>job</th><th>marital</th><th>education</th><th>default</th><th>balance</th><th>housing</th><th>loan</th><th>contact</th><th>day</th><th>month</th><th>duration</th><th>campaign</th><th>pdays</th><th>previous</th><th>poutcome</th><th>y</th><th>emp_var_rate</th><th>cons_price_idx</th><th>cons_conf_idx</th><th>euribor_3m</th><th>nr_employed</th></tr>\n",
       "<tr><td>58</td><td>management</td><td>married</td><td>tertiary</td><td>no</td><td>2143</td><td>yes</td><td>no</td><td>unknown</td><td>5</td><td>may</td><td>261</td><td>1</td><td>-1</td><td>0</td><td>unknown</td><td>no</td><td>null</td><td>null</td><td>null</td><td>null</td><td>null</td></tr>\n",
       "<tr><td>44</td><td>technician</td><td>single</td><td>secondary</td><td>no</td><td>29</td><td>yes</td><td>no</td><td>unknown</td><td>5</td><td>may</td><td>151</td><td>1</td><td>-1</td><td>0</td><td>unknown</td><td>no</td><td>null</td><td>null</td><td>null</td><td>null</td><td>null</td></tr>\n",
       "<tr><td>33</td><td>entrepreneur</td><td>married</td><td>secondary</td><td>no</td><td>2</td><td>yes</td><td>yes</td><td>unknown</td><td>5</td><td>may</td><td>76</td><td>1</td><td>-1</td><td>0</td><td>unknown</td><td>no</td><td>null</td><td>null</td><td>null</td><td>null</td><td>null</td></tr>\n",
       "<tr><td>47</td><td>blue-collar</td><td>married</td><td>unknown</td><td>no</td><td>1506</td><td>yes</td><td>no</td><td>unknown</td><td>5</td><td>may</td><td>92</td><td>1</td><td>-1</td><td>0</td><td>unknown</td><td>no</td><td>null</td><td>null</td><td>null</td><td>null</td><td>null</td></tr>\n",
       "<tr><td>33</td><td>unknown</td><td>single</td><td>unknown</td><td>no</td><td>1</td><td>no</td><td>no</td><td>unknown</td><td>5</td><td>may</td><td>198</td><td>1</td><td>-1</td><td>0</td><td>unknown</td><td>no</td><td>null</td><td>null</td><td>null</td><td>null</td><td>null</td></tr>\n",
       "<tr><td>35</td><td>management</td><td>married</td><td>tertiary</td><td>no</td><td>231</td><td>yes</td><td>no</td><td>unknown</td><td>5</td><td>may</td><td>139</td><td>1</td><td>-1</td><td>0</td><td>unknown</td><td>no</td><td>null</td><td>null</td><td>null</td><td>null</td><td>null</td></tr>\n",
       "<tr><td>28</td><td>management</td><td>single</td><td>tertiary</td><td>no</td><td>447</td><td>yes</td><td>yes</td><td>unknown</td><td>5</td><td>may</td><td>217</td><td>1</td><td>-1</td><td>0</td><td>unknown</td><td>no</td><td>null</td><td>null</td><td>null</td><td>null</td><td>null</td></tr>\n",
       "</table>\n"
      ],
      "text/plain": [
       "+---+------------+-------+---------+-------+-------+-------+----+-------+---+-----+--------+--------+-----+--------+--------+---+------------+--------------+-------------+----------+-----------+\n",
       "|age|         job|marital|education|default|balance|housing|loan|contact|day|month|duration|campaign|pdays|previous|poutcome|  y|emp_var_rate|cons_price_idx|cons_conf_idx|euribor_3m|nr_employed|\n",
       "+---+------------+-------+---------+-------+-------+-------+----+-------+---+-----+--------+--------+-----+--------+--------+---+------------+--------------+-------------+----------+-----------+\n",
       "| 58|  management|married| tertiary|     no|   2143|    yes|  no|unknown|  5|  may|     261|       1|   -1|       0| unknown| no|        null|          null|         null|      null|       null|\n",
       "| 44|  technician| single|secondary|     no|     29|    yes|  no|unknown|  5|  may|     151|       1|   -1|       0| unknown| no|        null|          null|         null|      null|       null|\n",
       "| 33|entrepreneur|married|secondary|     no|      2|    yes| yes|unknown|  5|  may|      76|       1|   -1|       0| unknown| no|        null|          null|         null|      null|       null|\n",
       "| 47| blue-collar|married|  unknown|     no|   1506|    yes|  no|unknown|  5|  may|      92|       1|   -1|       0| unknown| no|        null|          null|         null|      null|       null|\n",
       "| 33|     unknown| single|  unknown|     no|      1|     no|  no|unknown|  5|  may|     198|       1|   -1|       0| unknown| no|        null|          null|         null|      null|       null|\n",
       "| 35|  management|married| tertiary|     no|    231|    yes|  no|unknown|  5|  may|     139|       1|   -1|       0| unknown| no|        null|          null|         null|      null|       null|\n",
       "| 28|  management| single| tertiary|     no|    447|    yes| yes|unknown|  5|  may|     217|       1|   -1|       0| unknown| no|        null|          null|         null|      null|       null|\n",
       "+---+------------+-------+---------+-------+-------+-------+----+-------+---+-----+--------+--------+-----+--------+--------+---+------------+--------------+-------------+----------+-----------+"
      ]
     },
     "metadata": {},
     "output_type": "display_data"
    }
   ],
   "source": [
    "display(bank_full.limit(7))"
   ]
  },
  {
   "cell_type": "markdown",
   "id": "5b8c71d8",
   "metadata": {},
   "source": [
    "### Dropping the balance column"
   ]
  },
  {
   "cell_type": "code",
   "execution_count": 12,
   "id": "440650dc",
   "metadata": {},
   "outputs": [
    {
     "data": {
      "text/html": [
       "<table border='1'>\n",
       "<tr><th>age</th><th>job</th><th>marital</th><th>education</th><th>default</th><th>housing</th><th>loan</th><th>contact</th><th>day</th><th>month</th><th>duration</th><th>campaign</th><th>pdays</th><th>previous</th><th>poutcome</th><th>y</th><th>emp_var_rate</th><th>cons_price_idx</th><th>cons_conf_idx</th><th>euribor_3m</th><th>nr_employed</th></tr>\n",
       "<tr><td>58</td><td>management</td><td>married</td><td>tertiary</td><td>no</td><td>yes</td><td>no</td><td>unknown</td><td>5</td><td>may</td><td>261</td><td>1</td><td>-1</td><td>0</td><td>unknown</td><td>no</td><td>null</td><td>null</td><td>null</td><td>null</td><td>null</td></tr>\n",
       "<tr><td>44</td><td>technician</td><td>single</td><td>secondary</td><td>no</td><td>yes</td><td>no</td><td>unknown</td><td>5</td><td>may</td><td>151</td><td>1</td><td>-1</td><td>0</td><td>unknown</td><td>no</td><td>null</td><td>null</td><td>null</td><td>null</td><td>null</td></tr>\n",
       "<tr><td>33</td><td>entrepreneur</td><td>married</td><td>secondary</td><td>no</td><td>yes</td><td>yes</td><td>unknown</td><td>5</td><td>may</td><td>76</td><td>1</td><td>-1</td><td>0</td><td>unknown</td><td>no</td><td>null</td><td>null</td><td>null</td><td>null</td><td>null</td></tr>\n",
       "</table>\n"
      ],
      "text/plain": [
       "+---+------------+-------+---------+-------+-------+----+-------+---+-----+--------+--------+-----+--------+--------+---+------------+--------------+-------------+----------+-----------+\n",
       "|age|         job|marital|education|default|housing|loan|contact|day|month|duration|campaign|pdays|previous|poutcome|  y|emp_var_rate|cons_price_idx|cons_conf_idx|euribor_3m|nr_employed|\n",
       "+---+------------+-------+---------+-------+-------+----+-------+---+-----+--------+--------+-----+--------+--------+---+------------+--------------+-------------+----------+-----------+\n",
       "| 58|  management|married| tertiary|     no|    yes|  no|unknown|  5|  may|     261|       1|   -1|       0| unknown| no|        null|          null|         null|      null|       null|\n",
       "| 44|  technician| single|secondary|     no|    yes|  no|unknown|  5|  may|     151|       1|   -1|       0| unknown| no|        null|          null|         null|      null|       null|\n",
       "| 33|entrepreneur|married|secondary|     no|    yes| yes|unknown|  5|  may|      76|       1|   -1|       0| unknown| no|        null|          null|         null|      null|       null|\n",
       "+---+------------+-------+---------+-------+-------+----+-------+---+-----+--------+--------+-----+--------+--------+---+------------+--------------+-------------+----------+-----------+"
      ]
     },
     "execution_count": 12,
     "metadata": {},
     "output_type": "execute_result"
    }
   ],
   "source": [
    "bank_full.drop(\"balance\").limit(3)"
   ]
  },
  {
   "cell_type": "code",
   "execution_count": 13,
   "id": "7fec1c59",
   "metadata": {},
   "outputs": [
    {
     "data": {
      "text/html": [
       "<table border='1'>\n",
       "<tr><th>age</th><th>job</th><th>marital</th><th>education</th><th>default</th><th>balance</th><th>housing</th><th>loan</th><th>contact</th><th>day</th><th>month</th><th>duration</th><th>campaign</th><th>pdays</th><th>previous</th><th>poutcome</th><th>y</th><th>emp_var_rate</th><th>cons_price_idx</th><th>cons_conf_idx</th><th>euribor_3m</th><th>nr_employed</th></tr>\n",
       "<tr><td>58</td><td>management</td><td>married</td><td>tertiary</td><td>no</td><td>2143</td><td>yes</td><td>no</td><td>unknown</td><td>5</td><td>may</td><td>261</td><td>1</td><td>-1</td><td>0</td><td>unknown</td><td>no</td><td>null</td><td>null</td><td>null</td><td>null</td><td>null</td></tr>\n",
       "<tr><td>44</td><td>technician</td><td>single</td><td>secondary</td><td>no</td><td>29</td><td>yes</td><td>no</td><td>unknown</td><td>5</td><td>may</td><td>151</td><td>1</td><td>-1</td><td>0</td><td>unknown</td><td>no</td><td>null</td><td>null</td><td>null</td><td>null</td><td>null</td></tr>\n",
       "<tr><td>33</td><td>entrepreneur</td><td>married</td><td>secondary</td><td>no</td><td>2</td><td>yes</td><td>yes</td><td>unknown</td><td>5</td><td>may</td><td>76</td><td>1</td><td>-1</td><td>0</td><td>unknown</td><td>no</td><td>null</td><td>null</td><td>null</td><td>null</td><td>null</td></tr>\n",
       "<tr><td>47</td><td>blue-collar</td><td>married</td><td>unknown</td><td>no</td><td>1506</td><td>yes</td><td>no</td><td>unknown</td><td>5</td><td>may</td><td>92</td><td>1</td><td>-1</td><td>0</td><td>unknown</td><td>no</td><td>null</td><td>null</td><td>null</td><td>null</td><td>null</td></tr>\n",
       "<tr><td>33</td><td>unknown</td><td>single</td><td>unknown</td><td>no</td><td>1</td><td>no</td><td>no</td><td>unknown</td><td>5</td><td>may</td><td>198</td><td>1</td><td>-1</td><td>0</td><td>unknown</td><td>no</td><td>null</td><td>null</td><td>null</td><td>null</td><td>null</td></tr>\n",
       "</table>\n"
      ],
      "text/plain": [
       "+---+------------+-------+---------+-------+-------+-------+----+-------+---+-----+--------+--------+-----+--------+--------+---+------------+--------------+-------------+----------+-----------+\n",
       "|age|         job|marital|education|default|balance|housing|loan|contact|day|month|duration|campaign|pdays|previous|poutcome|  y|emp_var_rate|cons_price_idx|cons_conf_idx|euribor_3m|nr_employed|\n",
       "+---+------------+-------+---------+-------+-------+-------+----+-------+---+-----+--------+--------+-----+--------+--------+---+------------+--------------+-------------+----------+-----------+\n",
       "| 58|  management|married| tertiary|     no|   2143|    yes|  no|unknown|  5|  may|     261|       1|   -1|       0| unknown| no|        null|          null|         null|      null|       null|\n",
       "| 44|  technician| single|secondary|     no|     29|    yes|  no|unknown|  5|  may|     151|       1|   -1|       0| unknown| no|        null|          null|         null|      null|       null|\n",
       "| 33|entrepreneur|married|secondary|     no|      2|    yes| yes|unknown|  5|  may|      76|       1|   -1|       0| unknown| no|        null|          null|         null|      null|       null|\n",
       "| 47| blue-collar|married|  unknown|     no|   1506|    yes|  no|unknown|  5|  may|      92|       1|   -1|       0| unknown| no|        null|          null|         null|      null|       null|\n",
       "| 33|     unknown| single|  unknown|     no|      1|     no|  no|unknown|  5|  may|     198|       1|   -1|       0| unknown| no|        null|          null|         null|      null|       null|\n",
       "+---+------------+-------+---------+-------+-------+-------+----+-------+---+-----+--------+--------+-----+--------+--------+---+------------+--------------+-------------+----------+-----------+"
      ]
     },
     "metadata": {},
     "output_type": "display_data"
    }
   ],
   "source": [
    "display(bank_full.limit(5))"
   ]
  },
  {
   "cell_type": "markdown",
   "id": "9da6794c",
   "metadata": {},
   "source": [
    "### Adding year mapper function to add year in DataFrame bank_full"
   ]
  },
  {
   "cell_type": "code",
   "execution_count": 18,
   "id": "5cf2845b",
   "metadata": {},
   "outputs": [
    {
     "name": "stdout",
     "output_type": "stream",
     "text": [
      "\n",
      "Note: you may need to restart the kernel to use updated packages.\n"
     ]
    },
    {
     "name": "stderr",
     "output_type": "stream",
     "text": [
      "\n",
      "\n",
      "==> WARNING: A newer version of conda exists. <==\n",
      "  current version: 22.9.0\n",
      "  latest version: 23.1.0\n",
      "\n",
      "Please update conda by running\n",
      "\n",
      "    $ conda update -n base -c defaults conda\n",
      "\n",
      "\n"
     ]
    }
   ],
   "source": [
    "conda install pyarrow>1.0.0"
   ]
  },
  {
   "cell_type": "code",
   "execution_count": 14,
   "id": "9a5e1a08",
   "metadata": {},
   "outputs": [
    {
     "ename": "ImportError",
     "evalue": "PyArrow >= 1.0.0 must be installed; however, it was not found.",
     "output_type": "error",
     "traceback": [
      "\u001b[1;31m---------------------------------------------------------------------------\u001b[0m",
      "\u001b[1;31mImportError\u001b[0m                               Traceback (most recent call last)",
      "File \u001b[1;32m~\\AppData\\Roaming\\Python\\Python39\\site-packages\\pyspark\\sql\\pandas\\utils.py:53\u001b[0m, in \u001b[0;36mrequire_minimum_pyarrow_version\u001b[1;34m()\u001b[0m\n\u001b[0;32m     52\u001b[0m \u001b[38;5;28;01mtry\u001b[39;00m:\n\u001b[1;32m---> 53\u001b[0m     \u001b[38;5;28;01mimport\u001b[39;00m \u001b[38;5;21;01mpyarrow\u001b[39;00m\n\u001b[0;32m     55\u001b[0m     have_arrow \u001b[38;5;241m=\u001b[39m \u001b[38;5;28;01mTrue\u001b[39;00m\n",
      "File \u001b[1;32m~\\.conda\\envs\\demo\\lib\\site-packages\\pyarrow\\__init__.py:65\u001b[0m\n\u001b[0;32m     64\u001b[0m _gc\u001b[38;5;241m.\u001b[39mdisable()\n\u001b[1;32m---> 65\u001b[0m \u001b[38;5;28;01mimport\u001b[39;00m \u001b[38;5;21;01mpyarrow\u001b[39;00m\u001b[38;5;21;01m.\u001b[39;00m\u001b[38;5;21;01mlib\u001b[39;00m \u001b[38;5;28;01mas\u001b[39;00m \u001b[38;5;21;01m_lib\u001b[39;00m\n\u001b[0;32m     66\u001b[0m \u001b[38;5;28;01mif\u001b[39;00m _gc_enabled:\n",
      "\u001b[1;31mImportError\u001b[0m: DLL load failed while importing lib: The specified procedure could not be found.",
      "\nThe above exception was the direct cause of the following exception:\n",
      "\u001b[1;31mImportError\u001b[0m                               Traceback (most recent call last)",
      "Cell \u001b[1;32mIn[14], line 3\u001b[0m\n\u001b[0;32m      1\u001b[0m \u001b[38;5;28;01mimport\u001b[39;00m \u001b[38;5;21;01mpandas\u001b[39;00m \u001b[38;5;28;01mas\u001b[39;00m \u001b[38;5;21;01mpd\u001b[39;00m\n\u001b[0;32m      2\u001b[0m \u001b[38;5;28;01mfrom\u001b[39;00m \u001b[38;5;21;01mpyspark\u001b[39;00m\u001b[38;5;21;01m.\u001b[39;00m\u001b[38;5;21;01msql\u001b[39;00m\u001b[38;5;21;01m.\u001b[39;00m\u001b[38;5;21;01mfunctions\u001b[39;00m \u001b[38;5;28;01mimport\u001b[39;00m col\n\u001b[1;32m----> 3\u001b[0m \u001b[38;5;28;01mimport\u001b[39;00m \u001b[38;5;21;01mpyspark\u001b[39;00m\u001b[38;5;21;01m.\u001b[39;00m\u001b[38;5;21;01mpandas\u001b[39;00m \u001b[38;5;28;01mas\u001b[39;00m \u001b[38;5;21;01mps\u001b[39;00m\n\u001b[0;32m      4\u001b[0m \u001b[38;5;28;01mimport\u001b[39;00m \u001b[38;5;21;01mwarnings\u001b[39;00m\n",
      "File \u001b[1;32m~\\AppData\\Roaming\\Python\\Python39\\site-packages\\pyspark\\pandas\\__init__.py:34\u001b[0m\n\u001b[0;32m     32\u001b[0m \u001b[38;5;28;01mtry\u001b[39;00m:\n\u001b[0;32m     33\u001b[0m     require_minimum_pandas_version()\n\u001b[1;32m---> 34\u001b[0m     \u001b[43mrequire_minimum_pyarrow_version\u001b[49m\u001b[43m(\u001b[49m\u001b[43m)\u001b[49m\n\u001b[0;32m     35\u001b[0m \u001b[38;5;28;01mexcept\u001b[39;00m \u001b[38;5;167;01mImportError\u001b[39;00m \u001b[38;5;28;01mas\u001b[39;00m e:\n\u001b[0;32m     36\u001b[0m     \u001b[38;5;28;01mif\u001b[39;00m os\u001b[38;5;241m.\u001b[39menviron\u001b[38;5;241m.\u001b[39mget(\u001b[38;5;124m\"\u001b[39m\u001b[38;5;124mSPARK_TESTING\u001b[39m\u001b[38;5;124m\"\u001b[39m):\n",
      "File \u001b[1;32m~\\AppData\\Roaming\\Python\\Python39\\site-packages\\pyspark\\sql\\pandas\\utils.py:60\u001b[0m, in \u001b[0;36mrequire_minimum_pyarrow_version\u001b[1;34m()\u001b[0m\n\u001b[0;32m     58\u001b[0m     raised_error \u001b[38;5;241m=\u001b[39m error\n\u001b[0;32m     59\u001b[0m \u001b[38;5;28;01mif\u001b[39;00m \u001b[38;5;129;01mnot\u001b[39;00m have_arrow:\n\u001b[1;32m---> 60\u001b[0m     \u001b[38;5;28;01mraise\u001b[39;00m \u001b[38;5;167;01mImportError\u001b[39;00m(\n\u001b[0;32m     61\u001b[0m         \u001b[38;5;124m\"\u001b[39m\u001b[38;5;124mPyArrow >= \u001b[39m\u001b[38;5;132;01m%s\u001b[39;00m\u001b[38;5;124m must be installed; however, \u001b[39m\u001b[38;5;124m\"\u001b[39m\n\u001b[0;32m     62\u001b[0m         \u001b[38;5;124m\"\u001b[39m\u001b[38;5;124mit was not found.\u001b[39m\u001b[38;5;124m\"\u001b[39m \u001b[38;5;241m%\u001b[39m minimum_pyarrow_version\n\u001b[0;32m     63\u001b[0m     ) \u001b[38;5;28;01mfrom\u001b[39;00m \u001b[38;5;21;01mraised_error\u001b[39;00m\n\u001b[0;32m     64\u001b[0m \u001b[38;5;28;01mif\u001b[39;00m LooseVersion(pyarrow\u001b[38;5;241m.\u001b[39m__version__) \u001b[38;5;241m<\u001b[39m LooseVersion(minimum_pyarrow_version):\n\u001b[0;32m     65\u001b[0m     \u001b[38;5;28;01mraise\u001b[39;00m \u001b[38;5;167;01mImportError\u001b[39;00m(\n\u001b[0;32m     66\u001b[0m         \u001b[38;5;124m\"\u001b[39m\u001b[38;5;124mPyArrow >= \u001b[39m\u001b[38;5;132;01m%s\u001b[39;00m\u001b[38;5;124m must be installed; however, \u001b[39m\u001b[38;5;124m\"\u001b[39m\n\u001b[0;32m     67\u001b[0m         \u001b[38;5;124m\"\u001b[39m\u001b[38;5;124myour version was \u001b[39m\u001b[38;5;132;01m%s\u001b[39;00m\u001b[38;5;124m.\u001b[39m\u001b[38;5;124m\"\u001b[39m \u001b[38;5;241m%\u001b[39m (minimum_pyarrow_version, pyarrow\u001b[38;5;241m.\u001b[39m__version__)\n\u001b[0;32m     68\u001b[0m     )\n",
      "\u001b[1;31mImportError\u001b[0m: PyArrow >= 1.0.0 must be installed; however, it was not found."
     ]
    }
   ],
   "source": [
    "import pandas as pd\n",
    "from pyspark.sql.functions import col\n",
    "import pyspark.pandas as ps\n",
    "import warnings"
   ]
  },
  {
   "cell_type": "code",
   "execution_count": 12,
   "id": "0c089918",
   "metadata": {},
   "outputs": [],
   "source": [
    "def year_mapper(data, start_yr, end_yr):\n",
    "    month_lst = [\"jan\", \"feb\", \"mar\", \"apr\", \"may\", \"jun\", \"jul\", \"aug\", \"sep\", \"oct\", \"nov\", \"dec\"]\n",
    "\n",
    "    # Make a copy of the original dataframe\n",
    "    new_data = data.copy()\n",
    "\n",
    "    # Insert a new \"year\" column filled with zeros\n",
    "    new_data.insert(loc=0, column=\"year\", value=0)\n",
    "\n",
    "    # Set the first year to the start year\n",
    "    current_year = int(start_yr)\n",
    "    new_data.at[0, \"year\"] = current_year\n",
    "\n",
    "    # Loop through the rows of the dataframe, updating the year column when the month changes\n",
    "    for i in range(1, len(new_data)):\n",
    "        # If the current month is earlier in the year than the previous month, increment the year\n",
    "        if month_lst.index(new_data[\"month\"][i]) < month_lst.index(new_data[\"month\"][i-1]):\n",
    "            current_year += 1\n",
    "\n",
    "        new_data.at[i, \"year\"] = current_year\n",
    "\n",
    "        # If the current year exceeds the end year, break out of the loop\n",
    "        if current_year > end_yr:\n",
    "            break\n",
    "\n",
    "    return new_data"
   ]
  },
  {
   "cell_type": "code",
   "execution_count": 13,
   "id": "4d71d5f8",
   "metadata": {},
   "outputs": [
    {
     "ename": "ImportError",
     "evalue": "PyArrow >= 1.0.0 must be installed; however, it was not found.",
     "output_type": "error",
     "traceback": [
      "\u001b[1;31m---------------------------------------------------------------------------\u001b[0m",
      "\u001b[1;31mModuleNotFoundError\u001b[0m                       Traceback (most recent call last)",
      "\u001b[1;32m~\\AppData\\Roaming\\Python\\Python39\\site-packages\\pyspark\\sql\\pandas\\utils.py\u001b[0m in \u001b[0;36mrequire_minimum_pyarrow_version\u001b[1;34m()\u001b[0m\n\u001b[0;32m     52\u001b[0m     \u001b[1;32mtry\u001b[0m\u001b[1;33m:\u001b[0m\u001b[1;33m\u001b[0m\u001b[1;33m\u001b[0m\u001b[0m\n\u001b[1;32m---> 53\u001b[1;33m         \u001b[1;32mimport\u001b[0m \u001b[0mpyarrow\u001b[0m\u001b[1;33m\u001b[0m\u001b[1;33m\u001b[0m\u001b[0m\n\u001b[0m\u001b[0;32m     54\u001b[0m \u001b[1;33m\u001b[0m\u001b[0m\n",
      "\u001b[1;31mModuleNotFoundError\u001b[0m: No module named 'pyarrow'",
      "\nThe above exception was the direct cause of the following exception:\n",
      "\u001b[1;31mImportError\u001b[0m                               Traceback (most recent call last)",
      "\u001b[1;32m~\\AppData\\Local\\Temp\\ipykernel_72\\254474387.py\u001b[0m in \u001b[0;36m<module>\u001b[1;34m\u001b[0m\n\u001b[0;32m      1\u001b[0m \u001b[1;32mimport\u001b[0m \u001b[0mpandas\u001b[0m \u001b[1;32mas\u001b[0m \u001b[0mpd\u001b[0m\u001b[1;33m\u001b[0m\u001b[1;33m\u001b[0m\u001b[0m\n\u001b[0;32m      2\u001b[0m \u001b[1;32mfrom\u001b[0m \u001b[0mpyspark\u001b[0m\u001b[1;33m.\u001b[0m\u001b[0msql\u001b[0m\u001b[1;33m.\u001b[0m\u001b[0mfunctions\u001b[0m \u001b[1;32mimport\u001b[0m \u001b[0mcol\u001b[0m\u001b[1;33m\u001b[0m\u001b[1;33m\u001b[0m\u001b[0m\n\u001b[1;32m----> 3\u001b[1;33m \u001b[1;32mimport\u001b[0m \u001b[0mpyspark\u001b[0m\u001b[1;33m.\u001b[0m\u001b[0mpandas\u001b[0m \u001b[1;32mas\u001b[0m \u001b[0mps\u001b[0m\u001b[1;33m\u001b[0m\u001b[1;33m\u001b[0m\u001b[0m\n\u001b[0m\u001b[0;32m      4\u001b[0m \u001b[0mprev\u001b[0m \u001b[1;33m=\u001b[0m \u001b[0mspark\u001b[0m\u001b[1;33m.\u001b[0m\u001b[0mconf\u001b[0m\u001b[1;33m.\u001b[0m\u001b[0mget\u001b[0m\u001b[1;33m(\u001b[0m\u001b[1;34m\"spark.sql.execution.arrow.pyspark.enabled\"\u001b[0m\u001b[1;33m)\u001b[0m  \u001b[1;31m# Keep its default value.\u001b[0m\u001b[1;33m\u001b[0m\u001b[1;33m\u001b[0m\u001b[0m\n\u001b[0;32m      5\u001b[0m \u001b[0mps\u001b[0m\u001b[1;33m.\u001b[0m\u001b[0mset_option\u001b[0m\u001b[1;33m(\u001b[0m\u001b[1;34m\"compute.default_index_type\"\u001b[0m\u001b[1;33m,\u001b[0m \u001b[1;34m\"distributed\"\u001b[0m\u001b[1;33m)\u001b[0m  \u001b[1;31m# Use default index prevent overhead.\u001b[0m\u001b[1;33m\u001b[0m\u001b[1;33m\u001b[0m\u001b[0m\n",
      "\u001b[1;32m~\\AppData\\Roaming\\Python\\Python39\\site-packages\\pyspark\\pandas\\__init__.py\u001b[0m in \u001b[0;36m<module>\u001b[1;34m\u001b[0m\n\u001b[0;32m     32\u001b[0m \u001b[1;32mtry\u001b[0m\u001b[1;33m:\u001b[0m\u001b[1;33m\u001b[0m\u001b[1;33m\u001b[0m\u001b[0m\n\u001b[0;32m     33\u001b[0m     \u001b[0mrequire_minimum_pandas_version\u001b[0m\u001b[1;33m(\u001b[0m\u001b[1;33m)\u001b[0m\u001b[1;33m\u001b[0m\u001b[1;33m\u001b[0m\u001b[0m\n\u001b[1;32m---> 34\u001b[1;33m     \u001b[0mrequire_minimum_pyarrow_version\u001b[0m\u001b[1;33m(\u001b[0m\u001b[1;33m)\u001b[0m\u001b[1;33m\u001b[0m\u001b[1;33m\u001b[0m\u001b[0m\n\u001b[0m\u001b[0;32m     35\u001b[0m \u001b[1;32mexcept\u001b[0m \u001b[0mImportError\u001b[0m \u001b[1;32mas\u001b[0m \u001b[0me\u001b[0m\u001b[1;33m:\u001b[0m\u001b[1;33m\u001b[0m\u001b[1;33m\u001b[0m\u001b[0m\n\u001b[0;32m     36\u001b[0m     \u001b[1;32mif\u001b[0m \u001b[0mos\u001b[0m\u001b[1;33m.\u001b[0m\u001b[0menviron\u001b[0m\u001b[1;33m.\u001b[0m\u001b[0mget\u001b[0m\u001b[1;33m(\u001b[0m\u001b[1;34m\"SPARK_TESTING\"\u001b[0m\u001b[1;33m)\u001b[0m\u001b[1;33m:\u001b[0m\u001b[1;33m\u001b[0m\u001b[1;33m\u001b[0m\u001b[0m\n",
      "\u001b[1;32m~\\AppData\\Roaming\\Python\\Python39\\site-packages\\pyspark\\sql\\pandas\\utils.py\u001b[0m in \u001b[0;36mrequire_minimum_pyarrow_version\u001b[1;34m()\u001b[0m\n\u001b[0;32m     58\u001b[0m         \u001b[0mraised_error\u001b[0m \u001b[1;33m=\u001b[0m \u001b[0merror\u001b[0m\u001b[1;33m\u001b[0m\u001b[1;33m\u001b[0m\u001b[0m\n\u001b[0;32m     59\u001b[0m     \u001b[1;32mif\u001b[0m \u001b[1;32mnot\u001b[0m \u001b[0mhave_arrow\u001b[0m\u001b[1;33m:\u001b[0m\u001b[1;33m\u001b[0m\u001b[1;33m\u001b[0m\u001b[0m\n\u001b[1;32m---> 60\u001b[1;33m         raise ImportError(\n\u001b[0m\u001b[0;32m     61\u001b[0m             \u001b[1;34m\"PyArrow >= %s must be installed; however, \"\u001b[0m\u001b[1;33m\u001b[0m\u001b[1;33m\u001b[0m\u001b[0m\n\u001b[0;32m     62\u001b[0m             \u001b[1;34m\"it was not found.\"\u001b[0m \u001b[1;33m%\u001b[0m \u001b[0mminimum_pyarrow_version\u001b[0m\u001b[1;33m\u001b[0m\u001b[1;33m\u001b[0m\u001b[0m\n",
      "\u001b[1;31mImportError\u001b[0m: PyArrow >= 1.0.0 must be installed; however, it was not found."
     ]
    }
   ],
   "source": [
    "# Use default index prevent overhead.\n",
    "ps.set_option(\"compute.default_index_type\", \"distributed\") \n",
    "\n",
    "warnings.filterwarnings(\"ignore\")  # Ignore warnings coming from Arrow optimizations.\n",
    "\n",
    "# To speed up dataset processing\n",
    "spark.conf.set(\"spark.sql.execution.arrow.pyspark.enabled\", True)\n",
    "\n",
    "# Apply the function to the Pandas DataFrame\n",
    "new_pandas_df = year_mapper(pdf_2, 2008, 2010)\n",
    "\n",
    "# Convert the updated Pandas DataFrame back to a PySpark DataFrame\n",
    "bank_full_yr = spark.createDataFrame(new_pandas_df)\n",
    "\n",
    "bank_full_yr.show()"
   ]
  },
  {
   "cell_type": "code",
   "execution_count": null,
   "id": "72f81fb6",
   "metadata": {},
   "outputs": [],
   "source": [
    "result_bankfull = year_mapper( data = , start_yr = 2008)\n",
    "result_bankfull.head()"
   ]
  },
  {
   "cell_type": "code",
   "execution_count": null,
   "id": "06d7fadd",
   "metadata": {},
   "outputs": [],
   "source": []
  }
 ],
 "metadata": {
  "kernelspec": {
   "display_name": "Python 3 (ipykernel)",
   "language": "python",
   "name": "python3"
  },
  "language_info": {
   "codemirror_mode": {
    "name": "ipython",
    "version": 3
   },
   "file_extension": ".py",
   "mimetype": "text/x-python",
   "name": "python",
   "nbconvert_exporter": "python",
   "pygments_lexer": "ipython3",
   "version": "3.9.16"
  }
 },
 "nbformat": 4,
 "nbformat_minor": 5
}
