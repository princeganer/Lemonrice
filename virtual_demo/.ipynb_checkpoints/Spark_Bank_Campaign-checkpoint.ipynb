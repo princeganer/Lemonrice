{
 "cells": [
  {
   "cell_type": "code",
   "execution_count": null,
   "id": "705bd23d",
   "metadata": {},
   "outputs": [],
   "source": [
    "import pandas as pd\n",
    "import numpy as np\n",
    "from pyspark.sql import SparkSession\n",
    "from pyspark.sql.types import *\n",
    "import seaborn as sns\n",
    "import matplotlib.pyplot as plt\n",
    "from pyspark.sql.functions import when\n",
    "from pyspark.sql.functions import col, sum, count"
   ]
  },
  {
   "cell_type": "code",
   "execution_count": null,
   "id": "f8523fe6",
   "metadata": {},
   "outputs": [],
   "source": [
    "spark = SparkSession.builder.master('local[4]').appName('ml').getOrCreate()"
   ]
  },
  {
   "cell_type": "markdown",
   "id": "0b5fb2b3",
   "metadata": {},
   "source": [
    "### Bank Full (dataset-1)"
   ]
  },
  {
   "cell_type": "code",
   "execution_count": null,
   "id": "36bc5d86",
   "metadata": {},
   "outputs": [],
   "source": [
    "bank_full = spark.read.csv('bank-full.csv',header=True,inferSchema=True)"
   ]
  },
  {
   "cell_type": "code",
   "execution_count": null,
   "id": "588df899",
   "metadata": {},
   "outputs": [],
   "source": [
    "bank_full.count()"
   ]
  },
  {
   "cell_type": "code",
   "execution_count": null,
   "id": "4b019844",
   "metadata": {},
   "outputs": [],
   "source": [
    "display(bank_full.limit(5))"
   ]
  },
  {
   "cell_type": "code",
   "execution_count": null,
   "id": "13f2767a",
   "metadata": {},
   "outputs": [],
   "source": [
    "bank_full.printSchema()"
   ]
  },
  {
   "cell_type": "code",
   "execution_count": 7,
   "id": "58c29062",
   "metadata": {},
   "outputs": [],
   "source": [
    "new_cols = [\"emp_var_rate\", \"cons_price_idx\", \"cons_conf_idx\", \"euribor_3m\", \"nr_employed\"]\n",
    "for column in new_cols:\n",
    "    bank_full = bank_full.withColumn(column, bank_full[\"poutcome\"] + 1)"
   ]
  },
  {
   "cell_type": "code",
   "execution_count": 8,
   "id": "49f5afe8",
   "metadata": {},
   "outputs": [
    {
     "data": {
      "text/plain": [
       "DataFrame[age: int, job: string, marital: string, education: string, default: string, balance: int, housing: string, loan: string, contact: string, day: int, year: int, month: string, duration: int, campaign: int, pdays: int, previous: int, poutcome: string, y: string, emp_var_rate: double, cons_price_idx: double, cons_conf_idx: double, euribor_3m: double, nr_employed: double]"
      ]
     },
     "metadata": {},
     "output_type": "display_data"
    }
   ],
   "source": [
    "display(bank_full.limit(5))"
   ]
  },
  {
   "cell_type": "code",
   "execution_count": 9,
   "id": "cf1c4c40",
   "metadata": {},
   "outputs": [
    {
     "name": "stdout",
     "output_type": "stream",
     "text": [
      "+----+-----+\n",
      "|year|count|\n",
      "+----+-----+\n",
      "|2009|14862|\n",
      "|2010| 2620|\n",
      "|2008|27729|\n",
      "+----+-----+\n",
      "\n"
     ]
    }
   ],
   "source": [
    "counts = bank_full.groupBy(\"year\").count()\n",
    "counts.show()"
   ]
  },
  {
   "cell_type": "code",
   "execution_count": 10,
   "id": "5f098d17",
   "metadata": {},
   "outputs": [],
   "source": [
    "from pyspark.sql.types import IntegerType"
   ]
  },
  {
   "cell_type": "code",
   "execution_count": 11,
   "id": "a99ed907",
   "metadata": {},
   "outputs": [],
   "source": [
    "#new_data = bank_full"
   ]
  },
  {
   "cell_type": "markdown",
   "id": "548d7184",
   "metadata": {},
   "source": [
    "### Index mapper"
   ]
  },
  {
   "cell_type": "code",
   "execution_count": 38,
   "id": "618b6a7c",
   "metadata": {},
   "outputs": [],
   "source": [
    "def map_index(new_data):\n",
    "\n",
    "    index_2008 = {\"may\":{\"emp_var_rate\":1.1, \"cons_price_idx\":93.994, \"cons_conf_idx\":-36.4, \"euribor_3m\":4.85, \"nr_employed\":5191},\n",
    "                 \"jun\":{\"emp_var_rate\":1.4, \"cons_price_idx\":94.465, \"cons_conf_idx\":-41.8, \"euribor_3m\":4.86, \"nr_employed\":5228.1},\n",
    "                 \"jul\":{\"emp_var_rate\":1.4, \"cons_price_idx\":93.918, \"cons_conf_idx\":-42.7, \"euribor_3m\":4.96, \"nr_employed\":5228.1},\n",
    "                 \"aug\":{\"emp_var_rate\":1.4, \"cons_price_idx\":93.444, \"cons_conf_idx\":-36.1, \"euribor_3m\":4.965, \"nr_employed\":5228.1},\n",
    "                 \"oct\":{\"emp_var_rate\":-0.1, \"cons_price_idx\":93.798, \"cons_conf_idx\":-40.4, \"euribor_3m\":5, \"nr_employed\":5195.8},\n",
    "                 \"nov\":{\"emp_var_rate\":-0.1, \"cons_price_idx\":93.2, \"cons_conf_idx\":-42, \"euribor_3m\":4.406, \"nr_employed\":5195.8},\n",
    "                 \"dec\":{\"emp_var_rate\":-0.2, \"cons_price_idx\":92.75, \"cons_conf_idx\":-45.9, \"euribor_3m\":3.563, \"nr_employed\":5176.3}}\n",
    "\n",
    "    index_2009 = {\"jan\":{\"emp_var_rate\":-0.2, \"nr_employed\":5176.3},\n",
    "                  \"feb\":{\"emp_var_rate\":-0.2, \"nr_employed\":5176.3},\n",
    "                  \"mar\":{\"emp_var_rate\":-1.8, \"cons_price_idx\":92.84, \"cons_conf_idx\":-50, \"euribor_3m\":1.811, \"nr_employed\":5099.1},\n",
    "                  \"apr\":{\"emp_var_rate\":-1.8, \"cons_price_idx\":93.075, \"cons_conf_idx\":-47.1, \"euribor_3m\":1.498, \"nr_employed\":5099.1},\n",
    "                  \"may\":{\"emp_var_rate\":-1.8, \"cons_price_idx\":92.89, \"cons_conf_idx\":-46.2, \"euribor_3m\":1.334, \"nr_employed\":5099.1},\n",
    "                 \"jun\":{\"emp_var_rate\":-2.9, \"cons_price_idx\":92.963, \"cons_conf_idx\":-40.8, \"euribor_3m\":1.26, \"nr_employed\":5076.2},\n",
    "                 \"jul\":{\"emp_var_rate\":-2.9, \"cons_price_idx\":93.469, \"cons_conf_idx\":-33.6, \"euribor_3m\":1.072, \"nr_employed\":5076.2},\n",
    "                 \"aug\":{\"emp_var_rate\":-2.9, \"cons_price_idx\":92.201, \"cons_conf_idx\":-31.4, \"euribor_3m\":0.884, \"nr_employed\":5076.2},\n",
    "                 \"sep\":{\"emp_var_rate\":-3.4, \"cons_price_idx\":92.379, \"cons_conf_idx\":-29.8, \"euribor_3m\":0.813, \"nr_employed\":5017.5},\n",
    "                 \"oct\":{\"emp_var_rate\":-3.4, \"cons_price_idx\":92.431, \"cons_conf_idx\":-26.9, \"euribor_3m\":0.754, \"nr_employed\":5017.5},\n",
    "                 \"nov\":{\"emp_var_rate\":-3.4, \"cons_price_idx\":92.649, \"cons_conf_idx\":-30.1, \"euribor_3m\":0.722, \"nr_employed\":5017.5},\n",
    "                 \"dec\":{\"emp_var_rate\":-3, \"cons_price_idx\":92.713, \"cons_conf_idx\":-33, \"euribor_3m\":0.718, \"nr_employed\":5023.5}}\n",
    "\n",
    "    index_2010 = {\"jan\":{\"emp_var_rate\":-3, \"nr_employed\":5023.5},\n",
    "                  \"feb\":{\"emp_var_rate\":-3, \"nr_employed\":5023.5},\n",
    "                   \"mar\":{\"emp_var_rate\":-1.8, \"cons_price_idx\":92.369, \"cons_conf_idx\":-34.8, \"euribor_3m\":0.655, \"nr_employed\":5008.7},\n",
    "                  \"apr\":{\"emp_var_rate\":-1.8, \"cons_price_idx\":93.749, \"cons_conf_idx\":-34.6, \"euribor_3m\":0.64, \"nr_employed\":5008.7},\n",
    "                  \"may\":{\"emp_var_rate\":-1.8, \"cons_price_idx\":93.876, \"cons_conf_idx\":-40, \"euribor_3m\":0.668, \"nr_employed\":5008.7},\n",
    "                 \"jun\":{\"emp_var_rate\":-1.7, \"cons_price_idx\":94.055, \"cons_conf_idx\":-39.8, \"euribor_3m\":0.704, \"nr_employed\":4991.6},\n",
    "                 \"jul\":{\"emp_var_rate\":-1.7, \"cons_price_idx\":94.215, \"cons_conf_idx\":-40.3, \"euribor_3m\":0.79, \"nr_employed\":4991.6},\n",
    "                 \"aug\":{\"emp_var_rate\":-1.7, \"cons_price_idx\":94.027, \"cons_conf_idx\":-38.3, \"euribor_3m\":0.898, \"nr_employed\":4991.6},\n",
    "                 \"sep\":{\"emp_var_rate\":-1.1, \"cons_price_idx\":94.199, \"cons_conf_idx\":-37.5, \"euribor_3m\":0.886, \"nr_employed\":4963.6},\n",
    "                 \"oct\":{\"emp_var_rate\":-1.1, \"cons_price_idx\":94.601, \"cons_conf_idx\":-49.5, \"euribor_3m\":0.959, \"nr_employed\":4963.6},\n",
    "                 \"nov\":{\"emp_var_rate\":-1.1, \"cons_price_idx\":94.767, \"cons_conf_idx\":-50.8, \"euribor_3m\":1.05, \"nr_employed\":4963.6}}\n",
    "\n",
    "    indx = [index_2008, index_2009, index_2010]\n",
    "    years = [2008, 2009, 2010]\n",
    "    \n",
    "    for i in range(len(years)):\n",
    "        for months, indexes in indx[i].items():\n",
    "            for index, index_val in indexes.items():\n",
    "                new_data = new_data.withColumn(index, \n",
    "                    when((col('year') == years[i]) & (col('month') == months), index_val).otherwise(col(index))) \n",
    "    return new_data"
   ]
  },
  {
   "cell_type": "code",
   "execution_count": 13,
   "id": "0ce9ec22",
   "metadata": {},
   "outputs": [
    {
     "name": "stdout",
     "output_type": "stream",
     "text": [
      "+---+------------+-------+---------+-------+-------+-------+----+-------+---+----+-----+--------+--------+-----+--------+--------+---+------------+--------------+-------------+----------+-----------+\n",
      "|age|         job|marital|education|default|balance|housing|loan|contact|day|year|month|duration|campaign|pdays|previous|poutcome|  y|emp_var_rate|cons_price_idx|cons_conf_idx|euribor_3m|nr_employed|\n",
      "+---+------------+-------+---------+-------+-------+-------+----+-------+---+----+-----+--------+--------+-----+--------+--------+---+------------+--------------+-------------+----------+-----------+\n",
      "| 58|  management|married| tertiary|     no|   2143|    yes|  no|unknown|  5|2008|  may|     261|       1|   -1|       0| unknown| no|         1.1|        93.994|        -36.4|      4.85|     5191.0|\n",
      "| 44|  technician| single|secondary|     no|     29|    yes|  no|unknown|  5|2008|  may|     151|       1|   -1|       0| unknown| no|         1.1|        93.994|        -36.4|      4.85|     5191.0|\n",
      "| 33|entrepreneur|married|secondary|     no|      2|    yes| yes|unknown|  5|2008|  may|      76|       1|   -1|       0| unknown| no|         1.1|        93.994|        -36.4|      4.85|     5191.0|\n",
      "| 47| blue-collar|married|  unknown|     no|   1506|    yes|  no|unknown|  5|2008|  may|      92|       1|   -1|       0| unknown| no|         1.1|        93.994|        -36.4|      4.85|     5191.0|\n",
      "| 33|     unknown| single|  unknown|     no|      1|     no|  no|unknown|  5|2008|  may|     198|       1|   -1|       0| unknown| no|         1.1|        93.994|        -36.4|      4.85|     5191.0|\n",
      "+---+------------+-------+---------+-------+-------+-------+----+-------+---+----+-----+--------+--------+-----+--------+--------+---+------------+--------------+-------------+----------+-----------+\n",
      "only showing top 5 rows\n",
      "\n"
     ]
    }
   ],
   "source": [
    "bank_full = map_index(new_data = bank_full)\n",
    "bank_full.show(5)"
   ]
  },
  {
   "cell_type": "markdown",
   "id": "31352b58",
   "metadata": {},
   "source": [
    "### Bank Full Dataset (dataset-2)"
   ]
  },
  {
   "cell_type": "code",
   "execution_count": 14,
   "id": "2a348f2d",
   "metadata": {},
   "outputs": [],
   "source": [
    "bank_add_full = spark.read.csv('bank-additional-full.csv', header=True, inferSchema=True)"
   ]
  },
  {
   "cell_type": "code",
   "execution_count": 15,
   "id": "c59e7804",
   "metadata": {},
   "outputs": [
    {
     "name": "stdout",
     "output_type": "stream",
     "text": [
      "+---+---------+-------+-----------+-------+-------+----+---------+-----+----+-----------+--------+--------+-----+--------+-----------+------------+--------------+-------------+---------+-----------+---+\n",
      "|age|      job|marital|  education|default|housing|loan|  contact|month|year|day_of_week|duration|campaign|pdays|previous|   poutcome|emp.var.rate|cons.price.idx|cons.conf.idx|euribor3m|nr.employed|  y|\n",
      "+---+---------+-------+-----------+-------+-------+----+---------+-----+----+-----------+--------+--------+-----+--------+-----------+------------+--------------+-------------+---------+-----------+---+\n",
      "| 56|housemaid|married|   basic.4y|     no|     no|  no|telephone|  may|2008|        mon|     261|       1|  999|       0|nonexistent|         1.1|        93.994|        -36.4|    4.857|     5191.0| no|\n",
      "| 57| services|married|high.school|unknown|     no|  no|telephone|  may|2008|        mon|     149|       1|  999|       0|nonexistent|         1.1|        93.994|        -36.4|    4.857|     5191.0| no|\n",
      "| 37| services|married|high.school|     no|    yes|  no|telephone|  may|2008|        mon|     226|       1|  999|       0|nonexistent|         1.1|        93.994|        -36.4|    4.857|     5191.0| no|\n",
      "| 40|   admin.|married|   basic.6y|     no|     no|  no|telephone|  may|2008|        mon|     151|       1|  999|       0|nonexistent|         1.1|        93.994|        -36.4|    4.857|     5191.0| no|\n",
      "| 56| services|married|high.school|     no|     no| yes|telephone|  may|2008|        mon|     307|       1|  999|       0|nonexistent|         1.1|        93.994|        -36.4|    4.857|     5191.0| no|\n",
      "+---+---------+-------+-----------+-------+-------+----+---------+-----+----+-----------+--------+--------+-----+--------+-----------+------------+--------------+-------------+---------+-----------+---+\n",
      "only showing top 5 rows\n",
      "\n"
     ]
    }
   ],
   "source": [
    "bank_add_full.show(5)"
   ]
  },
  {
   "cell_type": "markdown",
   "id": "1dfe0c9f",
   "metadata": {},
   "source": [
    "### replace values from 999 to -1"
   ]
  },
  {
   "cell_type": "code",
   "execution_count": 16,
   "id": "1a5d7376",
   "metadata": {},
   "outputs": [],
   "source": [
    "bank_add_full = bank_add_full.withColumn(\"pdays\", when(col(\"pdays\") == 999, -1).otherwise(col(\"pdays\")))"
   ]
  },
  {
   "cell_type": "markdown",
   "id": "68cad9ea",
   "metadata": {},
   "source": [
    "### Renaming columns names and values"
   ]
  },
  {
   "cell_type": "code",
   "execution_count": 17,
   "id": "f9a230d6",
   "metadata": {},
   "outputs": [],
   "source": [
    "old_col_list = [\"emp.var.rate\", \"cons.price.idx\", \"cons.conf.idx\", \"euribor3m\", \"nr.employed\"]\n",
    "for i in range(0, len(old_col_list)):\n",
    "    bank_add_full = bank_add_full.withColumnRenamed(old_col_list[i], new_cols[i])"
   ]
  },
  {
   "cell_type": "code",
   "execution_count": 18,
   "id": "a19d60eb",
   "metadata": {},
   "outputs": [],
   "source": [
    "old_edu = [\"basic.4y\", \"high.school\", \"basic.6y\", \"basic.9y\", \"university.degree\", \"professional.course\"]\n",
    "new_edu = [\"basic_4y\", \"high_school\", \"basic_6y\", \"basic_9y\", \"university_degree\" ,\"professional_course\"]\n",
    "\n",
    "for i in range(0,6):\n",
    "    bank_add_full = bank_add_full.withColumn(\"education\", when(col(\"education\") == old_edu[i], new_edu[i]).otherwise(col(\"education\")))"
   ]
  },
  {
   "cell_type": "code",
   "execution_count": 19,
   "id": "614f823a",
   "metadata": {},
   "outputs": [],
   "source": [
    "bank_full = bank_full.drop(\"balance\", \"day\")"
   ]
  },
  {
   "cell_type": "code",
   "execution_count": 20,
   "id": "22410925",
   "metadata": {},
   "outputs": [],
   "source": [
    "bank_add_full = bank_add_full.drop(\"day_of_week\")"
   ]
  },
  {
   "cell_type": "markdown",
   "id": "713cefcd",
   "metadata": {},
   "source": [
    "## Concat two dataframes"
   ]
  },
  {
   "cell_type": "code",
   "execution_count": 21,
   "id": "b36e9923",
   "metadata": {},
   "outputs": [],
   "source": [
    "bank_data = bank_add_full.union(bank_full)"
   ]
  },
  {
   "cell_type": "code",
   "execution_count": 22,
   "id": "434c3282",
   "metadata": {},
   "outputs": [
    {
     "data": {
      "text/plain": [
       "86399"
      ]
     },
     "execution_count": 22,
     "metadata": {},
     "output_type": "execute_result"
    }
   ],
   "source": [
    "bank_data.count()"
   ]
  },
  {
   "cell_type": "code",
   "execution_count": 23,
   "id": "2420e529",
   "metadata": {},
   "outputs": [
    {
     "data": {
      "text/plain": [
       "DataFrame[summary: string, age: string, job: string, marital: string, education: string, default: string, housing: string, loan: string, contact: string, month: string, year: string, duration: string, campaign: string, pdays: string, previous: string, poutcome: string, emp_var_rate: string, cons_price_idx: string, cons_conf_idx: string, euribor_3m: string, nr_employed: string, y: string]"
      ]
     },
     "execution_count": 23,
     "metadata": {},
     "output_type": "execute_result"
    }
   ],
   "source": [
    "bank_data.summary()"
   ]
  },
  {
   "cell_type": "code",
   "execution_count": 24,
   "id": "41e1399b",
   "metadata": {},
   "outputs": [],
   "source": [
    "cat_col = [\"job\",\"marital\",\"education\",\"default\",\"housing\",\"loan\",\"contact\",\"month\",\"year\",\"poutcome\",\"y\"]\n",
    "cont_col = [\"age\",\"duration\",\"campaign\",\"pdays\",\"previous\",\"emp_var_rate\",\"cons_price_idx\",\"cons_conf_idx\",\"euribor_3m\",\"nr_employed\"]\n",
    "categories = bank_data.select(cat_col)\n",
    "continuous = bank_data.select(cont_col)"
   ]
  },
  {
   "cell_type": "markdown",
   "id": "012a8de0",
   "metadata": {},
   "source": [
    "### value counts"
   ]
  },
  {
   "cell_type": "code",
   "execution_count": 25,
   "id": "8b6b21ab",
   "metadata": {},
   "outputs": [
    {
     "name": "stdout",
     "output_type": "stream",
     "text": [
      "Column Name Column<'job'>\n",
      "-----------------------\n",
      "+-------------+-----+\n",
      "|          job|count|\n",
      "+-------------+-----+\n",
      "|   management|12382|\n",
      "|      retired| 3984|\n",
      "|      unknown|  618|\n",
      "|self-employed| 3000|\n",
      "|      student| 1813|\n",
      "|  blue-collar|18986|\n",
      "| entrepreneur| 2943|\n",
      "|       admin.|15593|\n",
      "|   technician|14340|\n",
      "|     services| 8123|\n",
      "|    housemaid| 2300|\n",
      "|   unemployed| 2317|\n",
      "+-------------+-----+\n",
      "\n",
      "     \n",
      "******************************************************\n",
      "     \n",
      "Column Name Column<'marital'>\n",
      "-----------------------\n",
      "+--------+-----+\n",
      "| marital|count|\n",
      "+--------+-----+\n",
      "| unknown|   80|\n",
      "|divorced| 9819|\n",
      "| married|52142|\n",
      "|  single|24358|\n",
      "+--------+-----+\n",
      "\n",
      "     \n",
      "******************************************************\n",
      "     \n",
      "Column Name Column<'education'>\n",
      "-----------------------\n",
      "+-------------------+-----+\n",
      "|          education|count|\n",
      "+-------------------+-----+\n",
      "|professional_course| 5243|\n",
      "|           basic_4y| 4176|\n",
      "|            unknown| 3588|\n",
      "|           basic_9y| 6045|\n",
      "|         illiterate|   18|\n",
      "|           basic_6y| 2292|\n",
      "|        high_school| 9515|\n",
      "|  university_degree|12168|\n",
      "|           tertiary|13301|\n",
      "|          secondary|23202|\n",
      "|            primary| 6851|\n",
      "+-------------------+-----+\n",
      "\n",
      "     \n",
      "******************************************************\n",
      "     \n",
      "Column Name Column<'default'>\n",
      "-----------------------\n",
      "+-------+-----+\n",
      "|default|count|\n",
      "+-------+-----+\n",
      "|unknown| 8597|\n",
      "|     no|76984|\n",
      "|    yes|  818|\n",
      "+-------+-----+\n",
      "\n",
      "     \n",
      "******************************************************\n",
      "     \n",
      "Column Name Column<'housing'>\n",
      "-----------------------\n",
      "+-------+-----+\n",
      "|housing|count|\n",
      "+-------+-----+\n",
      "|unknown|  990|\n",
      "|     no|38703|\n",
      "|    yes|46706|\n",
      "+-------+-----+\n",
      "\n",
      "     \n",
      "******************************************************\n",
      "     \n",
      "Column Name Column<'loan'>\n",
      "-----------------------\n",
      "+-------+-----+\n",
      "|   loan|count|\n",
      "+-------+-----+\n",
      "|unknown|  990|\n",
      "|     no|71917|\n",
      "|    yes|13492|\n",
      "+-------+-----+\n",
      "\n",
      "     \n",
      "******************************************************\n",
      "     \n",
      "Column Name Column<'contact'>\n",
      "-----------------------\n",
      "+---------+-----+\n",
      "|  contact|count|\n",
      "+---------+-----+\n",
      "| cellular|55429|\n",
      "|telephone|17950|\n",
      "|  unknown|13020|\n",
      "+---------+-----+\n",
      "\n",
      "     \n",
      "******************************************************\n",
      "     \n",
      "Column Name Column<'month'>\n",
      "-----------------------\n",
      "+-----+-----+\n",
      "|month|count|\n",
      "+-----+-----+\n",
      "|  jun| 5318|\n",
      "|  aug| 6178|\n",
      "|  may|13769|\n",
      "|  mar|  546|\n",
      "|  oct|  718|\n",
      "|  jul| 7174|\n",
      "|  nov| 4101|\n",
      "|  apr| 2632|\n",
      "|  dec|  182|\n",
      "|  sep|  570|\n",
      "| 2009|14862|\n",
      "| 2008|27729|\n",
      "| 2010| 2620|\n",
      "+-----+-----+\n",
      "\n",
      "     \n",
      "******************************************************\n",
      "     \n",
      "Column Name Column<'year'>\n",
      "-----------------------\n",
      "+----+-----+\n",
      "|year|count|\n",
      "+----+-----+\n",
      "|2009|11440|\n",
      "|2008|27690|\n",
      "|2010| 2058|\n",
      "| jun| 5341|\n",
      "| aug| 6247|\n",
      "| may|13766|\n",
      "| feb| 2649|\n",
      "| sep|  579|\n",
      "| mar|  477|\n",
      "| oct|  738|\n",
      "| jul| 6895|\n",
      "| nov| 3970|\n",
      "| apr| 2932|\n",
      "| dec|  214|\n",
      "| jan| 1403|\n",
      "+----+-----+\n",
      "\n",
      "     \n",
      "******************************************************\n",
      "     \n",
      "Column Name Column<'poutcome'>\n",
      "-----------------------\n",
      "+-----------+-----+\n",
      "|   poutcome|count|\n",
      "+-----------+-----+\n",
      "|    success| 2884|\n",
      "|    failure| 9153|\n",
      "|nonexistent|35563|\n",
      "|    unknown|36959|\n",
      "|      other| 1840|\n",
      "+-----------+-----+\n",
      "\n",
      "     \n",
      "******************************************************\n",
      "     \n",
      "Column Name Column<'y'>\n",
      "-----------------------\n",
      "+------+-----+\n",
      "|     y|count|\n",
      "+------+-----+\n",
      "|    no|36548|\n",
      "|   yes| 4640|\n",
      "|5176.3| 3485|\n",
      "|5228.1|16081|\n",
      "|5195.8| 3678|\n",
      "|5023.5|  781|\n",
      "|5099.1| 8551|\n",
      "|4991.6|  781|\n",
      "|4963.6|  592|\n",
      "|5076.2| 1621|\n",
      "|5008.7|  667|\n",
      "|5017.5| 1017|\n",
      "|5191.0| 7957|\n",
      "+------+-----+\n",
      "\n",
      "     \n",
      "******************************************************\n",
      "     \n"
     ]
    }
   ],
   "source": [
    "for columns in categories:\n",
    "    print(\"Column Name\", columns)\n",
    "    print(\"-----------------------\")\n",
    "    counts = bank_data.groupBy(columns).count()\n",
    "    counts.show()\n",
    "    print(\"     \")\n",
    "    print(\"******************************************************\")\n",
    "    print(\"     \")"
   ]
  },
  {
   "cell_type": "code",
   "execution_count": 32,
   "id": "4da98fd0",
   "metadata": {},
   "outputs": [],
   "source": [
    "bank_data = bank_data.withColumn(\"job\", when(col(\"job\") == \"admin.\", \"admin\").otherwise(col(\"job\")))"
   ]
  },
  {
   "cell_type": "code",
   "execution_count": 33,
   "id": "2086d989",
   "metadata": {},
   "outputs": [
    {
     "name": "stdout",
     "output_type": "stream",
     "text": [
      "+-------------+-----+\n",
      "|          job|count|\n",
      "+-------------+-----+\n",
      "|   management|12382|\n",
      "|      retired| 3984|\n",
      "|      unknown|  618|\n",
      "|self-employed| 3000|\n",
      "|      student| 1813|\n",
      "|  blue-collar|18986|\n",
      "| entrepreneur| 2943|\n",
      "|   technician|14340|\n",
      "|        admin|15593|\n",
      "|     services| 8123|\n",
      "|    housemaid| 2300|\n",
      "|   unemployed| 2317|\n",
      "+-------------+-----+\n",
      "\n"
     ]
    }
   ],
   "source": [
    "counts = bank_data.groupBy(\"job\").count()\n",
    "counts.show()"
   ]
  },
  {
   "cell_type": "code",
   "execution_count": 58,
   "id": "21f8b418",
   "metadata": {},
   "outputs": [],
   "source": [
    "for column in bank_data.columns:\n",
    "    bank_data = bank_data.withColumn(column, when(col(column).isin(\"unknown\", \"nonexistent\"), None).otherwise(col(column)))"
   ]
  },
  {
   "cell_type": "markdown",
   "id": "fc2594f1",
   "metadata": {},
   "source": [
    "### Checking for null values"
   ]
  },
  {
   "cell_type": "code",
   "execution_count": 81,
   "id": "aaa5a30b",
   "metadata": {},
   "outputs": [
    {
     "name": "stdout",
     "output_type": "stream",
     "text": [
      "+---+---+-------+---------+-------+-------+----+-------+-----+----+--------+--------+-----+--------+--------+------------+--------------+-------------+----------+-----------+---+\n",
      "|age|job|marital|education|default|housing|loan|contact|month|year|duration|campaign|pdays|previous|poutcome|emp_var_rate|cons_price_idx|cons_conf_idx|euribor_3m|nr_employed|  y|\n",
      "+---+---+-------+---------+-------+-------+----+-------+-----+----+--------+--------+-----+--------+--------+------------+--------------+-------------+----------+-----------+---+\n",
      "|  0|618|     80|     3588|   8597|    990| 990|  13020|    0|   0|       0|       0|    0|       0|   72522|           0|             0|         4052|      4052|       4052|  0|\n",
      "+---+---+-------+---------+-------+-------+----+-------+-----+----+--------+--------+-----+--------+--------+------------+--------------+-------------+----------+-----------+---+\n",
      "\n"
     ]
    }
   ],
   "source": [
    "bank_data.agg(*[count(when(col(c).isNull(), c)).alias(c) for c in bank_data.columns]).show()"
   ]
  },
  {
   "cell_type": "code",
   "execution_count": 87,
   "id": "809bfbce",
   "metadata": {},
   "outputs": [],
   "source": [
    "from pyspark.sql.functions import mean\n",
    "\n",
    "# calculate the mean of non-null values in columns col1 and col2\n",
    "mean_dict = bank_data.select(*(mean(c).alias(c) for c in cont_col)).first().asDict()\n",
    "\n",
    "# replace null values with the mean in columns col1 and col2\n",
    "bank_data = bank_data.fillna(mean_dict)"
   ]
  },
  {
   "cell_type": "code",
   "execution_count": 89,
   "id": "55a55409",
   "metadata": {},
   "outputs": [],
   "source": [
    "# calculate the mode of non-null values in columns col1 and col2\n",
    "mode_dict = bank_data.select([when(col(c).isNull(), None).otherwise(col(c)).alias(c) for c in cat_col])\\\n",
    "              .groupBy().agg(*[count(c).alias(c) for c in cat_col]).first().asDict()\n",
    "\n",
    "# replace null values with the mode in columns col1 and col2\n",
    "bank_data = bank_data.fillna(mode_dict)"
   ]
  },
  {
   "cell_type": "code",
   "execution_count": 90,
   "id": "df7192b6",
   "metadata": {},
   "outputs": [
    {
     "name": "stdout",
     "output_type": "stream",
     "text": [
      "+---+---+-------+---------+-------+-------+----+-------+-----+----+--------+--------+-----+--------+--------+------------+--------------+-------------+----------+-----------+---+\n",
      "|age|job|marital|education|default|housing|loan|contact|month|year|duration|campaign|pdays|previous|poutcome|emp_var_rate|cons_price_idx|cons_conf_idx|euribor_3m|nr_employed|  y|\n",
      "+---+---+-------+---------+-------+-------+----+-------+-----+----+--------+--------+-----+--------+--------+------------+--------------+-------------+----------+-----------+---+\n",
      "|  0|  0|      0|        0|      0|      0|   0|      0|    0|   0|       0|       0|    0|       0|       0|           0|             0|            0|         0|          0|  0|\n",
      "+---+---+-------+---------+-------+-------+----+-------+-----+----+--------+--------+-----+--------+--------+------------+--------------+-------------+----------+-----------+---+\n",
      "\n"
     ]
    }
   ],
   "source": [
    "bank_data.agg(*[count(when(col(c).isNull(), c)).alias(c) for c in bank_data.columns]).show()"
   ]
  },
  {
   "cell_type": "code",
   "execution_count": null,
   "id": "e9af1cee",
   "metadata": {},
   "outputs": [],
   "source": []
  }
 ],
 "metadata": {
  "kernelspec": {
   "display_name": "Python 3 (ipykernel)",
   "language": "python",
   "name": "python3"
  },
  "language_info": {
   "codemirror_mode": {
    "name": "ipython",
    "version": 3
   },
   "file_extension": ".py",
   "mimetype": "text/x-python",
   "name": "python",
   "nbconvert_exporter": "python",
   "pygments_lexer": "ipython3",
   "version": "3.9.16"
  }
 },
 "nbformat": 4,
 "nbformat_minor": 5
}
