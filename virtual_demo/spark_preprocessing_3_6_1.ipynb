{
 "cells": [
  {
   "cell_type": "code",
   "execution_count": 1,
   "id": "816794cd",
   "metadata": {},
   "outputs": [],
   "source": [
    "from pyspark.sql import SparkSession"
   ]
  },
  {
   "cell_type": "code",
   "execution_count": 2,
   "id": "ec95de62",
   "metadata": {},
   "outputs": [],
   "source": [
    "spark = SparkSession.builder.master('local').appName('preprocessing').getOrCreate()"
   ]
  },
  {
   "cell_type": "code",
   "execution_count": 3,
   "id": "86f8b7d4",
   "metadata": {},
   "outputs": [],
   "source": [
    "bank_full = spark.read.csv('bank-full.csv',sep = \";\",header=True,inferSchema=True)"
   ]
  },
  {
   "cell_type": "code",
   "execution_count": 4,
   "id": "2ede4369",
   "metadata": {},
   "outputs": [],
   "source": [
    "bank_full_copy  = bank_full.select(\"*\")"
   ]
  },
  {
   "cell_type": "code",
   "execution_count": 5,
   "id": "43ad5999",
   "metadata": {},
   "outputs": [
    {
     "name": "stdout",
     "output_type": "stream",
     "text": [
      "+---+------------+--------+---------+-------+-------+-------+----+-------+---+-----+--------+--------+-----+--------+--------+---+\n",
      "|age|         job| marital|education|default|balance|housing|loan|contact|day|month|duration|campaign|pdays|previous|poutcome|  y|\n",
      "+---+------------+--------+---------+-------+-------+-------+----+-------+---+-----+--------+--------+-----+--------+--------+---+\n",
      "| 58|  management| married| tertiary|     no|   2143|    yes|  no|unknown|  5|  may|     261|       1|   -1|       0| unknown| no|\n",
      "| 44|  technician|  single|secondary|     no|     29|    yes|  no|unknown|  5|  may|     151|       1|   -1|       0| unknown| no|\n",
      "| 33|entrepreneur| married|secondary|     no|      2|    yes| yes|unknown|  5|  may|      76|       1|   -1|       0| unknown| no|\n",
      "| 47| blue-collar| married|  unknown|     no|   1506|    yes|  no|unknown|  5|  may|      92|       1|   -1|       0| unknown| no|\n",
      "| 33|     unknown|  single|  unknown|     no|      1|     no|  no|unknown|  5|  may|     198|       1|   -1|       0| unknown| no|\n",
      "| 35|  management| married| tertiary|     no|    231|    yes|  no|unknown|  5|  may|     139|       1|   -1|       0| unknown| no|\n",
      "| 28|  management|  single| tertiary|     no|    447|    yes| yes|unknown|  5|  may|     217|       1|   -1|       0| unknown| no|\n",
      "| 42|entrepreneur|divorced| tertiary|    yes|      2|    yes|  no|unknown|  5|  may|     380|       1|   -1|       0| unknown| no|\n",
      "| 58|     retired| married|  primary|     no|    121|    yes|  no|unknown|  5|  may|      50|       1|   -1|       0| unknown| no|\n",
      "| 43|  technician|  single|secondary|     no|    593|    yes|  no|unknown|  5|  may|      55|       1|   -1|       0| unknown| no|\n",
      "| 41|      admin.|divorced|secondary|     no|    270|    yes|  no|unknown|  5|  may|     222|       1|   -1|       0| unknown| no|\n",
      "| 29|      admin.|  single|secondary|     no|    390|    yes|  no|unknown|  5|  may|     137|       1|   -1|       0| unknown| no|\n",
      "| 53|  technician| married|secondary|     no|      6|    yes|  no|unknown|  5|  may|     517|       1|   -1|       0| unknown| no|\n",
      "| 58|  technician| married|  unknown|     no|     71|    yes|  no|unknown|  5|  may|      71|       1|   -1|       0| unknown| no|\n",
      "| 57|    services| married|secondary|     no|    162|    yes|  no|unknown|  5|  may|     174|       1|   -1|       0| unknown| no|\n",
      "| 51|     retired| married|  primary|     no|    229|    yes|  no|unknown|  5|  may|     353|       1|   -1|       0| unknown| no|\n",
      "| 45|      admin.|  single|  unknown|     no|     13|    yes|  no|unknown|  5|  may|      98|       1|   -1|       0| unknown| no|\n",
      "| 57| blue-collar| married|  primary|     no|     52|    yes|  no|unknown|  5|  may|      38|       1|   -1|       0| unknown| no|\n",
      "| 60|     retired| married|  primary|     no|     60|    yes|  no|unknown|  5|  may|     219|       1|   -1|       0| unknown| no|\n",
      "| 33|    services| married|secondary|     no|      0|    yes|  no|unknown|  5|  may|      54|       1|   -1|       0| unknown| no|\n",
      "+---+------------+--------+---------+-------+-------+-------+----+-------+---+-----+--------+--------+-----+--------+--------+---+\n",
      "only showing top 20 rows\n",
      "\n"
     ]
    }
   ],
   "source": [
    "bank_full_copy.show()"
   ]
  },
  {
   "cell_type": "code",
   "execution_count": 6,
   "id": "fbea6427",
   "metadata": {},
   "outputs": [
    {
     "data": {
      "text/plain": [
       "45211"
      ]
     },
     "execution_count": 6,
     "metadata": {},
     "output_type": "execute_result"
    }
   ],
   "source": [
    "bank_full.count()"
   ]
  },
  {
   "cell_type": "code",
   "execution_count": 7,
   "id": "1cf9ff19",
   "metadata": {},
   "outputs": [
    {
     "name": "stdout",
     "output_type": "stream",
     "text": [
      "+---+------------+--------+---------+-------+-------+-------+----+-------+---+-----+--------+--------+-----+--------+--------+---+\n",
      "|age|         job| marital|education|default|balance|housing|loan|contact|day|month|duration|campaign|pdays|previous|poutcome|  y|\n",
      "+---+------------+--------+---------+-------+-------+-------+----+-------+---+-----+--------+--------+-----+--------+--------+---+\n",
      "| 58|  management| married| tertiary|     no|   2143|    yes|  no|unknown|  5|  may|     261|       1|   -1|       0| unknown| no|\n",
      "| 44|  technician|  single|secondary|     no|     29|    yes|  no|unknown|  5|  may|     151|       1|   -1|       0| unknown| no|\n",
      "| 33|entrepreneur| married|secondary|     no|      2|    yes| yes|unknown|  5|  may|      76|       1|   -1|       0| unknown| no|\n",
      "| 47| blue-collar| married|  unknown|     no|   1506|    yes|  no|unknown|  5|  may|      92|       1|   -1|       0| unknown| no|\n",
      "| 33|     unknown|  single|  unknown|     no|      1|     no|  no|unknown|  5|  may|     198|       1|   -1|       0| unknown| no|\n",
      "| 35|  management| married| tertiary|     no|    231|    yes|  no|unknown|  5|  may|     139|       1|   -1|       0| unknown| no|\n",
      "| 28|  management|  single| tertiary|     no|    447|    yes| yes|unknown|  5|  may|     217|       1|   -1|       0| unknown| no|\n",
      "| 42|entrepreneur|divorced| tertiary|    yes|      2|    yes|  no|unknown|  5|  may|     380|       1|   -1|       0| unknown| no|\n",
      "| 58|     retired| married|  primary|     no|    121|    yes|  no|unknown|  5|  may|      50|       1|   -1|       0| unknown| no|\n",
      "| 43|  technician|  single|secondary|     no|    593|    yes|  no|unknown|  5|  may|      55|       1|   -1|       0| unknown| no|\n",
      "| 41|      admin.|divorced|secondary|     no|    270|    yes|  no|unknown|  5|  may|     222|       1|   -1|       0| unknown| no|\n",
      "| 29|      admin.|  single|secondary|     no|    390|    yes|  no|unknown|  5|  may|     137|       1|   -1|       0| unknown| no|\n",
      "| 53|  technician| married|secondary|     no|      6|    yes|  no|unknown|  5|  may|     517|       1|   -1|       0| unknown| no|\n",
      "| 58|  technician| married|  unknown|     no|     71|    yes|  no|unknown|  5|  may|      71|       1|   -1|       0| unknown| no|\n",
      "| 57|    services| married|secondary|     no|    162|    yes|  no|unknown|  5|  may|     174|       1|   -1|       0| unknown| no|\n",
      "| 51|     retired| married|  primary|     no|    229|    yes|  no|unknown|  5|  may|     353|       1|   -1|       0| unknown| no|\n",
      "| 45|      admin.|  single|  unknown|     no|     13|    yes|  no|unknown|  5|  may|      98|       1|   -1|       0| unknown| no|\n",
      "| 57| blue-collar| married|  primary|     no|     52|    yes|  no|unknown|  5|  may|      38|       1|   -1|       0| unknown| no|\n",
      "| 60|     retired| married|  primary|     no|     60|    yes|  no|unknown|  5|  may|     219|       1|   -1|       0| unknown| no|\n",
      "| 33|    services| married|secondary|     no|      0|    yes|  no|unknown|  5|  may|      54|       1|   -1|       0| unknown| no|\n",
      "+---+------------+--------+---------+-------+-------+-------+----+-------+---+-----+--------+--------+-----+--------+--------+---+\n",
      "only showing top 20 rows\n",
      "\n"
     ]
    }
   ],
   "source": [
    "bank_full.show()"
   ]
  },
  {
   "cell_type": "markdown",
   "id": "4584cc40",
   "metadata": {},
   "source": [
    "from pyspark.sql.functions import col,lit, when\n",
    "month_lst = [\"jan\", \"feb\", \"mar\", \"apr\", \"may\", \"jun\", \"jul\", \"aug\", \"sep\", \"oct\", \"nov\", \"dec\"]\n",
    "new_data = bank_full.withColumn(\"year\", 2008)\n",
    "new_data = new_data.withColumn(\"year\", when(col(\"month\") == month_lst[0], 2008).otherwise(col(\"year\")))\n",
    "new_data.show()"
   ]
  },
  {
   "cell_type": "code",
   "execution_count": null,
   "id": "18887005",
   "metadata": {},
   "outputs": [],
   "source": [
    "def year_mapper(data, start_yr,end_yr):\n",
    "    from pyspark.sql.functions import when, col, monotonically_increasing_id\n",
    "    from pyspark.sql.window import Window\n",
    "    from pyspark.sql.functions import lag\n",
    "    month_lst = [\"jan\", \"feb\", \"mar\", \"apr\", \"may\", \"jun\", \"jul\", \"aug\", \"sep\", \"oct\", \"nov\", \"dec\"]\n",
    "\n",
    "    # Make a copy of the original dataframe\n",
    "    new_data = bank_full.select(\"*\")\n",
    "\n",
    "    # Insert a new \"year\" column filled with zeros\n",
    "    new_data = new_data.withColumn(\"year\", lit(0))\n",
    "    \n",
    "    # Select columns and move year column to desired index\n",
    "    columns = new_data.columns\n",
    "    columns.remove(\"year\")\n",
    "    columns.insert(10, \"year\") # 10 is index\n",
    "    new_data = new_data.select(*columns)\n",
    "\n",
    "    # Set the first year to the start year\n",
    "    current_year = int(start_yr)\n",
    "    new_data = new_data.withColumn(\"row_index\", monotonically_increasing_id())\n",
    "    \n",
    "    # set the value of the first row's year column to 2050\n",
    "    new_data = new_data.withColumn(\"year\", when(col(\"row_index\") == 0, current_year).otherwise(col(\"year\")))\n",
    "    \n",
    "    for i in range(1,len(new_data.collect()[1:])):\n",
    "        # If the current month is earlier in the year than the previous month, increment the year\n",
    "        if month_lst.index(new_data.filter(new_data.row_index == i).collect()[0][\"month\"]) < month_lst.index(new_data.filter(new_data.row_index == i-1).collect()[0][\"month\"]):\n",
    "            current_year += 1\n",
    "\n",
    "        new_data = new_data.withColumn(\"year\", when(col(\"row_index\") == i, current_year).otherwise(col(\"year\")))\n",
    "\n",
    "        # If the current year exceeds the end year, break out of the loop\n",
    "        if current_year > end_yr:\n",
    "            break\n",
    "            \n",
    "    return new_data.drop(\"row_index\")"
   ]
  },
  {
   "cell_type": "code",
   "execution_count": null,
   "id": "f883c2d1",
   "metadata": {},
   "outputs": [],
   "source": [
    "bank_full_yr.select([\"month\"])"
   ]
  },
  {
   "cell_type": "code",
   "execution_count": null,
   "id": "ec7b4e77",
   "metadata": {},
   "outputs": [],
   "source": [
    "month_lst = [\"jan\", \"feb\", \"mar\", \"apr\", \"may\", \"jun\", \"jul\", \"aug\", \"sep\", \"oct\", \"nov\", \"dec\"]\n",
    "\n",
    "month_lst.index(bank_full_yr.filter(bank_full_yr.row_index == 1).collect()[0][\"month\"])"
   ]
  },
  {
   "cell_type": "code",
   "execution_count": null,
   "id": "f4d12a28",
   "metadata": {},
   "outputs": [],
   "source": []
  },
  {
   "cell_type": "code",
   "execution_count": null,
   "id": "c8abb362",
   "metadata": {},
   "outputs": [],
   "source": [
    "%%time\n",
    "from pyspark.sql.functions import when, col, monotonically_increasing_id\n",
    "from pyspark.sql.window import Window\n",
    "from pyspark.sql.functions import lag\n",
    "\n",
    "start_yr = 2008\n",
    "end_yr = 2010\n",
    "month_lst = [\"jan\", \"feb\", \"mar\", \"apr\", \"may\", \"jun\", \"jul\", \"aug\", \"sep\", \"oct\", \"nov\", \"dec\"]\n",
    "\n",
    "# Make a copy of the original dataframe\n",
    "new_data = bank_full.select(\"*\")\n",
    "\n",
    "# Insert a new \"year\" column filled with zeros\n",
    "new_data = new_data.withColumn(\"year\", lit(0))\n",
    "    \n",
    "# Select columns and move year column to desired index\n",
    "columns = new_data.columns\n",
    "columns.remove(\"year\")\n",
    "columns.insert(10, \"year\") # 10 is index\n",
    "new_data = new_data.select(*columns)\n",
    "\n",
    "# Set the first year to the start year\n",
    "current_year = int(start_yr)\n",
    "new_data = new_data.withColumn(\"row_index\", monotonically_increasing_id())\n",
    "    \n",
    "# set the value of the first row's year column to 2050\n",
    "new_data = new_data.withColumn(\"year\", when(col(\"row_index\") == 0, current_year).otherwise(col(\"year\")))\n",
    "    \n",
    "#for i in range(1,len(new_data.collect()[1:])):\n",
    "for i in range(1, 50): \n",
    "    # If the current month is earlier in the year than the previous month, increment the year\n",
    "    if month_lst.index(new_data.filter(new_data.row_index == i).collect()[0][\"month\"]) < month_lst.index(new_data.filter(new_data.row_index == i-1).collect()[0][\"month\"]):\n",
    "        current_year += 1\n",
    "\n",
    "    new_data = new_data.withColumn(\"year\", when(col(\"row_index\") == i, current_year).otherwise(col(\"year\")))\n",
    "\n",
    "    # If the current year exceeds the end year, break out of the loop\n",
    "    if current_year > end_yr:\n",
    "        break\n",
    "    "
   ]
  },
  {
   "cell_type": "code",
   "execution_count": null,
   "id": "baee5c1b",
   "metadata": {},
   "outputs": [],
   "source": [
    "%%time\n",
    "new_data.show()"
   ]
  },
  {
   "cell_type": "code",
   "execution_count": null,
   "id": "80ae875d",
   "metadata": {},
   "outputs": [],
   "source": [
    "new_data.filter( new_data.row_index == 99 ).collect()"
   ]
  },
  {
   "cell_type": "code",
   "execution_count": null,
   "id": "f63b9a5a",
   "metadata": {},
   "outputs": [],
   "source": [
    "%%time\n",
    "bank_full_yr = year_mapper(data = bank_full, start_yr=2008,end_yr=2010)\n",
    "bank_full_yr.show()"
   ]
  },
  {
   "cell_type": "code",
   "execution_count": null,
   "id": "c4540972",
   "metadata": {},
   "outputs": [],
   "source": [
    "\n",
    "print(new_data.dropDuplicates([\"year\"]).select(\"year\").collect())"
   ]
  },
  {
   "cell_type": "code",
   "execution_count": null,
   "id": "fbeacc10",
   "metadata": {},
   "outputs": [],
   "source": [
    "\n",
    "bank_full_yr.write.options(header='True', delimiter=',') \\\n",
    " .csv(\"D:/Lemonrice/virtual_demo/bank_full_yr/\")"
   ]
  },
  {
   "cell_type": "code",
   "execution_count": null,
   "id": "72cf4651",
   "metadata": {},
   "outputs": [],
   "source": [
    "#For checking the \n",
    "bank_pdf = bank_full_yr.toPandas()"
   ]
  },
  {
   "cell_type": "code",
   "execution_count": null,
   "id": "b4ac0213",
   "metadata": {},
   "outputs": [],
   "source": [
    "bank_pdf.to_csv(\"bank_pdf_6thMarch.csv\")"
   ]
  },
  {
   "cell_type": "code",
   "execution_count": null,
   "id": "15d11f9e",
   "metadata": {},
   "outputs": [],
   "source": []
  }
 ],
 "metadata": {
  "kernelspec": {
   "display_name": "Python 3 (ipykernel)",
   "language": "python",
   "name": "python3"
  },
  "language_info": {
   "codemirror_mode": {
    "name": "ipython",
    "version": 3
   },
   "file_extension": ".py",
   "mimetype": "text/x-python",
   "name": "python",
   "nbconvert_exporter": "python",
   "pygments_lexer": "ipython3",
   "version": "3.9.16"
  }
 },
 "nbformat": 4,
 "nbformat_minor": 5
}
