{
 "cells": [
  {
   "cell_type": "code",
   "execution_count": 2,
   "id": "705bd23d",
   "metadata": {},
   "outputs": [],
   "source": [
    "import pandas as pd\n",
    "import numpy as np\n",
    "from pyspark.sql import SparkSession\n",
    "from pyspark.sql.types import *\n",
    "import seaborn as sns\n",
    "import matplotlib.pyplot as plt\n",
    "from pyspark.sql.functions import when\n",
    "from pyspark.sql.functions import col, sum, count"
   ]
  },
  {
   "cell_type": "code",
   "execution_count": 3,
   "id": "f8523fe6",
   "metadata": {},
   "outputs": [],
   "source": [
    "spark = SparkSession.builder.master('local[4]').appName('ml').getOrCreate()"
   ]
  },
  {
   "cell_type": "code",
   "execution_count": 4,
   "id": "ea0b572b",
   "metadata": {},
   "outputs": [],
   "source": [
    "pd.pandas.set_option('display.max_columns',None)"
   ]
  },
  {
   "cell_type": "markdown",
   "id": "0b5fb2b3",
   "metadata": {},
   "source": [
    "### Bank Full (dataset-1)"
   ]
  },
  {
   "cell_type": "code",
   "execution_count": 12,
   "id": "36bc5d86",
   "metadata": {},
   "outputs": [],
   "source": [
    "bank_full = spark.read.csv('bank-full.csv',sep=';',header=True,inferSchema=True)"
   ]
  },
  {
   "cell_type": "code",
   "execution_count": 13,
   "id": "7087603d",
   "metadata": {},
   "outputs": [
    {
     "name": "stdout",
     "output_type": "stream",
     "text": [
      "+---+------------+-------+---------+-------+-------+-------+----+-------+---+-----+--------+--------+-----+--------+--------+---+\n",
      "|age|         job|marital|education|default|balance|housing|loan|contact|day|month|duration|campaign|pdays|previous|poutcome|  y|\n",
      "+---+------------+-------+---------+-------+-------+-------+----+-------+---+-----+--------+--------+-----+--------+--------+---+\n",
      "| 58|  management|married| tertiary|     no|   2143|    yes|  no|unknown|  5|  may|     261|       1|   -1|       0| unknown| no|\n",
      "| 44|  technician| single|secondary|     no|     29|    yes|  no|unknown|  5|  may|     151|       1|   -1|       0| unknown| no|\n",
      "| 33|entrepreneur|married|secondary|     no|      2|    yes| yes|unknown|  5|  may|      76|       1|   -1|       0| unknown| no|\n",
      "| 47| blue-collar|married|  unknown|     no|   1506|    yes|  no|unknown|  5|  may|      92|       1|   -1|       0| unknown| no|\n",
      "| 33|     unknown| single|  unknown|     no|      1|     no|  no|unknown|  5|  may|     198|       1|   -1|       0| unknown| no|\n",
      "+---+------------+-------+---------+-------+-------+-------+----+-------+---+-----+--------+--------+-----+--------+--------+---+\n",
      "only showing top 5 rows\n",
      "\n"
     ]
    }
   ],
   "source": [
    "spark.conf.set('spark.sql.repl.eagerEval.enabled', True)\n",
    "bank_full.show(5)"
   ]
  },
  {
   "cell_type": "code",
   "execution_count": 14,
   "id": "588df899",
   "metadata": {},
   "outputs": [
    {
     "data": {
      "text/plain": [
       "45211"
      ]
     },
     "execution_count": 14,
     "metadata": {},
     "output_type": "execute_result"
    }
   ],
   "source": [
    "bank_full.count()"
   ]
  },
  {
   "cell_type": "code",
   "execution_count": 15,
   "id": "4b019844",
   "metadata": {},
   "outputs": [
    {
     "data": {
      "text/html": [
       "<table border='1'>\n",
       "<tr><th>age</th><th>job</th><th>marital</th><th>education</th><th>default</th><th>balance</th><th>housing</th><th>loan</th><th>contact</th><th>day</th><th>month</th><th>duration</th><th>campaign</th><th>pdays</th><th>previous</th><th>poutcome</th><th>y</th></tr>\n",
       "<tr><td>58</td><td>management</td><td>married</td><td>tertiary</td><td>no</td><td>2143</td><td>yes</td><td>no</td><td>unknown</td><td>5</td><td>may</td><td>261</td><td>1</td><td>-1</td><td>0</td><td>unknown</td><td>no</td></tr>\n",
       "<tr><td>44</td><td>technician</td><td>single</td><td>secondary</td><td>no</td><td>29</td><td>yes</td><td>no</td><td>unknown</td><td>5</td><td>may</td><td>151</td><td>1</td><td>-1</td><td>0</td><td>unknown</td><td>no</td></tr>\n",
       "<tr><td>33</td><td>entrepreneur</td><td>married</td><td>secondary</td><td>no</td><td>2</td><td>yes</td><td>yes</td><td>unknown</td><td>5</td><td>may</td><td>76</td><td>1</td><td>-1</td><td>0</td><td>unknown</td><td>no</td></tr>\n",
       "<tr><td>47</td><td>blue-collar</td><td>married</td><td>unknown</td><td>no</td><td>1506</td><td>yes</td><td>no</td><td>unknown</td><td>5</td><td>may</td><td>92</td><td>1</td><td>-1</td><td>0</td><td>unknown</td><td>no</td></tr>\n",
       "<tr><td>33</td><td>unknown</td><td>single</td><td>unknown</td><td>no</td><td>1</td><td>no</td><td>no</td><td>unknown</td><td>5</td><td>may</td><td>198</td><td>1</td><td>-1</td><td>0</td><td>unknown</td><td>no</td></tr>\n",
       "</table>\n"
      ],
      "text/plain": [
       "+---+------------+-------+---------+-------+-------+-------+----+-------+---+-----+--------+--------+-----+--------+--------+---+\n",
       "|age|         job|marital|education|default|balance|housing|loan|contact|day|month|duration|campaign|pdays|previous|poutcome|  y|\n",
       "+---+------------+-------+---------+-------+-------+-------+----+-------+---+-----+--------+--------+-----+--------+--------+---+\n",
       "| 58|  management|married| tertiary|     no|   2143|    yes|  no|unknown|  5|  may|     261|       1|   -1|       0| unknown| no|\n",
       "| 44|  technician| single|secondary|     no|     29|    yes|  no|unknown|  5|  may|     151|       1|   -1|       0| unknown| no|\n",
       "| 33|entrepreneur|married|secondary|     no|      2|    yes| yes|unknown|  5|  may|      76|       1|   -1|       0| unknown| no|\n",
       "| 47| blue-collar|married|  unknown|     no|   1506|    yes|  no|unknown|  5|  may|      92|       1|   -1|       0| unknown| no|\n",
       "| 33|     unknown| single|  unknown|     no|      1|     no|  no|unknown|  5|  may|     198|       1|   -1|       0| unknown| no|\n",
       "+---+------------+-------+---------+-------+-------+-------+----+-------+---+-----+--------+--------+-----+--------+--------+---+"
      ]
     },
     "metadata": {},
     "output_type": "display_data"
    }
   ],
   "source": [
    "display(bank_full.limit(5))"
   ]
  },
  {
   "cell_type": "code",
   "execution_count": 16,
   "id": "13f2767a",
   "metadata": {},
   "outputs": [
    {
     "name": "stdout",
     "output_type": "stream",
     "text": [
      "root\n",
      " |-- age: integer (nullable = true)\n",
      " |-- job: string (nullable = true)\n",
      " |-- marital: string (nullable = true)\n",
      " |-- education: string (nullable = true)\n",
      " |-- default: string (nullable = true)\n",
      " |-- balance: integer (nullable = true)\n",
      " |-- housing: string (nullable = true)\n",
      " |-- loan: string (nullable = true)\n",
      " |-- contact: string (nullable = true)\n",
      " |-- day: integer (nullable = true)\n",
      " |-- month: string (nullable = true)\n",
      " |-- duration: integer (nullable = true)\n",
      " |-- campaign: integer (nullable = true)\n",
      " |-- pdays: integer (nullable = true)\n",
      " |-- previous: integer (nullable = true)\n",
      " |-- poutcome: string (nullable = true)\n",
      " |-- y: string (nullable = true)\n",
      "\n"
     ]
    }
   ],
   "source": [
    "bank_full.printSchema()"
   ]
  },
  {
   "cell_type": "code",
   "execution_count": 17,
   "id": "58c29062",
   "metadata": {},
   "outputs": [],
   "source": [
    "new_cols = [\"emp_var_rate\", \"cons_price_idx\", \"cons_conf_idx\", \"euribor_3m\", \"nr_employed\"]\n",
    "for column in new_cols:\n",
    "    bank_full = bank_full.withColumn(column, bank_full[\"poutcome\"])"
   ]
  },
  {
   "cell_type": "code",
   "execution_count": 18,
   "id": "6d07a3ac",
   "metadata": {},
   "outputs": [
    {
     "name": "stdout",
     "output_type": "stream",
     "text": [
      "+---+------------+-------+---------+-------+-------+-------+----+-------+---+-----+--------+--------+-----+--------+--------+---+------------+--------------+-------------+----------+-----------+\n",
      "|age|         job|marital|education|default|balance|housing|loan|contact|day|month|duration|campaign|pdays|previous|poutcome|  y|emp_var_rate|cons_price_idx|cons_conf_idx|euribor_3m|nr_employed|\n",
      "+---+------------+-------+---------+-------+-------+-------+----+-------+---+-----+--------+--------+-----+--------+--------+---+------------+--------------+-------------+----------+-----------+\n",
      "| 58|  management|married| tertiary|     no|   2143|    yes|  no|unknown|  5|  may|     261|       1|   -1|       0| unknown| no|     unknown|       unknown|      unknown|   unknown|    unknown|\n",
      "| 44|  technician| single|secondary|     no|     29|    yes|  no|unknown|  5|  may|     151|       1|   -1|       0| unknown| no|     unknown|       unknown|      unknown|   unknown|    unknown|\n",
      "| 33|entrepreneur|married|secondary|     no|      2|    yes| yes|unknown|  5|  may|      76|       1|   -1|       0| unknown| no|     unknown|       unknown|      unknown|   unknown|    unknown|\n",
      "| 47| blue-collar|married|  unknown|     no|   1506|    yes|  no|unknown|  5|  may|      92|       1|   -1|       0| unknown| no|     unknown|       unknown|      unknown|   unknown|    unknown|\n",
      "| 33|     unknown| single|  unknown|     no|      1|     no|  no|unknown|  5|  may|     198|       1|   -1|       0| unknown| no|     unknown|       unknown|      unknown|   unknown|    unknown|\n",
      "+---+------------+-------+---------+-------+-------+-------+----+-------+---+-----+--------+--------+-----+--------+--------+---+------------+--------------+-------------+----------+-----------+\n",
      "only showing top 5 rows\n",
      "\n"
     ]
    }
   ],
   "source": [
    "spark.conf.set('spark.sql.repl.eagerEval.enabled', True)\n",
    "bank_full.show(5)"
   ]
  },
  {
   "cell_type": "code",
   "execution_count": 19,
   "id": "49f5afe8",
   "metadata": {},
   "outputs": [
    {
     "data": {
      "text/html": [
       "<table border='1'>\n",
       "<tr><th>age</th><th>job</th><th>marital</th><th>education</th><th>default</th><th>balance</th><th>housing</th><th>loan</th><th>contact</th><th>day</th><th>month</th><th>duration</th><th>campaign</th><th>pdays</th><th>previous</th><th>poutcome</th><th>y</th><th>emp_var_rate</th><th>cons_price_idx</th><th>cons_conf_idx</th><th>euribor_3m</th><th>nr_employed</th></tr>\n",
       "<tr><td>58</td><td>management</td><td>married</td><td>tertiary</td><td>no</td><td>2143</td><td>yes</td><td>no</td><td>unknown</td><td>5</td><td>may</td><td>261</td><td>1</td><td>-1</td><td>0</td><td>unknown</td><td>no</td><td>unknown</td><td>unknown</td><td>unknown</td><td>unknown</td><td>unknown</td></tr>\n",
       "<tr><td>44</td><td>technician</td><td>single</td><td>secondary</td><td>no</td><td>29</td><td>yes</td><td>no</td><td>unknown</td><td>5</td><td>may</td><td>151</td><td>1</td><td>-1</td><td>0</td><td>unknown</td><td>no</td><td>unknown</td><td>unknown</td><td>unknown</td><td>unknown</td><td>unknown</td></tr>\n",
       "<tr><td>33</td><td>entrepreneur</td><td>married</td><td>secondary</td><td>no</td><td>2</td><td>yes</td><td>yes</td><td>unknown</td><td>5</td><td>may</td><td>76</td><td>1</td><td>-1</td><td>0</td><td>unknown</td><td>no</td><td>unknown</td><td>unknown</td><td>unknown</td><td>unknown</td><td>unknown</td></tr>\n",
       "<tr><td>47</td><td>blue-collar</td><td>married</td><td>unknown</td><td>no</td><td>1506</td><td>yes</td><td>no</td><td>unknown</td><td>5</td><td>may</td><td>92</td><td>1</td><td>-1</td><td>0</td><td>unknown</td><td>no</td><td>unknown</td><td>unknown</td><td>unknown</td><td>unknown</td><td>unknown</td></tr>\n",
       "<tr><td>33</td><td>unknown</td><td>single</td><td>unknown</td><td>no</td><td>1</td><td>no</td><td>no</td><td>unknown</td><td>5</td><td>may</td><td>198</td><td>1</td><td>-1</td><td>0</td><td>unknown</td><td>no</td><td>unknown</td><td>unknown</td><td>unknown</td><td>unknown</td><td>unknown</td></tr>\n",
       "</table>\n"
      ],
      "text/plain": [
       "+---+------------+-------+---------+-------+-------+-------+----+-------+---+-----+--------+--------+-----+--------+--------+---+------------+--------------+-------------+----------+-----------+\n",
       "|age|         job|marital|education|default|balance|housing|loan|contact|day|month|duration|campaign|pdays|previous|poutcome|  y|emp_var_rate|cons_price_idx|cons_conf_idx|euribor_3m|nr_employed|\n",
       "+---+------------+-------+---------+-------+-------+-------+----+-------+---+-----+--------+--------+-----+--------+--------+---+------------+--------------+-------------+----------+-----------+\n",
       "| 58|  management|married| tertiary|     no|   2143|    yes|  no|unknown|  5|  may|     261|       1|   -1|       0| unknown| no|     unknown|       unknown|      unknown|   unknown|    unknown|\n",
       "| 44|  technician| single|secondary|     no|     29|    yes|  no|unknown|  5|  may|     151|       1|   -1|       0| unknown| no|     unknown|       unknown|      unknown|   unknown|    unknown|\n",
       "| 33|entrepreneur|married|secondary|     no|      2|    yes| yes|unknown|  5|  may|      76|       1|   -1|       0| unknown| no|     unknown|       unknown|      unknown|   unknown|    unknown|\n",
       "| 47| blue-collar|married|  unknown|     no|   1506|    yes|  no|unknown|  5|  may|      92|       1|   -1|       0| unknown| no|     unknown|       unknown|      unknown|   unknown|    unknown|\n",
       "| 33|     unknown| single|  unknown|     no|      1|     no|  no|unknown|  5|  may|     198|       1|   -1|       0| unknown| no|     unknown|       unknown|      unknown|   unknown|    unknown|\n",
       "+---+------------+-------+---------+-------+-------+-------+----+-------+---+-----+--------+--------+-----+--------+--------+---+------------+--------------+-------------+----------+-----------+"
      ]
     },
     "metadata": {},
     "output_type": "display_data"
    }
   ],
   "source": [
    "display(bank_full.limit(5))"
   ]
  },
  {
   "cell_type": "code",
   "execution_count": 21,
   "id": "5f098d17",
   "metadata": {},
   "outputs": [],
   "source": [
    "from pyspark.sql.types import IntegerType"
   ]
  },
  {
   "cell_type": "code",
   "execution_count": 22,
   "id": "a99ed907",
   "metadata": {},
   "outputs": [],
   "source": [
    "#new_data = bank_full"
   ]
  },
  {
   "cell_type": "markdown",
   "id": "548d7184",
   "metadata": {},
   "source": [
    "### Index mapper"
   ]
  },
  {
   "cell_type": "code",
   "execution_count": 23,
   "id": "618b6a7c",
   "metadata": {},
   "outputs": [],
   "source": [
    "def map_index(new_data):\n",
    "\n",
    "    index_2008 = {\"may\":{\"emp_var_rate\":1.1, \"cons_price_idx\":93.994, \"cons_conf_idx\":-36.4, \"euribor_3m\":4.85, \"nr_employed\":5191},\n",
    "                 \"jun\":{\"emp_var_rate\":1.4, \"cons_price_idx\":94.465, \"cons_conf_idx\":-41.8, \"euribor_3m\":4.86, \"nr_employed\":5228.1},\n",
    "                 \"jul\":{\"emp_var_rate\":1.4, \"cons_price_idx\":93.918, \"cons_conf_idx\":-42.7, \"euribor_3m\":4.96, \"nr_employed\":5228.1},\n",
    "                 \"aug\":{\"emp_var_rate\":1.4, \"cons_price_idx\":93.444, \"cons_conf_idx\":-36.1, \"euribor_3m\":4.965, \"nr_employed\":5228.1},\n",
    "                 \"oct\":{\"emp_var_rate\":-0.1, \"cons_price_idx\":93.798, \"cons_conf_idx\":-40.4, \"euribor_3m\":5, \"nr_employed\":5195.8},\n",
    "                 \"nov\":{\"emp_var_rate\":-0.1, \"cons_price_idx\":93.2, \"cons_conf_idx\":-42, \"euribor_3m\":4.406, \"nr_employed\":5195.8},\n",
    "                 \"dec\":{\"emp_var_rate\":-0.2, \"cons_price_idx\":92.75, \"cons_conf_idx\":-45.9, \"euribor_3m\":3.563, \"nr_employed\":5176.3}}\n",
    "\n",
    "    index_2009 = {\"jan\":{\"emp_var_rate\":-0.2, \"nr_employed\":5176.3},\n",
    "                  \"feb\":{\"emp_var_rate\":-0.2, \"nr_employed\":5176.3},\n",
    "                  \"mar\":{\"emp_var_rate\":-1.8, \"cons_price_idx\":92.84, \"cons_conf_idx\":-50, \"euribor_3m\":1.811, \"nr_employed\":5099.1},\n",
    "                  \"apr\":{\"emp_var_rate\":-1.8, \"cons_price_idx\":93.075, \"cons_conf_idx\":-47.1, \"euribor_3m\":1.498, \"nr_employed\":5099.1},\n",
    "                  \"may\":{\"emp_var_rate\":-1.8, \"cons_price_idx\":92.89, \"cons_conf_idx\":-46.2, \"euribor_3m\":1.334, \"nr_employed\":5099.1},\n",
    "                 \"jun\":{\"emp_var_rate\":-2.9, \"cons_price_idx\":92.963, \"cons_conf_idx\":-40.8, \"euribor_3m\":1.26, \"nr_employed\":5076.2},\n",
    "                 \"jul\":{\"emp_var_rate\":-2.9, \"cons_price_idx\":93.469, \"cons_conf_idx\":-33.6, \"euribor_3m\":1.072, \"nr_employed\":5076.2},\n",
    "                 \"aug\":{\"emp_var_rate\":-2.9, \"cons_price_idx\":92.201, \"cons_conf_idx\":-31.4, \"euribor_3m\":0.884, \"nr_employed\":5076.2},\n",
    "                 \"sep\":{\"emp_var_rate\":-3.4, \"cons_price_idx\":92.379, \"cons_conf_idx\":-29.8, \"euribor_3m\":0.813, \"nr_employed\":5017.5},\n",
    "                 \"oct\":{\"emp_var_rate\":-3.4, \"cons_price_idx\":92.431, \"cons_conf_idx\":-26.9, \"euribor_3m\":0.754, \"nr_employed\":5017.5},\n",
    "                 \"nov\":{\"emp_var_rate\":-3.4, \"cons_price_idx\":92.649, \"cons_conf_idx\":-30.1, \"euribor_3m\":0.722, \"nr_employed\":5017.5},\n",
    "                 \"dec\":{\"emp_var_rate\":-3, \"cons_price_idx\":92.713, \"cons_conf_idx\":-33, \"euribor_3m\":0.718, \"nr_employed\":5023.5}}\n",
    "\n",
    "    index_2010 = {\"jan\":{\"emp_var_rate\":-3, \"nr_employed\":5023.5},\n",
    "                  \"feb\":{\"emp_var_rate\":-3, \"nr_employed\":5023.5},\n",
    "                   \"mar\":{\"emp_var_rate\":-1.8, \"cons_price_idx\":92.369, \"cons_conf_idx\":-34.8, \"euribor_3m\":0.655, \"nr_employed\":5008.7},\n",
    "                  \"apr\":{\"emp_var_rate\":-1.8, \"cons_price_idx\":93.749, \"cons_conf_idx\":-34.6, \"euribor_3m\":0.64, \"nr_employed\":5008.7},\n",
    "                  \"may\":{\"emp_var_rate\":-1.8, \"cons_price_idx\":93.876, \"cons_conf_idx\":-40, \"euribor_3m\":0.668, \"nr_employed\":5008.7},\n",
    "                 \"jun\":{\"emp_var_rate\":-1.7, \"cons_price_idx\":94.055, \"cons_conf_idx\":-39.8, \"euribor_3m\":0.704, \"nr_employed\":4991.6},\n",
    "                 \"jul\":{\"emp_var_rate\":-1.7, \"cons_price_idx\":94.215, \"cons_conf_idx\":-40.3, \"euribor_3m\":0.79, \"nr_employed\":4991.6},\n",
    "                 \"aug\":{\"emp_var_rate\":-1.7, \"cons_price_idx\":94.027, \"cons_conf_idx\":-38.3, \"euribor_3m\":0.898, \"nr_employed\":4991.6},\n",
    "                 \"sep\":{\"emp_var_rate\":-1.1, \"cons_price_idx\":94.199, \"cons_conf_idx\":-37.5, \"euribor_3m\":0.886, \"nr_employed\":4963.6},\n",
    "                 \"oct\":{\"emp_var_rate\":-1.1, \"cons_price_idx\":94.601, \"cons_conf_idx\":-49.5, \"euribor_3m\":0.959, \"nr_employed\":4963.6},\n",
    "                 \"nov\":{\"emp_var_rate\":-1.1, \"cons_price_idx\":94.767, \"cons_conf_idx\":-50.8, \"euribor_3m\":1.05, \"nr_employed\":4963.6}}\n",
    "\n",
    "    indx = [index_2008, index_2009, index_2010]\n",
    "    years = [2008, 2009, 2010]\n",
    "    \n",
    "    for i in range(len(years)):\n",
    "        for months, indexes in indx[i].items():\n",
    "            for index, index_val in indexes.items():\n",
    "                new_data = new_data.withColumn(index, \n",
    "                    when((col('year') == years[i]) & (col('month') == months), index_val).otherwise(col(index))) \n",
    "    return new_data"
   ]
  },
  {
   "cell_type": "code",
   "execution_count": 24,
   "id": "0ce9ec22",
   "metadata": {},
   "outputs": [
    {
     "ename": "AnalysisException",
     "evalue": "Column 'year' does not exist. Did you mean one of the following? [day, loan, y, age, job, pdays, default, month, balance, contact, marital, campaign, duration, housing, previous, education, poutcome, euribor_3m, emp_var_rate, nr_employed, cons_conf_idx, cons_price_idx];\n'Project [age#61, job#62, marital#63, education#64, default#65, balance#66, housing#67, loan#68, contact#69, day#70, month#71, duration#72, campaign#73, pdays#74, previous#75, poutcome#76, y#77, CASE WHEN (('year = 2008) AND (month#71 = may)) THEN 1.1 ELSE emp_var_rate#376 END AS emp_var_rate#823, cons_price_idx#395, cons_conf_idx#415, euribor_3m#436, nr_employed#458]\n+- Project [age#61, job#62, marital#63, education#64, default#65, balance#66, housing#67, loan#68, contact#69, day#70, month#71, duration#72, campaign#73, pdays#74, previous#75, poutcome#76, y#77, emp_var_rate#376, cons_price_idx#395, cons_conf_idx#415, euribor_3m#436, poutcome#76 AS nr_employed#458]\n   +- Project [age#61, job#62, marital#63, education#64, default#65, balance#66, housing#67, loan#68, contact#69, day#70, month#71, duration#72, campaign#73, pdays#74, previous#75, poutcome#76, y#77, emp_var_rate#376, cons_price_idx#395, cons_conf_idx#415, poutcome#76 AS euribor_3m#436]\n      +- Project [age#61, job#62, marital#63, education#64, default#65, balance#66, housing#67, loan#68, contact#69, day#70, month#71, duration#72, campaign#73, pdays#74, previous#75, poutcome#76, y#77, emp_var_rate#376, cons_price_idx#395, poutcome#76 AS cons_conf_idx#415]\n         +- Project [age#61, job#62, marital#63, education#64, default#65, balance#66, housing#67, loan#68, contact#69, day#70, month#71, duration#72, campaign#73, pdays#74, previous#75, poutcome#76, y#77, emp_var_rate#376, poutcome#76 AS cons_price_idx#395]\n            +- Project [age#61, job#62, marital#63, education#64, default#65, balance#66, housing#67, loan#68, contact#69, day#70, month#71, duration#72, campaign#73, pdays#74, previous#75, poutcome#76, y#77, poutcome#76 AS emp_var_rate#376]\n               +- Relation [age#61,job#62,marital#63,education#64,default#65,balance#66,housing#67,loan#68,contact#69,day#70,month#71,duration#72,campaign#73,pdays#74,previous#75,poutcome#76,y#77] csv\n",
     "output_type": "error",
     "traceback": [
      "\u001b[1;31m---------------------------------------------------------------------------\u001b[0m",
      "\u001b[1;31mAnalysisException\u001b[0m                         Traceback (most recent call last)",
      "\u001b[1;32m~\\AppData\\Local\\Temp\\ipykernel_4040\\2077121796.py\u001b[0m in \u001b[0;36m<module>\u001b[1;34m\u001b[0m\n\u001b[1;32m----> 1\u001b[1;33m \u001b[0mbank_full\u001b[0m \u001b[1;33m=\u001b[0m \u001b[0mmap_index\u001b[0m\u001b[1;33m(\u001b[0m\u001b[0mnew_data\u001b[0m \u001b[1;33m=\u001b[0m \u001b[0mbank_full\u001b[0m\u001b[1;33m)\u001b[0m\u001b[1;33m\u001b[0m\u001b[1;33m\u001b[0m\u001b[0m\n\u001b[0m\u001b[0;32m      2\u001b[0m \u001b[0mbank_full\u001b[0m\u001b[1;33m.\u001b[0m\u001b[0mshow\u001b[0m\u001b[1;33m(\u001b[0m\u001b[1;36m5\u001b[0m\u001b[1;33m)\u001b[0m\u001b[1;33m\u001b[0m\u001b[1;33m\u001b[0m\u001b[0m\n",
      "\u001b[1;32m~\\AppData\\Local\\Temp\\ipykernel_4040\\978053331.py\u001b[0m in \u001b[0;36mmap_index\u001b[1;34m(new_data)\u001b[0m\n\u001b[0;32m     40\u001b[0m         \u001b[1;32mfor\u001b[0m \u001b[0mmonths\u001b[0m\u001b[1;33m,\u001b[0m \u001b[0mindexes\u001b[0m \u001b[1;32min\u001b[0m \u001b[0mindx\u001b[0m\u001b[1;33m[\u001b[0m\u001b[0mi\u001b[0m\u001b[1;33m]\u001b[0m\u001b[1;33m.\u001b[0m\u001b[0mitems\u001b[0m\u001b[1;33m(\u001b[0m\u001b[1;33m)\u001b[0m\u001b[1;33m:\u001b[0m\u001b[1;33m\u001b[0m\u001b[1;33m\u001b[0m\u001b[0m\n\u001b[0;32m     41\u001b[0m             \u001b[1;32mfor\u001b[0m \u001b[0mindex\u001b[0m\u001b[1;33m,\u001b[0m \u001b[0mindex_val\u001b[0m \u001b[1;32min\u001b[0m \u001b[0mindexes\u001b[0m\u001b[1;33m.\u001b[0m\u001b[0mitems\u001b[0m\u001b[1;33m(\u001b[0m\u001b[1;33m)\u001b[0m\u001b[1;33m:\u001b[0m\u001b[1;33m\u001b[0m\u001b[1;33m\u001b[0m\u001b[0m\n\u001b[1;32m---> 42\u001b[1;33m                 new_data = new_data.withColumn(index, \n\u001b[0m\u001b[0;32m     43\u001b[0m                     when((col('year') == years[i]) & (col('month') == months), index_val).otherwise(col(index))) \n\u001b[0;32m     44\u001b[0m     \u001b[1;32mreturn\u001b[0m \u001b[0mnew_data\u001b[0m\u001b[1;33m\u001b[0m\u001b[1;33m\u001b[0m\u001b[0m\n",
      "\u001b[1;32m~\\AppData\\Roaming\\Python\\Python39\\site-packages\\pyspark\\sql\\dataframe.py\u001b[0m in \u001b[0;36mwithColumn\u001b[1;34m(self, colName, col)\u001b[0m\n\u001b[0;32m   3034\u001b[0m         \u001b[1;32mif\u001b[0m \u001b[1;32mnot\u001b[0m \u001b[0misinstance\u001b[0m\u001b[1;33m(\u001b[0m\u001b[0mcol\u001b[0m\u001b[1;33m,\u001b[0m \u001b[0mColumn\u001b[0m\u001b[1;33m)\u001b[0m\u001b[1;33m:\u001b[0m\u001b[1;33m\u001b[0m\u001b[1;33m\u001b[0m\u001b[0m\n\u001b[0;32m   3035\u001b[0m             \u001b[1;32mraise\u001b[0m \u001b[0mTypeError\u001b[0m\u001b[1;33m(\u001b[0m\u001b[1;34m\"col should be Column\"\u001b[0m\u001b[1;33m)\u001b[0m\u001b[1;33m\u001b[0m\u001b[1;33m\u001b[0m\u001b[0m\n\u001b[1;32m-> 3036\u001b[1;33m         \u001b[1;32mreturn\u001b[0m \u001b[0mDataFrame\u001b[0m\u001b[1;33m(\u001b[0m\u001b[0mself\u001b[0m\u001b[1;33m.\u001b[0m\u001b[0m_jdf\u001b[0m\u001b[1;33m.\u001b[0m\u001b[0mwithColumn\u001b[0m\u001b[1;33m(\u001b[0m\u001b[0mcolName\u001b[0m\u001b[1;33m,\u001b[0m \u001b[0mcol\u001b[0m\u001b[1;33m.\u001b[0m\u001b[0m_jc\u001b[0m\u001b[1;33m)\u001b[0m\u001b[1;33m,\u001b[0m \u001b[0mself\u001b[0m\u001b[1;33m.\u001b[0m\u001b[0msparkSession\u001b[0m\u001b[1;33m)\u001b[0m\u001b[1;33m\u001b[0m\u001b[1;33m\u001b[0m\u001b[0m\n\u001b[0m\u001b[0;32m   3037\u001b[0m \u001b[1;33m\u001b[0m\u001b[0m\n\u001b[0;32m   3038\u001b[0m     \u001b[1;32mdef\u001b[0m \u001b[0mwithColumnRenamed\u001b[0m\u001b[1;33m(\u001b[0m\u001b[0mself\u001b[0m\u001b[1;33m,\u001b[0m \u001b[0mexisting\u001b[0m\u001b[1;33m:\u001b[0m \u001b[0mstr\u001b[0m\u001b[1;33m,\u001b[0m \u001b[0mnew\u001b[0m\u001b[1;33m:\u001b[0m \u001b[0mstr\u001b[0m\u001b[1;33m)\u001b[0m \u001b[1;33m->\u001b[0m \u001b[1;34m\"DataFrame\"\u001b[0m\u001b[1;33m:\u001b[0m\u001b[1;33m\u001b[0m\u001b[1;33m\u001b[0m\u001b[0m\n",
      "\u001b[1;32m~\\AppData\\Roaming\\Python\\Python39\\site-packages\\py4j\\java_gateway.py\u001b[0m in \u001b[0;36m__call__\u001b[1;34m(self, *args)\u001b[0m\n\u001b[0;32m   1319\u001b[0m \u001b[1;33m\u001b[0m\u001b[0m\n\u001b[0;32m   1320\u001b[0m         \u001b[0manswer\u001b[0m \u001b[1;33m=\u001b[0m \u001b[0mself\u001b[0m\u001b[1;33m.\u001b[0m\u001b[0mgateway_client\u001b[0m\u001b[1;33m.\u001b[0m\u001b[0msend_command\u001b[0m\u001b[1;33m(\u001b[0m\u001b[0mcommand\u001b[0m\u001b[1;33m)\u001b[0m\u001b[1;33m\u001b[0m\u001b[1;33m\u001b[0m\u001b[0m\n\u001b[1;32m-> 1321\u001b[1;33m         return_value = get_return_value(\n\u001b[0m\u001b[0;32m   1322\u001b[0m             answer, self.gateway_client, self.target_id, self.name)\n\u001b[0;32m   1323\u001b[0m \u001b[1;33m\u001b[0m\u001b[0m\n",
      "\u001b[1;32m~\\AppData\\Roaming\\Python\\Python39\\site-packages\\pyspark\\sql\\utils.py\u001b[0m in \u001b[0;36mdeco\u001b[1;34m(*a, **kw)\u001b[0m\n\u001b[0;32m    194\u001b[0m                 \u001b[1;31m# Hide where the exception came from that shows a non-Pythonic\u001b[0m\u001b[1;33m\u001b[0m\u001b[1;33m\u001b[0m\u001b[0m\n\u001b[0;32m    195\u001b[0m                 \u001b[1;31m# JVM exception message.\u001b[0m\u001b[1;33m\u001b[0m\u001b[1;33m\u001b[0m\u001b[0m\n\u001b[1;32m--> 196\u001b[1;33m                 \u001b[1;32mraise\u001b[0m \u001b[0mconverted\u001b[0m \u001b[1;32mfrom\u001b[0m \u001b[1;32mNone\u001b[0m\u001b[1;33m\u001b[0m\u001b[1;33m\u001b[0m\u001b[0m\n\u001b[0m\u001b[0;32m    197\u001b[0m             \u001b[1;32melse\u001b[0m\u001b[1;33m:\u001b[0m\u001b[1;33m\u001b[0m\u001b[1;33m\u001b[0m\u001b[0m\n\u001b[0;32m    198\u001b[0m                 \u001b[1;32mraise\u001b[0m\u001b[1;33m\u001b[0m\u001b[1;33m\u001b[0m\u001b[0m\n",
      "\u001b[1;31mAnalysisException\u001b[0m: Column 'year' does not exist. Did you mean one of the following? [day, loan, y, age, job, pdays, default, month, balance, contact, marital, campaign, duration, housing, previous, education, poutcome, euribor_3m, emp_var_rate, nr_employed, cons_conf_idx, cons_price_idx];\n'Project [age#61, job#62, marital#63, education#64, default#65, balance#66, housing#67, loan#68, contact#69, day#70, month#71, duration#72, campaign#73, pdays#74, previous#75, poutcome#76, y#77, CASE WHEN (('year = 2008) AND (month#71 = may)) THEN 1.1 ELSE emp_var_rate#376 END AS emp_var_rate#823, cons_price_idx#395, cons_conf_idx#415, euribor_3m#436, nr_employed#458]\n+- Project [age#61, job#62, marital#63, education#64, default#65, balance#66, housing#67, loan#68, contact#69, day#70, month#71, duration#72, campaign#73, pdays#74, previous#75, poutcome#76, y#77, emp_var_rate#376, cons_price_idx#395, cons_conf_idx#415, euribor_3m#436, poutcome#76 AS nr_employed#458]\n   +- Project [age#61, job#62, marital#63, education#64, default#65, balance#66, housing#67, loan#68, contact#69, day#70, month#71, duration#72, campaign#73, pdays#74, previous#75, poutcome#76, y#77, emp_var_rate#376, cons_price_idx#395, cons_conf_idx#415, poutcome#76 AS euribor_3m#436]\n      +- Project [age#61, job#62, marital#63, education#64, default#65, balance#66, housing#67, loan#68, contact#69, day#70, month#71, duration#72, campaign#73, pdays#74, previous#75, poutcome#76, y#77, emp_var_rate#376, cons_price_idx#395, poutcome#76 AS cons_conf_idx#415]\n         +- Project [age#61, job#62, marital#63, education#64, default#65, balance#66, housing#67, loan#68, contact#69, day#70, month#71, duration#72, campaign#73, pdays#74, previous#75, poutcome#76, y#77, emp_var_rate#376, poutcome#76 AS cons_price_idx#395]\n            +- Project [age#61, job#62, marital#63, education#64, default#65, balance#66, housing#67, loan#68, contact#69, day#70, month#71, duration#72, campaign#73, pdays#74, previous#75, poutcome#76, y#77, poutcome#76 AS emp_var_rate#376]\n               +- Relation [age#61,job#62,marital#63,education#64,default#65,balance#66,housing#67,loan#68,contact#69,day#70,month#71,duration#72,campaign#73,pdays#74,previous#75,poutcome#76,y#77] csv\n"
     ]
    }
   ],
   "source": [
    "bank_full = map_index(new_data = bank_full)\n",
    "bank_full.show(5)"
   ]
  },
  {
   "cell_type": "markdown",
   "id": "31352b58",
   "metadata": {},
   "source": [
    "### Bank Full Dataset (dataset-2)"
   ]
  },
  {
   "cell_type": "code",
   "execution_count": null,
   "id": "2a348f2d",
   "metadata": {},
   "outputs": [],
   "source": [
    "bank_add_full = spark.read.csv('bank-additional-full.csv', header=True, inferSchema=True)"
   ]
  },
  {
   "cell_type": "code",
   "execution_count": null,
   "id": "c59e7804",
   "metadata": {},
   "outputs": [],
   "source": [
    "bank_add_full.show(5)"
   ]
  },
  {
   "cell_type": "markdown",
   "id": "1dfe0c9f",
   "metadata": {},
   "source": [
    "### replace values from 999 to -1"
   ]
  },
  {
   "cell_type": "code",
   "execution_count": null,
   "id": "1a5d7376",
   "metadata": {},
   "outputs": [],
   "source": [
    "bank_add_full = bank_add_full.withColumn(\"pdays\", when(col(\"pdays\") == 999, -1).otherwise(col(\"pdays\")))"
   ]
  },
  {
   "cell_type": "markdown",
   "id": "68cad9ea",
   "metadata": {},
   "source": [
    "### Renaming columns names and values"
   ]
  },
  {
   "cell_type": "code",
   "execution_count": null,
   "id": "f9a230d6",
   "metadata": {},
   "outputs": [],
   "source": [
    "old_col_list = [\"emp.var.rate\", \"cons.price.idx\", \"cons.conf.idx\", \"euribor3m\", \"nr.employed\"]\n",
    "for i in range(0, len(old_col_list)):\n",
    "    bank_add_full = bank_add_full.withColumnRenamed(old_col_list[i], new_cols[i])"
   ]
  },
  {
   "cell_type": "code",
   "execution_count": null,
   "id": "a19d60eb",
   "metadata": {},
   "outputs": [],
   "source": [
    "old_edu = [\"basic.4y\", \"high.school\", \"basic.6y\", \"basic.9y\", \"university.degree\", \"professional.course\"]\n",
    "new_edu = [\"basic_4y\", \"high_school\", \"basic_6y\", \"basic_9y\", \"university_degree\" ,\"professional_course\"]\n",
    "\n",
    "for i in range(0,6):\n",
    "    bank_add_full = bank_add_full.withColumn(\"education\", when(col(\"education\") == old_edu[i], new_edu[i]).otherwise(col(\"education\")))"
   ]
  },
  {
   "cell_type": "code",
   "execution_count": null,
   "id": "614f823a",
   "metadata": {},
   "outputs": [],
   "source": [
    "bank_full = bank_full.drop(\"balance\", \"day\")"
   ]
  },
  {
   "cell_type": "code",
   "execution_count": null,
   "id": "22410925",
   "metadata": {},
   "outputs": [],
   "source": [
    "bank_add_full = bank_add_full.drop(\"day_of_week\")"
   ]
  },
  {
   "cell_type": "markdown",
   "id": "713cefcd",
   "metadata": {},
   "source": [
    "## Concat two dataframes"
   ]
  },
  {
   "cell_type": "code",
   "execution_count": null,
   "id": "b36e9923",
   "metadata": {},
   "outputs": [],
   "source": [
    "bank_data = bank_add_full.union(bank_full)"
   ]
  },
  {
   "cell_type": "code",
   "execution_count": null,
   "id": "434c3282",
   "metadata": {},
   "outputs": [],
   "source": [
    "bank_data.count()"
   ]
  },
  {
   "cell_type": "code",
   "execution_count": null,
   "id": "2420e529",
   "metadata": {
    "scrolled": true
   },
   "outputs": [],
   "source": [
    "bank_data.summary()"
   ]
  },
  {
   "cell_type": "code",
   "execution_count": null,
   "id": "41e1399b",
   "metadata": {},
   "outputs": [],
   "source": [
    "cat_col = [\"job\",\"marital\",\"education\",\"default\",\"housing\",\"loan\",\"contact\",\"month\",\"year\",\"y\"]\n",
    "cont_col = [\"age\",\"duration\",\"campaign\",\"pdays\",\"previous\",\"emp_var_rate\",\"cons_price_idx\",\"cons_conf_idx\",\"euribor_3m\",\"nr_employed\"]\n",
    "categories = bank_data.select(cat_col)\n",
    "continuous = bank_data.select(cont_col)"
   ]
  },
  {
   "cell_type": "markdown",
   "id": "012a8de0",
   "metadata": {},
   "source": [
    "### value counts"
   ]
  },
  {
   "cell_type": "code",
   "execution_count": null,
   "id": "8b6b21ab",
   "metadata": {},
   "outputs": [],
   "source": [
    "for columns in categories:\n",
    "    print(\"Column Name\", columns)\n",
    "    print(\"-----------------------\")\n",
    "    counts = bank_data.groupBy(columns).count()\n",
    "    counts.show()\n",
    "    print(\"     \")\n",
    "    print(\"******************************************************\")\n",
    "    print(\"     \")"
   ]
  },
  {
   "cell_type": "code",
   "execution_count": null,
   "id": "4da98fd0",
   "metadata": {},
   "outputs": [],
   "source": [
    "bank_data = bank_data.withColumn(\"job\", when(col(\"job\") == \"admin.\", \"admin\").otherwise(col(\"job\")))"
   ]
  },
  {
   "cell_type": "code",
   "execution_count": null,
   "id": "2086d989",
   "metadata": {},
   "outputs": [],
   "source": [
    "counts = bank_data.groupBy(\"job\").count()\n",
    "counts.show()"
   ]
  },
  {
   "cell_type": "code",
   "execution_count": null,
   "id": "21f8b418",
   "metadata": {},
   "outputs": [],
   "source": [
    "for column in bank_data.columns:\n",
    "    bank_data = bank_data.withColumn(column, when(col(column).isin(\"unknown\", \"nonexistent\"), None).otherwise(col(column)))"
   ]
  },
  {
   "cell_type": "code",
   "execution_count": null,
   "id": "e5d4abf6",
   "metadata": {},
   "outputs": [],
   "source": [
    "bank_data.show(5)"
   ]
  },
  {
   "cell_type": "markdown",
   "id": "fc2594f1",
   "metadata": {},
   "source": [
    "### Checking for null values"
   ]
  },
  {
   "cell_type": "code",
   "execution_count": null,
   "id": "aaa5a30b",
   "metadata": {},
   "outputs": [],
   "source": [
    "bank_data.agg(*[count(when(col(c).isNull(), c)).alias(c) for c in categories.columns]).show()"
   ]
  },
  {
   "cell_type": "code",
   "execution_count": null,
   "id": "15dc7689",
   "metadata": {},
   "outputs": [],
   "source": [
    "bank_data.agg(*[count(when(col(c).isNull(), c)).alias(c) for c in continuous.columns]).show()"
   ]
  },
  {
   "cell_type": "markdown",
   "id": "0c373676",
   "metadata": {},
   "source": [
    "### Replacing continue variables"
   ]
  },
  {
   "cell_type": "code",
   "execution_count": null,
   "id": "809bfbce",
   "metadata": {},
   "outputs": [],
   "source": [
    "from pyspark.sql.functions import mean\n",
    "\n",
    "# calculate the mean of non-null values in columns col1 and col2\n",
    "mean_dict = bank_data.select(*(mean(c).alias(c) for c in cont_col)).first().asDict()\n",
    "\n",
    "# replace null values with the mean in columns col1 and col2\n",
    "bank_data = bank_data.fillna(mean_dict)"
   ]
  },
  {
   "cell_type": "code",
   "execution_count": null,
   "id": "1e0a4afc",
   "metadata": {},
   "outputs": [],
   "source": [
    "bank_data.agg(*[count(when(col(c).isNull(), c)).alias(c) for c in continuous.columns]).show()"
   ]
  },
  {
   "cell_type": "markdown",
   "id": "89d6f733",
   "metadata": {},
   "source": [
    "### Replacing categorical variables"
   ]
  },
  {
   "cell_type": "code",
   "execution_count": null,
   "id": "380bd5b8",
   "metadata": {},
   "outputs": [],
   "source": [
    "bank_data = bank_data.drop(\"poutcome\")"
   ]
  },
  {
   "cell_type": "code",
   "execution_count": null,
   "id": "ca7ed354",
   "metadata": {},
   "outputs": [],
   "source": [
    "for column in cat_col:\n",
    "    mode_value = bank_data.first()[column]\n",
    "    bank_data = bank_data.fillna({column:mode_value})"
   ]
  },
  {
   "cell_type": "code",
   "execution_count": null,
   "id": "df7192b6",
   "metadata": {},
   "outputs": [],
   "source": [
    "bank_data.agg(*[count(when(col(c).isNull(), c)).alias(c) for c in categories.columns]).show()"
   ]
  },
  {
   "cell_type": "code",
   "execution_count": null,
   "id": "f8f6b1a8",
   "metadata": {},
   "outputs": [],
   "source": [
    "bank_data.show()"
   ]
  },
  {
   "cell_type": "code",
   "execution_count": null,
   "id": "e9af1cee",
   "metadata": {},
   "outputs": [],
   "source": [
    "pdf=bank_data.toPandas()"
   ]
  },
  {
   "cell_type": "code",
   "execution_count": null,
   "id": "9e27f0f6",
   "metadata": {},
   "outputs": [],
   "source": [
    "#pdf.to_csv(\"./concat_.csv\")"
   ]
  },
  {
   "cell_type": "code",
   "execution_count": null,
   "id": "26ba0f2f",
   "metadata": {},
   "outputs": [],
   "source": []
  },
  {
   "cell_type": "code",
   "execution_count": null,
   "id": "a1ff1920",
   "metadata": {},
   "outputs": [],
   "source": [
    "correlation = pdf.corr()\n",
    "sns.heatmap(correlation)"
   ]
  },
  {
   "cell_type": "markdown",
   "id": "8d76a8d3",
   "metadata": {},
   "source": [
    "## Data Preprocessing"
   ]
  },
  {
   "cell_type": "code",
   "execution_count": null,
   "id": "48aa89ac",
   "metadata": {},
   "outputs": [],
   "source": [
    "# Creating a dictionary for converting categorical textual data entries\n",
    "# into categorical numeric on basis of job profile\n",
    "job_dict = {\"entrepreneur\":11, \"self-employed\":10, \"admin\":9, \"management\":8, \"services\":7, \n",
    "       \"technician\":6, \"blue-collar\":5, \"housemaid\":4, \"retired\":3, \"student\":2, \"unemployed\":1}\n",
    "\n",
    "for key, value in job_dict.items():\n",
    "    bank_data = bank_data.withColumn(\"job\", when(bank_data[\"job\"] == key, value).otherwise(bank_data[\"job\"]))"
   ]
  },
  {
   "cell_type": "code",
   "execution_count": null,
   "id": "789f1a8f",
   "metadata": {},
   "outputs": [],
   "source": [
    "marital_dict = {\"married\":3, \"single\":2, \"divorced\":1}\n",
    "\n",
    "for key, value in marital_dict.items():\n",
    "    bank_data = bank_data.withColumn(\"marital\", when(bank_data[\"marital\"] == key, value).otherwise(bank_data[\"marital\"]))"
   ]
  },
  {
   "cell_type": "code",
   "execution_count": null,
   "id": "5ece43c9",
   "metadata": {},
   "outputs": [],
   "source": [
    "edu_dict = {\"professional_course\":10, \"university_degree\":9, \"tertiary\":8, \"secondary\":7, \n",
    "       \"high_school\":6, \"basic_9y\":5, \"basic_6y\":4, \"primary\":3, \"basic_4y\":2, \"illiterate\":1}\n",
    "\n",
    "for key, value in edu_dict.items():\n",
    "    bank_data = bank_data.withColumn(\"education\", when(bank_data[\"education\"] == key, value).otherwise(bank_data[\"education\"]))"
   ]
  },
  {
   "cell_type": "code",
   "execution_count": null,
   "id": "532d32ab",
   "metadata": {},
   "outputs": [],
   "source": [
    "y_dict = {\"yes\":1, \"no\":0}\n",
    "\n",
    "for key, value in y_dict.items():\n",
    "    bank_data = bank_data.withColumn(\"y\", when(bank_data[\"y\"] == key, value).otherwise(bank_data[\"y\"]))"
   ]
  },
  {
   "cell_type": "markdown",
   "id": "b6c7b6f3",
   "metadata": {},
   "source": [
    "contact_dict = {\"telephone\":1, \"cellular\":0}\n",
    "\n",
    "for key, value in contact_dict.items():\n",
    "    bank_data = bank_data.withColumn(\"contact\", when(bank_data[\"contact\"] == key, value).otherwise(bank_data[\"contact\"]))"
   ]
  },
  {
   "cell_type": "code",
   "execution_count": null,
   "id": "7fb0ead7",
   "metadata": {},
   "outputs": [],
   "source": [
    "bank_data.show(5)"
   ]
  },
  {
   "cell_type": "code",
   "execution_count": null,
   "id": "dd910b4b",
   "metadata": {},
   "outputs": [],
   "source": [
    "quarter_dict = {\"jan\":\"Q1\", \"feb\":\"Q1\", \"mar\":\"Q1\", \"apr\":\"Q2\", \"may\":\"Q2\", \"jun\":\"Q2\", \n",
    "                \"jul\":\"Q3\", \"aug\":\"Q3\", \"sep\":\"Q3\", \"oct\":\"Q4\", \"nov\":\"Q4\", \"dec\":\"Q4\"}\n",
    "\n",
    "for key, value in quarter_dict.items():\n",
    "    bank_data = bank_data.withColumn(\"month\", when(bank_data[\"month\"] == key, value).otherwise(bank_data[\"month\"]))"
   ]
  },
  {
   "cell_type": "code",
   "execution_count": null,
   "id": "4065f98e",
   "metadata": {},
   "outputs": [],
   "source": [
    "one_hot_cols = [\"default\", \"housing\", \"month\", \"loan\", \"contact\"]"
   ]
  },
  {
   "cell_type": "code",
   "execution_count": null,
   "id": "863bf84d",
   "metadata": {},
   "outputs": [],
   "source": [
    "from pyspark.ml.feature import StringIndexer, OneHotEncoder\n",
    "from pyspark.sql.functions import col\n",
    "\n",
    "def one_hot_encode(data, columns):\n",
    "    new_data = data.select(\"*\")\n",
    "    for col_name in columns:\n",
    "        indexer = StringIndexer(inputCol=col_name, outputCol=f\"{col_name}_index\")\n",
    "        new_data = indexer.fit(new_data).transform(new_data)\n",
    "\n",
    "        encoder = OneHotEncoder(inputCols=[f\"{col_name}_index\"], outputCols=[f\"{col_name}_one_hot\"], dropLast=True)\n",
    "        new_data = encoder.fit(new_data).transform(new_data)\n",
    "\n",
    "        new_data = new_data.drop(col_name).drop(f\"{col_name}_index\")\n",
    "\n",
    "    return new_data"
   ]
  },
  {
   "cell_type": "code",
   "execution_count": null,
   "id": "6cf1cc6d",
   "metadata": {},
   "outputs": [],
   "source": [
    "tele_sdf_ohe = one_hot_encode(data = bank_data, columns = one_hot_cols[:-1])"
   ]
  },
  {
   "cell_type": "code",
   "execution_count": null,
   "id": "5d592827",
   "metadata": {},
   "outputs": [],
   "source": [
    "tele_sdf_ohe.show(5)"
   ]
  },
  {
   "cell_type": "markdown",
   "id": "dcb34d23",
   "metadata": {},
   "source": [
    "## Outliers"
   ]
  },
  {
   "cell_type": "code",
   "execution_count": null,
   "id": "b391950e",
   "metadata": {},
   "outputs": [],
   "source": [
    "out = bank_data.toPandas()"
   ]
  },
  {
   "cell_type": "code",
   "execution_count": 31,
   "id": "002cc791",
   "metadata": {},
   "outputs": [],
   "source": [
    "outliers_columns = [\"age\",\"duration\",\"campaign\",\"pdays\",\"previous\"]"
   ]
  },
  {
   "cell_type": "code",
   "execution_count": 47,
   "id": "15fef32a",
   "metadata": {},
   "outputs": [
    {
     "data": {
      "image/png": "[encoded data removed]",
      "text/plain": [
       "<Figure size 1000x1000 with 5 Axes>"
      ]
     },
     "metadata": {},
     "output_type": "display_data"
    }
   ],
   "source": [
    "def plot_box():\n",
    "    plt.figure(figsize = (10,10))\n",
    "    plt.subplot(3,2,1)\n",
    "    out.boxplot(column = [\"age\"])\n",
    "\n",
    "    plt.subplot(3,2,2)\n",
    "    out.boxplot(column = [\"duration\"])\n",
    "\n",
    "    plt.subplot(3,2,3)\n",
    "    out.boxplot(column = [\"campaign\"])\n",
    "\n",
    "    plt.subplot(3,2,4)\n",
    "    out.boxplot(column = [\"pdays\"])\n",
    "    \n",
    "    plt.subplot(3,2,5)\n",
    "    out.boxplot(column=[\"previous\"])\n",
    "           \n",
    "plot_box()\n",
    "\n",
    "\n",
    "\n"
   ]
  },
  {
   "cell_type": "code",
   "execution_count": 29,
   "id": "853fe8e7",
   "metadata": {},
   "outputs": [
    {
     "name": "stdout",
     "output_type": "stream",
     "text": [
      "for age\n",
      "25th percentile: 33.0\n",
      "50th percentile: 39.0\n",
      "75th percentile: 48.0\n"
     ]
    }
   ],
   "source": [
    "# assume that 'df' is your DataFrame and 'column' is the column for which to compute the quantiles\n",
    "quantiles = bank_full.approxQuantile(\"age\", [0.25, 0.5, 0.75], 0.01)\n",
    "\n",
    "# print the quartiles\n",
    "print(\"for age\")\n",
    "print(\"25th percentile:\", quantiles[0])\n",
    "print(\"50th percentile:\", quantiles[1])\n",
    "print(\"75th percentile:\", quantiles[2])\n"
   ]
  },
  {
   "cell_type": "code",
   "execution_count": 43,
   "id": "202df15b",
   "metadata": {},
   "outputs": [
    {
     "name": "stdout",
     "output_type": "stream",
     "text": [
      "age \t max_limit: \t 70.5 \t min_limit:  10.5\n",
      "duration \t max_limit: \t 630.5 \t min_limit:  -213.5\n",
      "campaign \t max_limit: \t 6.0 \t min_limit:  -2.0\n",
      "pdays \t max_limit: \t -1.0 \t min_limit:  -1.0\n",
      "previous \t max_limit: \t 0.0 \t min_limit:  0.0\n",
      "--------------------------------------------------------------------------------\n",
      "[70.5, 630.5, 6.0, -1.0, 0.0]\n"
     ]
    }
   ],
   "source": [
    "max_out_limit = []\n",
    "outliers_columns = [\"age\",\"duration\",\"campaign\",\"pdays\",\"previous\"]\n",
    "for cols in outliers_columns:\n",
    "    quantiles = bank_full.approxQuantile(cols, [0.25, 0.5, 0.75], 0.01)\n",
    "    \n",
    "    q3 = quantiles[2]\n",
    "    q1 = quantiles[0]\n",
    "    iqr = q3 - q1\n",
    "    iqr = iqr*1.5\n",
    "    max_limit = q3 + iqr\n",
    "    min_limit = q1 - iqr\n",
    "    max_out_limit.append(max_limit)\n",
    "    \n",
    "    print(cols, \"\\t max_limit: \\t\",max_limit,\"\\t min_limit: \",min_limit)\n",
    "else:\n",
    "    print(80*'-')\n",
    "    print(max_out_limit)\n"
   ]
  },
  {
   "cell_type": "code",
   "execution_count": 44,
   "id": "405998b0",
   "metadata": {},
   "outputs": [],
   "source": [
    "for i, j in zip(outliers_columns, max_out_limit):\n",
    "    bank_data = bank_full.withColumn(i, \n",
    "                    when((col(i) >= j), j).otherwise(col(i))) \n"
   ]
  },
  {
   "cell_type": "code",
   "execution_count": 45,
   "id": "5b257e61",
   "metadata": {},
   "outputs": [],
   "source": [
    "out = bank_data.toPandas()"
   ]
  },
  {
   "cell_type": "code",
   "execution_count": 46,
   "id": "12f9f22b",
   "metadata": {},
   "outputs": [
    {
     "ename": "NameError",
     "evalue": "name 'plot_box' is not defined",
     "output_type": "error",
     "traceback": [
      "\u001b[1;31m---------------------------------------------------------------------------\u001b[0m",
      "\u001b[1;31mNameError\u001b[0m                                 Traceback (most recent call last)",
      "\u001b[1;32m~\\AppData\\Local\\Temp\\ipykernel_4040\\3857352486.py\u001b[0m in \u001b[0;36m<module>\u001b[1;34m\u001b[0m\n\u001b[1;32m----> 1\u001b[1;33m \u001b[0mplot_box\u001b[0m\u001b[1;33m(\u001b[0m\u001b[1;33m)\u001b[0m\u001b[1;33m\u001b[0m\u001b[1;33m\u001b[0m\u001b[0m\n\u001b[0m",
      "\u001b[1;31mNameError\u001b[0m: name 'plot_box' is not defined"
     ]
    }
   ],
   "source": [
    "plot_box()"
   ]
  },
  {
   "cell_type": "code",
   "execution_count": null,
   "id": "8ff7e355",
   "metadata": {},
   "outputs": [],
   "source": [
    "bank_data.show()"
   ]
  },
  {
   "cell_type": "code",
   "execution_count": null,
   "id": "3fd74eb7",
   "metadata": {},
   "outputs": [],
   "source": [
    "from pyspark.ml.feature import StandardScaler\n",
    "\n",
    "# assuming bank_data is your PySpark DataFrame\n",
    "inputCols = bank_data.columns\n",
    "outputCol = \"scaledFeatures\""
   ]
  },
  {
   "cell_type": "code",
   "execution_count": null,
   "id": "eda1d9d1",
   "metadata": {},
   "outputs": [],
   "source": [
    "for col in inputCols:\n",
    "    scaler = StandardScaler(inputCol= col,\n",
    "                            outputCol= \"scaledFeatures\")\n",
    "\n",
    "    # fit the scaler to your data\n",
    "    scalerModel = scaler.fit(bank_data)\n",
    "    \n",
    "    # transform your data using the scaler\n",
    "    scaledData = scalerModel.transform(bank_data)"
   ]
  },
  {
   "cell_type": "code",
   "execution_count": null,
   "id": "14b4c3fe",
   "metadata": {},
   "outputs": [],
   "source": []
  }
 ],
 "metadata": {
  "kernelspec": {
   "display_name": "Python 3 (ipykernel)",
   "language": "python",
   "name": "python3"
  },
  "language_info": {
   "codemirror_mode": {
    "name": "ipython",
    "version": 3
   },
   "file_extension": ".py",
   "mimetype": "text/x-python",
   "name": "python",
   "nbconvert_exporter": "python",
   "pygments_lexer": "ipython3",
   "version": "3.9.13"
  }
 },
 "nbformat": 4,
 "nbformat_minor": 5
}
