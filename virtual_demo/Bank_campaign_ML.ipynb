{
 "cells": [
  {
   "cell_type": "code",
   "execution_count": 2,
   "id": "1accfedc",
   "metadata": {},
   "outputs": [],
   "source": [
    "import pandas as pd\n",
    "import numpy as np\n",
    "from pyspark.sql import SparkSession\n",
    "from pyspark.sql.types import *\n",
    "#import seaborn as sns\n",
    "import matplotlib.pyplot as plt"
   ]
  },
  {
   "cell_type": "code",
   "execution_count": 3,
   "id": "55c9b1b5",
   "metadata": {},
   "outputs": [],
   "source": [
    "spark = SparkSession.builder.master('local[4]').appName('ml').getOrCreate()"
   ]
  },
  {
   "cell_type": "markdown",
   "id": "32c9e51e",
   "metadata": {},
   "source": [
    "# Dataset - 1(bank-full.csv)"
   ]
  },
  {
   "cell_type": "code",
   "execution_count": 4,
   "id": "fd0d08f7",
   "metadata": {},
   "outputs": [],
   "source": [
    "data_1 = spark.read.csv('bank-full.csv',sep = \";\",header=True,inferSchema=True)"
   ]
  },
  {
   "cell_type": "code",
   "execution_count": 5,
   "id": "03f2a56a",
   "metadata": {},
   "outputs": [
    {
     "data": {
      "text/plain": [
       "45211"
      ]
     },
     "execution_count": 5,
     "metadata": {},
     "output_type": "execute_result"
    }
   ],
   "source": [
    "data_1.count()"
   ]
  },
  {
   "cell_type": "markdown",
   "id": "57183cd8",
   "metadata": {},
   "source": [
    "### Converting to Pandas"
   ]
  },
  {
   "cell_type": "code",
   "execution_count": 6,
   "id": "65dab522",
   "metadata": {},
   "outputs": [],
   "source": [
    "pdf_1=data_1.toPandas()"
   ]
  },
  {
   "cell_type": "markdown",
   "id": "948ad992",
   "metadata": {},
   "source": [
    "#### to display maximum no. of columns"
   ]
  },
  {
   "cell_type": "code",
   "execution_count": 7,
   "id": "a9a5677d",
   "metadata": {},
   "outputs": [],
   "source": [
    "pd.pandas.set_option('display.max_columns',None)"
   ]
  },
  {
   "cell_type": "code",
   "execution_count": 8,
   "id": "4f7073d0",
   "metadata": {},
   "outputs": [
    {
     "data": {
      "text/html": [
       "<div>\n",
       "<style scoped>\n",
       "    .dataframe tbody tr th:only-of-type {\n",
       "        vertical-align: middle;\n",
       "    }\n",
       "\n",
       "    .dataframe tbody tr th {\n",
       "        vertical-align: top;\n",
       "    }\n",
       "\n",
       "    .dataframe thead th {\n",
       "        text-align: right;\n",
       "    }\n",
       "</style>\n",
       "<table border=\"1\" class=\"dataframe\">\n",
       "  <thead>\n",
       "    <tr style=\"text-align: right;\">\n",
       "      <th></th>\n",
       "      <th>age</th>\n",
       "      <th>job</th>\n",
       "      <th>marital</th>\n",
       "      <th>education</th>\n",
       "      <th>default</th>\n",
       "      <th>balance</th>\n",
       "      <th>housing</th>\n",
       "      <th>loan</th>\n",
       "      <th>contact</th>\n",
       "      <th>day</th>\n",
       "      <th>month</th>\n",
       "      <th>duration</th>\n",
       "      <th>campaign</th>\n",
       "      <th>pdays</th>\n",
       "      <th>previous</th>\n",
       "      <th>poutcome</th>\n",
       "      <th>y</th>\n",
       "    </tr>\n",
       "  </thead>\n",
       "  <tbody>\n",
       "    <tr>\n",
       "      <th>0</th>\n",
       "      <td>58</td>\n",
       "      <td>management</td>\n",
       "      <td>married</td>\n",
       "      <td>tertiary</td>\n",
       "      <td>no</td>\n",
       "      <td>2143</td>\n",
       "      <td>yes</td>\n",
       "      <td>no</td>\n",
       "      <td>unknown</td>\n",
       "      <td>5</td>\n",
       "      <td>may</td>\n",
       "      <td>261</td>\n",
       "      <td>1</td>\n",
       "      <td>-1</td>\n",
       "      <td>0</td>\n",
       "      <td>unknown</td>\n",
       "      <td>no</td>\n",
       "    </tr>\n",
       "    <tr>\n",
       "      <th>1</th>\n",
       "      <td>44</td>\n",
       "      <td>technician</td>\n",
       "      <td>single</td>\n",
       "      <td>secondary</td>\n",
       "      <td>no</td>\n",
       "      <td>29</td>\n",
       "      <td>yes</td>\n",
       "      <td>no</td>\n",
       "      <td>unknown</td>\n",
       "      <td>5</td>\n",
       "      <td>may</td>\n",
       "      <td>151</td>\n",
       "      <td>1</td>\n",
       "      <td>-1</td>\n",
       "      <td>0</td>\n",
       "      <td>unknown</td>\n",
       "      <td>no</td>\n",
       "    </tr>\n",
       "    <tr>\n",
       "      <th>2</th>\n",
       "      <td>33</td>\n",
       "      <td>entrepreneur</td>\n",
       "      <td>married</td>\n",
       "      <td>secondary</td>\n",
       "      <td>no</td>\n",
       "      <td>2</td>\n",
       "      <td>yes</td>\n",
       "      <td>yes</td>\n",
       "      <td>unknown</td>\n",
       "      <td>5</td>\n",
       "      <td>may</td>\n",
       "      <td>76</td>\n",
       "      <td>1</td>\n",
       "      <td>-1</td>\n",
       "      <td>0</td>\n",
       "      <td>unknown</td>\n",
       "      <td>no</td>\n",
       "    </tr>\n",
       "    <tr>\n",
       "      <th>3</th>\n",
       "      <td>47</td>\n",
       "      <td>blue-collar</td>\n",
       "      <td>married</td>\n",
       "      <td>unknown</td>\n",
       "      <td>no</td>\n",
       "      <td>1506</td>\n",
       "      <td>yes</td>\n",
       "      <td>no</td>\n",
       "      <td>unknown</td>\n",
       "      <td>5</td>\n",
       "      <td>may</td>\n",
       "      <td>92</td>\n",
       "      <td>1</td>\n",
       "      <td>-1</td>\n",
       "      <td>0</td>\n",
       "      <td>unknown</td>\n",
       "      <td>no</td>\n",
       "    </tr>\n",
       "    <tr>\n",
       "      <th>4</th>\n",
       "      <td>33</td>\n",
       "      <td>unknown</td>\n",
       "      <td>single</td>\n",
       "      <td>unknown</td>\n",
       "      <td>no</td>\n",
       "      <td>1</td>\n",
       "      <td>no</td>\n",
       "      <td>no</td>\n",
       "      <td>unknown</td>\n",
       "      <td>5</td>\n",
       "      <td>may</td>\n",
       "      <td>198</td>\n",
       "      <td>1</td>\n",
       "      <td>-1</td>\n",
       "      <td>0</td>\n",
       "      <td>unknown</td>\n",
       "      <td>no</td>\n",
       "    </tr>\n",
       "  </tbody>\n",
       "</table>\n",
       "</div>"
      ],
      "text/plain": [
       "   age           job  marital  education default  balance housing loan  \\\n",
       "0   58    management  married   tertiary      no     2143     yes   no   \n",
       "1   44    technician   single  secondary      no       29     yes   no   \n",
       "2   33  entrepreneur  married  secondary      no        2     yes  yes   \n",
       "3   47   blue-collar  married    unknown      no     1506     yes   no   \n",
       "4   33       unknown   single    unknown      no        1      no   no   \n",
       "\n",
       "   contact  day month  duration  campaign  pdays  previous poutcome   y  \n",
       "0  unknown    5   may       261         1     -1         0  unknown  no  \n",
       "1  unknown    5   may       151         1     -1         0  unknown  no  \n",
       "2  unknown    5   may        76         1     -1         0  unknown  no  \n",
       "3  unknown    5   may        92         1     -1         0  unknown  no  \n",
       "4  unknown    5   may       198         1     -1         0  unknown  no  "
      ]
     },
     "execution_count": 8,
     "metadata": {},
     "output_type": "execute_result"
    }
   ],
   "source": [
    "pdf_1.head(5)"
   ]
  },
  {
   "cell_type": "markdown",
   "id": "6e089e25",
   "metadata": {},
   "source": [
    "### renamed column for unform naming before concat operation"
   ]
  },
  {
   "cell_type": "code",
   "execution_count": 9,
   "id": "ae3fa47f",
   "metadata": {},
   "outputs": [],
   "source": [
    "new_cols = [\"emp_var_rate\", \"cons_price_idx\", \"cons_conf_idx\", \"euribor_3m\", \"nr_employed\"]\n",
    "col_no = 16\n",
    "for column in new_cols:\n",
    "    pdf_1.insert(col_no, column, value = np.nan)\n",
    "    col_no = col_no + 1"
   ]
  },
  {
   "cell_type": "code",
   "execution_count": 10,
   "id": "7dfd3d88",
   "metadata": {},
   "outputs": [
    {
     "data": {
      "text/html": [
       "<div>\n",
       "<style scoped>\n",
       "    .dataframe tbody tr th:only-of-type {\n",
       "        vertical-align: middle;\n",
       "    }\n",
       "\n",
       "    .dataframe tbody tr th {\n",
       "        vertical-align: top;\n",
       "    }\n",
       "\n",
       "    .dataframe thead th {\n",
       "        text-align: right;\n",
       "    }\n",
       "</style>\n",
       "<table border=\"1\" class=\"dataframe\">\n",
       "  <thead>\n",
       "    <tr style=\"text-align: right;\">\n",
       "      <th></th>\n",
       "      <th>age</th>\n",
       "      <th>job</th>\n",
       "      <th>marital</th>\n",
       "      <th>education</th>\n",
       "      <th>default</th>\n",
       "      <th>balance</th>\n",
       "      <th>housing</th>\n",
       "      <th>loan</th>\n",
       "      <th>contact</th>\n",
       "      <th>day</th>\n",
       "      <th>month</th>\n",
       "      <th>duration</th>\n",
       "      <th>campaign</th>\n",
       "      <th>pdays</th>\n",
       "      <th>previous</th>\n",
       "      <th>poutcome</th>\n",
       "      <th>emp_var_rate</th>\n",
       "      <th>cons_price_idx</th>\n",
       "      <th>cons_conf_idx</th>\n",
       "      <th>euribor_3m</th>\n",
       "      <th>nr_employed</th>\n",
       "      <th>y</th>\n",
       "    </tr>\n",
       "  </thead>\n",
       "  <tbody>\n",
       "    <tr>\n",
       "      <th>0</th>\n",
       "      <td>58</td>\n",
       "      <td>management</td>\n",
       "      <td>married</td>\n",
       "      <td>tertiary</td>\n",
       "      <td>no</td>\n",
       "      <td>2143</td>\n",
       "      <td>yes</td>\n",
       "      <td>no</td>\n",
       "      <td>unknown</td>\n",
       "      <td>5</td>\n",
       "      <td>may</td>\n",
       "      <td>261</td>\n",
       "      <td>1</td>\n",
       "      <td>-1</td>\n",
       "      <td>0</td>\n",
       "      <td>unknown</td>\n",
       "      <td>NaN</td>\n",
       "      <td>NaN</td>\n",
       "      <td>NaN</td>\n",
       "      <td>NaN</td>\n",
       "      <td>NaN</td>\n",
       "      <td>no</td>\n",
       "    </tr>\n",
       "    <tr>\n",
       "      <th>1</th>\n",
       "      <td>44</td>\n",
       "      <td>technician</td>\n",
       "      <td>single</td>\n",
       "      <td>secondary</td>\n",
       "      <td>no</td>\n",
       "      <td>29</td>\n",
       "      <td>yes</td>\n",
       "      <td>no</td>\n",
       "      <td>unknown</td>\n",
       "      <td>5</td>\n",
       "      <td>may</td>\n",
       "      <td>151</td>\n",
       "      <td>1</td>\n",
       "      <td>-1</td>\n",
       "      <td>0</td>\n",
       "      <td>unknown</td>\n",
       "      <td>NaN</td>\n",
       "      <td>NaN</td>\n",
       "      <td>NaN</td>\n",
       "      <td>NaN</td>\n",
       "      <td>NaN</td>\n",
       "      <td>no</td>\n",
       "    </tr>\n",
       "    <tr>\n",
       "      <th>2</th>\n",
       "      <td>33</td>\n",
       "      <td>entrepreneur</td>\n",
       "      <td>married</td>\n",
       "      <td>secondary</td>\n",
       "      <td>no</td>\n",
       "      <td>2</td>\n",
       "      <td>yes</td>\n",
       "      <td>yes</td>\n",
       "      <td>unknown</td>\n",
       "      <td>5</td>\n",
       "      <td>may</td>\n",
       "      <td>76</td>\n",
       "      <td>1</td>\n",
       "      <td>-1</td>\n",
       "      <td>0</td>\n",
       "      <td>unknown</td>\n",
       "      <td>NaN</td>\n",
       "      <td>NaN</td>\n",
       "      <td>NaN</td>\n",
       "      <td>NaN</td>\n",
       "      <td>NaN</td>\n",
       "      <td>no</td>\n",
       "    </tr>\n",
       "    <tr>\n",
       "      <th>3</th>\n",
       "      <td>47</td>\n",
       "      <td>blue-collar</td>\n",
       "      <td>married</td>\n",
       "      <td>unknown</td>\n",
       "      <td>no</td>\n",
       "      <td>1506</td>\n",
       "      <td>yes</td>\n",
       "      <td>no</td>\n",
       "      <td>unknown</td>\n",
       "      <td>5</td>\n",
       "      <td>may</td>\n",
       "      <td>92</td>\n",
       "      <td>1</td>\n",
       "      <td>-1</td>\n",
       "      <td>0</td>\n",
       "      <td>unknown</td>\n",
       "      <td>NaN</td>\n",
       "      <td>NaN</td>\n",
       "      <td>NaN</td>\n",
       "      <td>NaN</td>\n",
       "      <td>NaN</td>\n",
       "      <td>no</td>\n",
       "    </tr>\n",
       "    <tr>\n",
       "      <th>4</th>\n",
       "      <td>33</td>\n",
       "      <td>unknown</td>\n",
       "      <td>single</td>\n",
       "      <td>unknown</td>\n",
       "      <td>no</td>\n",
       "      <td>1</td>\n",
       "      <td>no</td>\n",
       "      <td>no</td>\n",
       "      <td>unknown</td>\n",
       "      <td>5</td>\n",
       "      <td>may</td>\n",
       "      <td>198</td>\n",
       "      <td>1</td>\n",
       "      <td>-1</td>\n",
       "      <td>0</td>\n",
       "      <td>unknown</td>\n",
       "      <td>NaN</td>\n",
       "      <td>NaN</td>\n",
       "      <td>NaN</td>\n",
       "      <td>NaN</td>\n",
       "      <td>NaN</td>\n",
       "      <td>no</td>\n",
       "    </tr>\n",
       "  </tbody>\n",
       "</table>\n",
       "</div>"
      ],
      "text/plain": [
       "   age           job  marital  education default  balance housing loan  \\\n",
       "0   58    management  married   tertiary      no     2143     yes   no   \n",
       "1   44    technician   single  secondary      no       29     yes   no   \n",
       "2   33  entrepreneur  married  secondary      no        2     yes  yes   \n",
       "3   47   blue-collar  married    unknown      no     1506     yes   no   \n",
       "4   33       unknown   single    unknown      no        1      no   no   \n",
       "\n",
       "   contact  day month  duration  campaign  pdays  previous poutcome  \\\n",
       "0  unknown    5   may       261         1     -1         0  unknown   \n",
       "1  unknown    5   may       151         1     -1         0  unknown   \n",
       "2  unknown    5   may        76         1     -1         0  unknown   \n",
       "3  unknown    5   may        92         1     -1         0  unknown   \n",
       "4  unknown    5   may       198         1     -1         0  unknown   \n",
       "\n",
       "   emp_var_rate  cons_price_idx  cons_conf_idx  euribor_3m  nr_employed   y  \n",
       "0           NaN             NaN            NaN         NaN          NaN  no  \n",
       "1           NaN             NaN            NaN         NaN          NaN  no  \n",
       "2           NaN             NaN            NaN         NaN          NaN  no  \n",
       "3           NaN             NaN            NaN         NaN          NaN  no  \n",
       "4           NaN             NaN            NaN         NaN          NaN  no  "
      ]
     },
     "execution_count": 10,
     "metadata": {},
     "output_type": "execute_result"
    }
   ],
   "source": [
    "pdf_1.head()"
   ]
  },
  {
   "cell_type": "markdown",
   "id": "d64b1f00",
   "metadata": {},
   "source": [
    "## Adding year mapper function to add year in dataset - 1(bank - full.csv)"
   ]
  },
  {
   "cell_type": "code",
   "execution_count": 14,
   "id": "63a3b0e3",
   "metadata": {},
   "outputs": [],
   "source": [
    "def year_mapper(data, start_yr):\n",
    "    month_lst = [\"jan\", \"feb\", \"mar\", \"apr\", \"may\", \"jun\", \"jul\", \"aug\", \"sep\", \"oct\", \"nov\", \"dec\"]\n",
    "\n",
    "    # Make a copy of the original dataframe\n",
    "    new_data = data.copy()\n",
    "\n",
    "    # Insert a new \"year\" column filled with zeros\n",
    "    new_data.insert(loc=0, column=\"year\", value=0)\n",
    "\n",
    "    # Set the first year to the start year\n",
    "    current_year = int(start_yr)\n",
    "    new_data.at[0, \"year\"] = current_year\n",
    "\n",
    "    # Loop through the rows of the dataframe, updating the year column when the month changes\n",
    "    for i in range(1, len(new_data)):\n",
    "        # If the current month is earlier in the year than the previous month, increment the year\n",
    "        if month_lst.index(new_data[\"month\"][i]) < month_lst.index(new_data[\"month\"][i-1]):\n",
    "            current_year += 1\n",
    "\n",
    "        new_data.at[i, \"year\"] = current_year\n",
    "\n",
    "        # If the current year exceeds the end year, break out of the loop\n",
    "        if current_year > 2010:\n",
    "            break\n",
    "\n",
    "    return new_data"
   ]
  },
  {
   "cell_type": "code",
   "execution_count": 12,
   "id": "41f2621b",
   "metadata": {},
   "outputs": [
    {
     "data": {
      "text/html": [
       "<div>\n",
       "<style scoped>\n",
       "    .dataframe tbody tr th:only-of-type {\n",
       "        vertical-align: middle;\n",
       "    }\n",
       "\n",
       "    .dataframe tbody tr th {\n",
       "        vertical-align: top;\n",
       "    }\n",
       "\n",
       "    .dataframe thead th {\n",
       "        text-align: right;\n",
       "    }\n",
       "</style>\n",
       "<table border=\"1\" class=\"dataframe\">\n",
       "  <thead>\n",
       "    <tr style=\"text-align: right;\">\n",
       "      <th></th>\n",
       "      <th>year</th>\n",
       "      <th>age</th>\n",
       "      <th>job</th>\n",
       "      <th>marital</th>\n",
       "      <th>education</th>\n",
       "      <th>default</th>\n",
       "      <th>balance</th>\n",
       "      <th>housing</th>\n",
       "      <th>loan</th>\n",
       "      <th>contact</th>\n",
       "      <th>day</th>\n",
       "      <th>month</th>\n",
       "      <th>duration</th>\n",
       "      <th>campaign</th>\n",
       "      <th>pdays</th>\n",
       "      <th>previous</th>\n",
       "      <th>poutcome</th>\n",
       "      <th>emp_var_rate</th>\n",
       "      <th>cons_price_idx</th>\n",
       "      <th>cons_conf_idx</th>\n",
       "      <th>euribor_3m</th>\n",
       "      <th>nr_employed</th>\n",
       "      <th>y</th>\n",
       "    </tr>\n",
       "  </thead>\n",
       "  <tbody>\n",
       "    <tr>\n",
       "      <th>0</th>\n",
       "      <td>2008</td>\n",
       "      <td>58</td>\n",
       "      <td>management</td>\n",
       "      <td>married</td>\n",
       "      <td>tertiary</td>\n",
       "      <td>no</td>\n",
       "      <td>2143</td>\n",
       "      <td>yes</td>\n",
       "      <td>no</td>\n",
       "      <td>unknown</td>\n",
       "      <td>5</td>\n",
       "      <td>may</td>\n",
       "      <td>261</td>\n",
       "      <td>1</td>\n",
       "      <td>-1</td>\n",
       "      <td>0</td>\n",
       "      <td>unknown</td>\n",
       "      <td>NaN</td>\n",
       "      <td>NaN</td>\n",
       "      <td>NaN</td>\n",
       "      <td>NaN</td>\n",
       "      <td>NaN</td>\n",
       "      <td>no</td>\n",
       "    </tr>\n",
       "    <tr>\n",
       "      <th>1</th>\n",
       "      <td>2008</td>\n",
       "      <td>44</td>\n",
       "      <td>technician</td>\n",
       "      <td>single</td>\n",
       "      <td>secondary</td>\n",
       "      <td>no</td>\n",
       "      <td>29</td>\n",
       "      <td>yes</td>\n",
       "      <td>no</td>\n",
       "      <td>unknown</td>\n",
       "      <td>5</td>\n",
       "      <td>may</td>\n",
       "      <td>151</td>\n",
       "      <td>1</td>\n",
       "      <td>-1</td>\n",
       "      <td>0</td>\n",
       "      <td>unknown</td>\n",
       "      <td>NaN</td>\n",
       "      <td>NaN</td>\n",
       "      <td>NaN</td>\n",
       "      <td>NaN</td>\n",
       "      <td>NaN</td>\n",
       "      <td>no</td>\n",
       "    </tr>\n",
       "    <tr>\n",
       "      <th>2</th>\n",
       "      <td>2008</td>\n",
       "      <td>33</td>\n",
       "      <td>entrepreneur</td>\n",
       "      <td>married</td>\n",
       "      <td>secondary</td>\n",
       "      <td>no</td>\n",
       "      <td>2</td>\n",
       "      <td>yes</td>\n",
       "      <td>yes</td>\n",
       "      <td>unknown</td>\n",
       "      <td>5</td>\n",
       "      <td>may</td>\n",
       "      <td>76</td>\n",
       "      <td>1</td>\n",
       "      <td>-1</td>\n",
       "      <td>0</td>\n",
       "      <td>unknown</td>\n",
       "      <td>NaN</td>\n",
       "      <td>NaN</td>\n",
       "      <td>NaN</td>\n",
       "      <td>NaN</td>\n",
       "      <td>NaN</td>\n",
       "      <td>no</td>\n",
       "    </tr>\n",
       "    <tr>\n",
       "      <th>3</th>\n",
       "      <td>2008</td>\n",
       "      <td>47</td>\n",
       "      <td>blue-collar</td>\n",
       "      <td>married</td>\n",
       "      <td>unknown</td>\n",
       "      <td>no</td>\n",
       "      <td>1506</td>\n",
       "      <td>yes</td>\n",
       "      <td>no</td>\n",
       "      <td>unknown</td>\n",
       "      <td>5</td>\n",
       "      <td>may</td>\n",
       "      <td>92</td>\n",
       "      <td>1</td>\n",
       "      <td>-1</td>\n",
       "      <td>0</td>\n",
       "      <td>unknown</td>\n",
       "      <td>NaN</td>\n",
       "      <td>NaN</td>\n",
       "      <td>NaN</td>\n",
       "      <td>NaN</td>\n",
       "      <td>NaN</td>\n",
       "      <td>no</td>\n",
       "    </tr>\n",
       "    <tr>\n",
       "      <th>4</th>\n",
       "      <td>2008</td>\n",
       "      <td>33</td>\n",
       "      <td>unknown</td>\n",
       "      <td>single</td>\n",
       "      <td>unknown</td>\n",
       "      <td>no</td>\n",
       "      <td>1</td>\n",
       "      <td>no</td>\n",
       "      <td>no</td>\n",
       "      <td>unknown</td>\n",
       "      <td>5</td>\n",
       "      <td>may</td>\n",
       "      <td>198</td>\n",
       "      <td>1</td>\n",
       "      <td>-1</td>\n",
       "      <td>0</td>\n",
       "      <td>unknown</td>\n",
       "      <td>NaN</td>\n",
       "      <td>NaN</td>\n",
       "      <td>NaN</td>\n",
       "      <td>NaN</td>\n",
       "      <td>NaN</td>\n",
       "      <td>no</td>\n",
       "    </tr>\n",
       "  </tbody>\n",
       "</table>\n",
       "</div>"
      ],
      "text/plain": [
       "   year  age           job  marital  education default  balance housing loan  \\\n",
       "0  2008   58    management  married   tertiary      no     2143     yes   no   \n",
       "1  2008   44    technician   single  secondary      no       29     yes   no   \n",
       "2  2008   33  entrepreneur  married  secondary      no        2     yes  yes   \n",
       "3  2008   47   blue-collar  married    unknown      no     1506     yes   no   \n",
       "4  2008   33       unknown   single    unknown      no        1      no   no   \n",
       "\n",
       "   contact  day month  duration  campaign  pdays  previous poutcome  \\\n",
       "0  unknown    5   may       261         1     -1         0  unknown   \n",
       "1  unknown    5   may       151         1     -1         0  unknown   \n",
       "2  unknown    5   may        76         1     -1         0  unknown   \n",
       "3  unknown    5   may        92         1     -1         0  unknown   \n",
       "4  unknown    5   may       198         1     -1         0  unknown   \n",
       "\n",
       "   emp_var_rate  cons_price_idx  cons_conf_idx  euribor_3m  nr_employed   y  \n",
       "0           NaN             NaN            NaN         NaN          NaN  no  \n",
       "1           NaN             NaN            NaN         NaN          NaN  no  \n",
       "2           NaN             NaN            NaN         NaN          NaN  no  \n",
       "3           NaN             NaN            NaN         NaN          NaN  no  \n",
       "4           NaN             NaN            NaN         NaN          NaN  no  "
      ]
     },
     "execution_count": 12,
     "metadata": {},
     "output_type": "execute_result"
    }
   ],
   "source": [
    "result_bankfull = year_mapper( data = pdf_1, start_yr = 2008)\n",
    "result_bankfull.head()"
   ]
  },
  {
   "cell_type": "code",
   "execution_count": 13,
   "id": "ad33c844",
   "metadata": {},
   "outputs": [
    {
     "data": {
      "text/plain": [
       "2008    27729\n",
       "2009    14862\n",
       "2010     2620\n",
       "Name: year, dtype: int64"
      ]
     },
     "execution_count": 13,
     "metadata": {},
     "output_type": "execute_result"
    }
   ],
   "source": [
    "result_bankfull[\"year\"].value_counts()"
   ]
  },
  {
   "cell_type": "markdown",
   "id": "f967e1df",
   "metadata": {},
   "source": [
    "### Mapper function to insert indexes value into columns "
   ]
  },
  {
   "cell_type": "code",
   "execution_count": null,
   "id": "e63b2506",
   "metadata": {},
   "outputs": [],
   "source": [
    "def map_index(data):\n",
    "    \n",
    "    index_2008 = {\"may\":{\"emp_var_rate\":1.1, \"cons_price_idx\":93.994, \"cons_conf_idx\":-36.4, \"euribor_3m\":4.85, \"nr_employed\":5191},\n",
    "             \"jun\":{\"emp_var_rate\":1.4, \"cons_price_idx\":94.465, \"cons_conf_idx\":-41.8, \"euribor_3m\":4.86, \"nr_employed\":5228.1},\n",
    "             \"jul\":{\"emp_var_rate\":1.4, \"cons_price_idx\":93.918, \"cons_conf_idx\":-42.7, \"euribor_3m\":4.96, \"nr_employed\":5228.1},\n",
    "             \"aug\":{\"emp_var_rate\":1.4, \"cons_price_idx\":93.444, \"cons_conf_idx\":-36.1, \"euribor_3m\":4.965, \"nr_employed\":5228.1},\n",
    "             \"oct\":{\"emp_var_rate\":-0.1, \"cons_price_idx\":93.798, \"cons_conf_idx\":-40.4, \"euribor_3m\":5, \"nr_employed\":5195.8},\n",
    "             \"nov\":{\"emp_var_rate\":-0.1, \"cons_price_idx\":93.2, \"cons_conf_idx\":-42, \"euribor_3m\":4.406, \"nr_employed\":5195.8},\n",
    "             \"dec\":{\"emp_var_rate\":-0.2, \"cons_price_idx\":92.75, \"cons_conf_idx\":-45.9, \"euribor_3m\":3.563, \"nr_employed\":5176.3}}\n",
    "    \n",
    "    index_2009 = {\"jan\":{\"emp_var_rate\":-0.2, \"nr_employed\":5176.3},\n",
    "              \"feb\":{\"emp_var_rate\":-0.2, \"nr_employed\":5176.3},\n",
    "              \"mar\":{\"emp_var_rate\":-1.8, \"cons_price_idx\":92.84, \"cons_conf_idx\":-50, \"euribor_3m\":1.811, \"nr_employed\":5099.1},\n",
    "              \"apr\":{\"emp_var_rate\":-1.8, \"cons_price_idx\":93.075, \"cons_conf_idx\":-47.1, \"euribor_3m\":1.498, \"nr_employed\":5099.1},\n",
    "              \"may\":{\"emp_var_rate\":-1.8, \"cons_price_idx\":92.89, \"cons_conf_idx\":-46.2, \"euribor_3m\":1.334, \"nr_employed\":5099.1},\n",
    "             \"jun\":{\"emp_var_rate\":-2.9, \"cons_price_idx\":92.963, \"cons_conf_idx\":-40.8, \"euribor_3m\":1.26, \"nr_employed\":5076.2},\n",
    "             \"jul\":{\"emp_var_rate\":-2.9, \"cons_price_idx\":93.469, \"cons_conf_idx\":-33.6, \"euribor_3m\":1.072, \"nr_employed\":5076.2},\n",
    "             \"aug\":{\"emp_var_rate\":-2.9, \"cons_price_idx\":92.201, \"cons_conf_idx\":-31.4, \"euribor_3m\":0.884, \"nr_employed\":5076.2},\n",
    "             \"sep\":{\"emp_var_rate\":-3.4, \"cons_price_idx\":92.379, \"cons_conf_idx\":-29.8, \"euribor_3m\":0.813, \"nr_employed\":5017.5},\n",
    "             \"oct\":{\"emp_var_rate\":-3.4, \"cons_price_idx\":92.431, \"cons_conf_idx\":-26.9, \"euribor_3m\":0.754, \"nr_employed\":5017.5},\n",
    "             \"nov\":{\"emp_var_rate\":-3.4, \"cons_price_idx\":92.649, \"cons_conf_idx\":-30.1, \"euribor_3m\":0.722, \"nr_employed\":5017.5},\n",
    "             \"dec\":{\"emp_var_rate\":-3, \"cons_price_idx\":92.713, \"cons_conf_idx\":-33, \"euribor_3m\":0.718, \"nr_employed\":5023.5}}\n",
    "    \n",
    "    index_2010 = {\"jan\":{\"emp_var_rate\":-3, \"nr_employed\":5023.5},\n",
    "              \"feb\":{\"emp_var_rate\":-3, \"nr_employed\":5023.5},\n",
    "               \"mar\":{\"emp_var_rate\":-1.8, \"cons_price_idx\":92.369, \"cons_conf_idx\":-34.8, \"euribor_3m\":0.655, \"nr_employed\":5008.7},\n",
    "              \"apr\":{\"emp_var_rate\":-1.8, \"cons_price_idx\":93.749, \"cons_conf_idx\":-34.6, \"euribor_3m\":0.64, \"nr_employed\":5008.7},\n",
    "              \"may\":{\"emp_var_rate\":-1.8, \"cons_price_idx\":93.876, \"cons_conf_idx\":-40, \"euribor_3m\":0.668, \"nr_employed\":5008.7},\n",
    "             \"jun\":{\"emp_var_rate\":-1.7, \"cons_price_idx\":94.055, \"cons_conf_idx\":-39.8, \"euribor_3m\":0.704, \"nr_employed\":4991.6},\n",
    "             \"jul\":{\"emp_var_rate\":-1.7, \"cons_price_idx\":94.215, \"cons_conf_idx\":-40.3, \"euribor_3m\":0.79, \"nr_employed\":4991.6},\n",
    "             \"aug\":{\"emp_var_rate\":-1.7, \"cons_price_idx\":94.027, \"cons_conf_idx\":-38.3, \"euribor_3m\":0.898, \"nr_employed\":4991.6},\n",
    "             \"sep\":{\"emp_var_rate\":-1.1, \"cons_price_idx\":94.199, \"cons_conf_idx\":-37.5, \"euribor_3m\":0.886, \"nr_employed\":4963.6},\n",
    "             \"oct\":{\"emp_var_rate\":-1.1, \"cons_price_idx\":94.601, \"cons_conf_idx\":-49.5, \"euribor_3m\":0.959, \"nr_employed\":4963.6},\n",
    "             \"nov\":{\"emp_var_rate\":-1.1, \"cons_price_idx\":94.767, \"cons_conf_idx\":-50.8, \"euribor_3m\":1.05, \"nr_employed\":4963.6}}\n",
    "    \n",
    "    new_data = data.copy()\n",
    "    indx = [index_2008, index_2009, index_2010]\n",
    "    years = [2008, 2009, 2010]\n",
    "\n",
    "    for i in range(0 , len(years)):\n",
    "        for months, indexes in indx[i].items():\n",
    "            for index, index_val in indexes.items():\n",
    "                new_data.loc[(new_data['year'] == years[i]) & (new_data['month'] == months), index] = index_val\n",
    "    return new_data            "
   ]
  },
  {
   "cell_type": "code",
   "execution_count": null,
   "id": "ed83a6ee",
   "metadata": {},
   "outputs": [],
   "source": [
    "bank_full = map_index(data = result_bankfull)\n",
    "bank_full.head()"
   ]
  },
  {
   "cell_type": "code",
   "execution_count": null,
   "id": "3210715f",
   "metadata": {},
   "outputs": [],
   "source": [
    "bank_full.count()"
   ]
  },
  {
   "cell_type": "markdown",
   "id": "bbdc714c",
   "metadata": {},
   "source": [
    "### Adding date column"
   ]
  },
  {
   "cell_type": "code",
   "execution_count": 15,
   "id": "503e6551",
   "metadata": {},
   "outputs": [],
   "source": [
    "def get_date2(month, year, day_of_week_str):\n",
    "    year = int(year)\n",
    "    \n",
    "    month_lst = [ \"haha\",\n",
    "               \"jan\", \"feb\", \"mar\", \"apr\",\n",
    "               \"may\", \"jun\", \"jul\", \"aug\",\n",
    "               \"sep\", \"oct\", \"nov\", \"dec\"]\n",
    "    \n",
    "    day_of_week_abbr=day_of_week_str.capitalize()\n",
    "    # Get the abbreviated name of the day of the week\n",
    "    day_of_week_abbr = day_of_week_abbr[:3]\n",
    "\n",
    "    # Get the day of the week number\n",
    "    day_of_week = list(calendar.day_abbr).index(day_of_week_abbr)\n",
    "    month_num = month_lst.index(month)\n",
    "    \n",
    "    # Iterate over the days in the month and find the first day that matches the day of the week\n",
    "    for day in range(1, calendar.monthrange(year, month_num)[1] + 1):\n",
    "        if calendar.weekday(year, month_num, day) == day_of_week:\n",
    "            return f\"{day:02}\"\n",
    "    return None\n",
    "\n",
    "\n",
    "\n",
    "def map_date(data):\n",
    "    # Make a copy of the original dataframe\n",
    "    new_data = data.copy()\n",
    "    \n",
    "    # Insert a new \"date\" column filled with zeros\n",
    "    new_data.insert(loc=10, column=\"date\", value=0)\n",
    "    \n",
    "    month_lst = [ \"haha\",\n",
    "               \"jan\", \"feb\", \"mar\", \"apr\",\n",
    "               \"may\", \"jun\", \"jul\", \"aug\",\n",
    "               \"sep\", \"oct\", \"nov\", \"dec\"]\n",
    "    \n",
    "    # Loop through the rows of the dataframe, updating the date column\n",
    "    for i in range(0,len(new_data)):\n",
    "        day = int(new_data[\"day\"][i])\n",
    "        new_data.at[i, \"date\"] = str(new_data[\"year\"][i]) + \"-\" + \\\n",
    "        str( month_lst.index(new_data[\"month\"][i]) ) + \"-\" + \\\n",
    "        str(f\"{day:02}\")\n",
    "    return new_data\n"
   ]
  },
  {
   "cell_type": "code",
   "execution_count": 16,
   "id": "2b76dfda",
   "metadata": {},
   "outputs": [
    {
     "ename": "NameError",
     "evalue": "name 'bank_full' is not defined",
     "output_type": "error",
     "traceback": [
      "\u001b[1;31m---------------------------------------------------------------------------\u001b[0m",
      "\u001b[1;31mNameError\u001b[0m                                 Traceback (most recent call last)",
      "Cell \u001b[1;32mIn[16], line 1\u001b[0m\n\u001b[1;32m----> 1\u001b[0m res_full_date \u001b[38;5;241m=\u001b[39m map_date(data \u001b[38;5;241m=\u001b[39m \u001b[43mbank_full\u001b[49m)\n\u001b[0;32m      2\u001b[0m res_full_date\u001b[38;5;241m.\u001b[39mhead()\n",
      "\u001b[1;31mNameError\u001b[0m: name 'bank_full' is not defined"
     ]
    }
   ],
   "source": [
    "res_full_date = map_date(data = bank_full)\n",
    "res_full_date.head()"
   ]
  },
  {
   "cell_type": "code",
   "execution_count": 17,
   "id": "063566b4",
   "metadata": {},
   "outputs": [
    {
     "ename": "NameError",
     "evalue": "name 'res_full_date' is not defined",
     "output_type": "error",
     "traceback": [
      "\u001b[1;31m---------------------------------------------------------------------------\u001b[0m",
      "\u001b[1;31mNameError\u001b[0m                                 Traceback (most recent call last)",
      "Cell \u001b[1;32mIn[17], line 1\u001b[0m\n\u001b[1;32m----> 1\u001b[0m \u001b[43mres_full_date\u001b[49m\u001b[38;5;241m.\u001b[39minfo()\n",
      "\u001b[1;31mNameError\u001b[0m: name 'res_full_date' is not defined"
     ]
    }
   ],
   "source": [
    "res_full_date.info()"
   ]
  },
  {
   "cell_type": "markdown",
   "id": "19f26da6",
   "metadata": {},
   "source": [
    "# Dataset - 2 (additional-full.csv)"
   ]
  },
  {
   "cell_type": "code",
   "execution_count": null,
   "id": "18c9da0d",
   "metadata": {},
   "outputs": [],
   "source": [
    "dataset_2 = spark.read.csv('bank-additional-full.csv',sep = \";\",header=True,inferSchema=True)"
   ]
  },
  {
   "cell_type": "code",
   "execution_count": null,
   "id": "740de412",
   "metadata": {},
   "outputs": [],
   "source": [
    "dataset_2.count()"
   ]
  },
  {
   "cell_type": "markdown",
   "id": "38b9b436",
   "metadata": {},
   "source": [
    "### Converting dataset to pandas"
   ]
  },
  {
   "cell_type": "code",
   "execution_count": null,
   "id": "98d5acc6",
   "metadata": {},
   "outputs": [],
   "source": [
    "pdf_2 = dataset_2.toPandas()"
   ]
  },
  {
   "cell_type": "code",
   "execution_count": null,
   "id": "598aa21d",
   "metadata": {},
   "outputs": [],
   "source": [
    "pdf_2.head(5)"
   ]
  },
  {
   "cell_type": "markdown",
   "id": "75052cab",
   "metadata": {},
   "source": [
    "### Replacing pdays 999 value to -1"
   ]
  },
  {
   "cell_type": "code",
   "execution_count": null,
   "id": "0c652aa4",
   "metadata": {},
   "outputs": [],
   "source": [
    "pdf_2[\"pdays\"] = pdf_2[\"pdays\"].replace(999, -1)"
   ]
  },
  {
   "cell_type": "code",
   "execution_count": null,
   "id": "7c501103",
   "metadata": {},
   "outputs": [],
   "source": [
    "pdf_2.head(5)"
   ]
  },
  {
   "cell_type": "markdown",
   "id": "396eee49",
   "metadata": {},
   "source": [
    "### Renaming column names"
   ]
  },
  {
   "cell_type": "code",
   "execution_count": null,
   "id": "cd9e1677",
   "metadata": {},
   "outputs": [],
   "source": [
    "old_col_list = [\"emp.var.rate\", \"cons.price.idx\", \"cons.conf.idx\", \"euribor3m\", \"nr.employed\"]\n",
    "for i in range(0, len(old_col_list)):\n",
    "    pdf_2.rename(columns={old_col_list[i]: new_cols[i]}, inplace=True)"
   ]
  },
  {
   "cell_type": "code",
   "execution_count": null,
   "id": "528f024e",
   "metadata": {},
   "outputs": [],
   "source": [
    "pdf_2.head(5)"
   ]
  },
  {
   "cell_type": "markdown",
   "id": "e8013c6e",
   "metadata": {},
   "source": [
    "## Adding year mapper function to add year to dataset - 2(addition-full.csv)"
   ]
  },
  {
   "cell_type": "code",
   "execution_count": null,
   "id": "cc4a66ff",
   "metadata": {},
   "outputs": [],
   "source": [
    "def year_mapper(data, start_yr):\n",
    "    month_lst = [\"jan\", \"feb\", \"mar\", \"apr\", \"may\", \"jun\", \"jul\", \"aug\", \"sep\", \"oct\", \"nov\", \"dec\"]\n",
    "\n",
    "    # Make a copy of the original dataframe\n",
    "    new_data = data.copy()\n",
    "\n",
    "    # Insert a new \"year\" column filled with zeros\n",
    "    new_data.insert(loc=0, column=\"year\", value=0)\n",
    "\n",
    "    # Set the first year to the start year\n",
    "    current_year = int(start_yr)\n",
    "    new_data.at[0, \"year\"] = current_year\n",
    "\n",
    "    # Loop through the rows of the dataframe, updating the year column when the month changes\n",
    "    for i in range(1, len(new_data)):\n",
    "        # If the current month is earlier in the year than the previous month, increment the year\n",
    "        if month_lst.index(new_data[\"month\"][i]) < month_lst.index(new_data[\"month\"][i-1]):\n",
    "            current_year += 1\n",
    "\n",
    "        new_data.at[i, \"year\"] = current_year\n",
    "\n",
    "        # If the current year exceeds the end year, break out of the loop\n",
    "        if current_year > 2010:\n",
    "            break\n",
    "\n",
    "    return new_data"
   ]
  },
  {
   "cell_type": "code",
   "execution_count": null,
   "id": "eaea0abf",
   "metadata": {},
   "outputs": [],
   "source": [
    "result_addition = year_mapper( data = pdf_2, start_yr = 2008)\n",
    "result_addition.head()"
   ]
  },
  {
   "cell_type": "code",
   "execution_count": null,
   "id": "37db2ebb",
   "metadata": {},
   "outputs": [],
   "source": [
    "result_addition[\"year\"].value_counts()"
   ]
  },
  {
   "cell_type": "markdown",
   "id": "518eb2c5",
   "metadata": {},
   "source": [
    "### adding date column to additional "
   ]
  },
  {
   "cell_type": "code",
   "execution_count": null,
   "id": "10e7cb1b",
   "metadata": {},
   "outputs": [],
   "source": [
    "\n",
    "\n",
    "def get_date(month, year, day_of_week_str):\n",
    "    import calendar\n",
    "    year = int(year)\n",
    "    \n",
    "    month_lst = [ \"haha\",\n",
    "               \"jan\", \"feb\", \"mar\", \"apr\",\n",
    "               \"may\", \"jun\", \"jul\", \"aug\",\n",
    "               \"sep\", \"oct\", \"nov\", \"dec\"]\n",
    "    \n",
    "    day_of_week_abbr=day_of_week_str.capitalize()\n",
    "    # Get the abbreviated name of the day of the week\n",
    "    day_of_week_abbr = day_of_week_abbr[:3]\n",
    "\n",
    "    # Get the day of the week number\n",
    "    day_of_week = list(calendar.day_abbr).index(day_of_week_abbr)\n",
    "    month_num = month_lst.index(month)\n",
    "    \n",
    "    # Iterate over the days in the month and find the first day that matches the day of the week\n",
    "    for day in range(1, calendar.monthrange(year, month_num)[1] + 1):\n",
    "        if calendar.weekday(year, month_num, day) == day_of_week:\n",
    "            return f\"{day:02}\"\n",
    "    return None\n",
    "\n",
    "\n",
    "def map_date2(data):\n",
    "    # Make a copy of the original dataframe\n",
    "    new_data = data.copy()\n",
    "    \n",
    "    # Insert a new \"date\" column filled with zeros\n",
    "    new_data.insert(loc=10, column=\"date\", value=0)\n",
    "    \n",
    "    month_lst = [ \"haha\",\n",
    "               \"jan\", \"feb\", \"mar\", \"apr\",\n",
    "               \"may\", \"jun\", \"jul\", \"aug\",\n",
    "               \"sep\", \"oct\", \"nov\", \"dec\"]\n",
    "    \n",
    "    # Loop through the rows of the dataframe, updating the date column\n",
    "    for i in range(0,len(new_data)):\n",
    "        \n",
    "        new_data.at[i, \"date\"] = str(new_data[\"year\"][i]) + \"-\" + \\\n",
    "        str( month_lst.index(new_data[\"month\"][i]) ) + \"-\" + \\\n",
    "        str( get_date(month = new_data[\"month\"][i],\n",
    "                      year = new_data[\"year\"][i],\n",
    "                      day_of_week_str = new_data[\"day_of_week\"][i]) )\n",
    "    return new_data\n"
   ]
  },
  {
   "cell_type": "code",
   "execution_count": null,
   "id": "a3c18ad1",
   "metadata": {
    "scrolled": true
   },
   "outputs": [],
   "source": [
    "res_add_date = map_date2(data=result_addition)\n",
    "res_add_date.head()"
   ]
  },
  {
   "cell_type": "code",
   "execution_count": null,
   "id": "39468fb2",
   "metadata": {},
   "outputs": [],
   "source": [
    "old_edu = [\"basic.4y\", \"high.school\", \"basic.6y\", \"basic.9y\", \"university.degree\", \"professional.course\"]\n",
    "new_edu = [\"basic_4y\", \"high_school\", \"basic_6y\", \"basic_9y\", \"university_degree\" ,\"professional_course\"]\n",
    "\n",
    "for i in range(0,6):\n",
    "    res_add_date.loc[(res_add_date['education'] == old_edu[i]), \"education\"] = new_edu[i]"
   ]
  },
  {
   "cell_type": "code",
   "execution_count": null,
   "id": "3f574c93",
   "metadata": {},
   "outputs": [],
   "source": [
    "res_add_date.head()"
   ]
  },
  {
   "cell_type": "code",
   "execution_count": null,
   "id": "53baaf6a",
   "metadata": {},
   "outputs": [],
   "source": [
    "res_add_date.info()"
   ]
  },
  {
   "cell_type": "code",
   "execution_count": null,
   "id": "615f0976",
   "metadata": {},
   "outputs": [],
   "source": [
    "res_add_date = res_add_date.drop([\"day_of_week\",\"year\",\"month\"], axis=1)"
   ]
  },
  {
   "cell_type": "code",
   "execution_count": null,
   "id": "174b1361",
   "metadata": {},
   "outputs": [],
   "source": [
    "res_full_date = res_full_date.drop([\"balance\",\"year\",\"month\",\"day\"], axis=1)"
   ]
  },
  {
   "cell_type": "code",
   "execution_count": null,
   "id": "0405d2df",
   "metadata": {},
   "outputs": [],
   "source": [
    "res_add_date.head()"
   ]
  },
  {
   "cell_type": "code",
   "execution_count": null,
   "id": "289b369d",
   "metadata": {},
   "outputs": [],
   "source": [
    "res_full_date.head()"
   ]
  },
  {
   "cell_type": "markdown",
   "id": "988e07bc",
   "metadata": {},
   "source": [
    "## Concatinating two datasets into one"
   ]
  },
  {
   "cell_type": "code",
   "execution_count": null,
   "id": "25c45ab8",
   "metadata": {},
   "outputs": [],
   "source": [
    "frames  = [res_add_date, res_full_date]\n",
    "\n",
    "bank_data = pd.concat(frames)"
   ]
  },
  {
   "cell_type": "code",
   "execution_count": null,
   "id": "e9946fa0",
   "metadata": {},
   "outputs": [],
   "source": [
    "bank_data.head()"
   ]
  },
  {
   "cell_type": "code",
   "execution_count": null,
   "id": "89076b05",
   "metadata": {},
   "outputs": [],
   "source": [
    "bank_data.info()"
   ]
  },
  {
   "cell_type": "code",
   "execution_count": null,
   "id": "830b2fcc",
   "metadata": {},
   "outputs": [],
   "source": [
    "bank_data.describe()"
   ]
  },
  {
   "cell_type": "code",
   "execution_count": null,
   "id": "0e3cd07d",
   "metadata": {},
   "outputs": [],
   "source": [
    "bank_data.columns"
   ]
  },
  {
   "cell_type": "code",
   "execution_count": null,
   "id": "c76fb85d",
   "metadata": {},
   "outputs": [],
   "source": [
    "categories = bank_data.filter([\"job\",\"marital\",\"education\",\"default\",\"housing\",\"loan\",\"contact\",\"month\",\"year\",\"poutcome\",\"y\"])\n",
    "continuous = bank_data.filter([\"age\",\"duration\",\"campaign\",\"pdays\",\"previus\",\"emp_var_rate\",\"cons_price_idx\",\"cons_conf_idx\",\"euribor_3m\",\"nr_employed\"])"
   ]
  },
  {
   "cell_type": "code",
   "execution_count": null,
   "id": "ecf5da1f",
   "metadata": {},
   "outputs": [],
   "source": [
    "for columns in categories:\n",
    "    print(\"Column Name\", columns)\n",
    "    print(\"-----------------------\")\n",
    "    print(categories[columns].value_counts())\n",
    "    print(\"     \")\n",
    "    print(\"******************************************************\")\n",
    "    print(\"     \")"
   ]
  },
  {
   "cell_type": "code",
   "execution_count": null,
   "id": "5415be1d",
   "metadata": {},
   "outputs": [],
   "source": [
    "bank_data.loc[(bank_data['job'] == \"admin.\"), \"job\"] = \"admin\"\n",
    "bank_data[\"job\"].unique()"
   ]
  },
  {
   "cell_type": "code",
   "execution_count": null,
   "id": "bffdbc02",
   "metadata": {},
   "outputs": [],
   "source": [
    "bank_data = bank_data.replace([\"unknown\",\"nonexistent\"], np.nan)"
   ]
  },
  {
   "cell_type": "code",
   "execution_count": null,
   "id": "e0dbd334",
   "metadata": {},
   "outputs": [],
   "source": [
    "bank_data.head()"
   ]
  },
  {
   "cell_type": "code",
   "execution_count": null,
   "id": "def6df61",
   "metadata": {},
   "outputs": [],
   "source": [
    "bank_data.isnull().sum()"
   ]
  },
  {
   "cell_type": "code",
   "execution_count": null,
   "id": "679c07c2",
   "metadata": {},
   "outputs": [],
   "source": [
    "for columns in categories:\n",
    "    bank_data[columns] = bank_data[columns].fillna(bank_data[columns].mode()[0])\n",
    "# Replacing null values of categorical columns with the mode"
   ]
  },
  {
   "cell_type": "code",
   "execution_count": null,
   "id": "bda18b5e",
   "metadata": {},
   "outputs": [],
   "source": [
    "for cols in continuous:\n",
    "    bank_data[cols] = bank_data[cols].fillna(bank_data[cols].mean())\n",
    "# Replacing null values of Continuous columns with the mean\n"
   ]
  },
  {
   "cell_type": "code",
   "execution_count": null,
   "id": "30822d89",
   "metadata": {},
   "outputs": [],
   "source": [
    "bank_data.isnull().sum()"
   ]
  },
  {
   "cell_type": "code",
   "execution_count": null,
   "id": "356216c9",
   "metadata": {},
   "outputs": [],
   "source": [
    "correlation = bank_data.corr()\n",
    "sns.heatmap(correlation)"
   ]
  },
  {
   "cell_type": "markdown",
   "id": "dd31d3a8",
   "metadata": {},
   "source": [
    "## Hypothesis Testing"
   ]
  },
  {
   "cell_type": "markdown",
   "id": "78022d7b",
   "metadata": {},
   "source": [
    "### Chi_square test"
   ]
  },
  {
   "cell_type": "code",
   "execution_count": null,
   "id": "b8adf828",
   "metadata": {},
   "outputs": [],
   "source": [
    "from scipy.stats import chi2_contingency\n",
    "\n",
    "hypo_cat_columns = [\"default\",\"housing\",\"loan\",\"job\",\"education\"]\n",
    "\n",
    "for column in hypo_cat_columns:\n",
    "    ctab = pd.crosstab(bank_data[\"y\"], bank_data[column])\n",
    "    test_statistic, p_value, df, expected_frequencies = chi2_contingency(ctab)\n",
    "    print(\"p_value for \",column,\" \", p_value)\n",
    "    print(\"--------------------------------\")"
   ]
  },
  {
   "cell_type": "markdown",
   "id": "bd05761e",
   "metadata": {},
   "source": [
    "### Annova_test"
   ]
  },
  {
   "cell_type": "code",
   "execution_count": null,
   "id": "c114b84f",
   "metadata": {},
   "outputs": [],
   "source": [
    "from statsmodels.stats.anova import anova_lm\n",
    "from statsmodels.formula.api import ols\n",
    "from statsmodels.stats.multicomp import pairwise_tukeyhsd"
   ]
  },
  {
   "cell_type": "code",
   "execution_count": null,
   "id": "bfd77166",
   "metadata": {},
   "outputs": [],
   "source": [
    "# Annova test for age column\n",
    "agr_ols = ols(\"age ~ y\", data=bank_data).fit()\n",
    "table = anova_lm(agr_ols, typ=2)\n",
    "print(table)"
   ]
  },
  {
   "cell_type": "code",
   "execution_count": null,
   "id": "80b6a811",
   "metadata": {},
   "outputs": [],
   "source": [
    "# Annova test for duration column\n",
    "agr_ols = ols(\"duration ~ y\", data=bank_data).fit()\n",
    "table = anova_lm(agr_ols, typ=2)\n",
    "print(table)"
   ]
  },
  {
   "cell_type": "markdown",
   "id": "6ddb22fb",
   "metadata": {},
   "source": [
    "### Annova tuckey's test"
   ]
  },
  {
   "cell_type": "code",
   "execution_count": null,
   "id": "4b5d1d0c",
   "metadata": {},
   "outputs": [],
   "source": [
    "compare = pairwise_tukeyhsd(bank_data['age'], \n",
    "                            bank_data['y'], alpha=0.05)\n",
    "\n",
    "result = pd.DataFrame(compare._results_table.data)\n",
    "result"
   ]
  },
  {
   "cell_type": "code",
   "execution_count": null,
   "id": "26ddbc04",
   "metadata": {},
   "outputs": [],
   "source": [
    "compare = pairwise_tukeyhsd(bank_data['duration'], \n",
    "                            bank_data['y'], alpha=0.05)\n",
    "\n",
    "result = pd.DataFrame(compare._results_table.data)\n",
    "result"
   ]
  },
  {
   "cell_type": "markdown",
   "id": "b80a679e",
   "metadata": {},
   "source": [
    "## Data_preprocessing"
   ]
  },
  {
   "cell_type": "code",
   "execution_count": null,
   "id": "8749b5c4",
   "metadata": {},
   "outputs": [],
   "source": [
    "# Creating a dictionary for converting categorical textual data entries\n",
    "# into categorical numeric on basis of job profile\n",
    "job_dict = {\"entrepreneur\":11, \"self-employed\":10, \"admin\":9, \"management\":8, \"services\":7, \n",
    "       \"technician\":6, \"blue-collar\":5, \"housemaid\":4, \"retired\":3, \"student\":2, \"unemployed\":1}"
   ]
  },
  {
   "cell_type": "code",
   "execution_count": null,
   "id": "4a9acf1d",
   "metadata": {},
   "outputs": [],
   "source": [
    "bank_data[\"jobs\"] = bank_data[\"job\"].map(job_dict)\n",
    "bank_data = bank_data.drop(\"job\", axis=1)"
   ]
  },
  {
   "cell_type": "code",
   "execution_count": null,
   "id": "f5da60cd",
   "metadata": {},
   "outputs": [],
   "source": [
    "bank_data.head()"
   ]
  },
  {
   "cell_type": "code",
   "execution_count": null,
   "id": "1c12afd1",
   "metadata": {},
   "outputs": [],
   "source": [
    "marital_dict = {\"married\":3, \"single\":2, \"divorced\":1}\n",
    "bank_data[\"maritals\"] = bank_data[\"marital\"].map(marital_dict)\n",
    "bank_data = bank_data.drop(\"marital\", axis=1)\n",
    "bank_data.head()"
   ]
  },
  {
   "cell_type": "code",
   "execution_count": null,
   "id": "a24c4973",
   "metadata": {},
   "outputs": [],
   "source": [
    "edu_dict = {\"professional_course\":10, \"university_degree\":9, \"tertiary\":8, \"secondary\":7, \n",
    "       \"high_school\":6, \"basic_9y\":5, \"basic_6y\":4, \"primary\":3, \"basic_4y\":2, \"illiterate\":1}\n",
    "bank_data[\"education\"] = bank_data[\"education\"].map(edu_dict)\n",
    "#new_data = new_data.drop(\"marital\", axis=1)\n",
    "bank_data.head()"
   ]
  },
  {
   "cell_type": "code",
   "execution_count": null,
   "id": "443d96c9",
   "metadata": {},
   "outputs": [],
   "source": [
    "bank_data.head()"
   ]
  },
  {
   "cell_type": "code",
   "execution_count": null,
   "id": "2bf9573e",
   "metadata": {},
   "outputs": [],
   "source": [
    "# Convert the date column to a datetime object\n",
    "bank_data['date'] = pd.to_datetime(bank_data['date'])\n",
    "\n",
    "# Add a new column with the quarter based on the date values\n",
    "bank_data['quarter'] = bank_data['date'].apply(lambda x: \"q\"+str((x.month-1)//3 + 1))\n",
    "\n",
    "bank_data.head()"
   ]
  },
  {
   "cell_type": "markdown",
   "id": "5ecfc16e",
   "metadata": {},
   "source": [
    "quarters = [\"Q1\", \"Q2\", \"Q3\", \"Q4\"]\n",
    "months = [[\"jan\",\"feb\",\"mar\"],[\"apr\",\"may\",\"jun\"],[\"jul\",\"aug\",\"sep\"],[\"oct\",\"nov\",\"dec\"]]\n",
    "\n",
    "for i in range(0,4):\n",
    "    new_data[\"month\"] = new_data[\"month\"].replace(months[i], quarters[i])"
   ]
  },
  {
   "cell_type": "markdown",
   "id": "f8873b11",
   "metadata": {},
   "source": [
    "new_data[\"month\"].unique()"
   ]
  },
  {
   "cell_type": "code",
   "execution_count": null,
   "id": "1b156f59",
   "metadata": {},
   "outputs": [],
   "source": [
    "bank_data[\"y\"] = bank_data[\"y\"].replace(\"yes\", 1)\n",
    "bank_data[\"y\"] = bank_data[\"y\"].replace(\"no\", 0)"
   ]
  },
  {
   "cell_type": "code",
   "execution_count": null,
   "id": "8b9026cd",
   "metadata": {},
   "outputs": [],
   "source": [
    "bank_data = pd.get_dummies(data = bank_data, drop_first = True)\n",
    "bank_data.head(5)"
   ]
  },
  {
   "cell_type": "code",
   "execution_count": null,
   "id": "d4515b94",
   "metadata": {},
   "outputs": [],
   "source": [
    "outliers_columns = [\"age\",\"duration\",\"campaign\",\"pdays\",\"previous\"]"
   ]
  },
  {
   "cell_type": "code",
   "execution_count": null,
   "id": "9c7def7f",
   "metadata": {},
   "outputs": [],
   "source": [
    "def plot_box():\n",
    "    plt.figure(figsize=(10,10))\n",
    "    plt.subplot(3,2,1)\n",
    "    bank_data.boxplot(column=[\"age\"])\n",
    "\n",
    "    plt.subplot(3,2,2)\n",
    "    bank_data.boxplot(column=[\"duration\"])\n",
    "\n",
    "    plt.subplot(3,2,3)\n",
    "    bank_data.boxplot(column=[\"campaign\"])\n",
    "\n",
    "    plt.subplot(3,2,4)\n",
    "    bank_data.boxplot(column=[\"pdays\"])\n",
    "\n",
    "    plt.subplot(3,2,5)\n",
    "    bank_data.boxplot(column=[\"previous\"])\n",
    "           \n",
    "plot_box()"
   ]
  },
  {
   "cell_type": "code",
   "execution_count": null,
   "id": "76b51787",
   "metadata": {},
   "outputs": [],
   "source": [
    "max_out_limit = []\n",
    "for cols in outliers_columns:\n",
    "    q3 = bank_data[cols].quantile(0.75)\n",
    "    q1 = bank_data[cols].quantile(0.25)\n",
    "    iqr = q3 - q1\n",
    "    iqr = iqr*1.5\n",
    "    max_limit = q3 + iqr\n",
    "    min_limit = q1 - iqr\n",
    "    max_out_limit.append(max_limit)\n",
    "    print(cols, \"max_limit: \",max_limit,\" min_limit: \",min_limit)\n",
    "else:\n",
    "    print(\"------------------------------------------\")\n",
    "    print(max_out_limit)"
   ]
  },
  {
   "cell_type": "code",
   "execution_count": null,
   "id": "2ed603f4",
   "metadata": {},
   "outputs": [],
   "source": [
    "for i, j in zip(outliers_columns, max_out_limit):\n",
    "    bank_data.loc[bank_data[i]>=j, i]=j"
   ]
  },
  {
   "cell_type": "code",
   "execution_count": null,
   "id": "34ad370e",
   "metadata": {},
   "outputs": [],
   "source": [
    "plot_box()"
   ]
  },
  {
   "cell_type": "code",
   "execution_count": null,
   "id": "13e8b1af",
   "metadata": {},
   "outputs": [],
   "source": [
    "bank_data = bank_data.drop([\"date\"],axis = 1)"
   ]
  },
  {
   "cell_type": "code",
   "execution_count": null,
   "id": "63bbefea",
   "metadata": {},
   "outputs": [],
   "source": [
    "features = []\n",
    "for columns in bank_data:\n",
    "    features.append(columns)\n",
    "else:\n",
    "    print(features)"
   ]
  },
  {
   "cell_type": "code",
   "execution_count": null,
   "id": "a9ec8880",
   "metadata": {},
   "outputs": [],
   "source": [
    "bank_data.head()"
   ]
  },
  {
   "cell_type": "code",
   "execution_count": null,
   "id": "80b8a39f",
   "metadata": {},
   "outputs": [],
   "source": [
    "tele_copy = bank_data.copy()\n",
    "tele_copy.to_csv(\"bank_spark.csv\")"
   ]
  },
  {
   "cell_type": "markdown",
   "id": "cbec9a64",
   "metadata": {},
   "source": [
    "### Machine Learning Model"
   ]
  },
  {
   "cell_type": "code",
   "execution_count": null,
   "id": "503f9775",
   "metadata": {},
   "outputs": [],
   "source": [
    "from sklearn.linear_model import LogisticRegression\n",
    "from sklearn.neighbors import KNeighborsClassifier\n",
    "from sklearn.ensemble import RandomForestClassifier\n",
    "from sklearn.tree import DecisionTreeClassifier\n",
    "from sklearn.svm import SVC\n",
    "from sklearn.ensemble import VotingClassifier\n",
    "from sklearn.model_selection import train_test_split\n",
    "from sklearn.metrics import accuracy_score, confusion_matrix, classification_report\n",
    "from sklearn.metrics import roc_curve, roc_auc_score"
   ]
  },
  {
   "cell_type": "code",
   "execution_count": null,
   "id": "45a633cc",
   "metadata": {},
   "outputs": [],
   "source": [
    "df = pd.read_csv(\"bank_spark.csv\")"
   ]
  },
  {
   "cell_type": "code",
   "execution_count": null,
   "id": "62477838",
   "metadata": {},
   "outputs": [],
   "source": [
    "x = df.drop([\"y\",\"Unnamed: 0\"], axis=1)\n",
    "y = df[\"y\"]"
   ]
  },
  {
   "cell_type": "code",
   "execution_count": null,
   "id": "6bf34ac8",
   "metadata": {},
   "outputs": [],
   "source": [
    "x.head()"
   ]
  },
  {
   "cell_type": "code",
   "execution_count": null,
   "id": "9acfcf03",
   "metadata": {},
   "outputs": [],
   "source": [
    "from sklearn.preprocessing import StandardScaler\n",
    "scaler = StandardScaler()\n",
    "x = pd.DataFrame(scaler.fit_transform(x), columns=x.columns)"
   ]
  },
  {
   "cell_type": "code",
   "execution_count": null,
   "id": "fe27a75c",
   "metadata": {},
   "outputs": [],
   "source": [
    "x.head()"
   ]
  },
  {
   "cell_type": "code",
   "execution_count": null,
   "id": "76fe9d77",
   "metadata": {},
   "outputs": [],
   "source": [
    "y.head()"
   ]
  },
  {
   "cell_type": "code",
   "execution_count": null,
   "id": "2b66b4b8",
   "metadata": {},
   "outputs": [],
   "source": [
    "x_train, x_test, y_train, y_test = train_test_split(x, y, random_state = 2022, test_size = 0.25)"
   ]
  },
  {
   "cell_type": "markdown",
   "id": "1f7fa96b",
   "metadata": {},
   "source": [
    "### Logistic Regression"
   ]
  },
  {
   "cell_type": "code",
   "execution_count": null,
   "id": "348b6ee9",
   "metadata": {},
   "outputs": [],
   "source": [
    "lr = LogisticRegression()\n",
    "lr.fit(x_train, y_train)\n",
    "y_pred = lr.predict(x_test)\n",
    "y_pred_prob = lr.predict_proba(x_test)[:,1]\n",
    "\n",
    "print(accuracy_score(y_test, y_pred))\n",
    "print(roc_auc_score(y_test, y_pred_prob))"
   ]
  },
  {
   "cell_type": "code",
   "execution_count": null,
   "id": "32735165",
   "metadata": {},
   "outputs": [],
   "source": [
    "rfc = RandomForestClassifier()\n",
    "rfc.fit(x_train, y_train)\n",
    "y_pred = rfc.predict(x_test)\n",
    "y_pred_prob = rfc.predict_proba(x_test)[:,1]\n",
    "\n",
    "print(accuracy_score(y_test, y_pred))\n",
    "print(roc_auc_score(y_test, y_pred_prob))"
   ]
  },
  {
   "cell_type": "markdown",
   "id": "14aefac5",
   "metadata": {},
   "source": [
    "svm = SVC(kernel=\"poly\", probability = True,  random_state = 2022)\n",
    "svm.fit(x_train, y_train)\n",
    "y_pred = svm.predict(x_test)\n",
    "y_pred_prob = svm.predict_proba(x_test)[:,1]\n",
    "\n",
    "print(accuracy_score(y_test, y_pred))\n",
    "print(roc_auc_score(y_test, y_pred_prob))"
   ]
  },
  {
   "cell_type": "code",
   "execution_count": null,
   "id": "f536e472",
   "metadata": {},
   "outputs": [],
   "source": [
    "dtc = DecisionTreeClassifier()\n",
    "dtc.fit(x_train, y_train)\n",
    "y_pred = dtc.predict(x_test)\n",
    "y_pred_prob = dtc.predict_proba(x_test)[:,1]\n",
    "\n",
    "print(accuracy_score(y_test, y_pred))\n",
    "print(roc_auc_score(y_test, y_pred_prob))"
   ]
  },
  {
   "cell_type": "code",
   "execution_count": null,
   "id": "c09ebd93",
   "metadata": {},
   "outputs": [],
   "source": [
    "voting = VotingClassifier([('LR',lr),('RFC',rfc),('DTC',dtc)],voting='soft')\n",
    "voting.fit(x_train, y_train)\n",
    "y_pred = voting.predict(x_test)\n",
    "y_pred_prob = voting.predict_proba(x_test)[:,1]\n",
    "\n",
    "print(accuracy_score(y_test, y_pred))\n",
    "print(roc_auc_score(y_test, y_pred_prob))"
   ]
  },
  {
   "cell_type": "code",
   "execution_count": null,
   "id": "661d3035",
   "metadata": {},
   "outputs": [],
   "source": [
    "from sklearn.metrics import accuracy_score, ConfusionMatrixDisplay, classification_report"
   ]
  },
  {
   "cell_type": "code",
   "execution_count": null,
   "id": "b86b07e9",
   "metadata": {},
   "outputs": [],
   "source": [
    "ConfusionMatrixDisplay.from_predictions(y_test, y_pred)"
   ]
  },
  {
   "cell_type": "code",
   "execution_count": null,
   "id": "e1afc55e",
   "metadata": {},
   "outputs": [],
   "source": [
    "print(classification_report(y_test, y_pred))"
   ]
  },
  {
   "cell_type": "code",
   "execution_count": null,
   "id": "ca492785",
   "metadata": {},
   "outputs": [],
   "source": []
  }
 ],
 "metadata": {
  "kernelspec": {
   "display_name": "Python 3 (ipykernel)",
   "language": "python",
   "name": "python3"
  },
  "language_info": {
   "codemirror_mode": {
    "name": "ipython",
    "version": 3
   },
   "file_extension": ".py",
   "mimetype": "text/x-python",
   "name": "python",
   "nbconvert_exporter": "python",
   "pygments_lexer": "ipython3",
   "version": "3.9.16"
  }
 },
 "nbformat": 4,
 "nbformat_minor": 5
}
