{
 "cells": [
  {
   "cell_type": "code",
   "execution_count": 1,
   "id": "705bd23d",
   "metadata": {},
   "outputs": [],
   "source": [
    "import pandas as pd\n",
    "import numpy as np\n",
    "from pyspark.sql import SparkSession\n",
    "from pyspark.sql.types import *\n",
    "import seaborn as sns\n",
    "import matplotlib.pyplot as plt\n",
    "from pyspark.sql.functions import when\n",
    "from pyspark.sql.functions import col, sum, count"
   ]
  },
  {
   "cell_type": "code",
   "execution_count": 2,
   "id": "f8523fe6",
   "metadata": {},
   "outputs": [],
   "source": [
    "spark = SparkSession.builder.master('local[4]').appName('ml').getOrCreate()"
   ]
  },
  {
   "cell_type": "markdown",
   "id": "0b5fb2b3",
   "metadata": {},
   "source": [
    "### Bank Full (dataset-1)"
   ]
  },
  {
   "cell_type": "code",
   "execution_count": 3,
   "id": "36bc5d86",
   "metadata": {},
   "outputs": [],
   "source": [
    "bank_full = spark.read.csv('bank-full.csv',header=True,inferSchema=True)"
   ]
  },
  {
   "cell_type": "code",
   "execution_count": 4,
   "id": "588df899",
   "metadata": {},
   "outputs": [
    {
     "data": {
      "text/plain": [
       "45211"
      ]
     },
     "execution_count": 4,
     "metadata": {},
     "output_type": "execute_result"
    }
   ],
   "source": [
    "bank_full.count()"
   ]
  },
  {
   "cell_type": "code",
   "execution_count": 5,
   "id": "4b019844",
   "metadata": {},
   "outputs": [
    {
     "data": {
      "text/plain": [
       "DataFrame[\"age\";\"job\";\"marital\";\"education\";\"default\";\"balance\";\"housing\";\"loan\";\"contact\";\"day\";\"month\";\"duration\";\"campaign\";\"pdays\";\"previous\";\"poutcome\";\"y\": string]"
      ]
     },
     "metadata": {},
     "output_type": "display_data"
    }
   ],
   "source": [
    "display(bank_full.limit(5))"
   ]
  },
  {
   "cell_type": "code",
   "execution_count": 6,
   "id": "13f2767a",
   "metadata": {},
   "outputs": [
    {
     "name": "stdout",
     "output_type": "stream",
     "text": [
      "root\n",
      " |-- \"age\";\"job\";\"marital\";\"education\";\"default\";\"balance\";\"housing\";\"loan\";\"contact\";\"day\";\"month\";\"duration\";\"campaign\";\"pdays\";\"previous\";\"poutcome\";\"y\": string (nullable = true)\n",
      "\n"
     ]
    }
   ],
   "source": [
    "bank_full.printSchema()"
   ]
  },
  {
   "cell_type": "code",
   "execution_count": 7,
   "id": "58c29062",
   "metadata": {},
   "outputs": [
    {
     "ename": "AnalysisException",
     "evalue": "Cannot resolve column name \"poutcome\" among (\"age\";\"job\";\"marital\";\"education\";\"default\";\"balance\";\"housing\";\"loan\";\"contact\";\"day\";\"month\";\"duration\";\"campaign\";\"pdays\";\"previous\";\"poutcome\";\"y\")",
     "output_type": "error",
     "traceback": [
      "\u001b[1;31m---------------------------------------------------------------------------\u001b[0m",
      "\u001b[1;31mAnalysisException\u001b[0m                         Traceback (most recent call last)",
      "Cell \u001b[1;32mIn[7], line 3\u001b[0m\n\u001b[0;32m      1\u001b[0m new_cols \u001b[38;5;241m=\u001b[39m [\u001b[38;5;124m\"\u001b[39m\u001b[38;5;124memp_var_rate\u001b[39m\u001b[38;5;124m\"\u001b[39m, \u001b[38;5;124m\"\u001b[39m\u001b[38;5;124mcons_price_idx\u001b[39m\u001b[38;5;124m\"\u001b[39m, \u001b[38;5;124m\"\u001b[39m\u001b[38;5;124mcons_conf_idx\u001b[39m\u001b[38;5;124m\"\u001b[39m, \u001b[38;5;124m\"\u001b[39m\u001b[38;5;124meuribor_3m\u001b[39m\u001b[38;5;124m\"\u001b[39m, \u001b[38;5;124m\"\u001b[39m\u001b[38;5;124mnr_employed\u001b[39m\u001b[38;5;124m\"\u001b[39m]\n\u001b[0;32m      2\u001b[0m \u001b[38;5;28;01mfor\u001b[39;00m column \u001b[38;5;129;01min\u001b[39;00m new_cols:\n\u001b[1;32m----> 3\u001b[0m     bank_full \u001b[38;5;241m=\u001b[39m bank_full\u001b[38;5;241m.\u001b[39mwithColumn(column, \u001b[43mbank_full\u001b[49m\u001b[43m[\u001b[49m\u001b[38;5;124;43m\"\u001b[39;49m\u001b[38;5;124;43mpoutcome\u001b[39;49m\u001b[38;5;124;43m\"\u001b[39;49m\u001b[43m]\u001b[49m \u001b[38;5;241m+\u001b[39m \u001b[38;5;241m1\u001b[39m)\n",
      "File \u001b[1;32m~\\AppData\\Roaming\\Python\\Python39\\site-packages\\pyspark\\sql\\dataframe.py:1965\u001b[0m, in \u001b[0;36mDataFrame.__getitem__\u001b[1;34m(self, item)\u001b[0m\n\u001b[0;32m   1949\u001b[0m \u001b[38;5;250m\u001b[39m\u001b[38;5;124;03m\"\"\"Returns the column as a :class:`Column`.\u001b[39;00m\n\u001b[0;32m   1950\u001b[0m \n\u001b[0;32m   1951\u001b[0m \u001b[38;5;124;03m.. versionadded:: 1.3.0\u001b[39;00m\n\u001b[1;32m   (...)\u001b[0m\n\u001b[0;32m   1962\u001b[0m \u001b[38;5;124;03m[Row(age=5, name='Bob')]\u001b[39;00m\n\u001b[0;32m   1963\u001b[0m \u001b[38;5;124;03m\"\"\"\u001b[39;00m\n\u001b[0;32m   1964\u001b[0m \u001b[38;5;28;01mif\u001b[39;00m \u001b[38;5;28misinstance\u001b[39m(item, \u001b[38;5;28mstr\u001b[39m):\n\u001b[1;32m-> 1965\u001b[0m     jc \u001b[38;5;241m=\u001b[39m \u001b[38;5;28;43mself\u001b[39;49m\u001b[38;5;241;43m.\u001b[39;49m\u001b[43m_jdf\u001b[49m\u001b[38;5;241;43m.\u001b[39;49m\u001b[43mapply\u001b[49m\u001b[43m(\u001b[49m\u001b[43mitem\u001b[49m\u001b[43m)\u001b[49m\n\u001b[0;32m   1966\u001b[0m     \u001b[38;5;28;01mreturn\u001b[39;00m Column(jc)\n\u001b[0;32m   1967\u001b[0m \u001b[38;5;28;01melif\u001b[39;00m \u001b[38;5;28misinstance\u001b[39m(item, Column):\n",
      "File \u001b[1;32m~\\AppData\\Roaming\\Python\\Python39\\site-packages\\py4j\\java_gateway.py:1321\u001b[0m, in \u001b[0;36mJavaMember.__call__\u001b[1;34m(self, *args)\u001b[0m\n\u001b[0;32m   1315\u001b[0m command \u001b[38;5;241m=\u001b[39m proto\u001b[38;5;241m.\u001b[39mCALL_COMMAND_NAME \u001b[38;5;241m+\u001b[39m\\\n\u001b[0;32m   1316\u001b[0m     \u001b[38;5;28mself\u001b[39m\u001b[38;5;241m.\u001b[39mcommand_header \u001b[38;5;241m+\u001b[39m\\\n\u001b[0;32m   1317\u001b[0m     args_command \u001b[38;5;241m+\u001b[39m\\\n\u001b[0;32m   1318\u001b[0m     proto\u001b[38;5;241m.\u001b[39mEND_COMMAND_PART\n\u001b[0;32m   1320\u001b[0m answer \u001b[38;5;241m=\u001b[39m \u001b[38;5;28mself\u001b[39m\u001b[38;5;241m.\u001b[39mgateway_client\u001b[38;5;241m.\u001b[39msend_command(command)\n\u001b[1;32m-> 1321\u001b[0m return_value \u001b[38;5;241m=\u001b[39m \u001b[43mget_return_value\u001b[49m\u001b[43m(\u001b[49m\n\u001b[0;32m   1322\u001b[0m \u001b[43m    \u001b[49m\u001b[43manswer\u001b[49m\u001b[43m,\u001b[49m\u001b[43m \u001b[49m\u001b[38;5;28;43mself\u001b[39;49m\u001b[38;5;241;43m.\u001b[39;49m\u001b[43mgateway_client\u001b[49m\u001b[43m,\u001b[49m\u001b[43m \u001b[49m\u001b[38;5;28;43mself\u001b[39;49m\u001b[38;5;241;43m.\u001b[39;49m\u001b[43mtarget_id\u001b[49m\u001b[43m,\u001b[49m\u001b[43m \u001b[49m\u001b[38;5;28;43mself\u001b[39;49m\u001b[38;5;241;43m.\u001b[39;49m\u001b[43mname\u001b[49m\u001b[43m)\u001b[49m\n\u001b[0;32m   1324\u001b[0m \u001b[38;5;28;01mfor\u001b[39;00m temp_arg \u001b[38;5;129;01min\u001b[39;00m temp_args:\n\u001b[0;32m   1325\u001b[0m     temp_arg\u001b[38;5;241m.\u001b[39m_detach()\n",
      "File \u001b[1;32m~\\AppData\\Roaming\\Python\\Python39\\site-packages\\pyspark\\sql\\utils.py:196\u001b[0m, in \u001b[0;36mcapture_sql_exception.<locals>.deco\u001b[1;34m(*a, **kw)\u001b[0m\n\u001b[0;32m    192\u001b[0m converted \u001b[38;5;241m=\u001b[39m convert_exception(e\u001b[38;5;241m.\u001b[39mjava_exception)\n\u001b[0;32m    193\u001b[0m \u001b[38;5;28;01mif\u001b[39;00m \u001b[38;5;129;01mnot\u001b[39;00m \u001b[38;5;28misinstance\u001b[39m(converted, UnknownException):\n\u001b[0;32m    194\u001b[0m     \u001b[38;5;66;03m# Hide where the exception came from that shows a non-Pythonic\u001b[39;00m\n\u001b[0;32m    195\u001b[0m     \u001b[38;5;66;03m# JVM exception message.\u001b[39;00m\n\u001b[1;32m--> 196\u001b[0m     \u001b[38;5;28;01mraise\u001b[39;00m converted \u001b[38;5;28;01mfrom\u001b[39;00m \u001b[38;5;28mNone\u001b[39m\n\u001b[0;32m    197\u001b[0m \u001b[38;5;28;01melse\u001b[39;00m:\n\u001b[0;32m    198\u001b[0m     \u001b[38;5;28;01mraise\u001b[39;00m\n",
      "\u001b[1;31mAnalysisException\u001b[0m: Cannot resolve column name \"poutcome\" among (\"age\";\"job\";\"marital\";\"education\";\"default\";\"balance\";\"housing\";\"loan\";\"contact\";\"day\";\"month\";\"duration\";\"campaign\";\"pdays\";\"previous\";\"poutcome\";\"y\")"
     ]
    }
   ],
   "source": [
    "new_cols = [\"emp_var_rate\", \"cons_price_idx\", \"cons_conf_idx\", \"euribor_3m\", \"nr_employed\"]\n",
    "for column in new_cols:\n",
    "    bank_full = bank_full.withColumn(column, bank_full[\"poutcome\"] + 1)"
   ]
  },
  {
   "cell_type": "code",
   "execution_count": null,
   "id": "49f5afe8",
   "metadata": {},
   "outputs": [],
   "source": [
    "display(bank_full.limit(5))"
   ]
  },
  {
   "cell_type": "code",
   "execution_count": null,
   "id": "cf1c4c40",
   "metadata": {},
   "outputs": [],
   "source": [
    "counts = bank_full.groupBy(\"year\").count()\n",
    "counts.show()"
   ]
  },
  {
   "cell_type": "code",
   "execution_count": null,
   "id": "5f098d17",
   "metadata": {},
   "outputs": [],
   "source": [
    "from pyspark.sql.types import IntegerType"
   ]
  },
  {
   "cell_type": "code",
   "execution_count": null,
   "id": "a99ed907",
   "metadata": {},
   "outputs": [],
   "source": [
    "#new_data = bank_full"
   ]
  },
  {
   "cell_type": "markdown",
   "id": "548d7184",
   "metadata": {},
   "source": [
    "### Index mapper"
   ]
  },
  {
   "cell_type": "code",
   "execution_count": null,
   "id": "618b6a7c",
   "metadata": {},
   "outputs": [],
   "source": [
    "def map_index(new_data):\n",
    "\n",
    "    index_2008 = {\"may\":{\"emp_var_rate\":1.1, \"cons_price_idx\":93.994, \"cons_conf_idx\":-36.4, \"euribor_3m\":4.85, \"nr_employed\":5191},\n",
    "                 \"jun\":{\"emp_var_rate\":1.4, \"cons_price_idx\":94.465, \"cons_conf_idx\":-41.8, \"euribor_3m\":4.86, \"nr_employed\":5228.1},\n",
    "                 \"jul\":{\"emp_var_rate\":1.4, \"cons_price_idx\":93.918, \"cons_conf_idx\":-42.7, \"euribor_3m\":4.96, \"nr_employed\":5228.1},\n",
    "                 \"aug\":{\"emp_var_rate\":1.4, \"cons_price_idx\":93.444, \"cons_conf_idx\":-36.1, \"euribor_3m\":4.965, \"nr_employed\":5228.1},\n",
    "                 \"oct\":{\"emp_var_rate\":-0.1, \"cons_price_idx\":93.798, \"cons_conf_idx\":-40.4, \"euribor_3m\":5, \"nr_employed\":5195.8},\n",
    "                 \"nov\":{\"emp_var_rate\":-0.1, \"cons_price_idx\":93.2, \"cons_conf_idx\":-42, \"euribor_3m\":4.406, \"nr_employed\":5195.8},\n",
    "                 \"dec\":{\"emp_var_rate\":-0.2, \"cons_price_idx\":92.75, \"cons_conf_idx\":-45.9, \"euribor_3m\":3.563, \"nr_employed\":5176.3}}\n",
    "\n",
    "    index_2009 = {\"jan\":{\"emp_var_rate\":-0.2, \"nr_employed\":5176.3},\n",
    "                  \"feb\":{\"emp_var_rate\":-0.2, \"nr_employed\":5176.3},\n",
    "                  \"mar\":{\"emp_var_rate\":-1.8, \"cons_price_idx\":92.84, \"cons_conf_idx\":-50, \"euribor_3m\":1.811, \"nr_employed\":5099.1},\n",
    "                  \"apr\":{\"emp_var_rate\":-1.8, \"cons_price_idx\":93.075, \"cons_conf_idx\":-47.1, \"euribor_3m\":1.498, \"nr_employed\":5099.1},\n",
    "                  \"may\":{\"emp_var_rate\":-1.8, \"cons_price_idx\":92.89, \"cons_conf_idx\":-46.2, \"euribor_3m\":1.334, \"nr_employed\":5099.1},\n",
    "                 \"jun\":{\"emp_var_rate\":-2.9, \"cons_price_idx\":92.963, \"cons_conf_idx\":-40.8, \"euribor_3m\":1.26, \"nr_employed\":5076.2},\n",
    "                 \"jul\":{\"emp_var_rate\":-2.9, \"cons_price_idx\":93.469, \"cons_conf_idx\":-33.6, \"euribor_3m\":1.072, \"nr_employed\":5076.2},\n",
    "                 \"aug\":{\"emp_var_rate\":-2.9, \"cons_price_idx\":92.201, \"cons_conf_idx\":-31.4, \"euribor_3m\":0.884, \"nr_employed\":5076.2},\n",
    "                 \"sep\":{\"emp_var_rate\":-3.4, \"cons_price_idx\":92.379, \"cons_conf_idx\":-29.8, \"euribor_3m\":0.813, \"nr_employed\":5017.5},\n",
    "                 \"oct\":{\"emp_var_rate\":-3.4, \"cons_price_idx\":92.431, \"cons_conf_idx\":-26.9, \"euribor_3m\":0.754, \"nr_employed\":5017.5},\n",
    "                 \"nov\":{\"emp_var_rate\":-3.4, \"cons_price_idx\":92.649, \"cons_conf_idx\":-30.1, \"euribor_3m\":0.722, \"nr_employed\":5017.5},\n",
    "                 \"dec\":{\"emp_var_rate\":-3, \"cons_price_idx\":92.713, \"cons_conf_idx\":-33, \"euribor_3m\":0.718, \"nr_employed\":5023.5}}\n",
    "\n",
    "    index_2010 = {\"jan\":{\"emp_var_rate\":-3, \"nr_employed\":5023.5},\n",
    "                  \"feb\":{\"emp_var_rate\":-3, \"nr_employed\":5023.5},\n",
    "                   \"mar\":{\"emp_var_rate\":-1.8, \"cons_price_idx\":92.369, \"cons_conf_idx\":-34.8, \"euribor_3m\":0.655, \"nr_employed\":5008.7},\n",
    "                  \"apr\":{\"emp_var_rate\":-1.8, \"cons_price_idx\":93.749, \"cons_conf_idx\":-34.6, \"euribor_3m\":0.64, \"nr_employed\":5008.7},\n",
    "                  \"may\":{\"emp_var_rate\":-1.8, \"cons_price_idx\":93.876, \"cons_conf_idx\":-40, \"euribor_3m\":0.668, \"nr_employed\":5008.7},\n",
    "                 \"jun\":{\"emp_var_rate\":-1.7, \"cons_price_idx\":94.055, \"cons_conf_idx\":-39.8, \"euribor_3m\":0.704, \"nr_employed\":4991.6},\n",
    "                 \"jul\":{\"emp_var_rate\":-1.7, \"cons_price_idx\":94.215, \"cons_conf_idx\":-40.3, \"euribor_3m\":0.79, \"nr_employed\":4991.6},\n",
    "                 \"aug\":{\"emp_var_rate\":-1.7, \"cons_price_idx\":94.027, \"cons_conf_idx\":-38.3, \"euribor_3m\":0.898, \"nr_employed\":4991.6},\n",
    "                 \"sep\":{\"emp_var_rate\":-1.1, \"cons_price_idx\":94.199, \"cons_conf_idx\":-37.5, \"euribor_3m\":0.886, \"nr_employed\":4963.6},\n",
    "                 \"oct\":{\"emp_var_rate\":-1.1, \"cons_price_idx\":94.601, \"cons_conf_idx\":-49.5, \"euribor_3m\":0.959, \"nr_employed\":4963.6},\n",
    "                 \"nov\":{\"emp_var_rate\":-1.1, \"cons_price_idx\":94.767, \"cons_conf_idx\":-50.8, \"euribor_3m\":1.05, \"nr_employed\":4963.6}}\n",
    "\n",
    "    indx = [index_2008, index_2009, index_2010]\n",
    "    years = [2008, 2009, 2010]\n",
    "    \n",
    "    for i in range(len(years)):\n",
    "        for months, indexes in indx[i].items():\n",
    "            for index, index_val in indexes.items():\n",
    "                new_data = new_data.withColumn(index, \n",
    "                    when((col('year') == years[i]) & (col('month') == months), index_val).otherwise(col(index))) \n",
    "    return new_data"
   ]
  },
  {
   "cell_type": "code",
   "execution_count": null,
   "id": "0ce9ec22",
   "metadata": {},
   "outputs": [],
   "source": [
    "bank_full = map_index(new_data = bank_full)\n",
    "bank_full.show(5)"
   ]
  },
  {
   "cell_type": "markdown",
   "id": "31352b58",
   "metadata": {},
   "source": [
    "### Bank Full Dataset (dataset-2)"
   ]
  },
  {
   "cell_type": "code",
   "execution_count": null,
   "id": "2a348f2d",
   "metadata": {},
   "outputs": [],
   "source": [
    "bank_add_full = spark.read.csv('bank-additional-full.csv', header=True, inferSchema=True)"
   ]
  },
  {
   "cell_type": "code",
   "execution_count": null,
   "id": "c59e7804",
   "metadata": {},
   "outputs": [],
   "source": [
    "bank_add_full.show(5)"
   ]
  },
  {
   "cell_type": "markdown",
   "id": "1dfe0c9f",
   "metadata": {},
   "source": [
    "### replace values from 999 to -1"
   ]
  },
  {
   "cell_type": "code",
   "execution_count": null,
   "id": "1a5d7376",
   "metadata": {},
   "outputs": [],
   "source": [
    "bank_add_full = bank_add_full.withColumn(\"pdays\", when(col(\"pdays\") == 999, -1).otherwise(col(\"pdays\")))"
   ]
  },
  {
   "cell_type": "markdown",
   "id": "68cad9ea",
   "metadata": {},
   "source": [
    "### Renaming columns names and values"
   ]
  },
  {
   "cell_type": "code",
   "execution_count": null,
   "id": "f9a230d6",
   "metadata": {},
   "outputs": [],
   "source": [
    "old_col_list = [\"emp.var.rate\", \"cons.price.idx\", \"cons.conf.idx\", \"euribor3m\", \"nr.employed\"]\n",
    "for i in range(0, len(old_col_list)):\n",
    "    bank_add_full = bank_add_full.withColumnRenamed(old_col_list[i], new_cols[i])"
   ]
  },
  {
   "cell_type": "code",
   "execution_count": null,
   "id": "a19d60eb",
   "metadata": {},
   "outputs": [],
   "source": [
    "old_edu = [\"basic.4y\", \"high.school\", \"basic.6y\", \"basic.9y\", \"university.degree\", \"professional.course\"]\n",
    "new_edu = [\"basic_4y\", \"high_school\", \"basic_6y\", \"basic_9y\", \"university_degree\" ,\"professional_course\"]\n",
    "\n",
    "for i in range(0,6):\n",
    "    bank_add_full = bank_add_full.withColumn(\"education\", when(col(\"education\") == old_edu[i], new_edu[i]).otherwise(col(\"education\")))"
   ]
  },
  {
   "cell_type": "code",
   "execution_count": null,
   "id": "614f823a",
   "metadata": {},
   "outputs": [],
   "source": [
    "bank_full = bank_full.drop(\"balance\", \"day\")"
   ]
  },
  {
   "cell_type": "code",
   "execution_count": null,
   "id": "22410925",
   "metadata": {},
   "outputs": [],
   "source": [
    "bank_add_full = bank_add_full.drop(\"day_of_week\")"
   ]
  },
  {
   "cell_type": "markdown",
   "id": "713cefcd",
   "metadata": {},
   "source": [
    "## Concat two dataframes"
   ]
  },
  {
   "cell_type": "code",
   "execution_count": null,
   "id": "b36e9923",
   "metadata": {},
   "outputs": [],
   "source": [
    "bank_data = bank_add_full.union(bank_full)"
   ]
  },
  {
   "cell_type": "code",
   "execution_count": null,
   "id": "434c3282",
   "metadata": {},
   "outputs": [],
   "source": [
    "bank_data.count()"
   ]
  },
  {
   "cell_type": "code",
   "execution_count": null,
   "id": "2420e529",
   "metadata": {},
   "outputs": [],
   "source": [
    "bank_data.summary()"
   ]
  },
  {
   "cell_type": "code",
   "execution_count": null,
   "id": "41e1399b",
   "metadata": {},
   "outputs": [],
   "source": [
    "cat_col = [\"job\",\"marital\",\"education\",\"default\",\"housing\",\"loan\",\"contact\",\"month\",\"year\",\"poutcome\",\"y\"]\n",
    "cont_col = [\"age\",\"duration\",\"campaign\",\"pdays\",\"previous\",\"emp_var_rate\",\"cons_price_idx\",\"cons_conf_idx\",\"euribor_3m\",\"nr_employed\"]\n",
    "categories = bank_data.select(cat_col)\n",
    "continuous = bank_data.select(cont_col)"
   ]
  },
  {
   "cell_type": "markdown",
   "id": "012a8de0",
   "metadata": {},
   "source": [
    "### value counts"
   ]
  },
  {
   "cell_type": "code",
   "execution_count": null,
   "id": "8b6b21ab",
   "metadata": {},
   "outputs": [],
   "source": [
    "for columns in categories:\n",
    "    print(\"Column Name\", columns)\n",
    "    print(\"-----------------------\")\n",
    "    counts = bank_data.groupBy(columns).count()\n",
    "    counts.show()\n",
    "    print(\"     \")\n",
    "    print(\"******************************************************\")\n",
    "    print(\"     \")"
   ]
  },
  {
   "cell_type": "code",
   "execution_count": null,
   "id": "4da98fd0",
   "metadata": {},
   "outputs": [],
   "source": [
    "bank_data = bank_data.withColumn(\"job\", when(col(\"job\") == \"admin.\", \"admin\").otherwise(col(\"job\")))"
   ]
  },
  {
   "cell_type": "code",
   "execution_count": null,
   "id": "2086d989",
   "metadata": {},
   "outputs": [],
   "source": [
    "counts = bank_data.groupBy(\"job\").count()\n",
    "counts.show()"
   ]
  },
  {
   "cell_type": "code",
   "execution_count": null,
   "id": "21f8b418",
   "metadata": {},
   "outputs": [],
   "source": [
    "for column in bank_data.columns:\n",
    "    bank_data = bank_data.withColumn(column, when(col(column).isin(\"unknown\", \"nonexistent\"), None).otherwise(col(column)))"
   ]
  },
  {
   "cell_type": "markdown",
   "id": "fc2594f1",
   "metadata": {},
   "source": [
    "### Checking for null values"
   ]
  },
  {
   "cell_type": "code",
   "execution_count": null,
   "id": "aaa5a30b",
   "metadata": {},
   "outputs": [],
   "source": [
    "bank_data.agg(*[count(when(col(c).isNull(), c)).alias(c) for c in bank_data.columns]).show()"
   ]
  },
  {
   "cell_type": "code",
   "execution_count": null,
   "id": "809bfbce",
   "metadata": {},
   "outputs": [],
   "source": [
    "from pyspark.sql.functions import mean\n",
    "\n",
    "# calculate the mean of non-null values in columns col1 and col2\n",
    "mean_dict = bank_data.select(*(mean(c).alias(c) for c in cont_col)).first().asDict()\n",
    "\n",
    "# replace null values with the mean in columns col1 and col2\n",
    "bank_data = bank_data.fillna(mean_dict)"
   ]
  },
  {
   "cell_type": "code",
   "execution_count": null,
   "id": "55a55409",
   "metadata": {},
   "outputs": [],
   "source": [
    "# calculate the mode of non-null values in columns col1 and col2\n",
    "mode_dict = bank_data.select([when(col(c).isNull(), None).otherwise(col(c)).alias(c) for c in cat_col])\\\n",
    "              .groupBy().agg(*[count(c).alias(c) for c in cat_col]).first().asDict()\n",
    "\n",
    "# replace null values with the mode in columns col1 and col2\n",
    "bank_data = bank_data.fillna(mode_dict)"
   ]
  },
  {
   "cell_type": "code",
   "execution_count": null,
   "id": "df7192b6",
   "metadata": {},
   "outputs": [],
   "source": [
    "bank_data.agg(*[count(when(col(c).isNull(), c)).alias(c) for c in bank_data.columns]).show()"
   ]
  },
  {
   "cell_type": "code",
   "execution_count": null,
   "id": "e9af1cee",
   "metadata": {},
   "outputs": [],
   "source": []
  }
 ],
 "metadata": {
  "kernelspec": {
   "display_name": "Python 3 (ipykernel)",
   "language": "python",
   "name": "python3"
  },
  "language_info": {
   "codemirror_mode": {
    "name": "ipython",
    "version": 3
   },
   "file_extension": ".py",
   "mimetype": "text/x-python",
   "name": "python",
   "nbconvert_exporter": "python",
   "pygments_lexer": "ipython3",
   "version": "3.9.16"
  }
 },
 "nbformat": 4,
 "nbformat_minor": 5
}
