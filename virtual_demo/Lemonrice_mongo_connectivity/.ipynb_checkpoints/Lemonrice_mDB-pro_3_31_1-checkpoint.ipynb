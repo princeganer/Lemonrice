{
 "cells": [
  {
   "cell_type": "markdown",
   "id": "6ce400e2",
   "metadata": {},
   "source": [
    "\n",
    "# <strong><center>Predicting Customer Conversion on Bank Telemarketing Dataset</center></strong>\n",
    "\n",
    "<div class=\"alert alert-info\"><strong>TODAY:</strong> While bank marketing campaigns have largely remained traditional, standard bank advertising is boring for both marketers and their consumers. Thinking outside the box and implementing creative marketing ideas for banks will help you to develop creative campaigns, benefiting your bank, consumer engagement, and likely the success of the actual bank marketing campaigns as well.\n",
    "\n",
    "Most consumers see banking as a mundane necessity, something they’d rather avoid if they could. Taking a creative approach to bank marketing campaigns might change that, especially if you integrate creative marketing ideas for banks like gamification, automation, chatbots, and rewards so that consumers are motivated to use your services.</div>"
   ]
  },
  {
   "cell_type": "code",
   "execution_count": 3,
   "id": "e2c46814",
   "metadata": {},
   "outputs": [
    {
     "name": "stdout",
     "output_type": "stream",
     "text": [
      "The Current working directory is: D:\\Lemonrice\\virtual_demo\\Lemonrice_mongo_connectivity\n",
      "The current working directory was set succesfully!\n"
     ]
    }
   ],
   "source": [
    "# Importing the os module\n",
    "import os\n",
    "\n",
    "try:\n",
    "    # Getting the current working directory\n",
    "    cwd = os.getcwd()\n",
    "    \n",
    "    # Printing the current working directory\n",
    "    print(\"The Current working directory is: {0}\".format(cwd))\n",
    "\n",
    "    # Changing the current working directory\n",
    "    os.chdir(cwd)\n",
    "    \n",
    "    print(\"The current working directory was set succesfully!\")\n",
    "\n",
    "except:\n",
    "    print(\"OOPs!! The current working directory was not set succesfully...\")"
   ]
  },
  {
   "cell_type": "markdown",
   "id": "92128cee",
   "metadata": {},
   "source": [
    "### Using API from Kaggle to download dataset"
   ]
  },
  {
   "cell_type": "code",
   "execution_count": null,
   "id": "f833e67b",
   "metadata": {},
   "outputs": [
    {
     "name": "stdout",
     "output_type": "stream",
     "text": [
      "bank-telemarketing-dataset.zip: Skipping, found more recently modified local copy (use --force to force download)\n"
     ]
    }
   ],
   "source": [
    "# downloading the dataset\n",
    "!kaggle datasets download -d princeganer/bank-telemarketing-dataset\n",
    "\n",
    "# unzipping the downloaded dataset\n",
    "!unzip bank-telemarketing-dataset.zip"
   ]
  },
  {
   "cell_type": "code",
   "execution_count": null,
   "id": "5a67e6b7",
   "metadata": {},
   "outputs": [],
   "source": [
    "# the zipped as well as unzipped files can be seen\n",
    "!dir\n",
    "\n",
    "print(\"Successfully downloaded the dataset from Kaggle API.\")"
   ]
  }
 ],
 "metadata": {
  "kernelspec": {
   "display_name": "Python 3 (ipykernel)",
   "language": "python",
   "name": "python3"
  },
  "language_info": {
   "codemirror_mode": {
    "name": "ipython",
    "version": 3
   },
   "file_extension": ".py",
   "mimetype": "text/x-python",
   "name": "python",
   "nbconvert_exporter": "python",
   "pygments_lexer": "ipython3",
   "version": "3.9.16"
  }
 },
 "nbformat": 4,
 "nbformat_minor": 5
}
