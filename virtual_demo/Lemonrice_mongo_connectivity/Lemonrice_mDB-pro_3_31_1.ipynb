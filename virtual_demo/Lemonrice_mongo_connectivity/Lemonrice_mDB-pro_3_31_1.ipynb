{
 "cells": [
  {
   "cell_type": "markdown",
   "id": "6ce400e2",
   "metadata": {},
   "source": [
    "\n",
    "# <strong><center>Predicting Customer Conversion on Bank Telemarketing Dataset</center></strong>\n",
    "\n",
    "<div class=\"alert alert-info\"><strong>TODAY:</strong> While bank marketing campaigns have largely remained traditional, standard bank advertising is boring for both marketers and their consumers. Thinking outside the box and implementing creative marketing ideas for banks will help you to develop creative campaigns, benefiting your bank, consumer engagement, and likely the success of the actual bank marketing campaigns as well.\n",
    "\n",
    "Most consumers see banking as a mundane necessity, something they’d rather avoid if they could. Taking a creative approach to bank marketing campaigns might change that, especially if you integrate creative marketing ideas for banks like gamification, automation, chatbots, and rewards so that consumers are motivated to use your services.</div>"
   ]
  },
  {
   "cell_type": "code",
   "execution_count": 3,
   "id": "e2c46814",
   "metadata": {},
   "outputs": [
    {
     "name": "stdout",
     "output_type": "stream",
     "text": [
      "The Current working directory is: D:\\Lemonrice\\virtual_demo\\Lemonrice_mongo_connectivity\n",
      "The current working directory was set succesfully!\n"
     ]
    }
   ],
   "source": [
    "# Importing the os module\n",
    "import os\n",
    "\n",
    "try:\n",
    "    # Getting the current working directory\n",
    "    cwd = os.getcwd()\n",
    "    \n",
    "    # Printing the current working directory\n",
    "    print(\"The Current working directory is: {0}\".format(cwd))\n",
    "\n",
    "    # Changing the current working directory\n",
    "    os.chdir(cwd)\n",
    "    \n",
    "    print(\"The current working directory was set succesfully!\")\n",
    "\n",
    "except:\n",
    "    print(\"OOPs!! The current working directory was not set succesfully...\")"
   ]
  },
  {
   "cell_type": "markdown",
   "id": "92128cee",
   "metadata": {},
   "source": [
    "### Using API from Kaggle to download dataset"
   ]
  },
  {
   "cell_type": "code",
   "execution_count": null,
   "id": "f833e67b",
   "metadata": {},
   "outputs": [
    {
     "name": "stdout",
     "output_type": "stream",
     "text": [
      "bank-telemarketing-dataset.zip: Skipping, found more recently modified local copy (use --force to force download)\n"
     ]
    }
   ],
   "source": [
    "# downloading the dataset\n",
    "!kaggle datasets download -d princeganer/bank-telemarketing-dataset\n",
    "\n",
    "# unzipping the downloaded dataset\n",
    "!unzip bank-telemarketing-dataset.zip"
   ]
  },
  {
   "cell_type": "code",
   "execution_count": 3,
   "id": "5a67e6b7",
   "metadata": {},
   "outputs": [
    {
     "name": "stdout",
     "output_type": "stream",
     "text": [
      " Volume in drive D is Storage\n",
      " Volume Serial Number is E457-CEE6\n",
      "\n",
      " Directory of D:\\Lemonrice\\virtual_demo\\Lemonrice_mongo_connectivity\n",
      "\n",
      "01/04/2023  01:30    <DIR>          .\n",
      "01/04/2023  01:30    <DIR>          ..\n",
      "31/03/2023  16:04    <DIR>          .ipynb_checkpoints\n",
      "10/03/2023  08:52             5,458 bank-additional-names.txt\n",
      "10/03/2023  08:52         4,610,348 bank-full.csv\n",
      "01/04/2023  01:11           927,049 bank-telemarketing-dataset.zip\n",
      "10/03/2023  08:52                94 info.txt\n",
      "01/04/2023  01:30             4,597 Lemonrice_mDB-pro_3_31_1.ipynb\n",
      "               5 File(s)      5,547,546 bytes\n",
      "               3 Dir(s)  57,441,058,816 bytes free\n",
      "\n",
      "\n",
      "Successfully downloaded the dataset from Kaggle's API.\n"
     ]
    }
   ],
   "source": [
    "# the zipped as well as unzipped files can be seen\n",
    "!dir\n",
    "\n",
    "print(\"\\n\\nSuccessfully downloaded the dataset from Kaggle's API.\")"
   ]
  },
  {
   "cell_type": "code",
   "execution_count": 4,
   "id": "ac8be2c7",
   "metadata": {},
   "outputs": [
    {
     "name": "stderr",
     "output_type": "stream",
     "text": [
      "C:\\Users\\Ganer\\AppData\\Roaming\\Python\\Python39\\site-packages\\pyspark\\pandas\\__init__.py:49: UserWarning: 'PYARROW_IGNORE_TIMEZONE' environment variable was not set. It is required to set this environment variable to '1' in both driver and executor sides if you use pyarrow>=2.0.0. pandas-on-Spark will set it for you but it does not work if there is a Spark context already launched.\n",
      "  warnings.warn(\n"
     ]
    }
   ],
   "source": [
    "# libraries\n",
    "\n",
    "import pandas as pd\n",
    "import numpy as np\n",
    "from pyspark.sql import SparkSession\n",
    "from pyspark.sql.types import *\n",
    "import seaborn as sns\n",
    "import matplotlib.pyplot as plt\n",
    "from pyspark.sql.functions import when, count\n",
    "from pyspark.sql.functions import col, sum\n",
    "import pyspark.pandas as ps\n",
    "import findspark\n",
    "findspark.init()"
   ]
  },
  {
   "cell_type": "code",
   "execution_count": 5,
   "id": "f668524c",
   "metadata": {},
   "outputs": [],
   "source": [
    "# create a sparksession\n",
    "spark = SparkSession.builder.master('local[4]').appName('ml').getOrCreate()"
   ]
  },
  {
   "cell_type": "code",
   "execution_count": 7,
   "id": "6d6ff316",
   "metadata": {},
   "outputs": [],
   "source": [
    "# display function for spark dataframe\n",
    "spark.conf.set('spark.sql.repl.eagerEval.enabled', True)\n",
    "\n",
    "# display maximum columns in pandas dataframe\n",
    "pd.pandas.set_option('display.max_columns', None)"
   ]
  },
  {
   "cell_type": "markdown",
   "id": "0806eece",
   "metadata": {},
   "source": [
    "## Data Preprocessing"
   ]
  },
  {
   "cell_type": "markdown",
   "id": "e13162cf",
   "metadata": {},
   "source": [
    "#### Bank Full (dataset-1)\n",
    "\n",
    "\n",
    "`bank-full.csv` Bank Full Preprocessing\n",
    "\n",
    "Header | Definition\n",
    "---|---------\n",
    "`Age`| Age of customer\n",
    "`Job` | Job of customer\n",
    "`Martial` | Martial status of customer  \n",
    "`Education` |Customer education level\n",
    "`Default` |  Has credit in default?\n",
    "`Housing` | If costumer has housing loan\n",
    "`Loan` | Has Personal Loan\n",
    "`Balance` |Customer's individual balance\n",
    "`Contact` | Communication type\n",
    "`Month` |  Last contact month of year \n",
    "`Day` | Last contact day of the week\n",
    "`Duration` |Last contact duration, in seconds\n",
    "`Campaign` | Number of contacts performed during this campaign and for this client\n",
    "`Pdays` | Number of days that passed by after the client was last contacted from a previous campaign\n",
    "`Previous` | Number of contacts performed before this campaign and for this client\n",
    "`Poutcome` |outcome of the previous marketing campaign \n",
    "`Deposit` | has the client subscribed a term deposit"
   ]
  },
  {
   "cell_type": "code",
   "execution_count": 9,
   "id": "6c427220",
   "metadata": {},
   "outputs": [],
   "source": [
    "# Read Spark Dataframe\n",
    "bank_full = spark.read.csv('bank-full.csv', sep = \";\" , header=True, inferSchema=True)"
   ]
  },
  {
   "cell_type": "code",
   "execution_count": null,
   "id": "dac3c350",
   "metadata": {},
   "outputs": [],
   "source": []
  }
 ],
 "metadata": {
  "kernelspec": {
   "display_name": "Python 3 (ipykernel)",
   "language": "python",
   "name": "python3"
  },
  "language_info": {
   "codemirror_mode": {
    "name": "ipython",
    "version": 3
   },
   "file_extension": ".py",
   "mimetype": "text/x-python",
   "name": "python",
   "nbconvert_exporter": "python",
   "pygments_lexer": "ipython3",
   "version": "3.9.16"
  }
 },
 "nbformat": 4,
 "nbformat_minor": 5
}
