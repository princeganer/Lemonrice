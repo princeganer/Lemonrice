{
 "cells": [
  {
   "cell_type": "code",
   "execution_count": 1,
   "id": "81BBAp5YqvgU",
   "metadata": {
    "colab": {
     "base_uri": "https://localhost:8080/"
    },
    "id": "81BBAp5YqvgU",
    "outputId": "91d4fc06-bf8e-492c-ccc8-10e0b6ebbf18"
   },
   "outputs": [
    {
     "name": "stdout",
     "output_type": "stream",
     "text": [
      "Python 3.9.16\n"
     ]
    }
   ],
   "source": [
    "!python --version"
   ]
  },
  {
   "cell_type": "code",
   "execution_count": 2,
   "id": "5fae75e0",
   "metadata": {
    "id": "5fae75e0"
   },
   "outputs": [],
   "source": [
    "#!pip install pyspark"
   ]
  },
  {
   "cell_type": "code",
   "execution_count": 5,
   "id": "1accfedc",
   "metadata": {
    "id": "1accfedc"
   },
   "outputs": [],
   "source": [
    "import pandas as pd\n",
    "import numpy as np"
   ]
  },
  {
   "cell_type": "code",
   "execution_count": 3,
   "id": "R8u3fYNupjYU",
   "metadata": {
    "id": "R8u3fYNupjYU"
   },
   "outputs": [],
   "source": [
    "from pyspark.sql import SparkSession\n",
    "from pyspark.sql.types import *\n",
    "\n",
    "import seaborn as sns\n",
    "import matplotlib.pyplot as plt"
   ]
  },
  {
   "cell_type": "code",
   "execution_count": 4,
   "id": "55c9b1b5",
   "metadata": {
    "id": "55c9b1b5"
   },
   "outputs": [],
   "source": [
    "spark = SparkSession.builder.master('local[4]').appName('ml').getOrCreate()"
   ]
  },
  {
   "cell_type": "markdown",
   "id": "b2a61bdb",
   "metadata": {
    "id": "b2a61bdb"
   },
   "source": [
    "# Machine Learning"
   ]
  },
  {
   "cell_type": "code",
   "execution_count": 7,
   "id": "562d916f",
   "metadata": {
    "id": "562d916f"
   },
   "outputs": [],
   "source": [
    "# Import the vectorAssembler class\n",
    "from pyspark.ml.feature import VectorAssembler"
   ]
  },
  {
   "cell_type": "code",
   "execution_count": 8,
   "id": "530300b7",
   "metadata": {
    "id": "530300b7"
   },
   "outputs": [],
   "source": [
    "#tele_df.to_parquet('./parq_test.parquet')"
   ]
  },
  {
   "cell_type": "code",
   "execution_count": 6,
   "id": "03bad0af",
   "metadata": {},
   "outputs": [
    {
     "name": "stdout",
     "output_type": "stream",
     "text": [
      "Wall time: 14.2 s\n"
     ]
    }
   ],
   "source": [
    "%%time\n",
    "tele_sdf = spark.read.csv(\"tele_df.csv\", header=True, inferSchema=True)"
   ]
  },
  {
   "cell_type": "code",
   "execution_count": 13,
   "id": "b5d16201",
   "metadata": {},
   "outputs": [
    {
     "data": {
      "text/html": [
       "<table border='1'>\n",
       "<tr><th>_c0</th><th>age</th><th>education</th><th>default</th><th>housing</th><th>loan</th><th>contact</th><th>date</th><th>duration</th><th>campaign</th><th>pdays</th><th>previous</th><th>poutcome</th><th>emp_var_rate</th><th>cons_price_idx</th><th>cons_conf_idx</th><th>euribor_3m</th><th>nr_employed</th><th>y</th><th>jobs</th><th>maritals</th></tr>\n",
       "<tr><td>0</td><td>58</td><td>8</td><td>no</td><td>yes</td><td>no</td><td>cellular</td><td>2008-05-05 00:00:00</td><td>261</td><td>1</td><td>-1</td><td>0</td><td>failure</td><td>1.1</td><td>93.994</td><td>-36.4</td><td>4.85</td><td>5191.0</td><td>no</td><td>8</td><td>3</td></tr>\n",
       "<tr><td>1</td><td>44</td><td>7</td><td>no</td><td>yes</td><td>no</td><td>cellular</td><td>2008-05-05 00:00:00</td><td>151</td><td>1</td><td>-1</td><td>0</td><td>failure</td><td>1.1</td><td>93.994</td><td>-36.4</td><td>4.85</td><td>5191.0</td><td>no</td><td>6</td><td>2</td></tr>\n",
       "<tr><td>2</td><td>33</td><td>7</td><td>no</td><td>yes</td><td>yes</td><td>cellular</td><td>2008-05-05 00:00:00</td><td>76</td><td>1</td><td>-1</td><td>0</td><td>failure</td><td>1.1</td><td>93.994</td><td>-36.4</td><td>4.85</td><td>5191.0</td><td>no</td><td>11</td><td>3</td></tr>\n",
       "<tr><td>3</td><td>47</td><td>7</td><td>no</td><td>yes</td><td>no</td><td>cellular</td><td>2008-05-05 00:00:00</td><td>92</td><td>1</td><td>-1</td><td>0</td><td>failure</td><td>1.1</td><td>93.994</td><td>-36.4</td><td>4.85</td><td>5191.0</td><td>no</td><td>5</td><td>3</td></tr>\n",
       "<tr><td>4</td><td>33</td><td>7</td><td>no</td><td>no</td><td>no</td><td>cellular</td><td>2008-05-05 00:00:00</td><td>198</td><td>1</td><td>-1</td><td>0</td><td>failure</td><td>1.1</td><td>93.994</td><td>-36.4</td><td>4.85</td><td>5191.0</td><td>no</td><td>5</td><td>2</td></tr>\n",
       "</table>\n"
      ],
      "text/plain": [
       "+---+---+---------+-------+-------+----+--------+-------------------+--------+--------+-----+--------+--------+------------+--------------+-------------+----------+-----------+---+----+--------+\n",
       "|_c0|age|education|default|housing|loan| contact|               date|duration|campaign|pdays|previous|poutcome|emp_var_rate|cons_price_idx|cons_conf_idx|euribor_3m|nr_employed|  y|jobs|maritals|\n",
       "+---+---+---------+-------+-------+----+--------+-------------------+--------+--------+-----+--------+--------+------------+--------------+-------------+----------+-----------+---+----+--------+\n",
       "|  0| 58|        8|     no|    yes|  no|cellular|2008-05-05 00:00:00|     261|       1|   -1|       0| failure|         1.1|        93.994|        -36.4|      4.85|     5191.0| no|   8|       3|\n",
       "|  1| 44|        7|     no|    yes|  no|cellular|2008-05-05 00:00:00|     151|       1|   -1|       0| failure|         1.1|        93.994|        -36.4|      4.85|     5191.0| no|   6|       2|\n",
       "|  2| 33|        7|     no|    yes| yes|cellular|2008-05-05 00:00:00|      76|       1|   -1|       0| failure|         1.1|        93.994|        -36.4|      4.85|     5191.0| no|  11|       3|\n",
       "|  3| 47|        7|     no|    yes|  no|cellular|2008-05-05 00:00:00|      92|       1|   -1|       0| failure|         1.1|        93.994|        -36.4|      4.85|     5191.0| no|   5|       3|\n",
       "|  4| 33|        7|     no|     no|  no|cellular|2008-05-05 00:00:00|     198|       1|   -1|       0| failure|         1.1|        93.994|        -36.4|      4.85|     5191.0| no|   5|       2|\n",
       "+---+---+---------+-------+-------+----+--------+-------------------+--------+--------+-----+--------+--------+------------+--------------+-------------+----------+-----------+---+----+--------+"
      ]
     },
     "metadata": {},
     "output_type": "display_data"
    }
   ],
   "source": [
    "# to show dataframe properly in jupyter\n",
    "spark.conf.set('spark.sql.repl.eagerEval.enabled', True)\n",
    "display(tele_sdf.limit(5))"
   ]
  },
  {
   "cell_type": "code",
   "execution_count": 11,
   "id": "b4bdb971",
   "metadata": {},
   "outputs": [
    {
     "name": "stdout",
     "output_type": "stream",
     "text": [
      "root\n",
      " |-- _c0: integer (nullable = true)\n",
      " |-- age: integer (nullable = true)\n",
      " |-- education: integer (nullable = true)\n",
      " |-- default: string (nullable = true)\n",
      " |-- housing: string (nullable = true)\n",
      " |-- loan: string (nullable = true)\n",
      " |-- contact: string (nullable = true)\n",
      " |-- date: timestamp (nullable = true)\n",
      " |-- duration: integer (nullable = true)\n",
      " |-- campaign: integer (nullable = true)\n",
      " |-- pdays: integer (nullable = true)\n",
      " |-- previous: integer (nullable = true)\n",
      " |-- poutcome: string (nullable = true)\n",
      " |-- emp_var_rate: double (nullable = true)\n",
      " |-- cons_price_idx: double (nullable = true)\n",
      " |-- cons_conf_idx: double (nullable = true)\n",
      " |-- euribor_3m: double (nullable = true)\n",
      " |-- nr_employed: double (nullable = true)\n",
      " |-- y: string (nullable = true)\n",
      " |-- jobs: integer (nullable = true)\n",
      " |-- maritals: integer (nullable = true)\n",
      "\n"
     ]
    }
   ],
   "source": [
    "tele_sdf.printSchema()"
   ]
  },
  {
   "cell_type": "code",
   "execution_count": 12,
   "id": "97efe6f3",
   "metadata": {
    "colab": {
     "base_uri": "https://localhost:8080/"
    },
    "id": "97efe6f3",
    "outputId": "7b3de789-84c9-47ff-d2e2-829f1ea2a343"
   },
   "outputs": [],
   "source": [
    "#!dir"
   ]
  },
  {
   "cell_type": "code",
   "execution_count": null,
   "id": "2c3fb67c",
   "metadata": {},
   "outputs": [],
   "source": []
  },
  {
   "cell_type": "code",
   "execution_count": 13,
   "id": "e092de20",
   "metadata": {
    "colab": {
     "base_uri": "https://localhost:8080/"
    },
    "id": "e092de20",
    "outputId": "d1c54985-16c4-49d5-9b77-6c70b6fff931"
   },
   "outputs": [
    {
     "name": "stdout",
     "output_type": "stream",
     "text": [
      "['_c0', 'age', 'education', 'default', 'housing', 'loan', 'contact', 'date', 'duration', 'campaign', 'pdays', 'previous', 'poutcome', 'emp_var_rate', 'cons_price_idx', 'cons_conf_idx', 'euribor_3m', 'nr_employed', 'y', 'jobs', 'maritals']\n"
     ]
    }
   ],
   "source": [
    "column_lst = tele_sdf.columns\n",
    "print(column_lst)"
   ]
  },
  {
   "cell_type": "code",
   "execution_count": 14,
   "id": "d9f89d06",
   "metadata": {},
   "outputs": [
    {
     "data": {
      "text/plain": [
       "StringType()"
      ]
     },
     "execution_count": 14,
     "metadata": {},
     "output_type": "execute_result"
    }
   ],
   "source": [
    "tele_sdf.schema[\"poutcome\"].dataType"
   ]
  },
  {
   "cell_type": "code",
   "execution_count": 15,
   "id": "7ac9ad75",
   "metadata": {},
   "outputs": [
    {
     "data": {
      "text/plain": [
       "['default', 'housing', 'loan', 'contact', 'poutcome']"
      ]
     },
     "execution_count": 15,
     "metadata": {},
     "output_type": "execute_result"
    }
   ],
   "source": [
    "hot_lst = [ x for x in tele_sdf.columns if tele_sdf.schema[x].dataType == StringType() ]\n",
    "hot_lst[:-1]"
   ]
  },
  {
   "cell_type": "code",
   "execution_count": 16,
   "id": "9545f547",
   "metadata": {},
   "outputs": [],
   "source": [
    "from pyspark.ml.feature import StringIndexer, OneHotEncoder\n",
    "from pyspark.sql.functions import col\n",
    "\n",
    "def one_hot_encode(data, columns):\n",
    "    new_data = data.select(\"*\")\n",
    "    for col_name in columns:\n",
    "        indexer = StringIndexer(inputCol=col_name, outputCol=f\"{col_name}_index\")\n",
    "        new_data = indexer.fit(new_data).transform(new_data)\n",
    "\n",
    "        encoder = OneHotEncoder(inputCols=[f\"{col_name}_index\"], outputCols=[f\"{col_name}_one_hot\"], dropLast=True)\n",
    "        new_data = encoder.fit(new_data).transform(new_data)\n",
    "\n",
    "        new_data = new_data.drop(col_name).drop(f\"{col_name}_index\")\n",
    "\n",
    "    return new_data"
   ]
  },
  {
   "cell_type": "code",
   "execution_count": 17,
   "id": "517edb23",
   "metadata": {},
   "outputs": [
    {
     "name": "stdout",
     "output_type": "stream",
     "text": [
      "+---+---+---------+-------------------+--------+--------+-----+--------+------------+--------------+-------------+----------+-----------+---+----+--------+---------------+---------------+-------------+---------------+----------------+\n",
      "|_c0|age|education|               date|duration|campaign|pdays|previous|emp_var_rate|cons_price_idx|cons_conf_idx|euribor_3m|nr_employed|  y|jobs|maritals|default_one_hot|housing_one_hot| loan_one_hot|contact_one_hot|poutcome_one_hot|\n",
      "+---+---+---------+-------------------+--------+--------+-----+--------+------------+--------------+-------------+----------+-----------+---+----+--------+---------------+---------------+-------------+---------------+----------------+\n",
      "|  0| 58|        8|2008-05-05 00:00:00|     261|       1|   -1|       0|         1.1|        93.994|        -36.4|      4.85|     5191.0| no|   8|       3|  (1,[0],[1.0])|  (1,[0],[1.0])|(1,[0],[1.0])|  (1,[0],[1.0])|   (2,[0],[1.0])|\n",
      "|  1| 44|        7|2008-05-05 00:00:00|     151|       1|   -1|       0|         1.1|        93.994|        -36.4|      4.85|     5191.0| no|   6|       2|  (1,[0],[1.0])|  (1,[0],[1.0])|(1,[0],[1.0])|  (1,[0],[1.0])|   (2,[0],[1.0])|\n",
      "|  2| 33|        7|2008-05-05 00:00:00|      76|       1|   -1|       0|         1.1|        93.994|        -36.4|      4.85|     5191.0| no|  11|       3|  (1,[0],[1.0])|  (1,[0],[1.0])|    (1,[],[])|  (1,[0],[1.0])|   (2,[0],[1.0])|\n",
      "|  3| 47|        7|2008-05-05 00:00:00|      92|       1|   -1|       0|         1.1|        93.994|        -36.4|      4.85|     5191.0| no|   5|       3|  (1,[0],[1.0])|  (1,[0],[1.0])|(1,[0],[1.0])|  (1,[0],[1.0])|   (2,[0],[1.0])|\n",
      "|  4| 33|        7|2008-05-05 00:00:00|     198|       1|   -1|       0|         1.1|        93.994|        -36.4|      4.85|     5191.0| no|   5|       2|  (1,[0],[1.0])|      (1,[],[])|(1,[0],[1.0])|  (1,[0],[1.0])|   (2,[0],[1.0])|\n",
      "|  5| 35|        8|2008-05-05 00:00:00|     139|       1|   -1|       0|         1.1|        93.994|        -36.4|      4.85|     5191.0| no|   8|       3|  (1,[0],[1.0])|  (1,[0],[1.0])|(1,[0],[1.0])|  (1,[0],[1.0])|   (2,[0],[1.0])|\n",
      "|  6| 28|        8|2008-05-05 00:00:00|     217|       1|   -1|       0|         1.1|        93.994|        -36.4|      4.85|     5191.0| no|   8|       2|  (1,[0],[1.0])|  (1,[0],[1.0])|    (1,[],[])|  (1,[0],[1.0])|   (2,[0],[1.0])|\n",
      "|  7| 42|        8|2008-05-05 00:00:00|     380|       1|   -1|       0|         1.1|        93.994|        -36.4|      4.85|     5191.0| no|  11|       1|      (1,[],[])|  (1,[0],[1.0])|(1,[0],[1.0])|  (1,[0],[1.0])|   (2,[0],[1.0])|\n",
      "|  8| 58|        3|2008-05-05 00:00:00|      50|       1|   -1|       0|         1.1|        93.994|        -36.4|      4.85|     5191.0| no|   3|       3|  (1,[0],[1.0])|  (1,[0],[1.0])|(1,[0],[1.0])|  (1,[0],[1.0])|   (2,[0],[1.0])|\n",
      "|  9| 43|        7|2008-05-05 00:00:00|      55|       1|   -1|       0|         1.1|        93.994|        -36.4|      4.85|     5191.0| no|   6|       2|  (1,[0],[1.0])|  (1,[0],[1.0])|(1,[0],[1.0])|  (1,[0],[1.0])|   (2,[0],[1.0])|\n",
      "| 10| 41|        7|2008-05-05 00:00:00|     222|       1|   -1|       0|         1.1|        93.994|        -36.4|      4.85|     5191.0| no|   9|       1|  (1,[0],[1.0])|  (1,[0],[1.0])|(1,[0],[1.0])|  (1,[0],[1.0])|   (2,[0],[1.0])|\n",
      "| 11| 29|        7|2008-05-05 00:00:00|     137|       1|   -1|       0|         1.1|        93.994|        -36.4|      4.85|     5191.0| no|   9|       2|  (1,[0],[1.0])|  (1,[0],[1.0])|(1,[0],[1.0])|  (1,[0],[1.0])|   (2,[0],[1.0])|\n",
      "| 12| 53|        7|2008-05-05 00:00:00|     517|       1|   -1|       0|         1.1|        93.994|        -36.4|      4.85|     5191.0| no|   6|       3|  (1,[0],[1.0])|  (1,[0],[1.0])|(1,[0],[1.0])|  (1,[0],[1.0])|   (2,[0],[1.0])|\n",
      "| 13| 58|        7|2008-05-05 00:00:00|      71|       1|   -1|       0|         1.1|        93.994|        -36.4|      4.85|     5191.0| no|   6|       3|  (1,[0],[1.0])|  (1,[0],[1.0])|(1,[0],[1.0])|  (1,[0],[1.0])|   (2,[0],[1.0])|\n",
      "| 14| 57|        7|2008-05-05 00:00:00|     174|       1|   -1|       0|         1.1|        93.994|        -36.4|      4.85|     5191.0| no|   7|       3|  (1,[0],[1.0])|  (1,[0],[1.0])|(1,[0],[1.0])|  (1,[0],[1.0])|   (2,[0],[1.0])|\n",
      "| 15| 51|        3|2008-05-05 00:00:00|     353|       1|   -1|       0|         1.1|        93.994|        -36.4|      4.85|     5191.0| no|   3|       3|  (1,[0],[1.0])|  (1,[0],[1.0])|(1,[0],[1.0])|  (1,[0],[1.0])|   (2,[0],[1.0])|\n",
      "| 16| 45|        7|2008-05-05 00:00:00|      98|       1|   -1|       0|         1.1|        93.994|        -36.4|      4.85|     5191.0| no|   9|       2|  (1,[0],[1.0])|  (1,[0],[1.0])|(1,[0],[1.0])|  (1,[0],[1.0])|   (2,[0],[1.0])|\n",
      "| 17| 57|        3|2008-05-05 00:00:00|      38|       1|   -1|       0|         1.1|        93.994|        -36.4|      4.85|     5191.0| no|   5|       3|  (1,[0],[1.0])|  (1,[0],[1.0])|(1,[0],[1.0])|  (1,[0],[1.0])|   (2,[0],[1.0])|\n",
      "| 18| 60|        3|2008-05-05 00:00:00|     219|       1|   -1|       0|         1.1|        93.994|        -36.4|      4.85|     5191.0| no|   3|       3|  (1,[0],[1.0])|  (1,[0],[1.0])|(1,[0],[1.0])|  (1,[0],[1.0])|   (2,[0],[1.0])|\n",
      "| 19| 33|        7|2008-05-05 00:00:00|      54|       1|   -1|       0|         1.1|        93.994|        -36.4|      4.85|     5191.0| no|   7|       3|  (1,[0],[1.0])|  (1,[0],[1.0])|(1,[0],[1.0])|  (1,[0],[1.0])|   (2,[0],[1.0])|\n",
      "+---+---+---------+-------------------+--------+--------+-----+--------+------------+--------------+-------------+----------+-----------+---+----+--------+---------------+---------------+-------------+---------------+----------------+\n",
      "only showing top 20 rows\n",
      "\n"
     ]
    }
   ],
   "source": [
    "tele_sdf_ohe = one_hot_encode(data = tele_sdf, columns = hot_lst[:-1])\n",
    "tele_sdf_ohe.show()"
   ]
  },
  {
   "cell_type": "code",
   "execution_count": 18,
   "id": "bd9137f8",
   "metadata": {},
   "outputs": [
    {
     "data": {
      "text/plain": [
       "['_c0',\n",
       " 'age',\n",
       " 'education',\n",
       " 'date',\n",
       " 'duration',\n",
       " 'campaign',\n",
       " 'pdays',\n",
       " 'previous',\n",
       " 'emp_var_rate',\n",
       " 'cons_price_idx',\n",
       " 'cons_conf_idx',\n",
       " 'euribor_3m',\n",
       " 'nr_employed',\n",
       " 'y',\n",
       " 'jobs',\n",
       " 'maritals',\n",
       " 'default_one_hot',\n",
       " 'housing_one_hot',\n",
       " 'loan_one_hot',\n",
       " 'contact_one_hot',\n",
       " 'poutcome_one_hot']"
      ]
     },
     "execution_count": 18,
     "metadata": {},
     "output_type": "execute_result"
    }
   ],
   "source": [
    "tele_sdf_ohe.columns"
   ]
  },
  {
   "cell_type": "code",
   "execution_count": 19,
   "id": "7b4dc769",
   "metadata": {},
   "outputs": [
    {
     "name": "stdout",
     "output_type": "stream",
     "text": [
      "+---+---+---------+-------------------+--------+--------+-----+--------+------------+--------------+-------------+----------+-----------+---+----+--------+---------------+---------------+-------------+---------------+----------------+------+\n",
      "|_c0|age|education|               date|duration|campaign|pdays|previous|emp_var_rate|cons_price_idx|cons_conf_idx|euribor_3m|nr_employed|  y|jobs|maritals|default_one_hot|housing_one_hot| loan_one_hot|contact_one_hot|poutcome_one_hot|yIndex|\n",
      "+---+---+---------+-------------------+--------+--------+-----+--------+------------+--------------+-------------+----------+-----------+---+----+--------+---------------+---------------+-------------+---------------+----------------+------+\n",
      "|  0| 58|        8|2008-05-05 00:00:00|     261|       1|   -1|       0|         1.1|        93.994|        -36.4|      4.85|     5191.0| no|   8|       3|  (1,[0],[1.0])|  (1,[0],[1.0])|(1,[0],[1.0])|  (1,[0],[1.0])|   (2,[0],[1.0])|   0.0|\n",
      "|  1| 44|        7|2008-05-05 00:00:00|     151|       1|   -1|       0|         1.1|        93.994|        -36.4|      4.85|     5191.0| no|   6|       2|  (1,[0],[1.0])|  (1,[0],[1.0])|(1,[0],[1.0])|  (1,[0],[1.0])|   (2,[0],[1.0])|   0.0|\n",
      "|  2| 33|        7|2008-05-05 00:00:00|      76|       1|   -1|       0|         1.1|        93.994|        -36.4|      4.85|     5191.0| no|  11|       3|  (1,[0],[1.0])|  (1,[0],[1.0])|    (1,[],[])|  (1,[0],[1.0])|   (2,[0],[1.0])|   0.0|\n",
      "|  3| 47|        7|2008-05-05 00:00:00|      92|       1|   -1|       0|         1.1|        93.994|        -36.4|      4.85|     5191.0| no|   5|       3|  (1,[0],[1.0])|  (1,[0],[1.0])|(1,[0],[1.0])|  (1,[0],[1.0])|   (2,[0],[1.0])|   0.0|\n",
      "|  4| 33|        7|2008-05-05 00:00:00|     198|       1|   -1|       0|         1.1|        93.994|        -36.4|      4.85|     5191.0| no|   5|       2|  (1,[0],[1.0])|      (1,[],[])|(1,[0],[1.0])|  (1,[0],[1.0])|   (2,[0],[1.0])|   0.0|\n",
      "|  5| 35|        8|2008-05-05 00:00:00|     139|       1|   -1|       0|         1.1|        93.994|        -36.4|      4.85|     5191.0| no|   8|       3|  (1,[0],[1.0])|  (1,[0],[1.0])|(1,[0],[1.0])|  (1,[0],[1.0])|   (2,[0],[1.0])|   0.0|\n",
      "|  6| 28|        8|2008-05-05 00:00:00|     217|       1|   -1|       0|         1.1|        93.994|        -36.4|      4.85|     5191.0| no|   8|       2|  (1,[0],[1.0])|  (1,[0],[1.0])|    (1,[],[])|  (1,[0],[1.0])|   (2,[0],[1.0])|   0.0|\n",
      "|  7| 42|        8|2008-05-05 00:00:00|     380|       1|   -1|       0|         1.1|        93.994|        -36.4|      4.85|     5191.0| no|  11|       1|      (1,[],[])|  (1,[0],[1.0])|(1,[0],[1.0])|  (1,[0],[1.0])|   (2,[0],[1.0])|   0.0|\n",
      "|  8| 58|        3|2008-05-05 00:00:00|      50|       1|   -1|       0|         1.1|        93.994|        -36.4|      4.85|     5191.0| no|   3|       3|  (1,[0],[1.0])|  (1,[0],[1.0])|(1,[0],[1.0])|  (1,[0],[1.0])|   (2,[0],[1.0])|   0.0|\n",
      "|  9| 43|        7|2008-05-05 00:00:00|      55|       1|   -1|       0|         1.1|        93.994|        -36.4|      4.85|     5191.0| no|   6|       2|  (1,[0],[1.0])|  (1,[0],[1.0])|(1,[0],[1.0])|  (1,[0],[1.0])|   (2,[0],[1.0])|   0.0|\n",
      "| 10| 41|        7|2008-05-05 00:00:00|     222|       1|   -1|       0|         1.1|        93.994|        -36.4|      4.85|     5191.0| no|   9|       1|  (1,[0],[1.0])|  (1,[0],[1.0])|(1,[0],[1.0])|  (1,[0],[1.0])|   (2,[0],[1.0])|   0.0|\n",
      "| 11| 29|        7|2008-05-05 00:00:00|     137|       1|   -1|       0|         1.1|        93.994|        -36.4|      4.85|     5191.0| no|   9|       2|  (1,[0],[1.0])|  (1,[0],[1.0])|(1,[0],[1.0])|  (1,[0],[1.0])|   (2,[0],[1.0])|   0.0|\n",
      "| 12| 53|        7|2008-05-05 00:00:00|     517|       1|   -1|       0|         1.1|        93.994|        -36.4|      4.85|     5191.0| no|   6|       3|  (1,[0],[1.0])|  (1,[0],[1.0])|(1,[0],[1.0])|  (1,[0],[1.0])|   (2,[0],[1.0])|   0.0|\n",
      "| 13| 58|        7|2008-05-05 00:00:00|      71|       1|   -1|       0|         1.1|        93.994|        -36.4|      4.85|     5191.0| no|   6|       3|  (1,[0],[1.0])|  (1,[0],[1.0])|(1,[0],[1.0])|  (1,[0],[1.0])|   (2,[0],[1.0])|   0.0|\n",
      "| 14| 57|        7|2008-05-05 00:00:00|     174|       1|   -1|       0|         1.1|        93.994|        -36.4|      4.85|     5191.0| no|   7|       3|  (1,[0],[1.0])|  (1,[0],[1.0])|(1,[0],[1.0])|  (1,[0],[1.0])|   (2,[0],[1.0])|   0.0|\n",
      "| 15| 51|        3|2008-05-05 00:00:00|     353|       1|   -1|       0|         1.1|        93.994|        -36.4|      4.85|     5191.0| no|   3|       3|  (1,[0],[1.0])|  (1,[0],[1.0])|(1,[0],[1.0])|  (1,[0],[1.0])|   (2,[0],[1.0])|   0.0|\n",
      "| 16| 45|        7|2008-05-05 00:00:00|      98|       1|   -1|       0|         1.1|        93.994|        -36.4|      4.85|     5191.0| no|   9|       2|  (1,[0],[1.0])|  (1,[0],[1.0])|(1,[0],[1.0])|  (1,[0],[1.0])|   (2,[0],[1.0])|   0.0|\n",
      "| 17| 57|        3|2008-05-05 00:00:00|      38|       1|   -1|       0|         1.1|        93.994|        -36.4|      4.85|     5191.0| no|   5|       3|  (1,[0],[1.0])|  (1,[0],[1.0])|(1,[0],[1.0])|  (1,[0],[1.0])|   (2,[0],[1.0])|   0.0|\n",
      "| 18| 60|        3|2008-05-05 00:00:00|     219|       1|   -1|       0|         1.1|        93.994|        -36.4|      4.85|     5191.0| no|   3|       3|  (1,[0],[1.0])|  (1,[0],[1.0])|(1,[0],[1.0])|  (1,[0],[1.0])|   (2,[0],[1.0])|   0.0|\n",
      "| 19| 33|        7|2008-05-05 00:00:00|      54|       1|   -1|       0|         1.1|        93.994|        -36.4|      4.85|     5191.0| no|   7|       3|  (1,[0],[1.0])|  (1,[0],[1.0])|(1,[0],[1.0])|  (1,[0],[1.0])|   (2,[0],[1.0])|   0.0|\n",
      "+---+---+---------+-------------------+--------+--------+-----+--------+------------+--------------+-------------+----------+-----------+---+----+--------+---------------+---------------+-------------+---------------+----------------+------+\n",
      "only showing top 20 rows\n",
      "\n"
     ]
    }
   ],
   "source": [
    "# Label encoding for y\n",
    "#import required libraries\n",
    "from pyspark.ml.feature import StringIndexer\n",
    "y_indexer = StringIndexer(inputCol=\"y\", outputCol=\"yIndex\")#Fits a model to the input dataset with optional parameters.\n",
    "tele_sdf_ohey = y_indexer.fit(tele_sdf_ohe).transform(tele_sdf_ohe)\n",
    "tele_sdf_ohey.show()"
   ]
  },
  {
   "cell_type": "code",
   "execution_count": 20,
   "id": "424e213e",
   "metadata": {},
   "outputs": [
    {
     "name": "stdout",
     "output_type": "stream",
     "text": [
      "+------+-----+\n",
      "|yIndex|count|\n",
      "+------+-----+\n",
      "|   0.0|76470|\n",
      "|   1.0| 9929|\n",
      "+------+-----+\n",
      "\n"
     ]
    }
   ],
   "source": [
    "tele_sdf_ohey.groupby('yIndex').count().show()"
   ]
  },
  {
   "cell_type": "code",
   "execution_count": 21,
   "id": "7c1a9ddf",
   "metadata": {},
   "outputs": [],
   "source": [
    "features_lst = [ 'age',\n",
    " 'education',\n",
    " 'duration',\n",
    " 'campaign',\n",
    " 'pdays',\n",
    " 'previous',\n",
    " 'emp_var_rate',\n",
    " 'cons_price_idx',\n",
    " 'cons_conf_idx',\n",
    " 'euribor_3m',\n",
    " 'nr_employed',\n",
    " 'jobs',\n",
    " 'maritals',\n",
    " 'default_one_hot',\n",
    " 'housing_one_hot',\n",
    " 'loan_one_hot',\n",
    " 'contact_one_hot',\n",
    " 'poutcome_one_hot']"
   ]
  },
  {
   "cell_type": "code",
   "execution_count": 22,
   "id": "1176ef06",
   "metadata": {
    "id": "1176ef06"
   },
   "outputs": [],
   "source": [
    "assembler = VectorAssembler(inputCols = features_lst, outputCol = 'features')"
   ]
  },
  {
   "cell_type": "code",
   "execution_count": 23,
   "id": "ea7f3f62",
   "metadata": {
    "id": "ea7f3f62"
   },
   "outputs": [],
   "source": [
    "tele_transform = assembler.transform(tele_sdf_ohey)"
   ]
  },
  {
   "cell_type": "code",
   "execution_count": 24,
   "id": "6220dd18",
   "metadata": {
    "colab": {
     "base_uri": "https://localhost:8080/"
    },
    "id": "6220dd18",
    "outputId": "bb2761c8-b34e-47bb-b93a-93ec2a071909"
   },
   "outputs": [
    {
     "data": {
      "text/plain": [
       "DataFrame[_c0: int, age: int, education: int, date: timestamp, duration: int, campaign: int, pdays: int, previous: int, emp_var_rate: double, cons_price_idx: double, cons_conf_idx: double, euribor_3m: double, nr_employed: double, y: string, jobs: int, maritals: int, default_one_hot: vector, housing_one_hot: vector, loan_one_hot: vector, contact_one_hot: vector, poutcome_one_hot: vector, yIndex: double, features: vector]"
      ]
     },
     "execution_count": 24,
     "metadata": {},
     "output_type": "execute_result"
    }
   ],
   "source": [
    "tele_transform"
   ]
  },
  {
   "cell_type": "markdown",
   "id": "328ee877",
   "metadata": {
    "id": "328ee877"
   },
   "source": [
    "## Split the data into train test and split"
   ]
  },
  {
   "cell_type": "code",
   "execution_count": 25,
   "id": "2be3b044",
   "metadata": {
    "id": "2be3b044"
   },
   "outputs": [],
   "source": [
    "train_data, test_data = tele_transform.randomSplit([0.85, 0.15],\n",
    "                                                   seed = 14)"
   ]
  },
  {
   "cell_type": "code",
   "execution_count": 26,
   "id": "18049c0b",
   "metadata": {
    "colab": {
     "base_uri": "https://localhost:8080/"
    },
    "id": "18049c0b",
    "outputId": "b1e63033-e197-4c7b-e262-f2c97124288c"
   },
   "outputs": [
    {
     "name": "stdout",
     "output_type": "stream",
     "text": [
      "Train: 73433 \t Test:  12966\n"
     ]
    }
   ],
   "source": [
    "print( \"Train:\",train_data.count(), \"\\t Test: \", test_data.count())"
   ]
  },
  {
   "cell_type": "code",
   "execution_count": 27,
   "id": "82ea44c8",
   "metadata": {},
   "outputs": [
    {
     "name": "stdout",
     "output_type": "stream",
     "text": [
      "+------+-----+\n",
      "|yIndex|count|\n",
      "+------+-----+\n",
      "|   0.0|64958|\n",
      "|   1.0| 8475|\n",
      "+------+-----+\n",
      "\n"
     ]
    }
   ],
   "source": [
    "train_data.groupby('yIndex').count().show()"
   ]
  },
  {
   "cell_type": "code",
   "execution_count": 28,
   "id": "8688acbd",
   "metadata": {
    "colab": {
     "base_uri": "https://localhost:8080/"
    },
    "id": "8688acbd",
    "outputId": "e5dd5cb8-5a08-44a6-ec4c-3701b3cda490"
   },
   "outputs": [
    {
     "name": "stdout",
     "output_type": "stream",
     "text": [
      "+------+-----+\n",
      "|yIndex|count|\n",
      "+------+-----+\n",
      "|   0.0|11512|\n",
      "|   1.0| 1454|\n",
      "+------+-----+\n",
      "\n"
     ]
    }
   ],
   "source": [
    "test_data.groupby('yIndex').count().show()"
   ]
  },
  {
   "cell_type": "code",
   "execution_count": 29,
   "id": "0e7b5127",
   "metadata": {
    "colab": {
     "base_uri": "https://localhost:8080/"
    },
    "id": "0e7b5127",
    "outputId": "e731bec7-3ece-4d69-8c49-b2dd4a4353fa"
   },
   "outputs": [
    {
     "name": "stdout",
     "output_type": "stream",
     "text": [
      "+---+---+---------+-------------------+--------+--------+-----+--------+------------+--------------+-------------+----------+-----------+---+----+--------+---------------+---------------+-------------+---------------+----------------+------+--------------------+\n",
      "|_c0|age|education|               date|duration|campaign|pdays|previous|emp_var_rate|cons_price_idx|cons_conf_idx|euribor_3m|nr_employed|  y|jobs|maritals|default_one_hot|housing_one_hot| loan_one_hot|contact_one_hot|poutcome_one_hot|yIndex|            features|\n",
      "+---+---+---------+-------------------+--------+--------+-----+--------+------------+--------------+-------------+----------+-----------+---+----+--------+---------------+---------------+-------------+---------------+----------------+------+--------------------+\n",
      "|  4| 33|        7|2008-05-05 00:00:00|     198|       1|   -1|       0|         1.1|        93.994|        -36.4|      4.85|     5191.0| no|   5|       2|  (1,[0],[1.0])|      (1,[],[])|(1,[0],[1.0])|  (1,[0],[1.0])|   (2,[0],[1.0])|   0.0|[33.0,7.0,198.0,1...|\n",
      "|  6| 28|        8|2008-05-05 00:00:00|     217|       1|   -1|       0|         1.1|        93.994|        -36.4|      4.85|     5191.0| no|   8|       2|  (1,[0],[1.0])|  (1,[0],[1.0])|    (1,[],[])|  (1,[0],[1.0])|   (2,[0],[1.0])|   0.0|[28.0,8.0,217.0,1...|\n",
      "| 21| 56|        8|2008-05-05 00:00:00|     164|       1|   -1|       0|         1.1|        93.994|        -36.4|      4.85|     5191.0| no|   8|       3|  (1,[0],[1.0])|  (1,[0],[1.0])|(1,[0],[1.0])|  (1,[0],[1.0])|   (2,[0],[1.0])|   0.0|[56.0,8.0,164.0,1...|\n",
      "| 23| 25|        7|2008-05-05 00:00:00|     342|       1|   -1|       0|         1.1|        93.994|        -36.4|      4.85|     5191.0| no|   7|       3|  (1,[0],[1.0])|  (1,[0],[1.0])|(1,[0],[1.0])|  (1,[0],[1.0])|   (2,[0],[1.0])|   0.0|[25.0,7.0,342.0,1...|\n",
      "| 25| 44|        7|2008-05-05 00:00:00|     172|       1|   -1|       0|         1.1|        93.994|        -36.4|      4.85|     5191.0| no|   9|       3|  (1,[0],[1.0])|  (1,[0],[1.0])|(1,[0],[1.0])|  (1,[0],[1.0])|   (2,[0],[1.0])|   0.0|[44.0,7.0,172.0,1...|\n",
      "| 30| 57|        7|2008-05-05 00:00:00|     225|       1|   -1|       0|         1.1|        93.994|        -36.4|      4.85|     5191.0| no|   6|       3|  (1,[0],[1.0])|      (1,[],[])|    (1,[],[])|  (1,[0],[1.0])|   (2,[0],[1.0])|   0.0|[57.0,7.0,225.0,1...|\n",
      "| 34| 51|        8|2008-05-05 00:00:00|     336|       1|   -1|       0|         1.1|        93.994|        -36.4|      4.85|     5191.0| no|   8|       3|  (1,[0],[1.0])|  (1,[0],[1.0])|(1,[0],[1.0])|  (1,[0],[1.0])|   (2,[0],[1.0])|   0.0|[51.0,8.0,336.0,1...|\n",
      "| 45| 36|        3|2008-05-05 00:00:00|     242|       1|   -1|       0|         1.1|        93.994|        -36.4|      4.85|     5191.0| no|   9|       2|  (1,[0],[1.0])|  (1,[0],[1.0])|(1,[0],[1.0])|  (1,[0],[1.0])|   (2,[0],[1.0])|   0.0|[36.0,3.0,242.0,1...|\n",
      "| 52| 32|        8|2008-05-05 00:00:00|     179|       1|   -1|       0|         1.1|        93.994|        -36.4|      4.85|     5191.0| no|   8|       3|  (1,[0],[1.0])|  (1,[0],[1.0])|(1,[0],[1.0])|  (1,[0],[1.0])|   (2,[0],[1.0])|   0.0|[32.0,8.0,179.0,1...|\n",
      "| 55| 38|        8|2008-05-05 00:00:00|     174|       1|   -1|       0|         1.1|        93.994|        -36.4|      4.85|     5191.0| no|  11|       2|  (1,[0],[1.0])|      (1,[],[])|    (1,[],[])|  (1,[0],[1.0])|   (2,[0],[1.0])|   0.0|[38.0,8.0,174.0,1...|\n",
      "| 58| 40|        7|2008-05-05 00:00:00|     185|       1|   -1|       0|         1.1|        93.994|        -36.4|      4.85|     5191.0| no|   5|       2|  (1,[0],[1.0])|  (1,[0],[1.0])|(1,[0],[1.0])|  (1,[0],[1.0])|   (2,[0],[1.0])|   0.0|[40.0,7.0,185.0,1...|\n",
      "| 60| 32|        8|2008-05-05 00:00:00|     138|       1|   -1|       0|         1.1|        93.994|        -36.4|      4.85|     5191.0| no|   9|       3|  (1,[0],[1.0])|  (1,[0],[1.0])|(1,[0],[1.0])|  (1,[0],[1.0])|   (2,[0],[1.0])|   0.0|[32.0,8.0,138.0,1...|\n",
      "| 78| 49|        7|2008-05-05 00:00:00|     272|       1|   -1|       0|         1.1|        93.994|        -36.4|      4.85|     5191.0| no|   7|       1|  (1,[0],[1.0])|  (1,[0],[1.0])|    (1,[],[])|  (1,[0],[1.0])|   (2,[0],[1.0])|   0.0|[49.0,7.0,272.0,1...|\n",
      "| 84| 46|        8|2008-05-05 00:00:00|     246|       1|   -1|       0|         1.1|        93.994|        -36.4|      4.85|     5191.0| no|  10|       3|  (1,[0],[1.0])|  (1,[0],[1.0])|    (1,[],[])|  (1,[0],[1.0])|   (2,[0],[1.0])|   0.0|[46.0,8.0,246.0,1...|\n",
      "|111| 46|        7|2008-05-05 00:00:00|     144|       1|   -1|       0|         1.1|        93.994|        -36.4|      4.85|     5191.0| no|   6|       1|  (1,[0],[1.0])|      (1,[],[])|(1,[0],[1.0])|  (1,[0],[1.0])|   (2,[0],[1.0])|   0.0|[46.0,7.0,144.0,1...|\n",
      "|114| 59|        3|2008-05-05 00:00:00|     107|       1|   -1|       0|         1.1|        93.994|        -36.4|      4.85|     5191.0| no|   3|       1|  (1,[0],[1.0])|  (1,[0],[1.0])|(1,[0],[1.0])|  (1,[0],[1.0])|   (2,[0],[1.0])|   0.0|[59.0,3.0,107.0,1...|\n",
      "|117| 33|        8|2008-05-05 00:00:00|     364|       1|   -1|       0|         1.1|        93.994|        -36.4|      4.85|     5191.0| no|   8|       2|  (1,[0],[1.0])|  (1,[0],[1.0])|(1,[0],[1.0])|  (1,[0],[1.0])|   (2,[0],[1.0])|   0.0|[33.0,8.0,364.0,1...|\n",
      "|119| 57|        3|2008-05-05 00:00:00|      98|       1|   -1|       0|         1.1|        93.994|        -36.4|      4.85|     5191.0| no|   6|       3|  (1,[0],[1.0])|      (1,[],[])|(1,[0],[1.0])|  (1,[0],[1.0])|   (2,[0],[1.0])|   0.0|[57.0,3.0,98.0,1....|\n",
      "|130| 55|        7|2008-05-05 00:00:00|     677|       1|   -1|       0|         1.1|        93.994|        -36.4|      4.85|     5191.0| no|   8|       3|  (1,[0],[1.0])|      (1,[],[])|(1,[0],[1.0])|  (1,[0],[1.0])|   (2,[0],[1.0])|   0.0|[55.0,7.0,677.0,1...|\n",
      "|132| 38|        7|2008-05-05 00:00:00|     185|       1|   -1|       0|         1.1|        93.994|        -36.4|      4.85|     5191.0| no|   6|       2|  (1,[0],[1.0])|  (1,[0],[1.0])|(1,[0],[1.0])|  (1,[0],[1.0])|   (2,[0],[1.0])|   0.0|[38.0,7.0,185.0,1...|\n",
      "+---+---+---------+-------------------+--------+--------+-----+--------+------------+--------------+-------------+----------+-----------+---+----+--------+---------------+---------------+-------------+---------------+----------------+------+--------------------+\n",
      "only showing top 20 rows\n",
      "\n"
     ]
    }
   ],
   "source": [
    "test_data.show()"
   ]
  },
  {
   "cell_type": "markdown",
   "id": "yQDSk9mctxng",
   "metadata": {
    "id": "yQDSk9mctxng"
   },
   "source": [
    "## Using Decision Tree"
   ]
  },
  {
   "cell_type": "code",
   "execution_count": 30,
   "id": "XNuCayMptNw-",
   "metadata": {
    "id": "XNuCayMptNw-"
   },
   "outputs": [],
   "source": [
    "from pyspark.ml.classification import DecisionTreeClassifier"
   ]
  },
  {
   "cell_type": "code",
   "execution_count": 31,
   "id": "7mMT-t-ituOb",
   "metadata": {
    "id": "7mMT-t-ituOb"
   },
   "outputs": [],
   "source": [
    "dt = DecisionTreeClassifier(labelCol='yIndex', featuresCol = 'features')"
   ]
  },
  {
   "cell_type": "markdown",
   "id": "hzXEGnhPuGQc",
   "metadata": {
    "id": "hzXEGnhPuGQc"
   },
   "source": [
    "### Train Algorithm"
   ]
  },
  {
   "cell_type": "code",
   "execution_count": 32,
   "id": "9_igt4lxtrzj",
   "metadata": {
    "id": "9_igt4lxtrzj"
   },
   "outputs": [],
   "source": [
    "# train the algorithm\n",
    "dt_model = dt.fit(train_data)"
   ]
  },
  {
   "cell_type": "code",
   "execution_count": 33,
   "id": "DeCs-zGCuTIx",
   "metadata": {
    "id": "DeCs-zGCuTIx"
   },
   "outputs": [],
   "source": [
    "# Predictions on unseen data\n",
    "predictions = dt_model.transform(test_data)"
   ]
  },
  {
   "cell_type": "code",
   "execution_count": 34,
   "id": "aHMmGQ65urVw",
   "metadata": {
    "colab": {
     "base_uri": "https://localhost:8080/"
    },
    "id": "aHMmGQ65urVw",
    "outputId": "dabe51a4-e14d-4351-b805-8b8b80c4351a"
   },
   "outputs": [
    {
     "name": "stdout",
     "output_type": "stream",
     "text": [
      "+---+---+---------+-------------------+--------+--------+-----+--------+------------+--------------+-------------+----------+-----------+---+----+--------+---------------+---------------+-------------+---------------+----------------+------+--------------------+----------------+--------------------+----------+\n",
      "|_c0|age|education|               date|duration|campaign|pdays|previous|emp_var_rate|cons_price_idx|cons_conf_idx|euribor_3m|nr_employed|  y|jobs|maritals|default_one_hot|housing_one_hot| loan_one_hot|contact_one_hot|poutcome_one_hot|yIndex|            features|   rawPrediction|         probability|prediction|\n",
      "+---+---+---------+-------------------+--------+--------+-----+--------+------------+--------------+-------------+----------+-----------+---+----+--------+---------------+---------------+-------------+---------------+----------------+------+--------------------+----------------+--------------------+----------+\n",
      "|  4| 33|        7|2008-05-05 00:00:00|     198|       1|   -1|       0|         1.1|        93.994|        -36.4|      4.85|     5191.0| no|   5|       2|  (1,[0],[1.0])|      (1,[],[])|(1,[0],[1.0])|  (1,[0],[1.0])|   (2,[0],[1.0])|   0.0|[33.0,7.0,198.0,1...|[53356.0,1161.0]|[0.97870389052955...|       0.0|\n",
      "|  6| 28|        8|2008-05-05 00:00:00|     217|       1|   -1|       0|         1.1|        93.994|        -36.4|      4.85|     5191.0| no|   8|       2|  (1,[0],[1.0])|  (1,[0],[1.0])|    (1,[],[])|  (1,[0],[1.0])|   (2,[0],[1.0])|   0.0|[28.0,8.0,217.0,1...|[53356.0,1161.0]|[0.97870389052955...|       0.0|\n",
      "| 21| 56|        8|2008-05-05 00:00:00|     164|       1|   -1|       0|         1.1|        93.994|        -36.4|      4.85|     5191.0| no|   8|       3|  (1,[0],[1.0])|  (1,[0],[1.0])|(1,[0],[1.0])|  (1,[0],[1.0])|   (2,[0],[1.0])|   0.0|[56.0,8.0,164.0,1...|[53356.0,1161.0]|[0.97870389052955...|       0.0|\n",
      "+---+---+---------+-------------------+--------+--------+-----+--------+------------+--------------+-------------+----------+-----------+---+----+--------+---------------+---------------+-------------+---------------+----------------+------+--------------------+----------------+--------------------+----------+\n",
      "only showing top 3 rows\n",
      "\n"
     ]
    }
   ],
   "source": [
    "predictions.show(3)"
   ]
  },
  {
   "cell_type": "code",
   "execution_count": 35,
   "id": "CyAbKVOluvrp",
   "metadata": {
    "id": "CyAbKVOluvrp"
   },
   "outputs": [],
   "source": [
    "dt_pred = predictions.select('prediction').toPandas()\n",
    "actual = predictions.select('yIndex').toPandas()"
   ]
  },
  {
   "cell_type": "code",
   "execution_count": 36,
   "id": "C8DagB_Au0QE",
   "metadata": {
    "id": "C8DagB_Au0QE"
   },
   "outputs": [],
   "source": [
    "from sklearn.metrics import accuracy_score, ConfusionMatrixDisplay, classification_report"
   ]
  },
  {
   "cell_type": "code",
   "execution_count": 37,
   "id": "eBAbECgFvOCq",
   "metadata": {
    "colab": {
     "base_uri": "https://localhost:8080/",
     "height": 296
    },
    "id": "eBAbECgFvOCq",
    "outputId": "46365397-25c1-4559-f44f-86eb665e69d7"
   },
   "outputs": [
    {
     "data": {
      "text/plain": [
       "<sklearn.metrics._plot.confusion_matrix.ConfusionMatrixDisplay at 0x26e5ef1af10>"
      ]
     },
     "execution_count": 37,
     "metadata": {},
     "output_type": "execute_result"
    },
    {
     "data": {
      "image/png": "[encoded data removed]",
      "text/plain": [
       "<Figure size 640x480 with 2 Axes>"
      ]
     },
     "metadata": {},
     "output_type": "display_data"
    }
   ],
   "source": [
    "ConfusionMatrixDisplay.from_predictions(actual, dt_pred)"
   ]
  },
  {
   "cell_type": "code",
   "execution_count": 38,
   "id": "1RXsYT45vRNr",
   "metadata": {
    "colab": {
     "base_uri": "https://localhost:8080/"
    },
    "id": "1RXsYT45vRNr",
    "outputId": "c987f513-5ba1-4374-c79e-e6e4bbe95473"
   },
   "outputs": [
    {
     "name": "stdout",
     "output_type": "stream",
     "text": [
      "              precision    recall  f1-score   support\n",
      "\n",
      "         0.0       0.94      0.96      0.95     11512\n",
      "         1.0       0.64      0.54      0.58      1454\n",
      "\n",
      "    accuracy                           0.91     12966\n",
      "   macro avg       0.79      0.75      0.77     12966\n",
      "weighted avg       0.91      0.91      0.91     12966\n",
      "\n"
     ]
    }
   ],
   "source": [
    "print(classification_report(actual, dt_pred))"
   ]
  },
  {
   "cell_type": "markdown",
   "id": "krOLLQ4qzx15",
   "metadata": {
    "id": "krOLLQ4qzx15"
   },
   "source": [
    "### Check for accuracy"
   ]
  },
  {
   "cell_type": "code",
   "execution_count": 39,
   "id": "DFkG0V_xvXd5",
   "metadata": {
    "id": "DFkG0V_xvXd5"
   },
   "outputs": [],
   "source": [
    "# import\n",
    "from pyspark.ml.evaluation import MulticlassClassificationEvaluator"
   ]
  },
  {
   "cell_type": "code",
   "execution_count": 40,
   "id": "ItT3knrnvbz5",
   "metadata": {
    "id": "ItT3knrnvbz5"
   },
   "outputs": [],
   "source": [
    "eval = MulticlassClassificationEvaluator(labelCol = 'yIndex',\n",
    "                                         metricName = 'accuracy')"
   ]
  },
  {
   "cell_type": "code",
   "execution_count": 41,
   "id": "qafHg0sNvigQ",
   "metadata": {
    "colab": {
     "base_uri": "https://localhost:8080/"
    },
    "id": "qafHg0sNvigQ",
    "outputId": "026c6454-65e8-43f3-c2fe-9cbbe89d8b8a"
   },
   "outputs": [
    {
     "name": "stdout",
     "output_type": "stream",
     "text": [
      "Accuracy 0.9136202375443467\n"
     ]
    }
   ],
   "source": [
    "print('Accuracy', eval.evaluate(predictions))"
   ]
  },
  {
   "cell_type": "markdown",
   "id": "Wc_qQvVgz3tI",
   "metadata": {
    "id": "Wc_qQvVgz3tI"
   },
   "source": [
    "## Using Logistic Regression"
   ]
  },
  {
   "cell_type": "code",
   "execution_count": 42,
   "id": "pY5qAmTphI6J",
   "metadata": {
    "id": "pY5qAmTphI6J"
   },
   "outputs": [],
   "source": [
    "from pyspark.ml.classification import LogisticRegression"
   ]
  },
  {
   "cell_type": "code",
   "execution_count": 43,
   "id": "1M_IRcPg0OsV",
   "metadata": {
    "id": "1M_IRcPg0OsV"
   },
   "outputs": [],
   "source": [
    "lr = LogisticRegression(featuresCol = 'features',\n",
    "                        labelCol = 'yIndex',\n",
    "                        maxIter=1000)"
   ]
  },
  {
   "cell_type": "code",
   "execution_count": 44,
   "id": "1K5ag7ad0Z7B",
   "metadata": {
    "id": "1K5ag7ad0Z7B"
   },
   "outputs": [],
   "source": [
    "lr_model = lr.fit(train_data)"
   ]
  },
  {
   "cell_type": "code",
   "execution_count": 45,
   "id": "s5RR4JC51BM9",
   "metadata": {
    "id": "s5RR4JC51BM9"
   },
   "outputs": [],
   "source": [
    "lr_predictions = lr_model.transform(test_data)"
   ]
  },
  {
   "cell_type": "code",
   "execution_count": 46,
   "id": "_Tr2ELl61oyk",
   "metadata": {
    "colab": {
     "base_uri": "https://localhost:8080/"
    },
    "id": "_Tr2ELl61oyk",
    "outputId": "ade859a2-d9f7-44ee-c9cd-37e1e20fb52d"
   },
   "outputs": [
    {
     "name": "stdout",
     "output_type": "stream",
     "text": [
      "+---+---+---------+-------------------+--------+--------+-----+--------+------------+--------------+-------------+----------+-----------+---+----+--------+---------------+---------------+-------------+---------------+----------------+------+--------------------+--------------------+--------------------+----------+\n",
      "|_c0|age|education|               date|duration|campaign|pdays|previous|emp_var_rate|cons_price_idx|cons_conf_idx|euribor_3m|nr_employed|  y|jobs|maritals|default_one_hot|housing_one_hot| loan_one_hot|contact_one_hot|poutcome_one_hot|yIndex|            features|       rawPrediction|         probability|prediction|\n",
      "+---+---+---------+-------------------+--------+--------+-----+--------+------------+--------------+-------------+----------+-----------+---+----+--------+---------------+---------------+-------------+---------------+----------------+------+--------------------+--------------------+--------------------+----------+\n",
      "|  4| 33|        7|2008-05-05 00:00:00|     198|       1|   -1|       0|         1.1|        93.994|        -36.4|      4.85|     5191.0| no|   5|       2|  (1,[0],[1.0])|      (1,[],[])|(1,[0],[1.0])|  (1,[0],[1.0])|   (2,[0],[1.0])|   0.0|[33.0,7.0,198.0,1...|[3.13310574154827...|[0.95823785574878...|       0.0|\n",
      "|  6| 28|        8|2008-05-05 00:00:00|     217|       1|   -1|       0|         1.1|        93.994|        -36.4|      4.85|     5191.0| no|   8|       2|  (1,[0],[1.0])|  (1,[0],[1.0])|    (1,[],[])|  (1,[0],[1.0])|   (2,[0],[1.0])|   0.0|[28.0,8.0,217.0,1...|[3.54249537749874...|[0.97187300571643...|       0.0|\n",
      "| 21| 56|        8|2008-05-05 00:00:00|     164|       1|   -1|       0|         1.1|        93.994|        -36.4|      4.85|     5191.0| no|   8|       3|  (1,[0],[1.0])|  (1,[0],[1.0])|(1,[0],[1.0])|  (1,[0],[1.0])|   (2,[0],[1.0])|   0.0|[56.0,8.0,164.0,1...|[3.72597227071304...|[0.97647699403013...|       0.0|\n",
      "| 23| 25|        7|2008-05-05 00:00:00|     342|       1|   -1|       0|         1.1|        93.994|        -36.4|      4.85|     5191.0| no|   7|       3|  (1,[0],[1.0])|  (1,[0],[1.0])|(1,[0],[1.0])|  (1,[0],[1.0])|   (2,[0],[1.0])|   0.0|[25.0,7.0,342.0,1...|[3.05081460241381...|[0.95481768220148...|       0.0|\n",
      "| 25| 44|        7|2008-05-05 00:00:00|     172|       1|   -1|       0|         1.1|        93.994|        -36.4|      4.85|     5191.0| no|   9|       3|  (1,[0],[1.0])|  (1,[0],[1.0])|(1,[0],[1.0])|  (1,[0],[1.0])|   (2,[0],[1.0])|   0.0|[44.0,7.0,172.0,1...|[3.79344126155960...|[0.97797791472087...|       0.0|\n",
      "+---+---+---------+-------------------+--------+--------+-----+--------+------------+--------------+-------------+----------+-----------+---+----+--------+---------------+---------------+-------------+---------------+----------------+------+--------------------+--------------------+--------------------+----------+\n",
      "only showing top 5 rows\n",
      "\n"
     ]
    }
   ],
   "source": [
    "lr_predictions.show(5)"
   ]
  },
  {
   "cell_type": "code",
   "execution_count": 47,
   "id": "a_g21xlK1xa9",
   "metadata": {
    "id": "a_g21xlK1xa9"
   },
   "outputs": [],
   "source": [
    "lr_pred = lr_predictions.select('prediction').toPandas()"
   ]
  },
  {
   "cell_type": "code",
   "execution_count": 48,
   "id": "2UKS67TN19HC",
   "metadata": {
    "colab": {
     "base_uri": "https://localhost:8080/",
     "height": 296
    },
    "id": "2UKS67TN19HC",
    "outputId": "aa7d0f79-3e5d-4dce-ffbb-99e304b45a8c"
   },
   "outputs": [
    {
     "data": {
      "text/plain": [
       "<sklearn.metrics._plot.confusion_matrix.ConfusionMatrixDisplay at 0x26e5ef02670>"
      ]
     },
     "execution_count": 48,
     "metadata": {},
     "output_type": "execute_result"
    },
    {
     "data": {
      "image/png": "[encoded data removed]",
      "text/plain": [
       "<Figure size 640x480 with 2 Axes>"
      ]
     },
     "metadata": {},
     "output_type": "display_data"
    }
   ],
   "source": [
    "ConfusionMatrixDisplay.from_predictions(actual, lr_pred)"
   ]
  },
  {
   "cell_type": "code",
   "execution_count": 49,
   "id": "i_22BWHw3EE2",
   "metadata": {
    "id": "i_22BWHw3EE2"
   },
   "outputs": [],
   "source": [
    "eval_lr = MulticlassClassificationEvaluator(labelCol = 'yIndex',\n",
    "                                         metricName = 'accuracy')"
   ]
  },
  {
   "cell_type": "code",
   "execution_count": 50,
   "id": "1dc017b1",
   "metadata": {},
   "outputs": [
    {
     "name": "stdout",
     "output_type": "stream",
     "text": [
      "Accuracy 0.9096868733610982\n"
     ]
    }
   ],
   "source": [
    "print('Accuracy', eval_lr.evaluate(lr_predictions))"
   ]
  },
  {
   "cell_type": "code",
   "execution_count": 51,
   "id": "0b39ed5e",
   "metadata": {},
   "outputs": [
    {
     "ename": "NameError",
     "evalue": "name 'ml_df' is not defined",
     "output_type": "error",
     "traceback": [
      "\u001b[1;31m---------------------------------------------------------------------------\u001b[0m",
      "\u001b[1;31mNameError\u001b[0m                                 Traceback (most recent call last)",
      "Cell \u001b[1;32mIn[51], line 1\u001b[0m\n\u001b[1;32m----> 1\u001b[0m \u001b[43mml_df\u001b[49m\u001b[38;5;241m.\u001b[39mshow()\n",
      "\u001b[1;31mNameError\u001b[0m: name 'ml_df' is not defined"
     ]
    }
   ],
   "source": [
    "ml_df.show()"
   ]
  },
  {
   "cell_type": "code",
   "execution_count": 52,
   "id": "24ab7533",
   "metadata": {},
   "outputs": [
    {
     "ename": "NameError",
     "evalue": "name 'major_df' is not defined",
     "output_type": "error",
     "traceback": [
      "\u001b[1;31m---------------------------------------------------------------------------\u001b[0m",
      "\u001b[1;31mNameError\u001b[0m                                 Traceback (most recent call last)",
      "Cell \u001b[1;32mIn[52], line 1\u001b[0m\n\u001b[1;32m----> 1\u001b[0m \u001b[38;5;28mprint\u001b[39m(\u001b[43mmajor_df\u001b[49m\u001b[38;5;241m.\u001b[39mcount()\u001b[38;5;241m/\u001b[39mminor_df\u001b[38;5;241m.\u001b[39mcount()\u001b[38;5;241m*\u001b[39m\u001b[38;5;241m100\u001b[39m)\n",
      "\u001b[1;31mNameError\u001b[0m: name 'major_df' is not defined"
     ]
    }
   ],
   "source": [
    "print(major_df.count()/minor_df.count()*100)"
   ]
  },
  {
   "cell_type": "markdown",
   "id": "4ca91553",
   "metadata": {},
   "source": [
    "## Oversampling to reduce imbalance in _'yIndex'_"
   ]
  },
  {
   "cell_type": "code",
   "execution_count": 53,
   "id": "4f02c968",
   "metadata": {},
   "outputs": [
    {
     "name": "stdout",
     "output_type": "stream",
     "text": [
      "ratio: 13\n"
     ]
    }
   ],
   "source": [
    "# Implement oversampling method\n",
    "import pyspark.sql.functions as F\n",
    "import math\n",
    "# only take needed columns to model\n",
    "ml_df = tele_transform.select('yIndex','features')\n",
    "\n",
    "# calculate ratio\n",
    "major_df = ml_df.filter(ml_df.yIndex == \"1.0\")\n",
    "minor_df = ml_df.filter(ml_df.yIndex == \"0.0\")\n",
    "ratio = int(math.ceil(major_df.count()/minor_df.count()*100))\n",
    "print(\"ratio: {}\".format(ratio))\n",
    "a = range(ratio)\n",
    "\n",
    "# duplicate the minority rows\n",
    "oversampled_df = minor_df.withColumn(\"dummy\", F.explode(F.array([F.lit(x) for x in a]))).drop('dummy')\n",
    "\n",
    "# combine both oversampled minority rows and previous majority rows \n",
    "combined_df = major_df.unionAll(oversampled_df)"
   ]
  },
  {
   "cell_type": "code",
   "execution_count": 54,
   "id": "f882293b",
   "metadata": {},
   "outputs": [],
   "source": [
    "# split dataframe into train and test datasets\n",
    "train, test = combined_df.randomSplit([0.7, 0.3], seed=42)"
   ]
  },
  {
   "cell_type": "code",
   "execution_count": 55,
   "id": "a730af77",
   "metadata": {},
   "outputs": [
    {
     "name": "stdout",
     "output_type": "stream",
     "text": [
      "All correct predections count:  298266\n",
      "Total count:  301340\n",
      "Accuracy %:  98.97988982544635\n",
      "Recall %:  1.2474012474012475\n",
      "Precision %:  13.846153846153847\n"
     ]
    }
   ],
   "source": [
    "from pyspark.ml.feature import Normalizer, StandardScaler\n",
    "from pyspark.ml import Pipeline\n",
    "# LogisticRegression\n",
    "\n",
    "# create transformers\n",
    "scaler = StandardScaler(inputCol='features',outputCol='scaled_features')\n",
    "normalizer = Normalizer(inputCol='scaled_features',outputCol='norm_scaled_features')\n",
    "\n",
    "# set regression model\n",
    "logreg =  LogisticRegression(labelCol=\"yIndex\", featuresCol=\"features\",maxIter=10, regParam=0.0, elasticNetParam=0)\n",
    "\n",
    "# create pipeline\n",
    "pipeline = Pipeline(stages=[logreg])\n",
    "\n",
    "# run CV on train data\n",
    "lr_pipe = pipeline.fit(train)\n",
    "\n",
    "# create prediction column on test data\n",
    "results = lr_pipe.transform(test)\n",
    "\n",
    "# evaluate results\n",
    "correct_count = results.filter(results.yIndex == results.prediction).count()\n",
    "total_count = results.count()\n",
    "\n",
    "correct_1_count = results.filter((results.yIndex == 1) & (results.prediction == 1)).count()\n",
    "total_1_test = results.filter((results.yIndex == 1)).count()\n",
    "total_1_predict = results.filter((results.prediction == 1)).count()\n",
    "\n",
    "print(\"All correct predections count: \",correct_count)\n",
    "print(\"Total count: \",total_count)\n",
    "print(\"Accuracy %: \",(correct_count / total_count)*100)\n",
    "print(\"Recall %: \",(correct_1_count / total_1_test)*100)\n",
    "print(\"Precision %: \",(correct_1_count / total_1_predict)*100)"
   ]
  },
  {
   "cell_type": "code",
   "execution_count": 56,
   "id": "4ffb000d",
   "metadata": {},
   "outputs": [
    {
     "name": "stdout",
     "output_type": "stream",
     "text": [
      "All correct predections count:  298454\n",
      "Total count:  301340\n",
      "Accuracy %:  99.04227782571182\n",
      "Recall %:  0.0\n"
     ]
    },
    {
     "ename": "ZeroDivisionError",
     "evalue": "division by zero",
     "output_type": "error",
     "traceback": [
      "\u001b[1;31m---------------------------------------------------------------------------\u001b[0m",
      "\u001b[1;31mZeroDivisionError\u001b[0m                         Traceback (most recent call last)",
      "Cell \u001b[1;32mIn[56], line 28\u001b[0m\n\u001b[0;32m     26\u001b[0m \u001b[38;5;28mprint\u001b[39m(\u001b[38;5;124m\"\u001b[39m\u001b[38;5;124mAccuracy \u001b[39m\u001b[38;5;124m%\u001b[39m\u001b[38;5;124m: \u001b[39m\u001b[38;5;124m\"\u001b[39m,(correct_count \u001b[38;5;241m/\u001b[39m total_count)\u001b[38;5;241m*\u001b[39m\u001b[38;5;241m100\u001b[39m)\n\u001b[0;32m     27\u001b[0m \u001b[38;5;28mprint\u001b[39m(\u001b[38;5;124m\"\u001b[39m\u001b[38;5;124mRecall \u001b[39m\u001b[38;5;124m%\u001b[39m\u001b[38;5;124m: \u001b[39m\u001b[38;5;124m\"\u001b[39m,(correct_1_count \u001b[38;5;241m/\u001b[39m total_1_test)\u001b[38;5;241m*\u001b[39m\u001b[38;5;241m100\u001b[39m)\n\u001b[1;32m---> 28\u001b[0m \u001b[38;5;28mprint\u001b[39m(\u001b[38;5;124m\"\u001b[39m\u001b[38;5;124mPrecision \u001b[39m\u001b[38;5;124m%\u001b[39m\u001b[38;5;124m: \u001b[39m\u001b[38;5;124m\"\u001b[39m,(\u001b[43mcorrect_1_count\u001b[49m\u001b[43m \u001b[49m\u001b[38;5;241;43m/\u001b[39;49m\u001b[43m \u001b[49m\u001b[43mtotal_1_predict\u001b[49m)\u001b[38;5;241m*\u001b[39m\u001b[38;5;241m100\u001b[39m)\n",
      "\u001b[1;31mZeroDivisionError\u001b[0m: division by zero"
     ]
    }
   ],
   "source": [
    "from pyspark.ml.classification import RandomForestClassificationModel, RandomForestClassifier\n",
    "# RandomForestClassifier\n",
    "\n",
    "# set rf model\n",
    "rf =  RandomForestClassifier(labelCol=\"yIndex\", featuresCol=\"features\")\n",
    "\n",
    "# instantiate pipeline\n",
    "pipeline = Pipeline(stages=[rf])\n",
    "\n",
    "# train model\n",
    "model_rf = pipeline.fit(train)\n",
    "\n",
    "# create prediction column on test data\n",
    "results = model_rf.transform(test)\n",
    "\n",
    "# evaluate results\n",
    "correct_count = results.filter(results.yIndex == results.prediction).count()\n",
    "total_count = results.count()\n",
    "\n",
    "correct_1_count = results.filter((results.yIndex == 1) & (results.prediction == 1)).count()\n",
    "total_1_test = results.filter((results.yIndex == 1)).count()\n",
    "total_1_predict = results.filter((results.prediction == 1)).count()\n",
    "\n",
    "print(\"All correct predections count: \",correct_count)\n",
    "print(\"Total count: \",total_count)\n",
    "print(\"Accuracy %: \",(correct_count / total_count)*100)\n",
    "print(\"Recall %: \",(correct_1_count / total_1_test)*100)\n",
    "print(\"Precision %: \",(correct_1_count / total_1_predict)*100)"
   ]
  },
  {
   "cell_type": "code",
   "execution_count": null,
   "id": "35e2973c",
   "metadata": {},
   "outputs": [],
   "source": []
  }
 ],
 "metadata": {
  "colab": {
   "provenance": []
  },
  "kernelspec": {
   "display_name": "Python 3 (ipykernel)",
   "language": "python",
   "name": "python3"
  },
  "language_info": {
   "codemirror_mode": {
    "name": "ipython",
    "version": 3
   },
   "file_extension": ".py",
   "mimetype": "text/x-python",
   "name": "python",
   "nbconvert_exporter": "python",
   "pygments_lexer": "ipython3",
   "version": "3.9.16"
  }
 },
 "nbformat": 4,
 "nbformat_minor": 5
}
